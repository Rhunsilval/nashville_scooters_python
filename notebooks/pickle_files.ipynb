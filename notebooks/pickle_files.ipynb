{
 "cells": [
  {
   "cell_type": "markdown",
   "metadata": {},
   "source": [
    "**Dealing with a large dataset on your computer** is a common challenge for data analysts. If you need to process or filter the data you can set the `chunksize=` argument of pandas `read_csv()` method to loop through and work with manageable chunks of the data.\n",
    "\n",
    "If for example, you wanted to work with a large data file (HCPS_data.csv) to pull just the rows where the `HCPS Code` is **99213**, you could read that file to a chunk of 100,000 rows at a time, filter each chunk to the rows with the specified code, save the filtered results of each chunk to a list and concatenate them all together at the end. The syntax would look something like this:\n",
    "\n",
    "```\n",
    "code_99213_rows =[]\n",
    "\n",
    "for chunk in pd.read_csv('HCPS_data.csv', chunksize = 100000):\n",
    "    code_99213_rows.append(chunk[chunk['HCPS Code'] == '99213']) \n",
    "               \n",
    "code_99213_df = pd.concat(code_99213_rows, ignore_index=True)\n",
    "```\n",
    "======================================================================   \n",
    "\n",
    "To shrink the size of a file so that it loads more quickly, converting a text file (CSV) to binary might make sense. In python, you can work with data to minimize its footprint and then store the resulting object (dataframe) as a [pickle](https://docs.python.org/3/library/pickle.html) file."
   ]
  },
  {
   "cell_type": "code",
   "execution_count": 8,
   "metadata": {},
   "outputs": [],
   "source": [
    "import pandas as pd\n",
    "import pickle"
   ]
  },
  {
   "cell_type": "code",
   "execution_count": 9,
   "metadata": {},
   "outputs": [
    {
     "name": "stdout",
     "output_type": "stream",
     "text": [
      "Wall time: 4.57 s\n"
     ]
    },
    {
     "data": {
      "text/html": [
       "<div>\n",
       "<style scoped>\n",
       "    .dataframe tbody tr th:only-of-type {\n",
       "        vertical-align: middle;\n",
       "    }\n",
       "\n",
       "    .dataframe tbody tr th {\n",
       "        vertical-align: top;\n",
       "    }\n",
       "\n",
       "    .dataframe thead th {\n",
       "        text-align: right;\n",
       "    }\n",
       "</style>\n",
       "<table border=\"1\" class=\"dataframe\">\n",
       "  <thead>\n",
       "    <tr style=\"text-align: right;\">\n",
       "      <th></th>\n",
       "      <th>pubTimeStamp</th>\n",
       "      <th>companyName</th>\n",
       "      <th>tripRecordNum</th>\n",
       "      <th>sumdID</th>\n",
       "      <th>tripDuration</th>\n",
       "      <th>tripDistance</th>\n",
       "      <th>startDate</th>\n",
       "      <th>startTime</th>\n",
       "      <th>endDate</th>\n",
       "      <th>endTime</th>\n",
       "      <th>startLatitude</th>\n",
       "      <th>startLongitude</th>\n",
       "      <th>endLatitude</th>\n",
       "      <th>endLongitude</th>\n",
       "      <th>tripRoute</th>\n",
       "      <th>create_dt</th>\n",
       "    </tr>\n",
       "  </thead>\n",
       "  <tbody>\n",
       "    <tr>\n",
       "      <th>0</th>\n",
       "      <td>2019-06-01 00:05:46.817000</td>\n",
       "      <td>Bird</td>\n",
       "      <td>BRD3572</td>\n",
       "      <td>PoweredSPI1T</td>\n",
       "      <td>4.0</td>\n",
       "      <td>328.084000</td>\n",
       "      <td>2019-06-01 00:00:00</td>\n",
       "      <td>00:02:18.203333</td>\n",
       "      <td>2019-06-01 00:00:00</td>\n",
       "      <td>00:06:16.406666</td>\n",
       "      <td>36.164400</td>\n",
       "      <td>-86.78070</td>\n",
       "      <td>36.163600</td>\n",
       "      <td>-86.780200</td>\n",
       "      <td>[[36.164679,-86.781089],[36.163693,-86.78011],...</td>\n",
       "      <td>2019-06-02 05:30:19.960000</td>\n",
       "    </tr>\n",
       "    <tr>\n",
       "      <th>1</th>\n",
       "      <td>2019-06-01 00:05:46.817000</td>\n",
       "      <td>Bird</td>\n",
       "      <td>BRD3571</td>\n",
       "      <td>Powered2I3MS</td>\n",
       "      <td>5.0</td>\n",
       "      <td>4921.260000</td>\n",
       "      <td>2019-06-01 00:00:00</td>\n",
       "      <td>00:02:44.803333</td>\n",
       "      <td>2019-06-01 00:00:00</td>\n",
       "      <td>00:07:28.286666</td>\n",
       "      <td>36.175300</td>\n",
       "      <td>-86.79430</td>\n",
       "      <td>36.175300</td>\n",
       "      <td>-86.794300</td>\n",
       "      <td>[[36.175367,-86.794232],[36.175367,-86.794232]...</td>\n",
       "      <td>2019-06-02 05:30:19.927000</td>\n",
       "    </tr>\n",
       "    <tr>\n",
       "      <th>2</th>\n",
       "      <td>2019-06-01 00:09:54</td>\n",
       "      <td>Gotcha</td>\n",
       "      <td>GOT1</td>\n",
       "      <td>Powered327</td>\n",
       "      <td>12.0</td>\n",
       "      <td>12.426575</td>\n",
       "      <td>2019-06-01 00:00:00</td>\n",
       "      <td>00:09:56</td>\n",
       "      <td>2019-06-01 00:00:00</td>\n",
       "      <td>00:21:56</td>\n",
       "      <td>36.161501</td>\n",
       "      <td>-86.77601</td>\n",
       "      <td>36.152529</td>\n",
       "      <td>-86.783742</td>\n",
       "      <td>[[\"36.16149\",\"-86.77605000000001\"]]</td>\n",
       "      <td>2019-06-06 22:23:08.673000</td>\n",
       "    </tr>\n",
       "    <tr>\n",
       "      <th>3</th>\n",
       "      <td>2019-06-01 00:10:46.957000</td>\n",
       "      <td>Bird</td>\n",
       "      <td>BRD3610</td>\n",
       "      <td>Powered8U1A6</td>\n",
       "      <td>2.0</td>\n",
       "      <td>0.000000</td>\n",
       "      <td>2019-06-01 00:00:00</td>\n",
       "      <td>00:10:31.163333</td>\n",
       "      <td>2019-06-01 00:00:00</td>\n",
       "      <td>00:12:02.773333</td>\n",
       "      <td>36.164000</td>\n",
       "      <td>-86.78070</td>\n",
       "      <td>36.163100</td>\n",
       "      <td>-86.779700</td>\n",
       "      <td>[[36.163168,-86.779639]]</td>\n",
       "      <td>2019-06-02 05:30:20.283000</td>\n",
       "    </tr>\n",
       "    <tr>\n",
       "      <th>4</th>\n",
       "      <td>2019-06-01 00:10:46.957000</td>\n",
       "      <td>Bird</td>\n",
       "      <td>BRD3612</td>\n",
       "      <td>PoweredSPI1T</td>\n",
       "      <td>5.0</td>\n",
       "      <td>656.168000</td>\n",
       "      <td>2019-06-01 00:00:00</td>\n",
       "      <td>00:07:21.430000</td>\n",
       "      <td>2019-06-01 00:00:00</td>\n",
       "      <td>00:12:30.913333</td>\n",
       "      <td>36.165000</td>\n",
       "      <td>-86.77990</td>\n",
       "      <td>36.165900</td>\n",
       "      <td>-86.777800</td>\n",
       "      <td>[[36.164951,-86.779836],[36.16494,-86.779456],...</td>\n",
       "      <td>2019-06-02 05:30:20.347000</td>\n",
       "    </tr>\n",
       "  </tbody>\n",
       "</table>\n",
       "</div>"
      ],
      "text/plain": [
       "                 pubTimeStamp companyName tripRecordNum        sumdID  \\\n",
       "0  2019-06-01 00:05:46.817000        Bird       BRD3572  PoweredSPI1T   \n",
       "1  2019-06-01 00:05:46.817000        Bird       BRD3571  Powered2I3MS   \n",
       "2         2019-06-01 00:09:54      Gotcha          GOT1    Powered327   \n",
       "3  2019-06-01 00:10:46.957000        Bird       BRD3610  Powered8U1A6   \n",
       "4  2019-06-01 00:10:46.957000        Bird       BRD3612  PoweredSPI1T   \n",
       "\n",
       "   tripDuration  tripDistance            startDate        startTime  \\\n",
       "0           4.0    328.084000  2019-06-01 00:00:00  00:02:18.203333   \n",
       "1           5.0   4921.260000  2019-06-01 00:00:00  00:02:44.803333   \n",
       "2          12.0     12.426575  2019-06-01 00:00:00         00:09:56   \n",
       "3           2.0      0.000000  2019-06-01 00:00:00  00:10:31.163333   \n",
       "4           5.0    656.168000  2019-06-01 00:00:00  00:07:21.430000   \n",
       "\n",
       "               endDate          endTime  startLatitude  startLongitude  \\\n",
       "0  2019-06-01 00:00:00  00:06:16.406666      36.164400       -86.78070   \n",
       "1  2019-06-01 00:00:00  00:07:28.286666      36.175300       -86.79430   \n",
       "2  2019-06-01 00:00:00         00:21:56      36.161501       -86.77601   \n",
       "3  2019-06-01 00:00:00  00:12:02.773333      36.164000       -86.78070   \n",
       "4  2019-06-01 00:00:00  00:12:30.913333      36.165000       -86.77990   \n",
       "\n",
       "   endLatitude  endLongitude  \\\n",
       "0    36.163600    -86.780200   \n",
       "1    36.175300    -86.794300   \n",
       "2    36.152529    -86.783742   \n",
       "3    36.163100    -86.779700   \n",
       "4    36.165900    -86.777800   \n",
       "\n",
       "                                           tripRoute  \\\n",
       "0  [[36.164679,-86.781089],[36.163693,-86.78011],...   \n",
       "1  [[36.175367,-86.794232],[36.175367,-86.794232]...   \n",
       "2                [[\"36.16149\",\"-86.77605000000001\"]]   \n",
       "3                           [[36.163168,-86.779639]]   \n",
       "4  [[36.164951,-86.779836],[36.16494,-86.779456],...   \n",
       "\n",
       "                    create_dt  \n",
       "0  2019-06-02 05:30:19.960000  \n",
       "1  2019-06-02 05:30:19.927000  \n",
       "2  2019-06-06 22:23:08.673000  \n",
       "3  2019-06-02 05:30:20.283000  \n",
       "4  2019-06-02 05:30:20.347000  "
      ]
     },
     "execution_count": 9,
     "metadata": {},
     "output_type": "execute_result"
    }
   ],
   "source": [
    "%%time\n",
    "june_trip = pd.read_csv('../data/june_trip.csv')\n",
    "june_trip.head()"
   ]
  },
  {
   "cell_type": "markdown",
   "metadata": {},
   "source": [
    "### Now try to reduce the size of the file\n",
    "- objects require the most space\n"
   ]
  },
  {
   "cell_type": "code",
   "execution_count": 10,
   "metadata": {},
   "outputs": [
    {
     "name": "stdout",
     "output_type": "stream",
     "text": [
      "<class 'pandas.core.frame.DataFrame'>\n",
      "RangeIndex: 205627 entries, 0 to 205626\n",
      "Data columns (total 16 columns):\n",
      " #   Column          Non-Null Count   Dtype  \n",
      "---  ------          --------------   -----  \n",
      " 0   pubTimeStamp    205627 non-null  object \n",
      " 1   companyName     205627 non-null  object \n",
      " 2   tripRecordNum   205627 non-null  object \n",
      " 3   sumdID          205627 non-null  object \n",
      " 4   tripDuration    205627 non-null  float64\n",
      " 5   tripDistance    205627 non-null  float64\n",
      " 6   startDate       205627 non-null  object \n",
      " 7   startTime       205627 non-null  object \n",
      " 8   endDate         205627 non-null  object \n",
      " 9   endTime         205627 non-null  object \n",
      " 10  startLatitude   205627 non-null  float64\n",
      " 11  startLongitude  205627 non-null  float64\n",
      " 12  endLatitude     205627 non-null  float64\n",
      " 13  endLongitude    205627 non-null  float64\n",
      " 14  tripRoute       205627 non-null  object \n",
      " 15  create_dt       205627 non-null  object \n",
      "dtypes: float64(6), object(10)\n",
      "memory usage: 25.1+ MB\n"
     ]
    }
   ],
   "source": [
    "june_trip.info()"
   ]
  },
  {
   "cell_type": "markdown",
   "metadata": {},
   "source": [
    "#### convert the company name to an integer \n",
    "- find the unique company names\n",
    "- assign each company an integer (you can use a dictionary for this step)\n",
    "- update the `companyname` column to store the integer id for each company"
   ]
  },
  {
   "cell_type": "code",
   "execution_count": 13,
   "metadata": {},
   "outputs": [
    {
     "data": {
      "text/plain": [
       "array(['Bird', 'Gotcha', 'SPIN', 'Bolt Mobility', 'Lime', 'Lyft', 'JUMP'],\n",
       "      dtype=object)"
      ]
     },
     "execution_count": 13,
     "metadata": {},
     "output_type": "execute_result"
    }
   ],
   "source": [
    "june_trip.companyName.unique()"
   ]
  },
  {
   "cell_type": "code",
   "execution_count": 14,
   "metadata": {},
   "outputs": [],
   "source": [
    "company_dict = {'Bird':0, 'Lyft': 1, 'Gotcha': 2, 'Lime': 3, 'Spin': 4, 'Jump': 5, 'Bolt': 6}"
   ]
  },
  {
   "cell_type": "code",
   "execution_count": 16,
   "metadata": {},
   "outputs": [
    {
     "ename": "AttributeError",
     "evalue": "'DataFrame' object has no attribute 'companyname'",
     "output_type": "error",
     "traceback": [
      "\u001b[1;31m---------------------------------------------------------------------------\u001b[0m",
      "\u001b[1;31mAttributeError\u001b[0m                            Traceback (most recent call last)",
      "\u001b[1;32m~\\AppData\\Local\\Temp/ipykernel_11044/170268645.py\u001b[0m in \u001b[0;36m<module>\u001b[1;34m\u001b[0m\n\u001b[1;32m----> 1\u001b[1;33m \u001b[0mjune_trip\u001b[0m\u001b[1;33m.\u001b[0m\u001b[0mcompanyName\u001b[0m \u001b[1;33m=\u001b[0m \u001b[0mjune_trip\u001b[0m\u001b[1;33m.\u001b[0m\u001b[0mcompanyname\u001b[0m\u001b[1;33m.\u001b[0m\u001b[0mreplace\u001b[0m\u001b[1;33m(\u001b[0m\u001b[0mcompany_dict\u001b[0m\u001b[1;33m)\u001b[0m\u001b[1;33m\u001b[0m\u001b[1;33m\u001b[0m\u001b[0m\n\u001b[0m",
      "\u001b[1;32m~\\anaconda3\\envs\\geospatial\\lib\\site-packages\\pandas\\core\\generic.py\u001b[0m in \u001b[0;36m__getattr__\u001b[1;34m(self, name)\u001b[0m\n\u001b[0;32m   5485\u001b[0m         ):\n\u001b[0;32m   5486\u001b[0m             \u001b[1;32mreturn\u001b[0m \u001b[0mself\u001b[0m\u001b[1;33m[\u001b[0m\u001b[0mname\u001b[0m\u001b[1;33m]\u001b[0m\u001b[1;33m\u001b[0m\u001b[1;33m\u001b[0m\u001b[0m\n\u001b[1;32m-> 5487\u001b[1;33m         \u001b[1;32mreturn\u001b[0m \u001b[0mobject\u001b[0m\u001b[1;33m.\u001b[0m\u001b[0m__getattribute__\u001b[0m\u001b[1;33m(\u001b[0m\u001b[0mself\u001b[0m\u001b[1;33m,\u001b[0m \u001b[0mname\u001b[0m\u001b[1;33m)\u001b[0m\u001b[1;33m\u001b[0m\u001b[1;33m\u001b[0m\u001b[0m\n\u001b[0m\u001b[0;32m   5488\u001b[0m \u001b[1;33m\u001b[0m\u001b[0m\n\u001b[0;32m   5489\u001b[0m     \u001b[1;32mdef\u001b[0m \u001b[0m__setattr__\u001b[0m\u001b[1;33m(\u001b[0m\u001b[0mself\u001b[0m\u001b[1;33m,\u001b[0m \u001b[0mname\u001b[0m\u001b[1;33m:\u001b[0m \u001b[0mstr\u001b[0m\u001b[1;33m,\u001b[0m \u001b[0mvalue\u001b[0m\u001b[1;33m)\u001b[0m \u001b[1;33m->\u001b[0m \u001b[1;32mNone\u001b[0m\u001b[1;33m:\u001b[0m\u001b[1;33m\u001b[0m\u001b[1;33m\u001b[0m\u001b[0m\n",
      "\u001b[1;31mAttributeError\u001b[0m: 'DataFrame' object has no attribute 'companyname'"
     ]
    }
   ],
   "source": [
    "june_trip.companyName = june_trip.companyame.replace(company_dict)"
   ]
  },
  {
   "cell_type": "markdown",
   "metadata": {},
   "source": [
    "#### next convert `pubdatetime` to a datetime "
   ]
  },
  {
   "cell_type": "code",
   "execution_count": null,
   "metadata": {},
   "outputs": [],
   "source": [
    "june_trip.pubdatetime = pd.to_datetime(may.pubdatetime)\n",
    "june_trip.head(2)"
   ]
  },
  {
   "cell_type": "markdown",
   "metadata": {},
   "source": [
    "#### Next remove unneeded data\n",
    "#### keep just the scooters"
   ]
  },
  {
   "cell_type": "code",
   "execution_count": null,
   "metadata": {},
   "outputs": [],
   "source": [
    "june_trip.sumdgroup.unique()"
   ]
  },
  {
   "cell_type": "code",
   "execution_count": null,
   "metadata": {},
   "outputs": [],
   "source": [
    "june_trip_scooters = may.loc[may.sumdgroup.isin(['scooter', 'Scooter'])]"
   ]
  },
  {
   "cell_type": "markdown",
   "metadata": {},
   "source": [
    "#### keep just the columns we want to work with"
   ]
  },
  {
   "cell_type": "code",
   "execution_count": null,
   "metadata": {},
   "outputs": [],
   "source": [
    "june_trip_scooters = may_scooters[['pubdatetime', 'latitude', 'longitude', 'sumdid', 'chargelevel', 'companyname']]"
   ]
  },
  {
   "cell_type": "markdown",
   "metadata": {},
   "source": [
    "#### check `.info()` again"
   ]
  },
  {
   "cell_type": "code",
   "execution_count": null,
   "metadata": {},
   "outputs": [],
   "source": [
    "june_trip_scooters.info()"
   ]
  },
  {
   "cell_type": "markdown",
   "metadata": {},
   "source": [
    "#### The only object datatype remaining is sumdid (an alphanumeric unique identifier)\n",
    "- time to pickle"
   ]
  },
  {
   "cell_type": "code",
   "execution_count": null,
   "metadata": {},
   "outputs": [],
   "source": [
    "june_trip_scooters.to_pickle(\"../data/june_trip.pkl\")"
   ]
  },
  {
   "cell_type": "code",
   "execution_count": null,
   "metadata": {},
   "outputs": [],
   "source": [
    "%%time\n",
    "june_trip_test = pd.read_pickle(\"../data/june_trip.pkl\")"
   ]
  },
  {
   "cell_type": "code",
   "execution_count": null,
   "metadata": {},
   "outputs": [],
   "source": []
  }
 ],
 "metadata": {
  "kernelspec": {
   "display_name": "Python 3 (ipykernel)",
   "language": "python",
   "name": "python3"
  },
  "language_info": {
   "codemirror_mode": {
    "name": "ipython",
    "version": 3
   },
   "file_extension": ".py",
   "mimetype": "text/x-python",
   "name": "python",
   "nbconvert_exporter": "python",
   "pygments_lexer": "ipython3",
   "version": "3.8.5"
  }
 },
 "nbformat": 4,
 "nbformat_minor": 2
}
