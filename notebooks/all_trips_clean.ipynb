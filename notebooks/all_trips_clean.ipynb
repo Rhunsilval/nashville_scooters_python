{
 "cells": [
  {
   "cell_type": "code",
   "execution_count": 2,
   "id": "0f393a71",
   "metadata": {},
   "outputs": [],
   "source": [
    "import pandas as pd\n",
    "import pickle\n",
    "import matplotlib.pyplot as plt\n",
    "import seaborn\n",
    "from shapely.geometry import Point\n",
    "import geopandas as gpd\n",
    "import folium\n",
    "from folium.plugins import MarkerCluster\n",
    "from folium.plugins import FastMarkerCluster\n",
    "\n",
    "%matplotlib inline "
   ]
  },
  {
   "cell_type": "code",
   "execution_count": 3,
   "id": "a0ca0f11",
   "metadata": {
    "scrolled": true
   },
   "outputs": [
    {
     "name": "stdout",
     "output_type": "stream",
     "text": [
      "Wall time: 5.63 s\n"
     ]
    },
    {
     "data": {
      "text/html": [
       "<div>\n",
       "<style scoped>\n",
       "    .dataframe tbody tr th:only-of-type {\n",
       "        vertical-align: middle;\n",
       "    }\n",
       "\n",
       "    .dataframe tbody tr th {\n",
       "        vertical-align: top;\n",
       "    }\n",
       "\n",
       "    .dataframe thead th {\n",
       "        text-align: right;\n",
       "    }\n",
       "</style>\n",
       "<table border=\"1\" class=\"dataframe\">\n",
       "  <thead>\n",
       "    <tr style=\"text-align: right;\">\n",
       "      <th></th>\n",
       "      <th>pubTimeStamp</th>\n",
       "      <th>companyName</th>\n",
       "      <th>tripRecordNum</th>\n",
       "      <th>sumdID</th>\n",
       "      <th>tripDuration</th>\n",
       "      <th>tripDistance</th>\n",
       "      <th>startDate</th>\n",
       "      <th>startTime</th>\n",
       "      <th>endDate</th>\n",
       "      <th>endTime</th>\n",
       "      <th>startLatitude</th>\n",
       "      <th>startLongitude</th>\n",
       "      <th>endLatitude</th>\n",
       "      <th>endLongitude</th>\n",
       "      <th>tripRoute</th>\n",
       "      <th>create_dt</th>\n",
       "    </tr>\n",
       "  </thead>\n",
       "  <tbody>\n",
       "    <tr>\n",
       "      <th>0</th>\n",
       "      <td>2019-05-01 00:00:55.423000</td>\n",
       "      <td>Bird</td>\n",
       "      <td>BRD2134</td>\n",
       "      <td>Powered9EAJL</td>\n",
       "      <td>3.0000</td>\n",
       "      <td>958.00528</td>\n",
       "      <td>2019-05-01 00:00:00</td>\n",
       "      <td>00:00:20.460000</td>\n",
       "      <td>2019-05-01 00:00:00</td>\n",
       "      <td>00:02:52.346666</td>\n",
       "      <td>36.15710</td>\n",
       "      <td>-86.80360</td>\n",
       "      <td>36.15660</td>\n",
       "      <td>-86.80670</td>\n",
       "      <td>[[36.157235,-86.803612],[36.157235,-86.80362],...</td>\n",
       "      <td>2019-05-02 05:30:23.780000</td>\n",
       "    </tr>\n",
       "    <tr>\n",
       "      <th>1</th>\n",
       "      <td>2019-05-01 00:03:33.147000</td>\n",
       "      <td>Lyft</td>\n",
       "      <td>LFT5</td>\n",
       "      <td>Powered296631</td>\n",
       "      <td>1.7156</td>\n",
       "      <td>1371.39112</td>\n",
       "      <td>2019-05-01 00:00:00</td>\n",
       "      <td>00:01:50.090000</td>\n",
       "      <td>2019-05-01 00:00:00</td>\n",
       "      <td>00:03:33.026666</td>\n",
       "      <td>36.15797</td>\n",
       "      <td>-86.77896</td>\n",
       "      <td>36.16054</td>\n",
       "      <td>-86.77689</td>\n",
       "      <td>[[36.15797,-86.77896],[36.15795,-86.77873],[36...</td>\n",
       "      <td>2019-05-02 07:20:32.757000</td>\n",
       "    </tr>\n",
       "    <tr>\n",
       "      <th>2</th>\n",
       "      <td>2019-05-01 00:05:55.570000</td>\n",
       "      <td>Bird</td>\n",
       "      <td>BRD2168</td>\n",
       "      <td>Powered7S2UU</td>\n",
       "      <td>3.0000</td>\n",
       "      <td>2296.58800</td>\n",
       "      <td>2019-05-01 00:00:00</td>\n",
       "      <td>00:03:47.363333</td>\n",
       "      <td>2019-05-01 00:00:00</td>\n",
       "      <td>00:07:13.596666</td>\n",
       "      <td>36.15470</td>\n",
       "      <td>-86.78180</td>\n",
       "      <td>36.15650</td>\n",
       "      <td>-86.78680</td>\n",
       "      <td>[[36.155068,-86.782124],[36.156597,-86.78675]]</td>\n",
       "      <td>2019-05-02 05:30:24.530000</td>\n",
       "    </tr>\n",
       "    <tr>\n",
       "      <th>3</th>\n",
       "      <td>2019-05-01 00:05:55.570000</td>\n",
       "      <td>Bird</td>\n",
       "      <td>BRD2166</td>\n",
       "      <td>PoweredZIIVX</td>\n",
       "      <td>3.0000</td>\n",
       "      <td>1200.78744</td>\n",
       "      <td>2019-05-01 00:00:00</td>\n",
       "      <td>00:04:21.386666</td>\n",
       "      <td>2019-05-01 00:00:00</td>\n",
       "      <td>00:06:59.176666</td>\n",
       "      <td>36.14940</td>\n",
       "      <td>-86.77950</td>\n",
       "      <td>36.15310</td>\n",
       "      <td>-86.77960</td>\n",
       "      <td>[[36.149741,-86.779344],[36.149741,-86.779327]...</td>\n",
       "      <td>2019-05-02 05:30:24.237000</td>\n",
       "    </tr>\n",
       "    <tr>\n",
       "      <th>4</th>\n",
       "      <td>2019-05-01 00:05:55.570000</td>\n",
       "      <td>Bird</td>\n",
       "      <td>BRD2165</td>\n",
       "      <td>PoweredJ7MB3</td>\n",
       "      <td>2.0000</td>\n",
       "      <td>351.04988</td>\n",
       "      <td>2019-05-01 00:00:00</td>\n",
       "      <td>00:04:27.796666</td>\n",
       "      <td>2019-05-01 00:00:00</td>\n",
       "      <td>00:06:23.150000</td>\n",
       "      <td>36.17780</td>\n",
       "      <td>-86.78660</td>\n",
       "      <td>36.17740</td>\n",
       "      <td>-86.78760</td>\n",
       "      <td>[[36.177699,-86.786477],[36.177711,-86.786469]...</td>\n",
       "      <td>2019-05-02 05:30:24.207000</td>\n",
       "    </tr>\n",
       "  </tbody>\n",
       "</table>\n",
       "</div>"
      ],
      "text/plain": [
       "                 pubTimeStamp companyName tripRecordNum         sumdID  \\\n",
       "0  2019-05-01 00:00:55.423000        Bird       BRD2134   Powered9EAJL   \n",
       "1  2019-05-01 00:03:33.147000        Lyft          LFT5  Powered296631   \n",
       "2  2019-05-01 00:05:55.570000        Bird       BRD2168   Powered7S2UU   \n",
       "3  2019-05-01 00:05:55.570000        Bird       BRD2166   PoweredZIIVX   \n",
       "4  2019-05-01 00:05:55.570000        Bird       BRD2165   PoweredJ7MB3   \n",
       "\n",
       "   tripDuration  tripDistance            startDate        startTime  \\\n",
       "0        3.0000     958.00528  2019-05-01 00:00:00  00:00:20.460000   \n",
       "1        1.7156    1371.39112  2019-05-01 00:00:00  00:01:50.090000   \n",
       "2        3.0000    2296.58800  2019-05-01 00:00:00  00:03:47.363333   \n",
       "3        3.0000    1200.78744  2019-05-01 00:00:00  00:04:21.386666   \n",
       "4        2.0000     351.04988  2019-05-01 00:00:00  00:04:27.796666   \n",
       "\n",
       "               endDate          endTime  startLatitude  startLongitude  \\\n",
       "0  2019-05-01 00:00:00  00:02:52.346666       36.15710       -86.80360   \n",
       "1  2019-05-01 00:00:00  00:03:33.026666       36.15797       -86.77896   \n",
       "2  2019-05-01 00:00:00  00:07:13.596666       36.15470       -86.78180   \n",
       "3  2019-05-01 00:00:00  00:06:59.176666       36.14940       -86.77950   \n",
       "4  2019-05-01 00:00:00  00:06:23.150000       36.17780       -86.78660   \n",
       "\n",
       "   endLatitude  endLongitude  \\\n",
       "0     36.15660     -86.80670   \n",
       "1     36.16054     -86.77689   \n",
       "2     36.15650     -86.78680   \n",
       "3     36.15310     -86.77960   \n",
       "4     36.17740     -86.78760   \n",
       "\n",
       "                                           tripRoute  \\\n",
       "0  [[36.157235,-86.803612],[36.157235,-86.80362],...   \n",
       "1  [[36.15797,-86.77896],[36.15795,-86.77873],[36...   \n",
       "2     [[36.155068,-86.782124],[36.156597,-86.78675]]   \n",
       "3  [[36.149741,-86.779344],[36.149741,-86.779327]...   \n",
       "4  [[36.177699,-86.786477],[36.177711,-86.786469]...   \n",
       "\n",
       "                    create_dt  \n",
       "0  2019-05-02 05:30:23.780000  \n",
       "1  2019-05-02 07:20:32.757000  \n",
       "2  2019-05-02 05:30:24.530000  \n",
       "3  2019-05-02 05:30:24.237000  \n",
       "4  2019-05-02 05:30:24.207000  "
      ]
     },
     "execution_count": 3,
     "metadata": {},
     "output_type": "execute_result"
    }
   ],
   "source": [
    "%%time\n",
    "may_trip = pd.read_csv('../data/may_trip.csv')\n",
    "may_trip.head()"
   ]
  },
  {
   "cell_type": "code",
   "execution_count": 4,
   "id": "6c4c5e2d",
   "metadata": {},
   "outputs": [
    {
     "name": "stderr",
     "output_type": "stream",
     "text": [
      "C:\\Users\\chris\\AppData\\Local\\Temp/ipykernel_11700/1931889164.py:13: FutureWarning: The pandas.datetime class is deprecated and will be removed from pandas in a future version. Import from datetime module instead.\n",
      "  may_trip['start'] = may_trip.apply(lambda r : pd.datetime.combine(r['startDate'],r['startTime']),1)\n",
      "C:\\Users\\chris\\AppData\\Local\\Temp/ipykernel_11700/1931889164.py:14: FutureWarning: The pandas.datetime class is deprecated and will be removed from pandas in a future version. Import from datetime module instead.\n",
      "  may_trip['end'] = may_trip.apply(lambda r : pd.datetime.combine(r['endDate'],r['endTime']),1)\n"
     ]
    }
   ],
   "source": [
    "may_trip.startTime = pd.to_datetime(may_trip.startTime)\n",
    "may_trip.endTime = pd.to_datetime(may_trip.endTime)\n",
    "\n",
    "no_start_date = may_trip['startTime'].apply( lambda d : d.time() )\n",
    "no_end_date = may_trip['endTime'].apply( lambda d : d.time() )\n",
    "\n",
    "may_trip['startTime'] = no_start_date\n",
    "may_trip['endTime'] = no_end_date\n",
    "\n",
    "may_trip.startDate = pd.to_datetime(may_trip.startDate)\n",
    "may_trip.endDate = pd.to_datetime(may_trip.endDate)\n",
    "\n",
    "may_trip['start'] = may_trip.apply(lambda r : pd.datetime.combine(r['startDate'],r['startTime']),1)\n",
    "may_trip['end'] = may_trip.apply(lambda r : pd.datetime.combine(r['endDate'],r['endTime']),1)\n",
    "may_trip['totaltime'] = may_trip['end'] - may_trip['start']"
   ]
  },
  {
   "cell_type": "code",
   "execution_count": 5,
   "id": "203d3a25",
   "metadata": {},
   "outputs": [
    {
     "name": "stdout",
     "output_type": "stream",
     "text": [
      "                 pubTimeStamp companyName tripRecordNum         sumdID  \\\n",
      "0  2019-05-01 00:00:55.423000        Bird       BRD2134   Powered9EAJL   \n",
      "1  2019-05-01 00:03:33.147000        Lyft          LFT5  Powered296631   \n",
      "2  2019-05-01 00:05:55.570000        Bird       BRD2168   Powered7S2UU   \n",
      "3  2019-05-01 00:05:55.570000        Bird       BRD2166   PoweredZIIVX   \n",
      "4  2019-05-01 00:05:55.570000        Bird       BRD2165   PoweredJ7MB3   \n",
      "\n",
      "   tripDuration  tripDistance  startDate        startTime    endDate  \\\n",
      "0        3.0000     958.00528 2019-05-01  00:00:20.460000 2019-05-01   \n",
      "1        1.7156    1371.39112 2019-05-01  00:01:50.090000 2019-05-01   \n",
      "2        3.0000    2296.58800 2019-05-01  00:03:47.363333 2019-05-01   \n",
      "3        3.0000    1200.78744 2019-05-01  00:04:21.386666 2019-05-01   \n",
      "4        2.0000     351.04988 2019-05-01  00:04:27.796666 2019-05-01   \n",
      "\n",
      "           endTime  startLatitude  startLongitude  endLatitude  endLongitude  \\\n",
      "0  00:02:52.346666       36.15710       -86.80360     36.15660     -86.80670   \n",
      "1  00:03:33.026666       36.15797       -86.77896     36.16054     -86.77689   \n",
      "2  00:07:13.596666       36.15470       -86.78180     36.15650     -86.78680   \n",
      "3  00:06:59.176666       36.14940       -86.77950     36.15310     -86.77960   \n",
      "4  00:06:23.150000       36.17780       -86.78660     36.17740     -86.78760   \n",
      "\n",
      "                                           tripRoute  \\\n",
      "0  [[36.157235,-86.803612],[36.157235,-86.80362],...   \n",
      "1  [[36.15797,-86.77896],[36.15795,-86.77873],[36...   \n",
      "2     [[36.155068,-86.782124],[36.156597,-86.78675]]   \n",
      "3  [[36.149741,-86.779344],[36.149741,-86.779327]...   \n",
      "4  [[36.177699,-86.786477],[36.177711,-86.786469]...   \n",
      "\n",
      "                    create_dt                      start  \\\n",
      "0  2019-05-02 05:30:23.780000 2019-05-01 00:00:20.460000   \n",
      "1  2019-05-02 07:20:32.757000 2019-05-01 00:01:50.090000   \n",
      "2  2019-05-02 05:30:24.530000 2019-05-01 00:03:47.363333   \n",
      "3  2019-05-02 05:30:24.237000 2019-05-01 00:04:21.386666   \n",
      "4  2019-05-02 05:30:24.207000 2019-05-01 00:04:27.796666   \n",
      "\n",
      "                         end              totaltime     seconds  \n",
      "0 2019-05-01 00:02:52.346666 0 days 00:02:31.886666  151.886666  \n",
      "1 2019-05-01 00:03:33.026666 0 days 00:01:42.936666  102.936666  \n",
      "2 2019-05-01 00:07:13.596666 0 days 00:03:26.233333  206.233333  \n",
      "3 2019-05-01 00:06:59.176666 0 days 00:02:37.790000  157.790000  \n",
      "4 2019-05-01 00:06:23.150000 0 days 00:01:55.353334  115.353334  \n"
     ]
    }
   ],
   "source": [
    "may_trip['seconds'] = may_trip['totaltime'].dt.total_seconds()\n",
    "print(may_trip.head())"
   ]
  },
  {
   "cell_type": "code",
   "execution_count": 6,
   "id": "0c679f4a",
   "metadata": {},
   "outputs": [],
   "source": [
    "may_trip = may_trip.loc[may_trip['seconds'] >= 60]\n",
    "may_trip = may_trip.loc[may_trip['seconds'] <= 86400]"
   ]
  },
  {
   "cell_type": "code",
   "execution_count": 7,
   "id": "914343ec",
   "metadata": {},
   "outputs": [],
   "source": [
    "may_trip['minutes'] = may_trip['seconds'] / 60"
   ]
  },
  {
   "cell_type": "code",
   "execution_count": 8,
   "id": "30e7a1c0",
   "metadata": {},
   "outputs": [],
   "source": [
    "may_trip = may_trip.loc[may_trip.tripDistance > 0.0]"
   ]
  },
  {
   "cell_type": "code",
   "execution_count": 9,
   "id": "f9b59ffb",
   "metadata": {},
   "outputs": [],
   "source": [
    "may_desc = may_trip.describe()\n",
    "\n",
    "low_outliers = may_desc.loc['25%', 'tripDistance'] - (1.5 * (may_desc.loc['75%', 'tripDistance']-may_desc.loc['25%', 'tripDistance']))\n",
    "high_outliers = may_desc.loc['25%', 'tripDistance'] + (1.5 * (may_desc.loc['75%', 'tripDistance']-may_desc.loc['25%', 'tripDistance']))"
   ]
  },
  {
   "cell_type": "code",
   "execution_count": 10,
   "id": "69da90cf",
   "metadata": {},
   "outputs": [
    {
     "data": {
      "text/plain": [
       "-7705.806840000001"
      ]
     },
     "execution_count": 10,
     "metadata": {},
     "output_type": "execute_result"
    }
   ],
   "source": [
    "low_outliers"
   ]
  },
  {
   "cell_type": "code",
   "execution_count": 11,
   "id": "edc0158d",
   "metadata": {},
   "outputs": [
    {
     "data": {
      "text/plain": [
       "8761.63404"
      ]
     },
     "execution_count": 11,
     "metadata": {},
     "output_type": "execute_result"
    }
   ],
   "source": [
    "high_outliers"
   ]
  },
  {
   "cell_type": "markdown",
   "id": "8999865b",
   "metadata": {},
   "source": [
    "We have our outliers - let's see how many there are. "
   ]
  },
  {
   "cell_type": "code",
   "execution_count": 12,
   "id": "31c04aee",
   "metadata": {
    "scrolled": false
   },
   "outputs": [],
   "source": [
    "may_trip_outliers_dist = may_trip.loc[(may_trip.tripDistance < low_outliers) | (may_trip.tripDistance > high_outliers)]"
   ]
  },
  {
   "cell_type": "code",
   "execution_count": 13,
   "id": "21e4082b",
   "metadata": {
    "scrolled": true
   },
   "outputs": [
    {
     "data": {
      "text/plain": [
       "Lyft             13168\n",
       "Bird              9783\n",
       "Lime              7524\n",
       "Bolt Mobility     1434\n",
       "SPIN               446\n",
       "JUMP               109\n",
       "Gotcha              12\n",
       "Name: companyName, dtype: int64"
      ]
     },
     "execution_count": 13,
     "metadata": {},
     "output_type": "execute_result"
    }
   ],
   "source": [
    "may_trip_outliers_dist.companyName.value_counts()"
   ]
  },
  {
   "cell_type": "code",
   "execution_count": 14,
   "id": "99c7de03",
   "metadata": {},
   "outputs": [],
   "source": [
    "low_outliers_2 = may_desc.loc['25%', 'minutes'] - (1.5 * (may_desc.loc['75%', 'minutes']-may_desc.loc['25%', 'minutes']))\n",
    "high_outliers_2 = may_desc.loc['25%', 'minutes'] + (1.5 * (may_desc.loc['75%', 'minutes']-may_desc.loc['25%', 'minutes']))"
   ]
  },
  {
   "cell_type": "code",
   "execution_count": 15,
   "id": "9feecd51",
   "metadata": {},
   "outputs": [
    {
     "data": {
      "text/plain": [
       "-15.670513895833336"
      ]
     },
     "execution_count": 15,
     "metadata": {},
     "output_type": "execute_result"
    }
   ],
   "source": [
    "low_outliers_2"
   ]
  },
  {
   "cell_type": "code",
   "execution_count": 16,
   "id": "cf310f3c",
   "metadata": {
    "scrolled": true
   },
   "outputs": [
    {
     "data": {
      "text/plain": [
       "27.52690277916667"
      ]
     },
     "execution_count": 16,
     "metadata": {},
     "output_type": "execute_result"
    }
   ],
   "source": [
    "high_outliers_2"
   ]
  },
  {
   "cell_type": "code",
   "execution_count": 17,
   "id": "c0b29310",
   "metadata": {},
   "outputs": [],
   "source": [
    "may_trip_outliers_time = may_trip.loc[(may_trip.minutes < low_outliers_2) | (may_trip.minutes > high_outliers_2)]"
   ]
  },
  {
   "cell_type": "code",
   "execution_count": 18,
   "id": "55936daa",
   "metadata": {
    "scrolled": false
   },
   "outputs": [
    {
     "data": {
      "text/plain": [
       "Lime             15736\n",
       "Lyft              8144\n",
       "Bird              6072\n",
       "SPIN              1590\n",
       "Bolt Mobility     1130\n",
       "JUMP                81\n",
       "Gotcha              37\n",
       "Name: companyName, dtype: int64"
      ]
     },
     "execution_count": 18,
     "metadata": {},
     "output_type": "execute_result"
    }
   ],
   "source": [
    "may_trip_outliers_time.companyName.value_counts()"
   ]
  },
  {
   "cell_type": "code",
   "execution_count": 19,
   "id": "8faf1073",
   "metadata": {},
   "outputs": [],
   "source": [
    "may_trip_adj = may_trip.loc[may_trip.tripDistance > low_outliers]\n",
    "may_trip_adj = may_trip_adj.loc[may_trip_adj.tripDistance < high_outliers]\n",
    "may_trip_adj = may_trip_adj.loc[may_trip_adj.minutes < high_outliers_2]\n",
    "may_trip_adj = may_trip_adj.loc[may_trip_adj.minutes > low_outliers_2]"
   ]
  },
  {
   "cell_type": "markdown",
   "id": "08576eec",
   "metadata": {},
   "source": [
    "june time!"
   ]
  },
  {
   "cell_type": "code",
   "execution_count": 20,
   "id": "f48c0458",
   "metadata": {
    "scrolled": true
   },
   "outputs": [
    {
     "name": "stdout",
     "output_type": "stream",
     "text": [
      "Wall time: 5.54 s\n"
     ]
    },
    {
     "data": {
      "text/html": [
       "<div>\n",
       "<style scoped>\n",
       "    .dataframe tbody tr th:only-of-type {\n",
       "        vertical-align: middle;\n",
       "    }\n",
       "\n",
       "    .dataframe tbody tr th {\n",
       "        vertical-align: top;\n",
       "    }\n",
       "\n",
       "    .dataframe thead th {\n",
       "        text-align: right;\n",
       "    }\n",
       "</style>\n",
       "<table border=\"1\" class=\"dataframe\">\n",
       "  <thead>\n",
       "    <tr style=\"text-align: right;\">\n",
       "      <th></th>\n",
       "      <th>pubTimeStamp</th>\n",
       "      <th>companyName</th>\n",
       "      <th>tripRecordNum</th>\n",
       "      <th>sumdID</th>\n",
       "      <th>tripDuration</th>\n",
       "      <th>tripDistance</th>\n",
       "      <th>startDate</th>\n",
       "      <th>startTime</th>\n",
       "      <th>endDate</th>\n",
       "      <th>endTime</th>\n",
       "      <th>startLatitude</th>\n",
       "      <th>startLongitude</th>\n",
       "      <th>endLatitude</th>\n",
       "      <th>endLongitude</th>\n",
       "      <th>tripRoute</th>\n",
       "      <th>create_dt</th>\n",
       "    </tr>\n",
       "  </thead>\n",
       "  <tbody>\n",
       "    <tr>\n",
       "      <th>0</th>\n",
       "      <td>2019-06-01 00:05:46.817000</td>\n",
       "      <td>Bird</td>\n",
       "      <td>BRD3572</td>\n",
       "      <td>PoweredSPI1T</td>\n",
       "      <td>4.0</td>\n",
       "      <td>328.084000</td>\n",
       "      <td>2019-06-01 00:00:00</td>\n",
       "      <td>00:02:18.203333</td>\n",
       "      <td>2019-06-01 00:00:00</td>\n",
       "      <td>00:06:16.406666</td>\n",
       "      <td>36.164400</td>\n",
       "      <td>-86.78070</td>\n",
       "      <td>36.163600</td>\n",
       "      <td>-86.780200</td>\n",
       "      <td>[[36.164679,-86.781089],[36.163693,-86.78011],...</td>\n",
       "      <td>2019-06-02 05:30:19.960000</td>\n",
       "    </tr>\n",
       "    <tr>\n",
       "      <th>1</th>\n",
       "      <td>2019-06-01 00:05:46.817000</td>\n",
       "      <td>Bird</td>\n",
       "      <td>BRD3571</td>\n",
       "      <td>Powered2I3MS</td>\n",
       "      <td>5.0</td>\n",
       "      <td>4921.260000</td>\n",
       "      <td>2019-06-01 00:00:00</td>\n",
       "      <td>00:02:44.803333</td>\n",
       "      <td>2019-06-01 00:00:00</td>\n",
       "      <td>00:07:28.286666</td>\n",
       "      <td>36.175300</td>\n",
       "      <td>-86.79430</td>\n",
       "      <td>36.175300</td>\n",
       "      <td>-86.794300</td>\n",
       "      <td>[[36.175367,-86.794232],[36.175367,-86.794232]...</td>\n",
       "      <td>2019-06-02 05:30:19.927000</td>\n",
       "    </tr>\n",
       "    <tr>\n",
       "      <th>2</th>\n",
       "      <td>2019-06-01 00:09:54</td>\n",
       "      <td>Gotcha</td>\n",
       "      <td>GOT1</td>\n",
       "      <td>Powered327</td>\n",
       "      <td>12.0</td>\n",
       "      <td>12.426575</td>\n",
       "      <td>2019-06-01 00:00:00</td>\n",
       "      <td>00:09:56</td>\n",
       "      <td>2019-06-01 00:00:00</td>\n",
       "      <td>00:21:56</td>\n",
       "      <td>36.161501</td>\n",
       "      <td>-86.77601</td>\n",
       "      <td>36.152529</td>\n",
       "      <td>-86.783742</td>\n",
       "      <td>[[\"36.16149\",\"-86.77605000000001\"]]</td>\n",
       "      <td>2019-06-06 22:23:08.673000</td>\n",
       "    </tr>\n",
       "    <tr>\n",
       "      <th>3</th>\n",
       "      <td>2019-06-01 00:10:46.957000</td>\n",
       "      <td>Bird</td>\n",
       "      <td>BRD3610</td>\n",
       "      <td>Powered8U1A6</td>\n",
       "      <td>2.0</td>\n",
       "      <td>0.000000</td>\n",
       "      <td>2019-06-01 00:00:00</td>\n",
       "      <td>00:10:31.163333</td>\n",
       "      <td>2019-06-01 00:00:00</td>\n",
       "      <td>00:12:02.773333</td>\n",
       "      <td>36.164000</td>\n",
       "      <td>-86.78070</td>\n",
       "      <td>36.163100</td>\n",
       "      <td>-86.779700</td>\n",
       "      <td>[[36.163168,-86.779639]]</td>\n",
       "      <td>2019-06-02 05:30:20.283000</td>\n",
       "    </tr>\n",
       "    <tr>\n",
       "      <th>4</th>\n",
       "      <td>2019-06-01 00:10:46.957000</td>\n",
       "      <td>Bird</td>\n",
       "      <td>BRD3612</td>\n",
       "      <td>PoweredSPI1T</td>\n",
       "      <td>5.0</td>\n",
       "      <td>656.168000</td>\n",
       "      <td>2019-06-01 00:00:00</td>\n",
       "      <td>00:07:21.430000</td>\n",
       "      <td>2019-06-01 00:00:00</td>\n",
       "      <td>00:12:30.913333</td>\n",
       "      <td>36.165000</td>\n",
       "      <td>-86.77990</td>\n",
       "      <td>36.165900</td>\n",
       "      <td>-86.777800</td>\n",
       "      <td>[[36.164951,-86.779836],[36.16494,-86.779456],...</td>\n",
       "      <td>2019-06-02 05:30:20.347000</td>\n",
       "    </tr>\n",
       "  </tbody>\n",
       "</table>\n",
       "</div>"
      ],
      "text/plain": [
       "                 pubTimeStamp companyName tripRecordNum        sumdID  \\\n",
       "0  2019-06-01 00:05:46.817000        Bird       BRD3572  PoweredSPI1T   \n",
       "1  2019-06-01 00:05:46.817000        Bird       BRD3571  Powered2I3MS   \n",
       "2         2019-06-01 00:09:54      Gotcha          GOT1    Powered327   \n",
       "3  2019-06-01 00:10:46.957000        Bird       BRD3610  Powered8U1A6   \n",
       "4  2019-06-01 00:10:46.957000        Bird       BRD3612  PoweredSPI1T   \n",
       "\n",
       "   tripDuration  tripDistance            startDate        startTime  \\\n",
       "0           4.0    328.084000  2019-06-01 00:00:00  00:02:18.203333   \n",
       "1           5.0   4921.260000  2019-06-01 00:00:00  00:02:44.803333   \n",
       "2          12.0     12.426575  2019-06-01 00:00:00         00:09:56   \n",
       "3           2.0      0.000000  2019-06-01 00:00:00  00:10:31.163333   \n",
       "4           5.0    656.168000  2019-06-01 00:00:00  00:07:21.430000   \n",
       "\n",
       "               endDate          endTime  startLatitude  startLongitude  \\\n",
       "0  2019-06-01 00:00:00  00:06:16.406666      36.164400       -86.78070   \n",
       "1  2019-06-01 00:00:00  00:07:28.286666      36.175300       -86.79430   \n",
       "2  2019-06-01 00:00:00         00:21:56      36.161501       -86.77601   \n",
       "3  2019-06-01 00:00:00  00:12:02.773333      36.164000       -86.78070   \n",
       "4  2019-06-01 00:00:00  00:12:30.913333      36.165000       -86.77990   \n",
       "\n",
       "   endLatitude  endLongitude  \\\n",
       "0    36.163600    -86.780200   \n",
       "1    36.175300    -86.794300   \n",
       "2    36.152529    -86.783742   \n",
       "3    36.163100    -86.779700   \n",
       "4    36.165900    -86.777800   \n",
       "\n",
       "                                           tripRoute  \\\n",
       "0  [[36.164679,-86.781089],[36.163693,-86.78011],...   \n",
       "1  [[36.175367,-86.794232],[36.175367,-86.794232]...   \n",
       "2                [[\"36.16149\",\"-86.77605000000001\"]]   \n",
       "3                           [[36.163168,-86.779639]]   \n",
       "4  [[36.164951,-86.779836],[36.16494,-86.779456],...   \n",
       "\n",
       "                    create_dt  \n",
       "0  2019-06-02 05:30:19.960000  \n",
       "1  2019-06-02 05:30:19.927000  \n",
       "2  2019-06-06 22:23:08.673000  \n",
       "3  2019-06-02 05:30:20.283000  \n",
       "4  2019-06-02 05:30:20.347000  "
      ]
     },
     "execution_count": 20,
     "metadata": {},
     "output_type": "execute_result"
    }
   ],
   "source": [
    "%%time\n",
    "june_trip = pd.read_csv('../data/june_trip.csv')\n",
    "june_trip.head()"
   ]
  },
  {
   "cell_type": "code",
   "execution_count": 21,
   "id": "950aaf57",
   "metadata": {},
   "outputs": [
    {
     "name": "stderr",
     "output_type": "stream",
     "text": [
      "C:\\Users\\chris\\AppData\\Local\\Temp/ipykernel_11700/2391921808.py:13: FutureWarning: The pandas.datetime class is deprecated and will be removed from pandas in a future version. Import from datetime module instead.\n",
      "  june_trip['start'] = june_trip.apply(lambda r : pd.datetime.combine(r['startDate'],r['startTime']),1)\n",
      "C:\\Users\\chris\\AppData\\Local\\Temp/ipykernel_11700/2391921808.py:14: FutureWarning: The pandas.datetime class is deprecated and will be removed from pandas in a future version. Import from datetime module instead.\n",
      "  june_trip['end'] = june_trip.apply(lambda r : pd.datetime.combine(r['endDate'],r['endTime']),1)\n"
     ]
    }
   ],
   "source": [
    "june_trip.startTime = pd.to_datetime(june_trip.startTime)\n",
    "june_trip.endTime = pd.to_datetime(june_trip.endTime)\n",
    "\n",
    "no_start_date_june = june_trip['startTime'].apply( lambda d : d.time() )\n",
    "no_end_date_june = june_trip['endTime'].apply( lambda d : d.time() )\n",
    "\n",
    "june_trip['startTime'] = no_start_date_june\n",
    "june_trip['endTime'] = no_end_date_june\n",
    "\n",
    "june_trip.startDate = pd.to_datetime(june_trip.startDate)\n",
    "june_trip.endDate = pd.to_datetime(june_trip.endDate)\n",
    "\n",
    "june_trip['start'] = june_trip.apply(lambda r : pd.datetime.combine(r['startDate'],r['startTime']),1)\n",
    "june_trip['end'] = june_trip.apply(lambda r : pd.datetime.combine(r['endDate'],r['endTime']),1)\n",
    "june_trip['totaltime'] = june_trip['end'] - june_trip['start']"
   ]
  },
  {
   "cell_type": "code",
   "execution_count": 22,
   "id": "42282748",
   "metadata": {},
   "outputs": [
    {
     "name": "stdout",
     "output_type": "stream",
     "text": [
      "                 pubTimeStamp companyName tripRecordNum        sumdID  \\\n",
      "0  2019-06-01 00:05:46.817000        Bird       BRD3572  PoweredSPI1T   \n",
      "1  2019-06-01 00:05:46.817000        Bird       BRD3571  Powered2I3MS   \n",
      "2         2019-06-01 00:09:54      Gotcha          GOT1    Powered327   \n",
      "3  2019-06-01 00:10:46.957000        Bird       BRD3610  Powered8U1A6   \n",
      "4  2019-06-01 00:10:46.957000        Bird       BRD3612  PoweredSPI1T   \n",
      "\n",
      "   tripDuration  tripDistance  startDate        startTime    endDate  \\\n",
      "0           4.0    328.084000 2019-06-01  00:02:18.203333 2019-06-01   \n",
      "1           5.0   4921.260000 2019-06-01  00:02:44.803333 2019-06-01   \n",
      "2          12.0     12.426575 2019-06-01         00:09:56 2019-06-01   \n",
      "3           2.0      0.000000 2019-06-01  00:10:31.163333 2019-06-01   \n",
      "4           5.0    656.168000 2019-06-01  00:07:21.430000 2019-06-01   \n",
      "\n",
      "           endTime  startLatitude  startLongitude  endLatitude  endLongitude  \\\n",
      "0  00:06:16.406666      36.164400       -86.78070    36.163600    -86.780200   \n",
      "1  00:07:28.286666      36.175300       -86.79430    36.175300    -86.794300   \n",
      "2         00:21:56      36.161501       -86.77601    36.152529    -86.783742   \n",
      "3  00:12:02.773333      36.164000       -86.78070    36.163100    -86.779700   \n",
      "4  00:12:30.913333      36.165000       -86.77990    36.165900    -86.777800   \n",
      "\n",
      "                                           tripRoute  \\\n",
      "0  [[36.164679,-86.781089],[36.163693,-86.78011],...   \n",
      "1  [[36.175367,-86.794232],[36.175367,-86.794232]...   \n",
      "2                [[\"36.16149\",\"-86.77605000000001\"]]   \n",
      "3                           [[36.163168,-86.779639]]   \n",
      "4  [[36.164951,-86.779836],[36.16494,-86.779456],...   \n",
      "\n",
      "                    create_dt                      start  \\\n",
      "0  2019-06-02 05:30:19.960000 2019-06-01 00:02:18.203333   \n",
      "1  2019-06-02 05:30:19.927000 2019-06-01 00:02:44.803333   \n",
      "2  2019-06-06 22:23:08.673000 2019-06-01 00:09:56.000000   \n",
      "3  2019-06-02 05:30:20.283000 2019-06-01 00:10:31.163333   \n",
      "4  2019-06-02 05:30:20.347000 2019-06-01 00:07:21.430000   \n",
      "\n",
      "                         end              totaltime     seconds  \n",
      "0 2019-06-01 00:06:16.406666 0 days 00:03:58.203333  238.203333  \n",
      "1 2019-06-01 00:07:28.286666 0 days 00:04:43.483333  283.483333  \n",
      "2 2019-06-01 00:21:56.000000        0 days 00:12:00  720.000000  \n",
      "3 2019-06-01 00:12:02.773333 0 days 00:01:31.610000   91.610000  \n",
      "4 2019-06-01 00:12:30.913333 0 days 00:05:09.483333  309.483333  \n"
     ]
    }
   ],
   "source": [
    "june_trip['seconds'] = june_trip['totaltime'].dt.total_seconds()\n",
    "print(june_trip.head())"
   ]
  },
  {
   "cell_type": "code",
   "execution_count": 23,
   "id": "22448832",
   "metadata": {},
   "outputs": [],
   "source": [
    "june_trip = june_trip.loc[june_trip['seconds'] >= 60]\n",
    "june_trip = june_trip.loc[june_trip['seconds'] <= 86400]"
   ]
  },
  {
   "cell_type": "code",
   "execution_count": 24,
   "id": "347a3e46",
   "metadata": {},
   "outputs": [],
   "source": [
    "june_trip['minutes'] = june_trip['seconds'] / 60"
   ]
  },
  {
   "cell_type": "code",
   "execution_count": 25,
   "id": "3170af2d",
   "metadata": {},
   "outputs": [],
   "source": [
    "june_trip = june_trip.loc[june_trip.tripDistance > 0.0]"
   ]
  },
  {
   "cell_type": "code",
   "execution_count": 26,
   "id": "15cc200f",
   "metadata": {},
   "outputs": [],
   "source": [
    "june_desc = june_trip.describe()\n",
    "\n",
    "low_outliers_june = june_desc.loc['25%', 'tripDistance'] - (1.5 * (june_desc.loc['75%', 'tripDistance']-june_desc.loc['25%', 'tripDistance']))\n",
    "high_outliers_june = june_desc.loc['25%', 'tripDistance'] + (1.5 * (june_desc.loc['75%', 'tripDistance']-june_desc.loc['25%', 'tripDistance']))"
   ]
  },
  {
   "cell_type": "code",
   "execution_count": 27,
   "id": "7a9de165",
   "metadata": {},
   "outputs": [
    {
     "data": {
      "text/plain": [
       "-6725.722000000001"
      ]
     },
     "execution_count": 27,
     "metadata": {},
     "output_type": "execute_result"
    }
   ],
   "source": [
    "low_outliers_june"
   ]
  },
  {
   "cell_type": "code",
   "execution_count": 28,
   "id": "edc0158d",
   "metadata": {},
   "outputs": [
    {
     "data": {
      "text/plain": [
       "10793.963600000001"
      ]
     },
     "execution_count": 28,
     "metadata": {},
     "output_type": "execute_result"
    }
   ],
   "source": [
    "high_outliers_june"
   ]
  },
  {
   "cell_type": "markdown",
   "id": "8999865b",
   "metadata": {},
   "source": [
    "We have our outliers - let's see how many there are. "
   ]
  },
  {
   "cell_type": "code",
   "execution_count": 29,
   "id": "31c04aee",
   "metadata": {
    "scrolled": false
   },
   "outputs": [],
   "source": [
    "june_trip_outliers_dist = june_trip.loc[(june_trip.tripDistance < low_outliers_june) | (june_trip.tripDistance > high_outliers_june)]"
   ]
  },
  {
   "cell_type": "code",
   "execution_count": 30,
   "id": "21e4082b",
   "metadata": {
    "scrolled": true
   },
   "outputs": [
    {
     "data": {
      "text/plain": [
       "Lime             10315\n",
       "Lyft              6643\n",
       "Bird              5822\n",
       "Bolt Mobility     2452\n",
       "SPIN               289\n",
       "JUMP               222\n",
       "Gotcha              27\n",
       "Name: companyName, dtype: int64"
      ]
     },
     "execution_count": 30,
     "metadata": {},
     "output_type": "execute_result"
    }
   ],
   "source": [
    "june_trip_outliers_dist.companyName.value_counts()"
   ]
  },
  {
   "cell_type": "code",
   "execution_count": 31,
   "id": "99c7de03",
   "metadata": {},
   "outputs": [],
   "source": [
    "low_outliers_2_june = june_desc.loc['25%', 'minutes'] - (1.5 * (june_desc.loc['75%', 'minutes']-june_desc.loc['25%', 'minutes']))\n",
    "high_outliers_2_june = june_desc.loc['25%', 'minutes'] + (1.5 * (june_desc.loc['75%', 'minutes']-june_desc.loc['25%', 'minutes']))"
   ]
  },
  {
   "cell_type": "code",
   "execution_count": 32,
   "id": "9feecd51",
   "metadata": {},
   "outputs": [
    {
     "data": {
      "text/plain": [
       "-15.004999999999997"
      ]
     },
     "execution_count": 32,
     "metadata": {},
     "output_type": "execute_result"
    }
   ],
   "source": [
    "low_outliers_2_june"
   ]
  },
  {
   "cell_type": "code",
   "execution_count": 33,
   "id": "cf310f3c",
   "metadata": {
    "scrolled": true
   },
   "outputs": [
    {
     "data": {
      "text/plain": [
       "26.805"
      ]
     },
     "execution_count": 33,
     "metadata": {},
     "output_type": "execute_result"
    }
   ],
   "source": [
    "high_outliers_2_june"
   ]
  },
  {
   "cell_type": "code",
   "execution_count": 34,
   "id": "c0b29310",
   "metadata": {},
   "outputs": [],
   "source": [
    "june_trip_outliers_time = june_trip.loc[(june_trip.minutes < low_outliers_2_june) | (june_trip.minutes > high_outliers_2_june)]"
   ]
  },
  {
   "cell_type": "code",
   "execution_count": 35,
   "id": "55936daa",
   "metadata": {
    "scrolled": false
   },
   "outputs": [
    {
     "data": {
      "text/plain": [
       "Lime             10580\n",
       "Lyft              5695\n",
       "Bird              5368\n",
       "Bolt Mobility     2706\n",
       "SPIN              2623\n",
       "JUMP               308\n",
       "Gotcha             105\n",
       "Name: companyName, dtype: int64"
      ]
     },
     "execution_count": 35,
     "metadata": {},
     "output_type": "execute_result"
    }
   ],
   "source": [
    "june_trip_outliers_time.companyName.value_counts()"
   ]
  },
  {
   "cell_type": "code",
   "execution_count": 36,
   "id": "8faf1073",
   "metadata": {},
   "outputs": [],
   "source": [
    "june_trip_adj = june_trip.loc[june_trip.tripDistance > low_outliers_june]\n",
    "june_trip_adj = june_trip_adj.loc[june_trip_adj.tripDistance < high_outliers_june]\n",
    "june_trip_adj = june_trip_adj.loc[june_trip_adj.minutes < high_outliers_2_june]\n",
    "june_trip_adj = june_trip_adj.loc[june_trip_adj.minutes > low_outliers_2_june]"
   ]
  },
  {
   "cell_type": "markdown",
   "id": "03595114",
   "metadata": {},
   "source": [
    "july time!"
   ]
  },
  {
   "cell_type": "code",
   "execution_count": 37,
   "id": "a0ca0f11",
   "metadata": {
    "scrolled": true
   },
   "outputs": [
    {
     "name": "stdout",
     "output_type": "stream",
     "text": [
      "Wall time: 6.49 s\n"
     ]
    },
    {
     "data": {
      "text/html": [
       "<div>\n",
       "<style scoped>\n",
       "    .dataframe tbody tr th:only-of-type {\n",
       "        vertical-align: middle;\n",
       "    }\n",
       "\n",
       "    .dataframe tbody tr th {\n",
       "        vertical-align: top;\n",
       "    }\n",
       "\n",
       "    .dataframe thead th {\n",
       "        text-align: right;\n",
       "    }\n",
       "</style>\n",
       "<table border=\"1\" class=\"dataframe\">\n",
       "  <thead>\n",
       "    <tr style=\"text-align: right;\">\n",
       "      <th></th>\n",
       "      <th>pubTimeStamp</th>\n",
       "      <th>companyName</th>\n",
       "      <th>tripRecordNum</th>\n",
       "      <th>sumdID</th>\n",
       "      <th>tripDuration</th>\n",
       "      <th>tripDistance</th>\n",
       "      <th>startDate</th>\n",
       "      <th>startTime</th>\n",
       "      <th>endDate</th>\n",
       "      <th>endTime</th>\n",
       "      <th>startLatitude</th>\n",
       "      <th>startLongitude</th>\n",
       "      <th>endLatitude</th>\n",
       "      <th>endLongitude</th>\n",
       "      <th>tripRoute</th>\n",
       "      <th>create_dt</th>\n",
       "    </tr>\n",
       "  </thead>\n",
       "  <tbody>\n",
       "    <tr>\n",
       "      <th>0</th>\n",
       "      <td>2019-07-01 00:02:52.213000</td>\n",
       "      <td>Bird</td>\n",
       "      <td>BRD5179</td>\n",
       "      <td>PoweredZSHKJ</td>\n",
       "      <td>2.0</td>\n",
       "      <td>0.0</td>\n",
       "      <td>2019-07-01 00:00:00</td>\n",
       "      <td>00:01:32.290000</td>\n",
       "      <td>2019-07-01 00:00:00</td>\n",
       "      <td>00:03:55.966666</td>\n",
       "      <td>36.1775</td>\n",
       "      <td>-86.7516</td>\n",
       "      <td>36.1778</td>\n",
       "      <td>-86.7514</td>\n",
       "      <td>[[36.177438,-86.751861],[36.177425,-86.751987]...</td>\n",
       "      <td>2019-07-02 05:30:18.333000</td>\n",
       "    </tr>\n",
       "    <tr>\n",
       "      <th>1</th>\n",
       "      <td>2019-07-01 00:02:52.213000</td>\n",
       "      <td>Bird</td>\n",
       "      <td>BRD5177</td>\n",
       "      <td>Powered22JF6</td>\n",
       "      <td>0.0</td>\n",
       "      <td>0.0</td>\n",
       "      <td>2019-07-01 00:00:00</td>\n",
       "      <td>00:02:38.640000</td>\n",
       "      <td>2019-07-01 00:00:00</td>\n",
       "      <td>00:02:54.406666</td>\n",
       "      <td>36.1627</td>\n",
       "      <td>-86.7711</td>\n",
       "      <td>36.1627</td>\n",
       "      <td>-86.7711</td>\n",
       "      <td>[[36.162718,-86.771102],[36.162718,-86.771102]]</td>\n",
       "      <td>2019-07-02 05:30:18.273000</td>\n",
       "    </tr>\n",
       "    <tr>\n",
       "      <th>2</th>\n",
       "      <td>2019-07-01 00:02:52.213000</td>\n",
       "      <td>Bird</td>\n",
       "      <td>BRD5176</td>\n",
       "      <td>Powered22JF6</td>\n",
       "      <td>1.0</td>\n",
       "      <td>0.0</td>\n",
       "      <td>2019-07-01 00:00:00</td>\n",
       "      <td>00:03:04.333333</td>\n",
       "      <td>2019-07-01 00:00:00</td>\n",
       "      <td>00:03:37.680000</td>\n",
       "      <td>36.1627</td>\n",
       "      <td>-86.7713</td>\n",
       "      <td>36.1627</td>\n",
       "      <td>-86.7713</td>\n",
       "      <td>[[36.162734,-86.77122],[36.162706,-86.771325],...</td>\n",
       "      <td>2019-07-02 05:30:18.243000</td>\n",
       "    </tr>\n",
       "    <tr>\n",
       "      <th>3</th>\n",
       "      <td>2019-07-01 00:02:52.213000</td>\n",
       "      <td>Bird</td>\n",
       "      <td>BRD5178</td>\n",
       "      <td>PoweredIB2CC</td>\n",
       "      <td>1.0</td>\n",
       "      <td>0.0</td>\n",
       "      <td>2019-07-01 00:00:00</td>\n",
       "      <td>00:02:06.963333</td>\n",
       "      <td>2019-07-01 00:00:00</td>\n",
       "      <td>00:03:25.766666</td>\n",
       "      <td>36.1525</td>\n",
       "      <td>-86.7988</td>\n",
       "      <td>36.1525</td>\n",
       "      <td>-86.7988</td>\n",
       "      <td>[[36.152499,-86.798708]]</td>\n",
       "      <td>2019-07-02 05:30:18.303000</td>\n",
       "    </tr>\n",
       "    <tr>\n",
       "      <th>4</th>\n",
       "      <td>2019-07-01 00:02:52.213000</td>\n",
       "      <td>Bird</td>\n",
       "      <td>BRD5180</td>\n",
       "      <td>PoweredW4G7R</td>\n",
       "      <td>2.0</td>\n",
       "      <td>0.0</td>\n",
       "      <td>2019-07-01 00:00:00</td>\n",
       "      <td>00:01:19.843333</td>\n",
       "      <td>2019-07-01 00:00:00</td>\n",
       "      <td>00:02:53.976666</td>\n",
       "      <td>36.1578</td>\n",
       "      <td>-86.7760</td>\n",
       "      <td>36.1575</td>\n",
       "      <td>-86.7758</td>\n",
       "      <td>[[36.157523,-86.775794]]</td>\n",
       "      <td>2019-07-02 05:30:18.363000</td>\n",
       "    </tr>\n",
       "  </tbody>\n",
       "</table>\n",
       "</div>"
      ],
      "text/plain": [
       "                 pubTimeStamp companyName tripRecordNum        sumdID  \\\n",
       "0  2019-07-01 00:02:52.213000        Bird       BRD5179  PoweredZSHKJ   \n",
       "1  2019-07-01 00:02:52.213000        Bird       BRD5177  Powered22JF6   \n",
       "2  2019-07-01 00:02:52.213000        Bird       BRD5176  Powered22JF6   \n",
       "3  2019-07-01 00:02:52.213000        Bird       BRD5178  PoweredIB2CC   \n",
       "4  2019-07-01 00:02:52.213000        Bird       BRD5180  PoweredW4G7R   \n",
       "\n",
       "   tripDuration  tripDistance            startDate        startTime  \\\n",
       "0           2.0           0.0  2019-07-01 00:00:00  00:01:32.290000   \n",
       "1           0.0           0.0  2019-07-01 00:00:00  00:02:38.640000   \n",
       "2           1.0           0.0  2019-07-01 00:00:00  00:03:04.333333   \n",
       "3           1.0           0.0  2019-07-01 00:00:00  00:02:06.963333   \n",
       "4           2.0           0.0  2019-07-01 00:00:00  00:01:19.843333   \n",
       "\n",
       "               endDate          endTime  startLatitude  startLongitude  \\\n",
       "0  2019-07-01 00:00:00  00:03:55.966666        36.1775        -86.7516   \n",
       "1  2019-07-01 00:00:00  00:02:54.406666        36.1627        -86.7711   \n",
       "2  2019-07-01 00:00:00  00:03:37.680000        36.1627        -86.7713   \n",
       "3  2019-07-01 00:00:00  00:03:25.766666        36.1525        -86.7988   \n",
       "4  2019-07-01 00:00:00  00:02:53.976666        36.1578        -86.7760   \n",
       "\n",
       "   endLatitude  endLongitude  \\\n",
       "0      36.1778      -86.7514   \n",
       "1      36.1627      -86.7711   \n",
       "2      36.1627      -86.7713   \n",
       "3      36.1525      -86.7988   \n",
       "4      36.1575      -86.7758   \n",
       "\n",
       "                                           tripRoute  \\\n",
       "0  [[36.177438,-86.751861],[36.177425,-86.751987]...   \n",
       "1    [[36.162718,-86.771102],[36.162718,-86.771102]]   \n",
       "2  [[36.162734,-86.77122],[36.162706,-86.771325],...   \n",
       "3                           [[36.152499,-86.798708]]   \n",
       "4                           [[36.157523,-86.775794]]   \n",
       "\n",
       "                    create_dt  \n",
       "0  2019-07-02 05:30:18.333000  \n",
       "1  2019-07-02 05:30:18.273000  \n",
       "2  2019-07-02 05:30:18.243000  \n",
       "3  2019-07-02 05:30:18.303000  \n",
       "4  2019-07-02 05:30:18.363000  "
      ]
     },
     "execution_count": 37,
     "metadata": {},
     "output_type": "execute_result"
    }
   ],
   "source": [
    "%%time\n",
    "july_trip = pd.read_csv('../data/july_trip.csv')\n",
    "july_trip.head()"
   ]
  },
  {
   "cell_type": "code",
   "execution_count": 38,
   "id": "6c4c5e2d",
   "metadata": {},
   "outputs": [
    {
     "name": "stderr",
     "output_type": "stream",
     "text": [
      "C:\\Users\\chris\\AppData\\Local\\Temp/ipykernel_11700/1084612728.py:13: FutureWarning: The pandas.datetime class is deprecated and will be removed from pandas in a future version. Import from datetime module instead.\n",
      "  july_trip['start'] = july_trip.apply(lambda r : pd.datetime.combine(r['startDate'],r['startTime']),1)\n",
      "C:\\Users\\chris\\AppData\\Local\\Temp/ipykernel_11700/1084612728.py:14: FutureWarning: The pandas.datetime class is deprecated and will be removed from pandas in a future version. Import from datetime module instead.\n",
      "  july_trip['end'] = july_trip.apply(lambda r : pd.datetime.combine(r['endDate'],r['endTime']),1)\n"
     ]
    }
   ],
   "source": [
    "july_trip.startTime = pd.to_datetime(july_trip.startTime)\n",
    "july_trip.endTime = pd.to_datetime(july_trip.endTime)\n",
    "\n",
    "no_start_date_july = july_trip['startTime'].apply( lambda d : d.time() )\n",
    "no_end_date_july = july_trip['endTime'].apply( lambda d : d.time() )\n",
    "\n",
    "july_trip['startTime'] = no_start_date_july\n",
    "july_trip['endTime'] = no_end_date_july\n",
    "\n",
    "july_trip.startDate = pd.to_datetime(july_trip.startDate)\n",
    "july_trip.endDate = pd.to_datetime(july_trip.endDate)\n",
    "\n",
    "july_trip['start'] = july_trip.apply(lambda r : pd.datetime.combine(r['startDate'],r['startTime']),1)\n",
    "july_trip['end'] = july_trip.apply(lambda r : pd.datetime.combine(r['endDate'],r['endTime']),1)\n",
    "july_trip['totaltime'] = july_trip['end'] - july_trip['start']"
   ]
  },
  {
   "cell_type": "code",
   "execution_count": 39,
   "id": "203d3a25",
   "metadata": {},
   "outputs": [
    {
     "name": "stdout",
     "output_type": "stream",
     "text": [
      "                 pubTimeStamp companyName tripRecordNum        sumdID  \\\n",
      "0  2019-07-01 00:02:52.213000        Bird       BRD5179  PoweredZSHKJ   \n",
      "1  2019-07-01 00:02:52.213000        Bird       BRD5177  Powered22JF6   \n",
      "2  2019-07-01 00:02:52.213000        Bird       BRD5176  Powered22JF6   \n",
      "3  2019-07-01 00:02:52.213000        Bird       BRD5178  PoweredIB2CC   \n",
      "4  2019-07-01 00:02:52.213000        Bird       BRD5180  PoweredW4G7R   \n",
      "\n",
      "   tripDuration  tripDistance  startDate        startTime    endDate  \\\n",
      "0           2.0           0.0 2019-07-01  00:01:32.290000 2019-07-01   \n",
      "1           0.0           0.0 2019-07-01  00:02:38.640000 2019-07-01   \n",
      "2           1.0           0.0 2019-07-01  00:03:04.333333 2019-07-01   \n",
      "3           1.0           0.0 2019-07-01  00:02:06.963333 2019-07-01   \n",
      "4           2.0           0.0 2019-07-01  00:01:19.843333 2019-07-01   \n",
      "\n",
      "           endTime  startLatitude  startLongitude  endLatitude  endLongitude  \\\n",
      "0  00:03:55.966666        36.1775        -86.7516      36.1778      -86.7514   \n",
      "1  00:02:54.406666        36.1627        -86.7711      36.1627      -86.7711   \n",
      "2  00:03:37.680000        36.1627        -86.7713      36.1627      -86.7713   \n",
      "3  00:03:25.766666        36.1525        -86.7988      36.1525      -86.7988   \n",
      "4  00:02:53.976666        36.1578        -86.7760      36.1575      -86.7758   \n",
      "\n",
      "                                           tripRoute  \\\n",
      "0  [[36.177438,-86.751861],[36.177425,-86.751987]...   \n",
      "1    [[36.162718,-86.771102],[36.162718,-86.771102]]   \n",
      "2  [[36.162734,-86.77122],[36.162706,-86.771325],...   \n",
      "3                           [[36.152499,-86.798708]]   \n",
      "4                           [[36.157523,-86.775794]]   \n",
      "\n",
      "                    create_dt                      start  \\\n",
      "0  2019-07-02 05:30:18.333000 2019-07-01 00:01:32.290000   \n",
      "1  2019-07-02 05:30:18.273000 2019-07-01 00:02:38.640000   \n",
      "2  2019-07-02 05:30:18.243000 2019-07-01 00:03:04.333333   \n",
      "3  2019-07-02 05:30:18.303000 2019-07-01 00:02:06.963333   \n",
      "4  2019-07-02 05:30:18.363000 2019-07-01 00:01:19.843333   \n",
      "\n",
      "                         end              totaltime     seconds  \n",
      "0 2019-07-01 00:03:55.966666 0 days 00:02:23.676666  143.676666  \n",
      "1 2019-07-01 00:02:54.406666 0 days 00:00:15.766666   15.766666  \n",
      "2 2019-07-01 00:03:37.680000 0 days 00:00:33.346667   33.346667  \n",
      "3 2019-07-01 00:03:25.766666 0 days 00:01:18.803333   78.803333  \n",
      "4 2019-07-01 00:02:53.976666 0 days 00:01:34.133333   94.133333  \n"
     ]
    }
   ],
   "source": [
    "july_trip['seconds'] = july_trip['totaltime'].dt.total_seconds()\n",
    "print(july_trip.head())"
   ]
  },
  {
   "cell_type": "code",
   "execution_count": 40,
   "id": "0c679f4a",
   "metadata": {},
   "outputs": [],
   "source": [
    "july_trip = july_trip.loc[july_trip['seconds'] >= 60]\n",
    "july_trip = july_trip.loc[july_trip['seconds'] <= 86400]"
   ]
  },
  {
   "cell_type": "code",
   "execution_count": 41,
   "id": "914343ec",
   "metadata": {},
   "outputs": [],
   "source": [
    "july_trip['minutes'] = july_trip['seconds'] / 60"
   ]
  },
  {
   "cell_type": "code",
   "execution_count": 42,
   "id": "98b4f15e",
   "metadata": {},
   "outputs": [],
   "source": [
    "july_trip = july_trip.loc[july_trip.tripDistance > 0.0]"
   ]
  },
  {
   "cell_type": "code",
   "execution_count": 43,
   "id": "f9b59ffb",
   "metadata": {},
   "outputs": [],
   "source": [
    "july_desc = july_trip.describe()\n",
    "\n",
    "low_outliers_july = july_desc.loc['25%', 'tripDistance'] - (1.5 * (july_desc.loc['75%', 'tripDistance']-july_desc.loc['25%', 'tripDistance']))\n",
    "high_outliers_july = july_desc.loc['25%', 'tripDistance'] + (1.5 * (july_desc.loc['75%', 'tripDistance']-july_desc.loc['25%', 'tripDistance']))"
   ]
  },
  {
   "cell_type": "code",
   "execution_count": 44,
   "id": "69da90cf",
   "metadata": {},
   "outputs": [
    {
     "data": {
      "text/plain": [
       "-7333.440506877126"
      ]
     },
     "execution_count": 44,
     "metadata": {},
     "output_type": "execute_result"
    }
   ],
   "source": [
    "low_outliers_july"
   ]
  },
  {
   "cell_type": "code",
   "execution_count": 45,
   "id": "edc0158d",
   "metadata": {},
   "outputs": [
    {
     "data": {
      "text/plain": [
       "11414.208101375425"
      ]
     },
     "execution_count": 45,
     "metadata": {},
     "output_type": "execute_result"
    }
   ],
   "source": [
    "high_outliers_july"
   ]
  },
  {
   "cell_type": "markdown",
   "id": "8999865b",
   "metadata": {},
   "source": [
    "We have our outliers - let's see how many there are. "
   ]
  },
  {
   "cell_type": "code",
   "execution_count": 46,
   "id": "31c04aee",
   "metadata": {
    "scrolled": false
   },
   "outputs": [],
   "source": [
    "july_trip_outliers_dist = july_trip.loc[(july_trip.tripDistance < low_outliers_july) | (july_trip.tripDistance > high_outliers_july)]"
   ]
  },
  {
   "cell_type": "code",
   "execution_count": 47,
   "id": "21e4082b",
   "metadata": {
    "scrolled": true
   },
   "outputs": [
    {
     "data": {
      "text/plain": [
       "Lime             5273\n",
       "Lyft             4592\n",
       "Bird             4008\n",
       "Bolt Mobility    1739\n",
       "JUMP              510\n",
       "SPIN              139\n",
       "Gotcha             15\n",
       "Name: companyName, dtype: int64"
      ]
     },
     "execution_count": 47,
     "metadata": {},
     "output_type": "execute_result"
    }
   ],
   "source": [
    "july_trip_outliers_dist.companyName.value_counts()"
   ]
  },
  {
   "cell_type": "code",
   "execution_count": 48,
   "id": "99c7de03",
   "metadata": {},
   "outputs": [],
   "source": [
    "low_outliers_2_july = july_desc.loc['25%', 'minutes'] - (1.5 * (july_desc.loc['75%', 'minutes']-july_desc.loc['25%', 'minutes']))\n",
    "high_outliers_2_july = july_desc.loc['25%', 'minutes'] + (1.5 * (july_desc.loc['75%', 'minutes']-july_desc.loc['25%', 'minutes']))"
   ]
  },
  {
   "cell_type": "code",
   "execution_count": 49,
   "id": "9feecd51",
   "metadata": {},
   "outputs": [
    {
     "data": {
      "text/plain": [
       "-17.91666666666667"
      ]
     },
     "execution_count": 49,
     "metadata": {},
     "output_type": "execute_result"
    }
   ],
   "source": [
    "low_outliers_2_july"
   ]
  },
  {
   "cell_type": "code",
   "execution_count": 50,
   "id": "cf310f3c",
   "metadata": {
    "scrolled": true
   },
   "outputs": [
    {
     "data": {
      "text/plain": [
       "30.183333333333337"
      ]
     },
     "execution_count": 50,
     "metadata": {},
     "output_type": "execute_result"
    }
   ],
   "source": [
    "high_outliers_2_july"
   ]
  },
  {
   "cell_type": "code",
   "execution_count": 51,
   "id": "c0b29310",
   "metadata": {},
   "outputs": [],
   "source": [
    "july_trip_outliers_time = july_trip.loc[(july_trip.minutes < low_outliers_2_july) | (july_trip.minutes > high_outliers_2_july)]"
   ]
  },
  {
   "cell_type": "code",
   "execution_count": 52,
   "id": "55936daa",
   "metadata": {
    "scrolled": false
   },
   "outputs": [
    {
     "data": {
      "text/plain": [
       "Lime             4419\n",
       "Lyft             3766\n",
       "Bird             3638\n",
       "SPIN             2014\n",
       "Bolt Mobility    1834\n",
       "JUMP              771\n",
       "Gotcha             43\n",
       "Name: companyName, dtype: int64"
      ]
     },
     "execution_count": 52,
     "metadata": {},
     "output_type": "execute_result"
    }
   ],
   "source": [
    "july_trip_outliers_time.companyName.value_counts()"
   ]
  },
  {
   "cell_type": "code",
   "execution_count": 53,
   "id": "8faf1073",
   "metadata": {},
   "outputs": [],
   "source": [
    "july_trip_adj = july_trip.loc[july_trip.tripDistance > low_outliers_july]\n",
    "july_trip_adj = july_trip_adj.loc[july_trip_adj.tripDistance < high_outliers_july]\n",
    "july_trip_adj = july_trip_adj.loc[july_trip_adj.minutes < high_outliers_2_july]\n",
    "july_trip_adj = july_trip_adj.loc[july_trip_adj.minutes > low_outliers_2_july]"
   ]
  },
  {
   "cell_type": "code",
   "execution_count": 54,
   "id": "c1119eea",
   "metadata": {},
   "outputs": [
    {
     "data": {
      "text/plain": [
       "Text(0, 0.5, 'Count of Trips')"
      ]
     },
     "execution_count": 54,
     "metadata": {},
     "output_type": "execute_result"
    },
    {
     "data": {
      "image/png": "[encoded data removed]",
      "text/plain": [
       "<Figure size 432x288 with 1 Axes>"
      ]
     },
     "metadata": {
      "needs_background": "light"
     },
     "output_type": "display_data"
    }
   ],
   "source": [
    "plt.hist(may_trip_adj.minutes, bins = 100)\n",
    "plt.xticks(rotation=50)\n",
    "plt.title('Duration Distribution')\n",
    "plt.xlabel('Minutes')\n",
    "plt.ylabel('Count of Trips')"
   ]
  },
  {
   "cell_type": "code",
   "execution_count": 55,
   "id": "dcf8ef0d",
   "metadata": {},
   "outputs": [
    {
     "data": {
      "text/plain": [
       "Text(0, 0.5, 'Count of Trips')"
      ]
     },
     "execution_count": 55,
     "metadata": {},
     "output_type": "execute_result"
    },
    {
     "data": {
      "image/png": "[encoded data removed]",
      "text/plain": [
       "<Figure size 432x288 with 1 Axes>"
      ]
     },
     "metadata": {
      "needs_background": "light"
     },
     "output_type": "display_data"
    }
   ],
   "source": [
    "plt.hist(may_trip_adj.tripDistance)\n",
    "plt.xticks(rotation=50)\n",
    "plt.title('Distance Distribution')\n",
    "plt.xlabel('Feet')\n",
    "plt.ylabel('Count of Trips')"
   ]
  },
  {
   "cell_type": "code",
   "execution_count": 56,
   "id": "dc5b806a",
   "metadata": {},
   "outputs": [
    {
     "data": {
      "text/plain": [
       "Text(0.5, 1.0, 'Duration v. Distance')"
      ]
     },
     "execution_count": 56,
     "metadata": {},
     "output_type": "execute_result"
    },
    {
     "data": {
      "image/png": "[encoded data removed]",
      "text/plain": [
       "<Figure size 432x288 with 1 Axes>"
      ]
     },
     "metadata": {
      "needs_background": "light"
     },
     "output_type": "display_data"
    }
   ],
   "source": [
    "plt.scatter('minutes', 'tripDistance', data = may_trip, s=2)\n",
    "ax = plt.gca()\n",
    "ax.set_ylim([0, 50000])\n",
    "ax.set_xlim([0, 40])\n",
    "plt.xlabel('Duration in Minutes')\n",
    "plt.ylabel('Distance in Feet')\n",
    "plt.title('Duration v. Distance')"
   ]
  },
  {
   "cell_type": "code",
   "execution_count": 57,
   "id": "01743b47",
   "metadata": {},
   "outputs": [
    {
     "data": {
      "text/plain": [
       "Text(0, 0.5, 'Count of Trips')"
      ]
     },
     "execution_count": 57,
     "metadata": {},
     "output_type": "execute_result"
    },
    {
     "data": {
      "image/png": "[encoded data removed]",
      "text/plain": [
       "<Figure size 432x288 with 1 Axes>"
      ]
     },
     "metadata": {
      "needs_background": "light"
     },
     "output_type": "display_data"
    }
   ],
   "source": [
    "plt.hist(june_trip_adj.minutes, bins = 100)\n",
    "plt.xticks(rotation=50)\n",
    "plt.title('Duration Distribution')\n",
    "plt.xlabel('Minutes')\n",
    "plt.ylabel('Count of Trips')"
   ]
  },
  {
   "cell_type": "code",
   "execution_count": 58,
   "id": "ccee951d",
   "metadata": {},
   "outputs": [
    {
     "data": {
      "text/plain": [
       "Text(0, 0.5, 'Count of Trips')"
      ]
     },
     "execution_count": 58,
     "metadata": {},
     "output_type": "execute_result"
    },
    {
     "data": {
      "image/png": "[encoded data removed]",
      "text/plain": [
       "<Figure size 432x288 with 1 Axes>"
      ]
     },
     "metadata": {
      "needs_background": "light"
     },
     "output_type": "display_data"
    }
   ],
   "source": [
    "plt.hist(june_trip_adj.tripDistance)\n",
    "plt.xticks(rotation=50)\n",
    "plt.title('Distance Distribution')\n",
    "plt.xlabel('Feet')\n",
    "plt.ylabel('Count of Trips')"
   ]
  },
  {
   "cell_type": "code",
   "execution_count": 59,
   "id": "081e6da0",
   "metadata": {},
   "outputs": [
    {
     "data": {
      "text/plain": [
       "Text(0.5, 1.0, 'Duration v. Distance')"
      ]
     },
     "execution_count": 59,
     "metadata": {},
     "output_type": "execute_result"
    },
    {
     "data": {
      "image/png": "[encoded data removed]",
      "text/plain": [
       "<Figure size 432x288 with 1 Axes>"
      ]
     },
     "metadata": {
      "needs_background": "light"
     },
     "output_type": "display_data"
    }
   ],
   "source": [
    "plt.scatter('minutes', 'tripDistance', data = june_trip, s=2)\n",
    "ax = plt.gca()\n",
    "ax.set_ylim([0, 50000])\n",
    "ax.set_xlim([0, 40])\n",
    "plt.xlabel('Duration in Minutes')\n",
    "plt.ylabel('Distance in Feet')\n",
    "plt.title('Duration v. Distance')"
   ]
  },
  {
   "cell_type": "code",
   "execution_count": 60,
   "id": "f2aa365d",
   "metadata": {},
   "outputs": [
    {
     "data": {
      "text/plain": [
       "Text(0, 0.5, 'Count of Trips')"
      ]
     },
     "execution_count": 60,
     "metadata": {},
     "output_type": "execute_result"
    },
    {
     "data": {
      "image/png": "[encoded data removed]",
      "text/plain": [
       "<Figure size 432x288 with 1 Axes>"
      ]
     },
     "metadata": {
      "needs_background": "light"
     },
     "output_type": "display_data"
    }
   ],
   "source": [
    "plt.hist(july_trip_adj.minutes, bins = 100)\n",
    "plt.xticks(rotation=50)\n",
    "plt.title('Duration Distribution')\n",
    "plt.xlabel('Minutes')\n",
    "plt.ylabel('Count of Trips')"
   ]
  },
  {
   "cell_type": "code",
   "execution_count": 61,
   "id": "f35a7e74",
   "metadata": {},
   "outputs": [
    {
     "data": {
      "text/plain": [
       "Text(0, 0.5, 'Count of Trips')"
      ]
     },
     "execution_count": 61,
     "metadata": {},
     "output_type": "execute_result"
    },
    {
     "data": {
      "image/png": "[encoded data removed]",
      "text/plain": [
       "<Figure size 432x288 with 1 Axes>"
      ]
     },
     "metadata": {
      "needs_background": "light"
     },
     "output_type": "display_data"
    }
   ],
   "source": [
    "plt.hist(july_trip_adj.tripDistance)\n",
    "plt.xticks(rotation=50)\n",
    "plt.title('Distance Distribution')\n",
    "plt.xlabel('Feet')\n",
    "plt.ylabel('Count of Trips')"
   ]
  },
  {
   "cell_type": "code",
   "execution_count": 62,
   "id": "7b5d1d1a",
   "metadata": {
    "scrolled": false
   },
   "outputs": [
    {
     "data": {
      "text/plain": [
       "Text(0.5, 1.0, 'Duration v. Distance')"
      ]
     },
     "execution_count": 62,
     "metadata": {},
     "output_type": "execute_result"
    },
    {
     "data": {
      "image/png": "[encoded data removed]",
      "text/plain": [
       "<Figure size 432x288 with 1 Axes>"
      ]
     },
     "metadata": {
      "needs_background": "light"
     },
     "output_type": "display_data"
    }
   ],
   "source": [
    "plt.scatter('minutes', 'tripDistance', data = july_trip, s=2)\n",
    "ax = plt.gca()\n",
    "ax.set_ylim([0, 50000])\n",
    "ax.set_xlim([0, 40])\n",
    "plt.xlabel('Duration in Minutes')\n",
    "plt.ylabel('Distance in Feet')\n",
    "plt.title('Duration v. Distance')"
   ]
  },
  {
   "cell_type": "code",
   "execution_count": 63,
   "id": "3dc8c2e1",
   "metadata": {
    "scrolled": true
   },
   "outputs": [
    {
     "data": {
      "text/html": [
       "<div>\n",
       "<style scoped>\n",
       "    .dataframe tbody tr th:only-of-type {\n",
       "        vertical-align: middle;\n",
       "    }\n",
       "\n",
       "    .dataframe tbody tr th {\n",
       "        vertical-align: top;\n",
       "    }\n",
       "\n",
       "    .dataframe thead th {\n",
       "        text-align: right;\n",
       "    }\n",
       "</style>\n",
       "<table border=\"1\" class=\"dataframe\">\n",
       "  <thead>\n",
       "    <tr style=\"text-align: right;\">\n",
       "      <th></th>\n",
       "      <th>tripDuration</th>\n",
       "      <th>tripDistance</th>\n",
       "      <th>startLatitude</th>\n",
       "      <th>startLongitude</th>\n",
       "      <th>endLatitude</th>\n",
       "      <th>endLongitude</th>\n",
       "      <th>totaltime</th>\n",
       "      <th>seconds</th>\n",
       "      <th>minutes</th>\n",
       "    </tr>\n",
       "  </thead>\n",
       "  <tbody>\n",
       "    <tr>\n",
       "      <th>count</th>\n",
       "      <td>156320.000000</td>\n",
       "      <td>156320.000000</td>\n",
       "      <td>156320.000000</td>\n",
       "      <td>156320.000000</td>\n",
       "      <td>156320.000000</td>\n",
       "      <td>156320.000000</td>\n",
       "      <td>156320</td>\n",
       "      <td>156320.000000</td>\n",
       "      <td>156320.000000</td>\n",
       "    </tr>\n",
       "    <tr>\n",
       "      <th>mean</th>\n",
       "      <td>22.524736</td>\n",
       "      <td>2336.396540</td>\n",
       "      <td>36.154780</td>\n",
       "      <td>-86.784007</td>\n",
       "      <td>36.155179</td>\n",
       "      <td>-86.784119</td>\n",
       "      <td>0 days 00:09:41.114500257</td>\n",
       "      <td>581.114500</td>\n",
       "      <td>9.685242</td>\n",
       "    </tr>\n",
       "    <tr>\n",
       "      <th>std</th>\n",
       "      <td>102.663723</td>\n",
       "      <td>2346.099949</td>\n",
       "      <td>0.013520</td>\n",
       "      <td>0.013331</td>\n",
       "      <td>0.019613</td>\n",
       "      <td>0.081653</td>\n",
       "      <td>0 days 00:05:59.525777402</td>\n",
       "      <td>359.525777</td>\n",
       "      <td>5.992096</td>\n",
       "    </tr>\n",
       "    <tr>\n",
       "      <th>min</th>\n",
       "      <td>1.000000</td>\n",
       "      <td>0.083756</td>\n",
       "      <td>36.044707</td>\n",
       "      <td>-86.918008</td>\n",
       "      <td>32.775953</td>\n",
       "      <td>-117.076117</td>\n",
       "      <td>0 days 00:01:00</td>\n",
       "      <td>60.000000</td>\n",
       "      <td>1.000000</td>\n",
       "    </tr>\n",
       "    <tr>\n",
       "      <th>25%</th>\n",
       "      <td>5.000000</td>\n",
       "      <td>389.229600</td>\n",
       "      <td>36.149850</td>\n",
       "      <td>-86.791213</td>\n",
       "      <td>36.150100</td>\n",
       "      <td>-86.791131</td>\n",
       "      <td>0 days 00:04:59</td>\n",
       "      <td>299.000000</td>\n",
       "      <td>4.983333</td>\n",
       "    </tr>\n",
       "    <tr>\n",
       "      <th>50%</th>\n",
       "      <td>8.366667</td>\n",
       "      <td>1321.308000</td>\n",
       "      <td>36.156700</td>\n",
       "      <td>-86.781473</td>\n",
       "      <td>36.156980</td>\n",
       "      <td>-86.781495</td>\n",
       "      <td>0 days 00:08:15.278333</td>\n",
       "      <td>495.278333</td>\n",
       "      <td>8.254639</td>\n",
       "    </tr>\n",
       "    <tr>\n",
       "      <th>75%</th>\n",
       "      <td>13.633333</td>\n",
       "      <td>3887.748000</td>\n",
       "      <td>36.162592</td>\n",
       "      <td>-86.776290</td>\n",
       "      <td>36.162530</td>\n",
       "      <td>-86.776370</td>\n",
       "      <td>0 days 00:13:11.849999500</td>\n",
       "      <td>791.849999</td>\n",
       "      <td>13.197500</td>\n",
       "    </tr>\n",
       "    <tr>\n",
       "      <th>max</th>\n",
       "      <td>1643.000000</td>\n",
       "      <td>8759.840000</td>\n",
       "      <td>36.293024</td>\n",
       "      <td>-86.608901</td>\n",
       "      <td>39.768425</td>\n",
       "      <td>-77.021907</td>\n",
       "      <td>0 days 00:27:31.600000</td>\n",
       "      <td>1651.600000</td>\n",
       "      <td>27.526667</td>\n",
       "    </tr>\n",
       "  </tbody>\n",
       "</table>\n",
       "</div>"
      ],
      "text/plain": [
       "        tripDuration   tripDistance  startLatitude  startLongitude  \\\n",
       "count  156320.000000  156320.000000  156320.000000   156320.000000   \n",
       "mean       22.524736    2336.396540      36.154780      -86.784007   \n",
       "std       102.663723    2346.099949       0.013520        0.013331   \n",
       "min         1.000000       0.083756      36.044707      -86.918008   \n",
       "25%         5.000000     389.229600      36.149850      -86.791213   \n",
       "50%         8.366667    1321.308000      36.156700      -86.781473   \n",
       "75%        13.633333    3887.748000      36.162592      -86.776290   \n",
       "max      1643.000000    8759.840000      36.293024      -86.608901   \n",
       "\n",
       "         endLatitude   endLongitude                  totaltime        seconds  \\\n",
       "count  156320.000000  156320.000000                     156320  156320.000000   \n",
       "mean       36.155179     -86.784119  0 days 00:09:41.114500257     581.114500   \n",
       "std         0.019613       0.081653  0 days 00:05:59.525777402     359.525777   \n",
       "min        32.775953    -117.076117            0 days 00:01:00      60.000000   \n",
       "25%        36.150100     -86.791131            0 days 00:04:59     299.000000   \n",
       "50%        36.156980     -86.781495     0 days 00:08:15.278333     495.278333   \n",
       "75%        36.162530     -86.776370  0 days 00:13:11.849999500     791.849999   \n",
       "max        39.768425     -77.021907     0 days 00:27:31.600000    1651.600000   \n",
       "\n",
       "             minutes  \n",
       "count  156320.000000  \n",
       "mean        9.685242  \n",
       "std         5.992096  \n",
       "min         1.000000  \n",
       "25%         4.983333  \n",
       "50%         8.254639  \n",
       "75%        13.197500  \n",
       "max        27.526667  "
      ]
     },
     "execution_count": 63,
     "metadata": {},
     "output_type": "execute_result"
    }
   ],
   "source": [
    "may_trip_adj.describe()"
   ]
  },
  {
   "cell_type": "code",
   "execution_count": 64,
   "id": "ee483d71",
   "metadata": {
    "scrolled": true
   },
   "outputs": [
    {
     "data": {
      "text/html": [
       "<div>\n",
       "<style scoped>\n",
       "    .dataframe tbody tr th:only-of-type {\n",
       "        vertical-align: middle;\n",
       "    }\n",
       "\n",
       "    .dataframe tbody tr th {\n",
       "        vertical-align: top;\n",
       "    }\n",
       "\n",
       "    .dataframe thead th {\n",
       "        text-align: right;\n",
       "    }\n",
       "</style>\n",
       "<table border=\"1\" class=\"dataframe\">\n",
       "  <thead>\n",
       "    <tr style=\"text-align: right;\">\n",
       "      <th></th>\n",
       "      <th>tripDuration</th>\n",
       "      <th>tripDistance</th>\n",
       "      <th>startLatitude</th>\n",
       "      <th>startLongitude</th>\n",
       "      <th>endLatitude</th>\n",
       "      <th>endLongitude</th>\n",
       "      <th>totaltime</th>\n",
       "      <th>seconds</th>\n",
       "      <th>minutes</th>\n",
       "    </tr>\n",
       "  </thead>\n",
       "  <tbody>\n",
       "    <tr>\n",
       "      <th>count</th>\n",
       "      <td>136802.000000</td>\n",
       "      <td>136802.000000</td>\n",
       "      <td>136802.000000</td>\n",
       "      <td>136802.000000</td>\n",
       "      <td>136802.000000</td>\n",
       "      <td>136802.000000</td>\n",
       "      <td>136802</td>\n",
       "      <td>136802.000000</td>\n",
       "      <td>136802.000000</td>\n",
       "    </tr>\n",
       "    <tr>\n",
       "      <th>mean</th>\n",
       "      <td>42.539503</td>\n",
       "      <td>3856.639174</td>\n",
       "      <td>36.156246</td>\n",
       "      <td>-86.784343</td>\n",
       "      <td>36.155957</td>\n",
       "      <td>-86.783951</td>\n",
       "      <td>0 days 00:09:48.669298061</td>\n",
       "      <td>588.669298</td>\n",
       "      <td>9.811155</td>\n",
       "    </tr>\n",
       "    <tr>\n",
       "      <th>std</th>\n",
       "      <td>166.496255</td>\n",
       "      <td>2670.400859</td>\n",
       "      <td>0.012018</td>\n",
       "      <td>0.013327</td>\n",
       "      <td>0.203100</td>\n",
       "      <td>0.737427</td>\n",
       "      <td>0 days 00:05:58.904387877</td>\n",
       "      <td>358.904388</td>\n",
       "      <td>5.981740</td>\n",
       "    </tr>\n",
       "    <tr>\n",
       "      <th>min</th>\n",
       "      <td>1.000000</td>\n",
       "      <td>0.076653</td>\n",
       "      <td>36.042892</td>\n",
       "      <td>-86.917893</td>\n",
       "      <td>-36.850405</td>\n",
       "      <td>-122.428964</td>\n",
       "      <td>0 days 00:01:00</td>\n",
       "      <td>60.000000</td>\n",
       "      <td>1.000000</td>\n",
       "    </tr>\n",
       "    <tr>\n",
       "      <th>25%</th>\n",
       "      <td>5.083333</td>\n",
       "      <td>1686.351760</td>\n",
       "      <td>36.150851</td>\n",
       "      <td>-86.791400</td>\n",
       "      <td>36.150990</td>\n",
       "      <td>-86.791268</td>\n",
       "      <td>0 days 00:05:02</td>\n",
       "      <td>302.000000</td>\n",
       "      <td>5.033333</td>\n",
       "    </tr>\n",
       "    <tr>\n",
       "      <th>50%</th>\n",
       "      <td>9.000000</td>\n",
       "      <td>3346.416000</td>\n",
       "      <td>36.157120</td>\n",
       "      <td>-86.782030</td>\n",
       "      <td>36.157500</td>\n",
       "      <td>-86.781608</td>\n",
       "      <td>0 days 00:08:29.493333500</td>\n",
       "      <td>509.493334</td>\n",
       "      <td>8.491556</td>\n",
       "    </tr>\n",
       "    <tr>\n",
       "      <th>75%</th>\n",
       "      <td>14.616667</td>\n",
       "      <td>5646.325640</td>\n",
       "      <td>36.163050</td>\n",
       "      <td>-86.776562</td>\n",
       "      <td>36.162970</td>\n",
       "      <td>-86.776501</td>\n",
       "      <td>0 days 00:13:32</td>\n",
       "      <td>812.000000</td>\n",
       "      <td>13.533333</td>\n",
       "    </tr>\n",
       "    <tr>\n",
       "      <th>max</th>\n",
       "      <td>1608.000000</td>\n",
       "      <td>10793.832000</td>\n",
       "      <td>36.300029</td>\n",
       "      <td>-86.602127</td>\n",
       "      <td>47.237628</td>\n",
       "      <td>174.764886</td>\n",
       "      <td>0 days 00:26:48.280000</td>\n",
       "      <td>1608.280000</td>\n",
       "      <td>26.804667</td>\n",
       "    </tr>\n",
       "  </tbody>\n",
       "</table>\n",
       "</div>"
      ],
      "text/plain": [
       "        tripDuration   tripDistance  startLatitude  startLongitude  \\\n",
       "count  136802.000000  136802.000000  136802.000000   136802.000000   \n",
       "mean       42.539503    3856.639174      36.156246      -86.784343   \n",
       "std       166.496255    2670.400859       0.012018        0.013327   \n",
       "min         1.000000       0.076653      36.042892      -86.917893   \n",
       "25%         5.083333    1686.351760      36.150851      -86.791400   \n",
       "50%         9.000000    3346.416000      36.157120      -86.782030   \n",
       "75%        14.616667    5646.325640      36.163050      -86.776562   \n",
       "max      1608.000000   10793.832000      36.300029      -86.602127   \n",
       "\n",
       "         endLatitude   endLongitude                  totaltime        seconds  \\\n",
       "count  136802.000000  136802.000000                     136802  136802.000000   \n",
       "mean       36.155957     -86.783951  0 days 00:09:48.669298061     588.669298   \n",
       "std         0.203100       0.737427  0 days 00:05:58.904387877     358.904388   \n",
       "min       -36.850405    -122.428964            0 days 00:01:00      60.000000   \n",
       "25%        36.150990     -86.791268            0 days 00:05:02     302.000000   \n",
       "50%        36.157500     -86.781608  0 days 00:08:29.493333500     509.493334   \n",
       "75%        36.162970     -86.776501            0 days 00:13:32     812.000000   \n",
       "max        47.237628     174.764886     0 days 00:26:48.280000    1608.280000   \n",
       "\n",
       "             minutes  \n",
       "count  136802.000000  \n",
       "mean        9.811155  \n",
       "std         5.981740  \n",
       "min         1.000000  \n",
       "25%         5.033333  \n",
       "50%         8.491556  \n",
       "75%        13.533333  \n",
       "max        26.804667  "
      ]
     },
     "execution_count": 64,
     "metadata": {},
     "output_type": "execute_result"
    }
   ],
   "source": [
    "june_trip_adj.describe()"
   ]
  },
  {
   "cell_type": "code",
   "execution_count": 65,
   "id": "2fdb364a",
   "metadata": {
    "scrolled": true
   },
   "outputs": [
    {
     "data": {
      "text/html": [
       "<div>\n",
       "<style scoped>\n",
       "    .dataframe tbody tr th:only-of-type {\n",
       "        vertical-align: middle;\n",
       "    }\n",
       "\n",
       "    .dataframe tbody tr th {\n",
       "        vertical-align: top;\n",
       "    }\n",
       "\n",
       "    .dataframe thead th {\n",
       "        text-align: right;\n",
       "    }\n",
       "</style>\n",
       "<table border=\"1\" class=\"dataframe\">\n",
       "  <thead>\n",
       "    <tr style=\"text-align: right;\">\n",
       "      <th></th>\n",
       "      <th>tripDuration</th>\n",
       "      <th>tripDistance</th>\n",
       "      <th>startLatitude</th>\n",
       "      <th>startLongitude</th>\n",
       "      <th>endLatitude</th>\n",
       "      <th>endLongitude</th>\n",
       "      <th>totaltime</th>\n",
       "      <th>seconds</th>\n",
       "      <th>minutes</th>\n",
       "    </tr>\n",
       "  </thead>\n",
       "  <tbody>\n",
       "    <tr>\n",
       "      <th>count</th>\n",
       "      <td>83938.000000</td>\n",
       "      <td>83938.000000</td>\n",
       "      <td>83938.000000</td>\n",
       "      <td>83938.000000</td>\n",
       "      <td>83938.000000</td>\n",
       "      <td>83938.000000</td>\n",
       "      <td>83938</td>\n",
       "      <td>83938.000000</td>\n",
       "      <td>83938.000000</td>\n",
       "    </tr>\n",
       "    <tr>\n",
       "      <th>mean</th>\n",
       "      <td>49.830790</td>\n",
       "      <td>3982.494150</td>\n",
       "      <td>36.156872</td>\n",
       "      <td>-86.784813</td>\n",
       "      <td>36.157174</td>\n",
       "      <td>-86.785628</td>\n",
       "      <td>0 days 00:10:41.842311468</td>\n",
       "      <td>641.842311</td>\n",
       "      <td>10.697372</td>\n",
       "    </tr>\n",
       "    <tr>\n",
       "      <th>std</th>\n",
       "      <td>194.653320</td>\n",
       "      <td>2829.348474</td>\n",
       "      <td>0.010738</td>\n",
       "      <td>0.013412</td>\n",
       "      <td>0.080469</td>\n",
       "      <td>0.365742</td>\n",
       "      <td>0 days 00:06:51.495679903</td>\n",
       "      <td>411.495680</td>\n",
       "      <td>6.858261</td>\n",
       "    </tr>\n",
       "    <tr>\n",
       "      <th>min</th>\n",
       "      <td>1.000000</td>\n",
       "      <td>2.428921</td>\n",
       "      <td>36.037117</td>\n",
       "      <td>-86.890850</td>\n",
       "      <td>27.948352</td>\n",
       "      <td>-122.673729</td>\n",
       "      <td>0 days 00:01:00</td>\n",
       "      <td>60.000000</td>\n",
       "      <td>1.000000</td>\n",
       "    </tr>\n",
       "    <tr>\n",
       "      <th>25%</th>\n",
       "      <td>5.187654</td>\n",
       "      <td>1702.756970</td>\n",
       "      <td>36.151170</td>\n",
       "      <td>-86.791940</td>\n",
       "      <td>36.151300</td>\n",
       "      <td>-86.791302</td>\n",
       "      <td>0 days 00:05:12</td>\n",
       "      <td>312.000000</td>\n",
       "      <td>5.200000</td>\n",
       "    </tr>\n",
       "    <tr>\n",
       "      <th>50%</th>\n",
       "      <td>9.576408</td>\n",
       "      <td>3375.984360</td>\n",
       "      <td>36.157393</td>\n",
       "      <td>-86.782070</td>\n",
       "      <td>36.157746</td>\n",
       "      <td>-86.781400</td>\n",
       "      <td>0 days 00:09:04.256667</td>\n",
       "      <td>544.256667</td>\n",
       "      <td>9.070944</td>\n",
       "    </tr>\n",
       "    <tr>\n",
       "      <th>75%</th>\n",
       "      <td>16.000000</td>\n",
       "      <td>5902.231160</td>\n",
       "      <td>36.162950</td>\n",
       "      <td>-86.776681</td>\n",
       "      <td>36.162733</td>\n",
       "      <td>-86.776589</td>\n",
       "      <td>0 days 00:14:55.276667</td>\n",
       "      <td>895.276667</td>\n",
       "      <td>14.921278</td>\n",
       "    </tr>\n",
       "    <tr>\n",
       "      <th>max</th>\n",
       "      <td>1811.000000</td>\n",
       "      <td>11411.393007</td>\n",
       "      <td>36.299569</td>\n",
       "      <td>-86.625443</td>\n",
       "      <td>51.045409</td>\n",
       "      <td>-9.140874</td>\n",
       "      <td>0 days 00:30:11</td>\n",
       "      <td>1811.000000</td>\n",
       "      <td>30.183333</td>\n",
       "    </tr>\n",
       "  </tbody>\n",
       "</table>\n",
       "</div>"
      ],
      "text/plain": [
       "       tripDuration  tripDistance  startLatitude  startLongitude  \\\n",
       "count  83938.000000  83938.000000   83938.000000    83938.000000   \n",
       "mean      49.830790   3982.494150      36.156872      -86.784813   \n",
       "std      194.653320   2829.348474       0.010738        0.013412   \n",
       "min        1.000000      2.428921      36.037117      -86.890850   \n",
       "25%        5.187654   1702.756970      36.151170      -86.791940   \n",
       "50%        9.576408   3375.984360      36.157393      -86.782070   \n",
       "75%       16.000000   5902.231160      36.162950      -86.776681   \n",
       "max     1811.000000  11411.393007      36.299569      -86.625443   \n",
       "\n",
       "        endLatitude  endLongitude                  totaltime       seconds  \\\n",
       "count  83938.000000  83938.000000                      83938  83938.000000   \n",
       "mean      36.157174    -86.785628  0 days 00:10:41.842311468    641.842311   \n",
       "std        0.080469      0.365742  0 days 00:06:51.495679903    411.495680   \n",
       "min       27.948352   -122.673729            0 days 00:01:00     60.000000   \n",
       "25%       36.151300    -86.791302            0 days 00:05:12    312.000000   \n",
       "50%       36.157746    -86.781400     0 days 00:09:04.256667    544.256667   \n",
       "75%       36.162733    -86.776589     0 days 00:14:55.276667    895.276667   \n",
       "max       51.045409     -9.140874            0 days 00:30:11   1811.000000   \n",
       "\n",
       "            minutes  \n",
       "count  83938.000000  \n",
       "mean      10.697372  \n",
       "std        6.858261  \n",
       "min        1.000000  \n",
       "25%        5.200000  \n",
       "50%        9.070944  \n",
       "75%       14.921278  \n",
       "max       30.183333  "
      ]
     },
     "execution_count": 65,
     "metadata": {},
     "output_type": "execute_result"
    }
   ],
   "source": [
    "july_trip_adj.describe()"
   ]
  }
 ],
 "metadata": {
  "kernelspec": {
   "display_name": "Python 3 (ipykernel)",
   "language": "python",
   "name": "python3"
  },
  "language_info": {
   "codemirror_mode": {
    "name": "ipython",
    "version": 3
   },
   "file_extension": ".py",
   "mimetype": "text/x-python",
   "name": "python",
   "nbconvert_exporter": "python",
   "pygments_lexer": "ipython3",
   "version": "3.8.5"
  }
 },
 "nbformat": 4,
 "nbformat_minor": 5
}
