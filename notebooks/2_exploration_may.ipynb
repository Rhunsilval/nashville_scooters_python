{
 "cells": [
  {
   "cell_type": "markdown",
   "id": "235d70ef",
   "metadata": {},
   "source": [
    "### import pandas as pd\n",
    "import matplotlib.pyplot as plt\n",
    "import datetime \n",
    "import numpy as np"
   ]
  },
  {
   "cell_type": "code",
   "execution_count": 2,
   "id": "f7f3d132",
   "metadata": {},
   "outputs": [],
   "source": [
    "may = pd.read_pickle('../data/may.pkl')\n",
    "#maytrip = pd.read_csv('../data/may_trip.csv')"
   ]
  },
  {
   "cell_type": "code",
   "execution_count": 3,
   "id": "0e820c7d",
   "metadata": {},
   "outputs": [
    {
     "data": {
      "text/html": [
       "<div>\n",
       "<style scoped>\n",
       "    .dataframe tbody tr th:only-of-type {\n",
       "        vertical-align: middle;\n",
       "    }\n",
       "\n",
       "    .dataframe tbody tr th {\n",
       "        vertical-align: top;\n",
       "    }\n",
       "\n",
       "    .dataframe thead th {\n",
       "        text-align: right;\n",
       "    }\n",
       "</style>\n",
       "<table border=\"1\" class=\"dataframe\">\n",
       "  <thead>\n",
       "    <tr style=\"text-align: right;\">\n",
       "      <th></th>\n",
       "      <th>pubdatetime</th>\n",
       "      <th>latitude</th>\n",
       "      <th>longitude</th>\n",
       "      <th>sumdid</th>\n",
       "      <th>chargelevel</th>\n",
       "      <th>companyname</th>\n",
       "    </tr>\n",
       "  </thead>\n",
       "  <tbody>\n",
       "    <tr>\n",
       "      <th>0</th>\n",
       "      <td>2019-05-01 00:01:41.247</td>\n",
       "      <td>36.136822</td>\n",
       "      <td>-86.799877</td>\n",
       "      <td>PoweredLIRL1</td>\n",
       "      <td>93.0</td>\n",
       "      <td>0</td>\n",
       "    </tr>\n",
       "    <tr>\n",
       "      <th>1</th>\n",
       "      <td>2019-05-01 00:01:41.247</td>\n",
       "      <td>36.191252</td>\n",
       "      <td>-86.772945</td>\n",
       "      <td>PoweredXWRWC</td>\n",
       "      <td>35.0</td>\n",
       "      <td>0</td>\n",
       "    </tr>\n",
       "    <tr>\n",
       "      <th>2</th>\n",
       "      <td>2019-05-01 00:01:41.247</td>\n",
       "      <td>36.144752</td>\n",
       "      <td>-86.806293</td>\n",
       "      <td>PoweredMEJEH</td>\n",
       "      <td>90.0</td>\n",
       "      <td>0</td>\n",
       "    </tr>\n",
       "    <tr>\n",
       "      <th>3</th>\n",
       "      <td>2019-05-01 00:01:41.247</td>\n",
       "      <td>36.162056</td>\n",
       "      <td>-86.774688</td>\n",
       "      <td>Powered1A7TC</td>\n",
       "      <td>88.0</td>\n",
       "      <td>0</td>\n",
       "    </tr>\n",
       "    <tr>\n",
       "      <th>4</th>\n",
       "      <td>2019-05-01 00:01:41.247</td>\n",
       "      <td>36.150973</td>\n",
       "      <td>-86.783109</td>\n",
       "      <td>Powered2TYEF</td>\n",
       "      <td>98.0</td>\n",
       "      <td>0</td>\n",
       "    </tr>\n",
       "  </tbody>\n",
       "</table>\n",
       "</div>"
      ],
      "text/plain": [
       "              pubdatetime   latitude  longitude        sumdid  chargelevel  \\\n",
       "0 2019-05-01 00:01:41.247  36.136822 -86.799877  PoweredLIRL1         93.0   \n",
       "1 2019-05-01 00:01:41.247  36.191252 -86.772945  PoweredXWRWC         35.0   \n",
       "2 2019-05-01 00:01:41.247  36.144752 -86.806293  PoweredMEJEH         90.0   \n",
       "3 2019-05-01 00:01:41.247  36.162056 -86.774688  Powered1A7TC         88.0   \n",
       "4 2019-05-01 00:01:41.247  36.150973 -86.783109  Powered2TYEF         98.0   \n",
       "\n",
       "   companyname  \n",
       "0            0  \n",
       "1            0  \n",
       "2            0  \n",
       "3            0  \n",
       "4            0  "
      ]
     },
     "execution_count": 3,
     "metadata": {},
     "output_type": "execute_result"
    }
   ],
   "source": [
    "may.head()"
   ]
  },
  {
   "cell_type": "code",
   "execution_count": 4,
   "id": "a06225b0",
   "metadata": {},
   "outputs": [
    {
     "data": {
      "text/html": [
       "<div>\n",
       "<style scoped>\n",
       "    .dataframe tbody tr th:only-of-type {\n",
       "        vertical-align: middle;\n",
       "    }\n",
       "\n",
       "    .dataframe tbody tr th {\n",
       "        vertical-align: top;\n",
       "    }\n",
       "\n",
       "    .dataframe thead th {\n",
       "        text-align: right;\n",
       "    }\n",
       "</style>\n",
       "<table border=\"1\" class=\"dataframe\">\n",
       "  <thead>\n",
       "    <tr style=\"text-align: right;\">\n",
       "      <th></th>\n",
       "      <th>pubdatetime</th>\n",
       "      <th>latitude</th>\n",
       "      <th>longitude</th>\n",
       "      <th>sumdid</th>\n",
       "      <th>chargelevel</th>\n",
       "      <th>companyname</th>\n",
       "    </tr>\n",
       "  </thead>\n",
       "  <tbody>\n",
       "    <tr>\n",
       "      <th>20292498</th>\n",
       "      <td>2019-05-31 23:59:42</td>\n",
       "      <td>36.1639</td>\n",
       "      <td>-86.7823</td>\n",
       "      <td>Poweredbb60ef04-c719-597f-805f-20978964fd8c</td>\n",
       "      <td>49.0</td>\n",
       "      <td>5</td>\n",
       "    </tr>\n",
       "    <tr>\n",
       "      <th>20292499</th>\n",
       "      <td>2019-05-31 23:59:42</td>\n",
       "      <td>36.1606</td>\n",
       "      <td>-86.7768</td>\n",
       "      <td>Powered9f5743ed-7f81-539b-9e37-6503d54445d3</td>\n",
       "      <td>68.0</td>\n",
       "      <td>5</td>\n",
       "    </tr>\n",
       "    <tr>\n",
       "      <th>20292500</th>\n",
       "      <td>2019-05-31 23:59:42</td>\n",
       "      <td>36.1606</td>\n",
       "      <td>-86.7769</td>\n",
       "      <td>Powered5744d1db-3bbe-55e5-9a23-a93828ba54fc</td>\n",
       "      <td>53.0</td>\n",
       "      <td>5</td>\n",
       "    </tr>\n",
       "    <tr>\n",
       "      <th>20292501</th>\n",
       "      <td>2019-05-31 23:59:42</td>\n",
       "      <td>36.1624</td>\n",
       "      <td>-86.7745</td>\n",
       "      <td>Poweredad1d6d3b-162a-5bec-bffd-cac4ac8dee1c</td>\n",
       "      <td>42.0</td>\n",
       "      <td>5</td>\n",
       "    </tr>\n",
       "    <tr>\n",
       "      <th>20292502</th>\n",
       "      <td>2019-05-31 23:59:42</td>\n",
       "      <td>36.1519</td>\n",
       "      <td>-86.7985</td>\n",
       "      <td>Powered8505008e-97c9-5003-8975-2ea6b2634fa0</td>\n",
       "      <td>76.0</td>\n",
       "      <td>5</td>\n",
       "    </tr>\n",
       "  </tbody>\n",
       "</table>\n",
       "</div>"
      ],
      "text/plain": [
       "                 pubdatetime  latitude  longitude  \\\n",
       "20292498 2019-05-31 23:59:42   36.1639   -86.7823   \n",
       "20292499 2019-05-31 23:59:42   36.1606   -86.7768   \n",
       "20292500 2019-05-31 23:59:42   36.1606   -86.7769   \n",
       "20292501 2019-05-31 23:59:42   36.1624   -86.7745   \n",
       "20292502 2019-05-31 23:59:42   36.1519   -86.7985   \n",
       "\n",
       "                                               sumdid  chargelevel  \\\n",
       "20292498  Poweredbb60ef04-c719-597f-805f-20978964fd8c         49.0   \n",
       "20292499  Powered9f5743ed-7f81-539b-9e37-6503d54445d3         68.0   \n",
       "20292500  Powered5744d1db-3bbe-55e5-9a23-a93828ba54fc         53.0   \n",
       "20292501  Poweredad1d6d3b-162a-5bec-bffd-cac4ac8dee1c         42.0   \n",
       "20292502  Powered8505008e-97c9-5003-8975-2ea6b2634fa0         76.0   \n",
       "\n",
       "          companyname  \n",
       "20292498            5  \n",
       "20292499            5  \n",
       "20292500            5  \n",
       "20292501            5  \n",
       "20292502            5  "
      ]
     },
     "execution_count": 4,
     "metadata": {},
     "output_type": "execute_result"
    }
   ],
   "source": [
    "may.tail()"
   ]
  },
  {
   "cell_type": "code",
   "execution_count": 5,
   "id": "9867dd00",
   "metadata": {},
   "outputs": [
    {
     "name": "stdout",
     "output_type": "stream",
     "text": [
      "<class 'pandas.core.frame.DataFrame'>\n",
      "Int64Index: 20283582 entries, 0 to 20292502\n",
      "Data columns (total 6 columns):\n",
      " #   Column       Dtype         \n",
      "---  ------       -----         \n",
      " 0   pubdatetime  datetime64[ns]\n",
      " 1   latitude     float64       \n",
      " 2   longitude    float64       \n",
      " 3   sumdid       object        \n",
      " 4   chargelevel  float64       \n",
      " 5   companyname  int64         \n",
      "dtypes: datetime64[ns](1), float64(3), int64(1), object(1)\n",
      "memory usage: 1.1+ GB\n"
     ]
    }
   ],
   "source": [
    "may.info()"
   ]
  },
  {
   "cell_type": "markdown",
   "id": "10e9fc92",
   "metadata": {},
   "source": [
    "#note - the entries and the index numbers are different because we removed bicycles from our dataset.  difference of 8920 entries, there's 8921 bicycles in the csv."
   ]
  },
  {
   "cell_type": "markdown",
   "id": "af8f1f99",
   "metadata": {},
   "source": [
    "#i wonder how many individual scooters are in this dataset"
   ]
  },
  {
   "cell_type": "code",
   "execution_count": 6,
   "id": "45a8238a",
   "metadata": {},
   "outputs": [
    {
     "data": {
      "text/plain": [
       "PoweredIE7H5RIN474PE    8921\n",
       "PoweredUK65LOU3K5N7G    8748\n",
       "PoweredIOHG2G3XKATUL    8576\n",
       "PoweredJCKMQCAL2SSNJ    8521\n",
       "Powered4NYK5PWADVIAU    8439\n",
       "                        ... \n",
       "Powered3361332             1\n",
       "Powered6599831             1\n",
       "PoweredYEBSU               1\n",
       "Powered1PKP7               1\n",
       "PoweredCI6VKIK2KOFMC       1\n",
       "Name: sumdid, Length: 8303, dtype: int64"
      ]
     },
     "execution_count": 6,
     "metadata": {},
     "output_type": "execute_result"
    }
   ],
   "source": [
    "may['sumdid'].value_counts() "
   ]
  },
  {
   "cell_type": "markdown",
   "id": "b326a023",
   "metadata": {},
   "source": [
    "#there's 8303 scooters across 20,283,582 rows of data\n",
    "that's almost 2443 entries per scooter ... which i can see is not true.\n",
    "max is 8921, min is 1\n",
    "\n",
    "i wonder if there's a difference across companies as to how many times each scooter is entered\n",
    "there's 7 companies - is SHOULD be something like 2,897,654 entries for each business if the distribution is equal"
   ]
  },
  {
   "cell_type": "code",
   "execution_count": 7,
   "id": "e1e0044f",
   "metadata": {},
   "outputs": [
    {
     "data": {
      "text/plain": [
       "3    7111655\n",
       "0    4334006\n",
       "1    3112581\n",
       "5    2984630\n",
       "4    1301001\n",
       "2     915314\n",
       "6     524395\n",
       "Name: companyname, dtype: int64"
      ]
     },
     "execution_count": 7,
     "metadata": {},
     "output_type": "execute_result"
    }
   ],
   "source": [
    "may['companyname'].value_counts()"
   ]
  },
  {
   "cell_type": "markdown",
   "id": "0ea9cd59",
   "metadata": {},
   "source": [
    "the data is NOT equal\n",
    "company 3 has a lot more info than anyone else\n",
    "companies 1 and 5 are right about where i predicted\n",
    "companies 0 and 4 are a little above and below\n",
    "companies 2 and 6 are way underreported compared to the other 5."
   ]
  },
  {
   "cell_type": "code",
   "execution_count": 8,
   "id": "1c3cde37",
   "metadata": {},
   "outputs": [
    {
     "data": {
      "text/plain": [
       "pubdatetime      0\n",
       "latitude         0\n",
       "longitude        0\n",
       "sumdid           0\n",
       "chargelevel    283\n",
       "companyname      0\n",
       "dtype: int64"
      ]
     },
     "execution_count": 8,
     "metadata": {},
     "output_type": "execute_result"
    }
   ],
   "source": [
    "may.isnull().sum()"
   ]
  },
  {
   "cell_type": "code",
   "execution_count": 9,
   "id": "311749b9",
   "metadata": {},
   "outputs": [
    {
     "data": {
      "text/html": [
       "<div>\n",
       "<style scoped>\n",
       "    .dataframe tbody tr th:only-of-type {\n",
       "        vertical-align: middle;\n",
       "    }\n",
       "\n",
       "    .dataframe tbody tr th {\n",
       "        vertical-align: top;\n",
       "    }\n",
       "\n",
       "    .dataframe thead th {\n",
       "        text-align: right;\n",
       "    }\n",
       "</style>\n",
       "<table border=\"1\" class=\"dataframe\">\n",
       "  <thead>\n",
       "    <tr style=\"text-align: right;\">\n",
       "      <th></th>\n",
       "      <th>pubdatetime</th>\n",
       "      <th>latitude</th>\n",
       "      <th>longitude</th>\n",
       "      <th>sumdid</th>\n",
       "      <th>chargelevel</th>\n",
       "      <th>companyname</th>\n",
       "    </tr>\n",
       "  </thead>\n",
       "  <tbody>\n",
       "    <tr>\n",
       "      <th>0</th>\n",
       "      <td>2019-05-01 00:01:41.247</td>\n",
       "      <td>36.136822</td>\n",
       "      <td>-86.799877</td>\n",
       "      <td>PoweredLIRL1</td>\n",
       "      <td>93.0</td>\n",
       "      <td>0</td>\n",
       "    </tr>\n",
       "    <tr>\n",
       "      <th>2694</th>\n",
       "      <td>2019-05-01 00:06:41.537</td>\n",
       "      <td>36.136822</td>\n",
       "      <td>-86.799877</td>\n",
       "      <td>PoweredLIRL1</td>\n",
       "      <td>93.0</td>\n",
       "      <td>0</td>\n",
       "    </tr>\n",
       "    <tr>\n",
       "      <th>26176</th>\n",
       "      <td>2019-05-01 01:01:43.917</td>\n",
       "      <td>36.136751</td>\n",
       "      <td>-86.799921</td>\n",
       "      <td>PoweredLIRL1</td>\n",
       "      <td>92.0</td>\n",
       "      <td>0</td>\n",
       "    </tr>\n",
       "    <tr>\n",
       "      <th>28812</th>\n",
       "      <td>2019-05-01 01:06:44.237</td>\n",
       "      <td>36.136751</td>\n",
       "      <td>-86.799921</td>\n",
       "      <td>PoweredLIRL1</td>\n",
       "      <td>92.0</td>\n",
       "      <td>0</td>\n",
       "    </tr>\n",
       "    <tr>\n",
       "      <th>30726</th>\n",
       "      <td>2019-05-01 01:11:44.167</td>\n",
       "      <td>36.136751</td>\n",
       "      <td>-86.799921</td>\n",
       "      <td>PoweredLIRL1</td>\n",
       "      <td>92.0</td>\n",
       "      <td>0</td>\n",
       "    </tr>\n",
       "    <tr>\n",
       "      <th>...</th>\n",
       "      <td>...</td>\n",
       "      <td>...</td>\n",
       "      <td>...</td>\n",
       "      <td>...</td>\n",
       "      <td>...</td>\n",
       "      <td>...</td>\n",
       "    </tr>\n",
       "    <tr>\n",
       "      <th>20209588</th>\n",
       "      <td>2019-05-31 22:00:15.960</td>\n",
       "      <td>36.191117</td>\n",
       "      <td>-86.781360</td>\n",
       "      <td>PoweredLIRL1</td>\n",
       "      <td>53.0</td>\n",
       "      <td>0</td>\n",
       "    </tr>\n",
       "    <tr>\n",
       "      <th>20213207</th>\n",
       "      <td>2019-05-31 22:05:16.080</td>\n",
       "      <td>36.191117</td>\n",
       "      <td>-86.781360</td>\n",
       "      <td>PoweredLIRL1</td>\n",
       "      <td>53.0</td>\n",
       "      <td>0</td>\n",
       "    </tr>\n",
       "    <tr>\n",
       "      <th>20216631</th>\n",
       "      <td>2019-05-31 22:10:16.483</td>\n",
       "      <td>36.191096</td>\n",
       "      <td>-86.781369</td>\n",
       "      <td>PoweredLIRL1</td>\n",
       "      <td>53.0</td>\n",
       "      <td>0</td>\n",
       "    </tr>\n",
       "    <tr>\n",
       "      <th>20220463</th>\n",
       "      <td>2019-05-31 22:15:16.653</td>\n",
       "      <td>36.191096</td>\n",
       "      <td>-86.781369</td>\n",
       "      <td>PoweredLIRL1</td>\n",
       "      <td>53.0</td>\n",
       "      <td>0</td>\n",
       "    </tr>\n",
       "    <tr>\n",
       "      <th>20224154</th>\n",
       "      <td>2019-05-31 22:20:16.737</td>\n",
       "      <td>36.191122</td>\n",
       "      <td>-86.781343</td>\n",
       "      <td>PoweredLIRL1</td>\n",
       "      <td>53.0</td>\n",
       "      <td>0</td>\n",
       "    </tr>\n",
       "  </tbody>\n",
       "</table>\n",
       "<p>2859 rows × 6 columns</p>\n",
       "</div>"
      ],
      "text/plain": [
       "                     pubdatetime   latitude  longitude        sumdid  \\\n",
       "0        2019-05-01 00:01:41.247  36.136822 -86.799877  PoweredLIRL1   \n",
       "2694     2019-05-01 00:06:41.537  36.136822 -86.799877  PoweredLIRL1   \n",
       "26176    2019-05-01 01:01:43.917  36.136751 -86.799921  PoweredLIRL1   \n",
       "28812    2019-05-01 01:06:44.237  36.136751 -86.799921  PoweredLIRL1   \n",
       "30726    2019-05-01 01:11:44.167  36.136751 -86.799921  PoweredLIRL1   \n",
       "...                          ...        ...        ...           ...   \n",
       "20209588 2019-05-31 22:00:15.960  36.191117 -86.781360  PoweredLIRL1   \n",
       "20213207 2019-05-31 22:05:16.080  36.191117 -86.781360  PoweredLIRL1   \n",
       "20216631 2019-05-31 22:10:16.483  36.191096 -86.781369  PoweredLIRL1   \n",
       "20220463 2019-05-31 22:15:16.653  36.191096 -86.781369  PoweredLIRL1   \n",
       "20224154 2019-05-31 22:20:16.737  36.191122 -86.781343  PoweredLIRL1   \n",
       "\n",
       "          chargelevel  companyname  \n",
       "0                93.0            0  \n",
       "2694             93.0            0  \n",
       "26176            92.0            0  \n",
       "28812            92.0            0  \n",
       "30726            92.0            0  \n",
       "...               ...          ...  \n",
       "20209588         53.0            0  \n",
       "20213207         53.0            0  \n",
       "20216631         53.0            0  \n",
       "20220463         53.0            0  \n",
       "20224154         53.0            0  \n",
       "\n",
       "[2859 rows x 6 columns]"
      ]
     },
     "execution_count": 9,
     "metadata": {},
     "output_type": "execute_result"
    }
   ],
   "source": [
    "may.loc[may['sumdid'] == 'PoweredLIRL1']\n",
    "#company0 = may.loc[may['sumdid'] == 'PoweredLIRL1']\n",
    "#note: Jeremiah's query to look at how often a scooter is pinged.  this one is every 5 mins"
   ]
  },
  {
   "cell_type": "markdown",
   "id": "375dadf5",
   "metadata": {},
   "source": [
    "so one of the scooters that had only 1 entry ... "
   ]
  },
  {
   "cell_type": "code",
   "execution_count": 10,
   "id": "beac23d6",
   "metadata": {},
   "outputs": [
    {
     "data": {
      "text/html": [
       "<div>\n",
       "<style scoped>\n",
       "    .dataframe tbody tr th:only-of-type {\n",
       "        vertical-align: middle;\n",
       "    }\n",
       "\n",
       "    .dataframe tbody tr th {\n",
       "        vertical-align: top;\n",
       "    }\n",
       "\n",
       "    .dataframe thead th {\n",
       "        text-align: right;\n",
       "    }\n",
       "</style>\n",
       "<table border=\"1\" class=\"dataframe\">\n",
       "  <thead>\n",
       "    <tr style=\"text-align: right;\">\n",
       "      <th></th>\n",
       "      <th>pubdatetime</th>\n",
       "      <th>latitude</th>\n",
       "      <th>longitude</th>\n",
       "      <th>sumdid</th>\n",
       "      <th>chargelevel</th>\n",
       "      <th>companyname</th>\n",
       "    </tr>\n",
       "  </thead>\n",
       "  <tbody>\n",
       "    <tr>\n",
       "      <th>16270541</th>\n",
       "      <td>2019-05-27 21:46:35.653</td>\n",
       "      <td>36.176051</td>\n",
       "      <td>-86.76609</td>\n",
       "      <td>Powered1PKP7</td>\n",
       "      <td>82.0</td>\n",
       "      <td>0</td>\n",
       "    </tr>\n",
       "  </tbody>\n",
       "</table>\n",
       "</div>"
      ],
      "text/plain": [
       "                     pubdatetime   latitude  longitude        sumdid  \\\n",
       "16270541 2019-05-27 21:46:35.653  36.176051  -86.76609  Powered1PKP7   \n",
       "\n",
       "          chargelevel  companyname  \n",
       "16270541         82.0            0  "
      ]
     },
     "execution_count": 10,
     "metadata": {},
     "output_type": "execute_result"
    }
   ],
   "source": [
    "may.loc[may['sumdid']== 'Powered1PKP7']"
   ]
  },
  {
   "cell_type": "markdown",
   "id": "a75a1e62",
   "metadata": {},
   "source": [
    "same company ... interesting."
   ]
  },
  {
   "cell_type": "markdown",
   "id": "e6d3f856",
   "metadata": {},
   "source": [
    "let me try and find out how many scooters each of these companies have.  \n",
    "I know there's 8303 scooters and 7 companies."
   ]
  },
  {
   "cell_type": "code",
   "execution_count": 11,
   "id": "0c9909f2",
   "metadata": {},
   "outputs": [],
   "source": [
    "may_company_group = may.groupby(\"companyname\")"
   ]
  },
  {
   "cell_type": "code",
   "execution_count": 12,
   "id": "1389fcce",
   "metadata": {},
   "outputs": [],
   "source": [
    "may_scooter_company = may_company_group.agg({\"sumdid\": \"nunique\"})"
   ]
  },
  {
   "cell_type": "code",
   "execution_count": 13,
   "id": "59c47462",
   "metadata": {},
   "outputs": [
    {
     "name": "stdout",
     "output_type": "stream",
     "text": [
      "             sumdid\n",
      "companyname        \n",
      "0              3064\n",
      "1              1376\n",
      "2               223\n",
      "3              1631\n",
      "4               687\n",
      "5               976\n",
      "6               346\n"
     ]
    }
   ],
   "source": [
    "print(may_scooter_company)"
   ]
  },
  {
   "cell_type": "markdown",
   "id": "61e499f7",
   "metadata": {},
   "source": [
    "it worked!  \n",
    "so, there's a definite leader in company 0.  \n",
    "company 1 and 3 are close for positions 2 and 3.  \n",
    "company 4 and 5 are fairly modest.\n",
    "and company 2 and 6 barely have any scooters"
   ]
  },
  {
   "cell_type": "markdown",
   "id": "6e5b6751",
   "metadata": {},
   "source": [
    " ... i wonder if there's a company trend for those null chargelevels?\n",
    " what do the charge levels even look like?"
   ]
  },
  {
   "cell_type": "code",
   "execution_count": 14,
   "id": "41553b37",
   "metadata": {},
   "outputs": [
    {
     "data": {
      "image/png": "[encoded data removed]",
      "text/plain": [
       "<Figure size 432x288 with 1 Axes>"
      ]
     },
     "metadata": {
      "needs_background": "light"
     },
     "output_type": "display_data"
    }
   ],
   "source": [
    "plt.hist(\"chargelevel\", bins = 10, data = may);"
   ]
  },
  {
   "cell_type": "code",
   "execution_count": 15,
   "id": "adeecf82",
   "metadata": {},
   "outputs": [
    {
     "name": "stdout",
     "output_type": "stream",
     "text": [
      "companyname\n",
      "0      0\n",
      "1      0\n",
      "2      0\n",
      "3      0\n",
      "4    283\n",
      "5      0\n",
      "6      0\n",
      "Name: chargelevel, dtype: int64\n"
     ]
    }
   ],
   "source": [
    "may_nullcharge_company= may.chargelevel.isnull().groupby(may.companyname).sum()\n",
    "print(may_nullcharge_company)"
   ]
  },
  {
   "cell_type": "markdown",
   "id": "a1f5f213",
   "metadata": {},
   "source": [
    "bingo - all 283 null values are in the same company, company 4.  which was a modest sized company with 687 scooters.  I'm not sure yet what that means, but something's going on there."
   ]
  },
  {
   "cell_type": "markdown",
   "id": "b3f27939",
   "metadata": {},
   "source": [
    "i wonder about the number of unique id scooter entries - those that have just one entry, is there a pattern there as well?"
   ]
  },
  {
   "cell_type": "code",
   "execution_count": 16,
   "id": "b2adc2a1",
   "metadata": {},
   "outputs": [
    {
     "data": {
      "text/html": [
       "<div>\n",
       "<style scoped>\n",
       "    .dataframe tbody tr th:only-of-type {\n",
       "        vertical-align: middle;\n",
       "    }\n",
       "\n",
       "    .dataframe tbody tr th {\n",
       "        vertical-align: top;\n",
       "    }\n",
       "\n",
       "    .dataframe thead th {\n",
       "        text-align: right;\n",
       "    }\n",
       "</style>\n",
       "<table border=\"1\" class=\"dataframe\">\n",
       "  <thead>\n",
       "    <tr style=\"text-align: right;\">\n",
       "      <th></th>\n",
       "      <th>pubdatetime</th>\n",
       "      <th>latitude</th>\n",
       "      <th>longitude</th>\n",
       "      <th>sumdid</th>\n",
       "      <th>chargelevel</th>\n",
       "      <th>companyname</th>\n",
       "    </tr>\n",
       "  </thead>\n",
       "  <tbody>\n",
       "    <tr>\n",
       "      <th>62</th>\n",
       "      <td>2019-05-01 00:01:41.247</td>\n",
       "      <td>36.161052</td>\n",
       "      <td>-86.781899</td>\n",
       "      <td>PoweredYEBSU</td>\n",
       "      <td>73.0</td>\n",
       "      <td>0</td>\n",
       "    </tr>\n",
       "    <tr>\n",
       "      <th>4272949</th>\n",
       "      <td>2019-05-09 23:03:18.997</td>\n",
       "      <td>36.134312</td>\n",
       "      <td>-86.667562</td>\n",
       "      <td>PoweredCI6VKIK2KOFMC</td>\n",
       "      <td>6.0</td>\n",
       "      <td>3</td>\n",
       "    </tr>\n",
       "    <tr>\n",
       "      <th>4326724</th>\n",
       "      <td>2019-05-10 02:13:10.420</td>\n",
       "      <td>36.164273</td>\n",
       "      <td>-86.769398</td>\n",
       "      <td>Powered523737</td>\n",
       "      <td>100.0</td>\n",
       "      <td>1</td>\n",
       "    </tr>\n",
       "    <tr>\n",
       "      <th>7520973</th>\n",
       "      <td>2019-05-16 16:18:48.717</td>\n",
       "      <td>36.141950</td>\n",
       "      <td>-86.789444</td>\n",
       "      <td>Powered3361332</td>\n",
       "      <td>0.0</td>\n",
       "      <td>4</td>\n",
       "    </tr>\n",
       "    <tr>\n",
       "      <th>7908151</th>\n",
       "      <td>2019-05-17 05:45:01.127</td>\n",
       "      <td>36.161862</td>\n",
       "      <td>-86.774241</td>\n",
       "      <td>PoweredN4YI2A7RXZQLY</td>\n",
       "      <td>54.0</td>\n",
       "      <td>3</td>\n",
       "    </tr>\n",
       "    <tr>\n",
       "      <th>9656375</th>\n",
       "      <td>2019-05-19 23:57:38.663</td>\n",
       "      <td>36.162614</td>\n",
       "      <td>-86.776840</td>\n",
       "      <td>PoweredGJYGPDVTFXRH7</td>\n",
       "      <td>78.0</td>\n",
       "      <td>3</td>\n",
       "    </tr>\n",
       "    <tr>\n",
       "      <th>10331574</th>\n",
       "      <td>2019-05-21 01:53:37.427</td>\n",
       "      <td>36.176371</td>\n",
       "      <td>-86.804886</td>\n",
       "      <td>PoweredCW742BQMJ3XHN</td>\n",
       "      <td>0.0</td>\n",
       "      <td>3</td>\n",
       "    </tr>\n",
       "    <tr>\n",
       "      <th>14738928</th>\n",
       "      <td>2019-05-26 03:17:34.450</td>\n",
       "      <td>36.153148</td>\n",
       "      <td>-86.793122</td>\n",
       "      <td>Powered8019965</td>\n",
       "      <td>100.0</td>\n",
       "      <td>4</td>\n",
       "    </tr>\n",
       "    <tr>\n",
       "      <th>16270541</th>\n",
       "      <td>2019-05-27 21:46:35.653</td>\n",
       "      <td>36.176051</td>\n",
       "      <td>-86.766090</td>\n",
       "      <td>Powered1PKP7</td>\n",
       "      <td>82.0</td>\n",
       "      <td>0</td>\n",
       "    </tr>\n",
       "    <tr>\n",
       "      <th>19207378</th>\n",
       "      <td>2019-05-30 22:07:00.887</td>\n",
       "      <td>36.147729</td>\n",
       "      <td>-86.740345</td>\n",
       "      <td>Powered6599831</td>\n",
       "      <td>71.0</td>\n",
       "      <td>4</td>\n",
       "    </tr>\n",
       "  </tbody>\n",
       "</table>\n",
       "</div>"
      ],
      "text/plain": [
       "                     pubdatetime   latitude  longitude                sumdid  \\\n",
       "62       2019-05-01 00:01:41.247  36.161052 -86.781899          PoweredYEBSU   \n",
       "4272949  2019-05-09 23:03:18.997  36.134312 -86.667562  PoweredCI6VKIK2KOFMC   \n",
       "4326724  2019-05-10 02:13:10.420  36.164273 -86.769398         Powered523737   \n",
       "7520973  2019-05-16 16:18:48.717  36.141950 -86.789444        Powered3361332   \n",
       "7908151  2019-05-17 05:45:01.127  36.161862 -86.774241  PoweredN4YI2A7RXZQLY   \n",
       "9656375  2019-05-19 23:57:38.663  36.162614 -86.776840  PoweredGJYGPDVTFXRH7   \n",
       "10331574 2019-05-21 01:53:37.427  36.176371 -86.804886  PoweredCW742BQMJ3XHN   \n",
       "14738928 2019-05-26 03:17:34.450  36.153148 -86.793122        Powered8019965   \n",
       "16270541 2019-05-27 21:46:35.653  36.176051 -86.766090          Powered1PKP7   \n",
       "19207378 2019-05-30 22:07:00.887  36.147729 -86.740345        Powered6599831   \n",
       "\n",
       "          chargelevel  companyname  \n",
       "62               73.0            0  \n",
       "4272949           6.0            3  \n",
       "4326724         100.0            1  \n",
       "7520973           0.0            4  \n",
       "7908151          54.0            3  \n",
       "9656375          78.0            3  \n",
       "10331574          0.0            3  \n",
       "14738928        100.0            4  \n",
       "16270541         82.0            0  \n",
       "19207378         71.0            4  "
      ]
     },
     "execution_count": 16,
     "metadata": {},
     "output_type": "execute_result"
    }
   ],
   "source": [
    "may.groupby(\"sumdid\").filter(lambda x: len(x) == 1)"
   ]
  },
  {
   "cell_type": "markdown",
   "id": "e0069576",
   "metadata": {},
   "source": [
    "well, there's not as many as i thought there might be - just 10, \n",
    "and company 3 has 4 of them, while company 4 has 3 of them.  No real insights here ... \n",
    "\n",
    "dates all over the place.  chargelevels all over.  all in different places.  i see no pattern with these single entry scooters.  and given that it's 10 out of 8300 ... not significant."
   ]
  },
  {
   "cell_type": "markdown",
   "id": "62eb706c",
   "metadata": {},
   "source": [
    "I think I'm going to need to be able to look at this data by specific dates and specific times.  I need to break down that datetime column into something more usable for me."
   ]
  },
  {
   "cell_type": "code",
   "execution_count": 17,
   "id": "a7edd91a",
   "metadata": {},
   "outputs": [],
   "source": [
    "may['dates'] = pd.to_datetime(may['pubdatetime']).dt.date\n",
    "may['times'] = pd.to_datetime(may['pubdatetime']).dt.time"
   ]
  },
  {
   "cell_type": "code",
   "execution_count": 18,
   "id": "653838f0",
   "metadata": {},
   "outputs": [],
   "source": [
    "#may.head()"
   ]
  },
  {
   "cell_type": "markdown",
   "id": "f814d620",
   "metadata": {},
   "source": [
    "that worked great!  let me try looking at a single day and see what i've got"
   ]
  },
  {
   "cell_type": "code",
   "execution_count": 19,
   "id": "d944489a",
   "metadata": {},
   "outputs": [],
   "source": [
    "#may.loc[may[\"dates\"]== \"2019-05-01\"]"
   ]
  },
  {
   "cell_type": "markdown",
   "id": "bf49dcb4",
   "metadata": {},
   "source": [
    "... that didn't work?  why not?  "
   ]
  },
  {
   "cell_type": "code",
   "execution_count": 20,
   "id": "07371885",
   "metadata": {},
   "outputs": [],
   "source": [
    "#may.info()"
   ]
  },
  {
   "cell_type": "code",
   "execution_count": 21,
   "id": "5169a6a7",
   "metadata": {},
   "outputs": [],
   "source": [
    "#may_dates = may.agg({\"dates\": \"nunique\"})"
   ]
  },
  {
   "cell_type": "code",
   "execution_count": 22,
   "id": "cfa13603",
   "metadata": {},
   "outputs": [],
   "source": [
    "#print(may_dates)"
   ]
  },
  {
   "cell_type": "code",
   "execution_count": 23,
   "id": "8c215be8",
   "metadata": {},
   "outputs": [],
   "source": [
    "#may[\"dates\"].unique()"
   ]
  },
  {
   "cell_type": "markdown",
   "id": "3b1e04b4",
   "metadata": {},
   "source": [
    "Ah!  there's the problem!  how do i fix THAT?  can i convert it to a string?  it's not a datetime object ... just an object.  what even is this thing?  I need to do some research on datetimes i think ... "
   ]
  },
  {
   "cell_type": "code",
   "execution_count": 24,
   "id": "c18eab09",
   "metadata": {},
   "outputs": [
    {
     "data": {
      "text/html": [
       "<div>\n",
       "<style scoped>\n",
       "    .dataframe tbody tr th:only-of-type {\n",
       "        vertical-align: middle;\n",
       "    }\n",
       "\n",
       "    .dataframe tbody tr th {\n",
       "        vertical-align: top;\n",
       "    }\n",
       "\n",
       "    .dataframe thead th {\n",
       "        text-align: right;\n",
       "    }\n",
       "</style>\n",
       "<table border=\"1\" class=\"dataframe\">\n",
       "  <thead>\n",
       "    <tr style=\"text-align: right;\">\n",
       "      <th></th>\n",
       "      <th>pubdatetime</th>\n",
       "      <th>latitude</th>\n",
       "      <th>longitude</th>\n",
       "      <th>sumdid</th>\n",
       "      <th>chargelevel</th>\n",
       "      <th>companyname</th>\n",
       "      <th>dates</th>\n",
       "      <th>times</th>\n",
       "    </tr>\n",
       "  </thead>\n",
       "  <tbody>\n",
       "    <tr>\n",
       "      <th>0</th>\n",
       "      <td>2019-05-01 00:01:41.247</td>\n",
       "      <td>36.136822</td>\n",
       "      <td>-86.799877</td>\n",
       "      <td>PoweredLIRL1</td>\n",
       "      <td>93.0</td>\n",
       "      <td>0</td>\n",
       "      <td>2019-05-01</td>\n",
       "      <td>00:01:41.247000</td>\n",
       "    </tr>\n",
       "    <tr>\n",
       "      <th>1</th>\n",
       "      <td>2019-05-01 00:01:41.247</td>\n",
       "      <td>36.191252</td>\n",
       "      <td>-86.772945</td>\n",
       "      <td>PoweredXWRWC</td>\n",
       "      <td>35.0</td>\n",
       "      <td>0</td>\n",
       "      <td>2019-05-01</td>\n",
       "      <td>00:01:41.247000</td>\n",
       "    </tr>\n",
       "    <tr>\n",
       "      <th>2</th>\n",
       "      <td>2019-05-01 00:01:41.247</td>\n",
       "      <td>36.144752</td>\n",
       "      <td>-86.806293</td>\n",
       "      <td>PoweredMEJEH</td>\n",
       "      <td>90.0</td>\n",
       "      <td>0</td>\n",
       "      <td>2019-05-01</td>\n",
       "      <td>00:01:41.247000</td>\n",
       "    </tr>\n",
       "    <tr>\n",
       "      <th>3</th>\n",
       "      <td>2019-05-01 00:01:41.247</td>\n",
       "      <td>36.162056</td>\n",
       "      <td>-86.774688</td>\n",
       "      <td>Powered1A7TC</td>\n",
       "      <td>88.0</td>\n",
       "      <td>0</td>\n",
       "      <td>2019-05-01</td>\n",
       "      <td>00:01:41.247000</td>\n",
       "    </tr>\n",
       "    <tr>\n",
       "      <th>4</th>\n",
       "      <td>2019-05-01 00:01:41.247</td>\n",
       "      <td>36.150973</td>\n",
       "      <td>-86.783109</td>\n",
       "      <td>Powered2TYEF</td>\n",
       "      <td>98.0</td>\n",
       "      <td>0</td>\n",
       "      <td>2019-05-01</td>\n",
       "      <td>00:01:41.247000</td>\n",
       "    </tr>\n",
       "    <tr>\n",
       "      <th>...</th>\n",
       "      <td>...</td>\n",
       "      <td>...</td>\n",
       "      <td>...</td>\n",
       "      <td>...</td>\n",
       "      <td>...</td>\n",
       "      <td>...</td>\n",
       "      <td>...</td>\n",
       "      <td>...</td>\n",
       "    </tr>\n",
       "    <tr>\n",
       "      <th>568925</th>\n",
       "      <td>2019-05-01 23:59:40.990</td>\n",
       "      <td>36.154100</td>\n",
       "      <td>-86.784660</td>\n",
       "      <td>Powered049255</td>\n",
       "      <td>78.0</td>\n",
       "      <td>1</td>\n",
       "      <td>2019-05-01</td>\n",
       "      <td>23:59:40.990000</td>\n",
       "    </tr>\n",
       "    <tr>\n",
       "      <th>568926</th>\n",
       "      <td>2019-05-01 23:59:41.053</td>\n",
       "      <td>36.160539</td>\n",
       "      <td>-86.778321</td>\n",
       "      <td>Powered594213</td>\n",
       "      <td>81.0</td>\n",
       "      <td>1</td>\n",
       "      <td>2019-05-01</td>\n",
       "      <td>23:59:41.053000</td>\n",
       "    </tr>\n",
       "    <tr>\n",
       "      <th>568927</th>\n",
       "      <td>2019-05-01 23:59:41.610</td>\n",
       "      <td>36.133136</td>\n",
       "      <td>-86.818130</td>\n",
       "      <td>Powered341619</td>\n",
       "      <td>46.0</td>\n",
       "      <td>1</td>\n",
       "      <td>2019-05-01</td>\n",
       "      <td>23:59:41.610000</td>\n",
       "    </tr>\n",
       "    <tr>\n",
       "      <th>568928</th>\n",
       "      <td>2019-05-01 23:59:41.667</td>\n",
       "      <td>36.160070</td>\n",
       "      <td>-86.776666</td>\n",
       "      <td>Powered542423</td>\n",
       "      <td>38.0</td>\n",
       "      <td>1</td>\n",
       "      <td>2019-05-01</td>\n",
       "      <td>23:59:41.667000</td>\n",
       "    </tr>\n",
       "    <tr>\n",
       "      <th>568929</th>\n",
       "      <td>2019-05-01 23:59:41.823</td>\n",
       "      <td>36.163963</td>\n",
       "      <td>-86.769419</td>\n",
       "      <td>Powered938199</td>\n",
       "      <td>91.0</td>\n",
       "      <td>1</td>\n",
       "      <td>2019-05-01</td>\n",
       "      <td>23:59:41.823000</td>\n",
       "    </tr>\n",
       "  </tbody>\n",
       "</table>\n",
       "<p>568643 rows × 8 columns</p>\n",
       "</div>"
      ],
      "text/plain": [
       "                   pubdatetime   latitude  longitude         sumdid  \\\n",
       "0      2019-05-01 00:01:41.247  36.136822 -86.799877   PoweredLIRL1   \n",
       "1      2019-05-01 00:01:41.247  36.191252 -86.772945   PoweredXWRWC   \n",
       "2      2019-05-01 00:01:41.247  36.144752 -86.806293   PoweredMEJEH   \n",
       "3      2019-05-01 00:01:41.247  36.162056 -86.774688   Powered1A7TC   \n",
       "4      2019-05-01 00:01:41.247  36.150973 -86.783109   Powered2TYEF   \n",
       "...                        ...        ...        ...            ...   \n",
       "568925 2019-05-01 23:59:40.990  36.154100 -86.784660  Powered049255   \n",
       "568926 2019-05-01 23:59:41.053  36.160539 -86.778321  Powered594213   \n",
       "568927 2019-05-01 23:59:41.610  36.133136 -86.818130  Powered341619   \n",
       "568928 2019-05-01 23:59:41.667  36.160070 -86.776666  Powered542423   \n",
       "568929 2019-05-01 23:59:41.823  36.163963 -86.769419  Powered938199   \n",
       "\n",
       "        chargelevel  companyname       dates            times  \n",
       "0              93.0            0  2019-05-01  00:01:41.247000  \n",
       "1              35.0            0  2019-05-01  00:01:41.247000  \n",
       "2              90.0            0  2019-05-01  00:01:41.247000  \n",
       "3              88.0            0  2019-05-01  00:01:41.247000  \n",
       "4              98.0            0  2019-05-01  00:01:41.247000  \n",
       "...             ...          ...         ...              ...  \n",
       "568925         78.0            1  2019-05-01  23:59:40.990000  \n",
       "568926         81.0            1  2019-05-01  23:59:41.053000  \n",
       "568927         46.0            1  2019-05-01  23:59:41.610000  \n",
       "568928         38.0            1  2019-05-01  23:59:41.667000  \n",
       "568929         91.0            1  2019-05-01  23:59:41.823000  \n",
       "\n",
       "[568643 rows x 8 columns]"
      ]
     },
     "execution_count": 24,
     "metadata": {},
     "output_type": "execute_result"
    }
   ],
   "source": [
    "may[(may['pubdatetime'] > '2019-05-01 0:00:00') & (may['pubdatetime'] < '2019-05-01 23:59:42.000')]"
   ]
  },
  {
   "cell_type": "markdown",
   "id": "9cd34637",
   "metadata": {},
   "source": [
    "okay - well, that did SOMETHING, but since we're thinking we need to focus specifically on commuter times ... i think i still need to get those dates and times columns to work ... \n",
    "\n",
    "so ... datetime objects are a thing.  they exist for a reason.  seems pretty basic.  there's got to be a way to make them useable.  i don't know that converting them to a string is the right path.  i should be able to make use of them as they are.  i just don't understand what they are to be able to do that ... yet"
   ]
  },
  {
   "cell_type": "code",
   "execution_count": 25,
   "id": "80bda4a8",
   "metadata": {},
   "outputs": [
    {
     "data": {
      "text/html": [
       "<div>\n",
       "<style scoped>\n",
       "    .dataframe tbody tr th:only-of-type {\n",
       "        vertical-align: middle;\n",
       "    }\n",
       "\n",
       "    .dataframe tbody tr th {\n",
       "        vertical-align: top;\n",
       "    }\n",
       "\n",
       "    .dataframe thead th {\n",
       "        text-align: right;\n",
       "    }\n",
       "</style>\n",
       "<table border=\"1\" class=\"dataframe\">\n",
       "  <thead>\n",
       "    <tr style=\"text-align: right;\">\n",
       "      <th></th>\n",
       "      <th>pubdatetime</th>\n",
       "      <th>latitude</th>\n",
       "      <th>longitude</th>\n",
       "      <th>sumdid</th>\n",
       "      <th>chargelevel</th>\n",
       "      <th>companyname</th>\n",
       "      <th>dates</th>\n",
       "      <th>times</th>\n",
       "    </tr>\n",
       "  </thead>\n",
       "  <tbody>\n",
       "    <tr>\n",
       "      <th>0</th>\n",
       "      <td>2019-05-01 00:01:41.247</td>\n",
       "      <td>36.136822</td>\n",
       "      <td>-86.799877</td>\n",
       "      <td>PoweredLIRL1</td>\n",
       "      <td>93.0</td>\n",
       "      <td>0</td>\n",
       "      <td>2019-05-01</td>\n",
       "      <td>00:01:41.247000</td>\n",
       "    </tr>\n",
       "    <tr>\n",
       "      <th>1</th>\n",
       "      <td>2019-05-01 00:01:41.247</td>\n",
       "      <td>36.191252</td>\n",
       "      <td>-86.772945</td>\n",
       "      <td>PoweredXWRWC</td>\n",
       "      <td>35.0</td>\n",
       "      <td>0</td>\n",
       "      <td>2019-05-01</td>\n",
       "      <td>00:01:41.247000</td>\n",
       "    </tr>\n",
       "    <tr>\n",
       "      <th>2</th>\n",
       "      <td>2019-05-01 00:01:41.247</td>\n",
       "      <td>36.144752</td>\n",
       "      <td>-86.806293</td>\n",
       "      <td>PoweredMEJEH</td>\n",
       "      <td>90.0</td>\n",
       "      <td>0</td>\n",
       "      <td>2019-05-01</td>\n",
       "      <td>00:01:41.247000</td>\n",
       "    </tr>\n",
       "    <tr>\n",
       "      <th>3</th>\n",
       "      <td>2019-05-01 00:01:41.247</td>\n",
       "      <td>36.162056</td>\n",
       "      <td>-86.774688</td>\n",
       "      <td>Powered1A7TC</td>\n",
       "      <td>88.0</td>\n",
       "      <td>0</td>\n",
       "      <td>2019-05-01</td>\n",
       "      <td>00:01:41.247000</td>\n",
       "    </tr>\n",
       "    <tr>\n",
       "      <th>4</th>\n",
       "      <td>2019-05-01 00:01:41.247</td>\n",
       "      <td>36.150973</td>\n",
       "      <td>-86.783109</td>\n",
       "      <td>Powered2TYEF</td>\n",
       "      <td>98.0</td>\n",
       "      <td>0</td>\n",
       "      <td>2019-05-01</td>\n",
       "      <td>00:01:41.247000</td>\n",
       "    </tr>\n",
       "    <tr>\n",
       "      <th>...</th>\n",
       "      <td>...</td>\n",
       "      <td>...</td>\n",
       "      <td>...</td>\n",
       "      <td>...</td>\n",
       "      <td>...</td>\n",
       "      <td>...</td>\n",
       "      <td>...</td>\n",
       "      <td>...</td>\n",
       "    </tr>\n",
       "    <tr>\n",
       "      <th>569066</th>\n",
       "      <td>2019-05-01 23:59:59.643</td>\n",
       "      <td>36.163914</td>\n",
       "      <td>-86.769393</td>\n",
       "      <td>Powered875414</td>\n",
       "      <td>86.0</td>\n",
       "      <td>1</td>\n",
       "      <td>2019-05-01</td>\n",
       "      <td>23:59:59.643000</td>\n",
       "    </tr>\n",
       "    <tr>\n",
       "      <th>569067</th>\n",
       "      <td>2019-05-01 23:59:59.833</td>\n",
       "      <td>36.163933</td>\n",
       "      <td>-86.769403</td>\n",
       "      <td>Powered486289</td>\n",
       "      <td>89.0</td>\n",
       "      <td>1</td>\n",
       "      <td>2019-05-01</td>\n",
       "      <td>23:59:59.833000</td>\n",
       "    </tr>\n",
       "    <tr>\n",
       "      <th>569068</th>\n",
       "      <td>2019-05-01 23:59:59.947</td>\n",
       "      <td>36.154740</td>\n",
       "      <td>-86.784968</td>\n",
       "      <td>Powered583191</td>\n",
       "      <td>57.0</td>\n",
       "      <td>1</td>\n",
       "      <td>2019-05-01</td>\n",
       "      <td>23:59:59.947000</td>\n",
       "    </tr>\n",
       "    <tr>\n",
       "      <th>569069</th>\n",
       "      <td>2019-05-01 23:59:59.983</td>\n",
       "      <td>36.122224</td>\n",
       "      <td>-86.779943</td>\n",
       "      <td>Powered786553</td>\n",
       "      <td>84.0</td>\n",
       "      <td>1</td>\n",
       "      <td>2019-05-01</td>\n",
       "      <td>23:59:59.983000</td>\n",
       "    </tr>\n",
       "    <tr>\n",
       "      <th>569070</th>\n",
       "      <td>2019-05-01 23:59:59.983</td>\n",
       "      <td>36.177378</td>\n",
       "      <td>-86.750281</td>\n",
       "      <td>Powered217673</td>\n",
       "      <td>99.0</td>\n",
       "      <td>1</td>\n",
       "      <td>2019-05-01</td>\n",
       "      <td>23:59:59.983000</td>\n",
       "    </tr>\n",
       "  </tbody>\n",
       "</table>\n",
       "<p>568784 rows × 8 columns</p>\n",
       "</div>"
      ],
      "text/plain": [
       "                   pubdatetime   latitude  longitude         sumdid  \\\n",
       "0      2019-05-01 00:01:41.247  36.136822 -86.799877   PoweredLIRL1   \n",
       "1      2019-05-01 00:01:41.247  36.191252 -86.772945   PoweredXWRWC   \n",
       "2      2019-05-01 00:01:41.247  36.144752 -86.806293   PoweredMEJEH   \n",
       "3      2019-05-01 00:01:41.247  36.162056 -86.774688   Powered1A7TC   \n",
       "4      2019-05-01 00:01:41.247  36.150973 -86.783109   Powered2TYEF   \n",
       "...                        ...        ...        ...            ...   \n",
       "569066 2019-05-01 23:59:59.643  36.163914 -86.769393  Powered875414   \n",
       "569067 2019-05-01 23:59:59.833  36.163933 -86.769403  Powered486289   \n",
       "569068 2019-05-01 23:59:59.947  36.154740 -86.784968  Powered583191   \n",
       "569069 2019-05-01 23:59:59.983  36.122224 -86.779943  Powered786553   \n",
       "569070 2019-05-01 23:59:59.983  36.177378 -86.750281  Powered217673   \n",
       "\n",
       "        chargelevel  companyname       dates            times  \n",
       "0              93.0            0  2019-05-01  00:01:41.247000  \n",
       "1              35.0            0  2019-05-01  00:01:41.247000  \n",
       "2              90.0            0  2019-05-01  00:01:41.247000  \n",
       "3              88.0            0  2019-05-01  00:01:41.247000  \n",
       "4              98.0            0  2019-05-01  00:01:41.247000  \n",
       "...             ...          ...         ...              ...  \n",
       "569066         86.0            1  2019-05-01  23:59:59.643000  \n",
       "569067         89.0            1  2019-05-01  23:59:59.833000  \n",
       "569068         57.0            1  2019-05-01  23:59:59.947000  \n",
       "569069         84.0            1  2019-05-01  23:59:59.983000  \n",
       "569070         99.0            1  2019-05-01  23:59:59.983000  \n",
       "\n",
       "[568784 rows x 8 columns]"
      ]
     },
     "execution_count": 25,
     "metadata": {},
     "output_type": "execute_result"
    }
   ],
   "source": [
    "may.loc[may[\"dates\"]== datetime.date(2019, 5, 1)]"
   ]
  },
  {
   "cell_type": "code",
   "execution_count": 26,
   "id": "6ce4276f",
   "metadata": {},
   "outputs": [],
   "source": [
    "#may.loc[may[\"pubdatetime\"]==datetime.date(\"2019,05,01\")]"
   ]
  },
  {
   "cell_type": "markdown",
   "id": "2c58bd46",
   "metadata": {},
   "source": [
    "okay!  that worked!  and it worked on the dates column, but not the pubdatetime column ... i'm guessing because the date is still attached to a time in that column, making it unsearchable that way.\n",
    "\n",
    "does this translate to the times column?  can i look for a specific time across all the rows?"
   ]
  },
  {
   "cell_type": "code",
   "execution_count": 27,
   "id": "319c1869",
   "metadata": {},
   "outputs": [],
   "source": [
    "#may.loc[may[\"times\"]==datetime.time(\"00:01:41.247000\")]\n",
    "#note - code here does not work.  need to convert it to something else ... ?"
   ]
  },
  {
   "cell_type": "code",
   "execution_count": 28,
   "id": "dea9f3a3",
   "metadata": {},
   "outputs": [],
   "source": [
    "may['hours'] = pd.to_datetime(may['pubdatetime']).dt.hour"
   ]
  },
  {
   "cell_type": "code",
   "execution_count": 29,
   "id": "93637897",
   "metadata": {
    "scrolled": true
   },
   "outputs": [
    {
     "data": {
      "text/html": [
       "<div>\n",
       "<style scoped>\n",
       "    .dataframe tbody tr th:only-of-type {\n",
       "        vertical-align: middle;\n",
       "    }\n",
       "\n",
       "    .dataframe tbody tr th {\n",
       "        vertical-align: top;\n",
       "    }\n",
       "\n",
       "    .dataframe thead th {\n",
       "        text-align: right;\n",
       "    }\n",
       "</style>\n",
       "<table border=\"1\" class=\"dataframe\">\n",
       "  <thead>\n",
       "    <tr style=\"text-align: right;\">\n",
       "      <th></th>\n",
       "      <th>pubdatetime</th>\n",
       "      <th>latitude</th>\n",
       "      <th>longitude</th>\n",
       "      <th>sumdid</th>\n",
       "      <th>chargelevel</th>\n",
       "      <th>companyname</th>\n",
       "      <th>dates</th>\n",
       "      <th>times</th>\n",
       "      <th>hours</th>\n",
       "    </tr>\n",
       "  </thead>\n",
       "  <tbody>\n",
       "    <tr>\n",
       "      <th>0</th>\n",
       "      <td>2019-05-01 00:01:41.247</td>\n",
       "      <td>36.136822</td>\n",
       "      <td>-86.799877</td>\n",
       "      <td>PoweredLIRL1</td>\n",
       "      <td>93.0</td>\n",
       "      <td>0</td>\n",
       "      <td>2019-05-01</td>\n",
       "      <td>00:01:41.247000</td>\n",
       "      <td>0</td>\n",
       "    </tr>\n",
       "    <tr>\n",
       "      <th>1</th>\n",
       "      <td>2019-05-01 00:01:41.247</td>\n",
       "      <td>36.191252</td>\n",
       "      <td>-86.772945</td>\n",
       "      <td>PoweredXWRWC</td>\n",
       "      <td>35.0</td>\n",
       "      <td>0</td>\n",
       "      <td>2019-05-01</td>\n",
       "      <td>00:01:41.247000</td>\n",
       "      <td>0</td>\n",
       "    </tr>\n",
       "    <tr>\n",
       "      <th>2</th>\n",
       "      <td>2019-05-01 00:01:41.247</td>\n",
       "      <td>36.144752</td>\n",
       "      <td>-86.806293</td>\n",
       "      <td>PoweredMEJEH</td>\n",
       "      <td>90.0</td>\n",
       "      <td>0</td>\n",
       "      <td>2019-05-01</td>\n",
       "      <td>00:01:41.247000</td>\n",
       "      <td>0</td>\n",
       "    </tr>\n",
       "    <tr>\n",
       "      <th>3</th>\n",
       "      <td>2019-05-01 00:01:41.247</td>\n",
       "      <td>36.162056</td>\n",
       "      <td>-86.774688</td>\n",
       "      <td>Powered1A7TC</td>\n",
       "      <td>88.0</td>\n",
       "      <td>0</td>\n",
       "      <td>2019-05-01</td>\n",
       "      <td>00:01:41.247000</td>\n",
       "      <td>0</td>\n",
       "    </tr>\n",
       "    <tr>\n",
       "      <th>4</th>\n",
       "      <td>2019-05-01 00:01:41.247</td>\n",
       "      <td>36.150973</td>\n",
       "      <td>-86.783109</td>\n",
       "      <td>Powered2TYEF</td>\n",
       "      <td>98.0</td>\n",
       "      <td>0</td>\n",
       "      <td>2019-05-01</td>\n",
       "      <td>00:01:41.247000</td>\n",
       "      <td>0</td>\n",
       "    </tr>\n",
       "  </tbody>\n",
       "</table>\n",
       "</div>"
      ],
      "text/plain": [
       "              pubdatetime   latitude  longitude        sumdid  chargelevel  \\\n",
       "0 2019-05-01 00:01:41.247  36.136822 -86.799877  PoweredLIRL1         93.0   \n",
       "1 2019-05-01 00:01:41.247  36.191252 -86.772945  PoweredXWRWC         35.0   \n",
       "2 2019-05-01 00:01:41.247  36.144752 -86.806293  PoweredMEJEH         90.0   \n",
       "3 2019-05-01 00:01:41.247  36.162056 -86.774688  Powered1A7TC         88.0   \n",
       "4 2019-05-01 00:01:41.247  36.150973 -86.783109  Powered2TYEF         98.0   \n",
       "\n",
       "   companyname       dates            times  hours  \n",
       "0            0  2019-05-01  00:01:41.247000      0  \n",
       "1            0  2019-05-01  00:01:41.247000      0  \n",
       "2            0  2019-05-01  00:01:41.247000      0  \n",
       "3            0  2019-05-01  00:01:41.247000      0  \n",
       "4            0  2019-05-01  00:01:41.247000      0  "
      ]
     },
     "execution_count": 29,
     "metadata": {},
     "output_type": "execute_result"
    }
   ],
   "source": [
    "may.head()"
   ]
  },
  {
   "cell_type": "code",
   "execution_count": 30,
   "id": "9446db56",
   "metadata": {},
   "outputs": [
    {
     "data": {
      "text/html": [
       "<div>\n",
       "<style scoped>\n",
       "    .dataframe tbody tr th:only-of-type {\n",
       "        vertical-align: middle;\n",
       "    }\n",
       "\n",
       "    .dataframe tbody tr th {\n",
       "        vertical-align: top;\n",
       "    }\n",
       "\n",
       "    .dataframe thead th {\n",
       "        text-align: right;\n",
       "    }\n",
       "</style>\n",
       "<table border=\"1\" class=\"dataframe\">\n",
       "  <thead>\n",
       "    <tr style=\"text-align: right;\">\n",
       "      <th></th>\n",
       "      <th>pubdatetime</th>\n",
       "      <th>latitude</th>\n",
       "      <th>longitude</th>\n",
       "      <th>sumdid</th>\n",
       "      <th>chargelevel</th>\n",
       "      <th>companyname</th>\n",
       "      <th>dates</th>\n",
       "      <th>times</th>\n",
       "      <th>hours</th>\n",
       "    </tr>\n",
       "  </thead>\n",
       "  <tbody>\n",
       "    <tr>\n",
       "      <th>20292498</th>\n",
       "      <td>2019-05-31 23:59:42</td>\n",
       "      <td>36.1639</td>\n",
       "      <td>-86.7823</td>\n",
       "      <td>Poweredbb60ef04-c719-597f-805f-20978964fd8c</td>\n",
       "      <td>49.0</td>\n",
       "      <td>5</td>\n",
       "      <td>2019-05-31</td>\n",
       "      <td>23:59:42</td>\n",
       "      <td>23</td>\n",
       "    </tr>\n",
       "    <tr>\n",
       "      <th>20292499</th>\n",
       "      <td>2019-05-31 23:59:42</td>\n",
       "      <td>36.1606</td>\n",
       "      <td>-86.7768</td>\n",
       "      <td>Powered9f5743ed-7f81-539b-9e37-6503d54445d3</td>\n",
       "      <td>68.0</td>\n",
       "      <td>5</td>\n",
       "      <td>2019-05-31</td>\n",
       "      <td>23:59:42</td>\n",
       "      <td>23</td>\n",
       "    </tr>\n",
       "    <tr>\n",
       "      <th>20292500</th>\n",
       "      <td>2019-05-31 23:59:42</td>\n",
       "      <td>36.1606</td>\n",
       "      <td>-86.7769</td>\n",
       "      <td>Powered5744d1db-3bbe-55e5-9a23-a93828ba54fc</td>\n",
       "      <td>53.0</td>\n",
       "      <td>5</td>\n",
       "      <td>2019-05-31</td>\n",
       "      <td>23:59:42</td>\n",
       "      <td>23</td>\n",
       "    </tr>\n",
       "    <tr>\n",
       "      <th>20292501</th>\n",
       "      <td>2019-05-31 23:59:42</td>\n",
       "      <td>36.1624</td>\n",
       "      <td>-86.7745</td>\n",
       "      <td>Poweredad1d6d3b-162a-5bec-bffd-cac4ac8dee1c</td>\n",
       "      <td>42.0</td>\n",
       "      <td>5</td>\n",
       "      <td>2019-05-31</td>\n",
       "      <td>23:59:42</td>\n",
       "      <td>23</td>\n",
       "    </tr>\n",
       "    <tr>\n",
       "      <th>20292502</th>\n",
       "      <td>2019-05-31 23:59:42</td>\n",
       "      <td>36.1519</td>\n",
       "      <td>-86.7985</td>\n",
       "      <td>Powered8505008e-97c9-5003-8975-2ea6b2634fa0</td>\n",
       "      <td>76.0</td>\n",
       "      <td>5</td>\n",
       "      <td>2019-05-31</td>\n",
       "      <td>23:59:42</td>\n",
       "      <td>23</td>\n",
       "    </tr>\n",
       "  </tbody>\n",
       "</table>\n",
       "</div>"
      ],
      "text/plain": [
       "                 pubdatetime  latitude  longitude  \\\n",
       "20292498 2019-05-31 23:59:42   36.1639   -86.7823   \n",
       "20292499 2019-05-31 23:59:42   36.1606   -86.7768   \n",
       "20292500 2019-05-31 23:59:42   36.1606   -86.7769   \n",
       "20292501 2019-05-31 23:59:42   36.1624   -86.7745   \n",
       "20292502 2019-05-31 23:59:42   36.1519   -86.7985   \n",
       "\n",
       "                                               sumdid  chargelevel  \\\n",
       "20292498  Poweredbb60ef04-c719-597f-805f-20978964fd8c         49.0   \n",
       "20292499  Powered9f5743ed-7f81-539b-9e37-6503d54445d3         68.0   \n",
       "20292500  Powered5744d1db-3bbe-55e5-9a23-a93828ba54fc         53.0   \n",
       "20292501  Poweredad1d6d3b-162a-5bec-bffd-cac4ac8dee1c         42.0   \n",
       "20292502  Powered8505008e-97c9-5003-8975-2ea6b2634fa0         76.0   \n",
       "\n",
       "          companyname       dates     times  hours  \n",
       "20292498            5  2019-05-31  23:59:42     23  \n",
       "20292499            5  2019-05-31  23:59:42     23  \n",
       "20292500            5  2019-05-31  23:59:42     23  \n",
       "20292501            5  2019-05-31  23:59:42     23  \n",
       "20292502            5  2019-05-31  23:59:42     23  "
      ]
     },
     "execution_count": 30,
     "metadata": {},
     "output_type": "execute_result"
    }
   ],
   "source": [
    "may.tail()"
   ]
  },
  {
   "cell_type": "code",
   "execution_count": 31,
   "id": "4fa762f5",
   "metadata": {},
   "outputs": [
    {
     "data": {
      "text/html": [
       "<div>\n",
       "<style scoped>\n",
       "    .dataframe tbody tr th:only-of-type {\n",
       "        vertical-align: middle;\n",
       "    }\n",
       "\n",
       "    .dataframe tbody tr th {\n",
       "        vertical-align: top;\n",
       "    }\n",
       "\n",
       "    .dataframe thead th {\n",
       "        text-align: right;\n",
       "    }\n",
       "</style>\n",
       "<table border=\"1\" class=\"dataframe\">\n",
       "  <thead>\n",
       "    <tr style=\"text-align: right;\">\n",
       "      <th></th>\n",
       "      <th>pubdatetime</th>\n",
       "      <th>latitude</th>\n",
       "      <th>longitude</th>\n",
       "      <th>sumdid</th>\n",
       "      <th>chargelevel</th>\n",
       "      <th>companyname</th>\n",
       "      <th>dates</th>\n",
       "      <th>times</th>\n",
       "      <th>hours</th>\n",
       "    </tr>\n",
       "  </thead>\n",
       "  <tbody>\n",
       "    <tr>\n",
       "      <th>154603</th>\n",
       "      <td>2019-05-01 07:00:03.897</td>\n",
       "      <td>36.121480</td>\n",
       "      <td>-86.770450</td>\n",
       "      <td>Powered447</td>\n",
       "      <td>66.0</td>\n",
       "      <td>2</td>\n",
       "      <td>2019-05-01</td>\n",
       "      <td>07:00:03.897000</td>\n",
       "      <td>7</td>\n",
       "    </tr>\n",
       "    <tr>\n",
       "      <th>154604</th>\n",
       "      <td>2019-05-01 07:00:03.897</td>\n",
       "      <td>36.121393</td>\n",
       "      <td>-86.770228</td>\n",
       "      <td>Powered695</td>\n",
       "      <td>96.0</td>\n",
       "      <td>2</td>\n",
       "      <td>2019-05-01</td>\n",
       "      <td>07:00:03.897000</td>\n",
       "      <td>7</td>\n",
       "    </tr>\n",
       "    <tr>\n",
       "      <th>154605</th>\n",
       "      <td>2019-05-01 07:00:03.897</td>\n",
       "      <td>36.144292</td>\n",
       "      <td>-86.811540</td>\n",
       "      <td>Powered341</td>\n",
       "      <td>90.0</td>\n",
       "      <td>2</td>\n",
       "      <td>2019-05-01</td>\n",
       "      <td>07:00:03.897000</td>\n",
       "      <td>7</td>\n",
       "    </tr>\n",
       "    <tr>\n",
       "      <th>154606</th>\n",
       "      <td>2019-05-01 07:00:03.897</td>\n",
       "      <td>36.121616</td>\n",
       "      <td>-86.770332</td>\n",
       "      <td>Powered351</td>\n",
       "      <td>61.0</td>\n",
       "      <td>2</td>\n",
       "      <td>2019-05-01</td>\n",
       "      <td>07:00:03.897000</td>\n",
       "      <td>7</td>\n",
       "    </tr>\n",
       "    <tr>\n",
       "      <th>154607</th>\n",
       "      <td>2019-05-01 07:00:03.897</td>\n",
       "      <td>36.121575</td>\n",
       "      <td>-86.770093</td>\n",
       "      <td>Powered759</td>\n",
       "      <td>41.0</td>\n",
       "      <td>2</td>\n",
       "      <td>2019-05-01</td>\n",
       "      <td>07:00:03.897000</td>\n",
       "      <td>7</td>\n",
       "    </tr>\n",
       "    <tr>\n",
       "      <th>...</th>\n",
       "      <td>...</td>\n",
       "      <td>...</td>\n",
       "      <td>...</td>\n",
       "      <td>...</td>\n",
       "      <td>...</td>\n",
       "      <td>...</td>\n",
       "      <td>...</td>\n",
       "      <td>...</td>\n",
       "      <td>...</td>\n",
       "    </tr>\n",
       "    <tr>\n",
       "      <th>19605697</th>\n",
       "      <td>2019-05-31 07:59:42.000</td>\n",
       "      <td>36.153000</td>\n",
       "      <td>-86.795300</td>\n",
       "      <td>Powerede980446c-be26-54ef-aa91-1b723da8855d</td>\n",
       "      <td>52.0</td>\n",
       "      <td>5</td>\n",
       "      <td>2019-05-31</td>\n",
       "      <td>07:59:42</td>\n",
       "      <td>7</td>\n",
       "    </tr>\n",
       "    <tr>\n",
       "      <th>19605698</th>\n",
       "      <td>2019-05-31 07:59:42.000</td>\n",
       "      <td>36.119700</td>\n",
       "      <td>-86.753000</td>\n",
       "      <td>Powered1bf0d1c6-a03f-5257-a6a2-f077adc42537</td>\n",
       "      <td>0.0</td>\n",
       "      <td>5</td>\n",
       "      <td>2019-05-31</td>\n",
       "      <td>07:59:42</td>\n",
       "      <td>7</td>\n",
       "    </tr>\n",
       "    <tr>\n",
       "      <th>19605699</th>\n",
       "      <td>2019-05-31 07:59:42.000</td>\n",
       "      <td>36.174200</td>\n",
       "      <td>-86.790500</td>\n",
       "      <td>Poweredde5a4ca9-6e8a-5b3f-b8ec-3b97b36a54f2</td>\n",
       "      <td>85.0</td>\n",
       "      <td>5</td>\n",
       "      <td>2019-05-31</td>\n",
       "      <td>07:59:42</td>\n",
       "      <td>7</td>\n",
       "    </tr>\n",
       "    <tr>\n",
       "      <th>19605700</th>\n",
       "      <td>2019-05-31 07:59:42.000</td>\n",
       "      <td>36.120100</td>\n",
       "      <td>-86.753400</td>\n",
       "      <td>Poweredfe2bc4e4-5fd7-56c1-8e30-e752cf8316d7</td>\n",
       "      <td>0.0</td>\n",
       "      <td>5</td>\n",
       "      <td>2019-05-31</td>\n",
       "      <td>07:59:42</td>\n",
       "      <td>7</td>\n",
       "    </tr>\n",
       "    <tr>\n",
       "      <th>19605701</th>\n",
       "      <td>2019-05-31 07:59:50.453</td>\n",
       "      <td>36.163874</td>\n",
       "      <td>-86.769386</td>\n",
       "      <td>Powered570146</td>\n",
       "      <td>74.0</td>\n",
       "      <td>1</td>\n",
       "      <td>2019-05-31</td>\n",
       "      <td>07:59:50.453000</td>\n",
       "      <td>7</td>\n",
       "    </tr>\n",
       "  </tbody>\n",
       "</table>\n",
       "<p>645388 rows × 9 columns</p>\n",
       "</div>"
      ],
      "text/plain": [
       "                     pubdatetime   latitude  longitude  \\\n",
       "154603   2019-05-01 07:00:03.897  36.121480 -86.770450   \n",
       "154604   2019-05-01 07:00:03.897  36.121393 -86.770228   \n",
       "154605   2019-05-01 07:00:03.897  36.144292 -86.811540   \n",
       "154606   2019-05-01 07:00:03.897  36.121616 -86.770332   \n",
       "154607   2019-05-01 07:00:03.897  36.121575 -86.770093   \n",
       "...                          ...        ...        ...   \n",
       "19605697 2019-05-31 07:59:42.000  36.153000 -86.795300   \n",
       "19605698 2019-05-31 07:59:42.000  36.119700 -86.753000   \n",
       "19605699 2019-05-31 07:59:42.000  36.174200 -86.790500   \n",
       "19605700 2019-05-31 07:59:42.000  36.120100 -86.753400   \n",
       "19605701 2019-05-31 07:59:50.453  36.163874 -86.769386   \n",
       "\n",
       "                                               sumdid  chargelevel  \\\n",
       "154603                                     Powered447         66.0   \n",
       "154604                                     Powered695         96.0   \n",
       "154605                                     Powered341         90.0   \n",
       "154606                                     Powered351         61.0   \n",
       "154607                                     Powered759         41.0   \n",
       "...                                               ...          ...   \n",
       "19605697  Powerede980446c-be26-54ef-aa91-1b723da8855d         52.0   \n",
       "19605698  Powered1bf0d1c6-a03f-5257-a6a2-f077adc42537          0.0   \n",
       "19605699  Poweredde5a4ca9-6e8a-5b3f-b8ec-3b97b36a54f2         85.0   \n",
       "19605700  Poweredfe2bc4e4-5fd7-56c1-8e30-e752cf8316d7          0.0   \n",
       "19605701                                Powered570146         74.0   \n",
       "\n",
       "          companyname       dates            times  hours  \n",
       "154603              2  2019-05-01  07:00:03.897000      7  \n",
       "154604              2  2019-05-01  07:00:03.897000      7  \n",
       "154605              2  2019-05-01  07:00:03.897000      7  \n",
       "154606              2  2019-05-01  07:00:03.897000      7  \n",
       "154607              2  2019-05-01  07:00:03.897000      7  \n",
       "...               ...         ...              ...    ...  \n",
       "19605697            5  2019-05-31         07:59:42      7  \n",
       "19605698            5  2019-05-31         07:59:42      7  \n",
       "19605699            5  2019-05-31         07:59:42      7  \n",
       "19605700            5  2019-05-31         07:59:42      7  \n",
       "19605701            1  2019-05-31  07:59:50.453000      7  \n",
       "\n",
       "[645388 rows x 9 columns]"
      ]
     },
     "execution_count": 31,
     "metadata": {},
     "output_type": "execute_result"
    }
   ],
   "source": [
    "may.loc[may[\"hours\"]==(7)]"
   ]
  },
  {
   "cell_type": "code",
   "execution_count": 32,
   "id": "4fb84b83",
   "metadata": {},
   "outputs": [
    {
     "data": {
      "text/html": [
       "<div>\n",
       "<style scoped>\n",
       "    .dataframe tbody tr th:only-of-type {\n",
       "        vertical-align: middle;\n",
       "    }\n",
       "\n",
       "    .dataframe tbody tr th {\n",
       "        vertical-align: top;\n",
       "    }\n",
       "\n",
       "    .dataframe thead th {\n",
       "        text-align: right;\n",
       "    }\n",
       "</style>\n",
       "<table border=\"1\" class=\"dataframe\">\n",
       "  <thead>\n",
       "    <tr style=\"text-align: right;\">\n",
       "      <th></th>\n",
       "      <th>pubdatetime</th>\n",
       "      <th>latitude</th>\n",
       "      <th>longitude</th>\n",
       "      <th>sumdid</th>\n",
       "      <th>chargelevel</th>\n",
       "      <th>companyname</th>\n",
       "      <th>dates</th>\n",
       "      <th>times</th>\n",
       "      <th>hours</th>\n",
       "    </tr>\n",
       "  </thead>\n",
       "  <tbody>\n",
       "    <tr>\n",
       "      <th>154603</th>\n",
       "      <td>2019-05-01 07:00:03.897</td>\n",
       "      <td>36.121480</td>\n",
       "      <td>-86.770450</td>\n",
       "      <td>Powered447</td>\n",
       "      <td>66.0</td>\n",
       "      <td>2</td>\n",
       "      <td>2019-05-01</td>\n",
       "      <td>07:00:03.897000</td>\n",
       "      <td>7</td>\n",
       "    </tr>\n",
       "    <tr>\n",
       "      <th>154604</th>\n",
       "      <td>2019-05-01 07:00:03.897</td>\n",
       "      <td>36.121393</td>\n",
       "      <td>-86.770228</td>\n",
       "      <td>Powered695</td>\n",
       "      <td>96.0</td>\n",
       "      <td>2</td>\n",
       "      <td>2019-05-01</td>\n",
       "      <td>07:00:03.897000</td>\n",
       "      <td>7</td>\n",
       "    </tr>\n",
       "    <tr>\n",
       "      <th>154605</th>\n",
       "      <td>2019-05-01 07:00:03.897</td>\n",
       "      <td>36.144292</td>\n",
       "      <td>-86.811540</td>\n",
       "      <td>Powered341</td>\n",
       "      <td>90.0</td>\n",
       "      <td>2</td>\n",
       "      <td>2019-05-01</td>\n",
       "      <td>07:00:03.897000</td>\n",
       "      <td>7</td>\n",
       "    </tr>\n",
       "    <tr>\n",
       "      <th>154606</th>\n",
       "      <td>2019-05-01 07:00:03.897</td>\n",
       "      <td>36.121616</td>\n",
       "      <td>-86.770332</td>\n",
       "      <td>Powered351</td>\n",
       "      <td>61.0</td>\n",
       "      <td>2</td>\n",
       "      <td>2019-05-01</td>\n",
       "      <td>07:00:03.897000</td>\n",
       "      <td>7</td>\n",
       "    </tr>\n",
       "    <tr>\n",
       "      <th>154607</th>\n",
       "      <td>2019-05-01 07:00:03.897</td>\n",
       "      <td>36.121575</td>\n",
       "      <td>-86.770093</td>\n",
       "      <td>Powered759</td>\n",
       "      <td>41.0</td>\n",
       "      <td>2</td>\n",
       "      <td>2019-05-01</td>\n",
       "      <td>07:00:03.897000</td>\n",
       "      <td>7</td>\n",
       "    </tr>\n",
       "    <tr>\n",
       "      <th>...</th>\n",
       "      <td>...</td>\n",
       "      <td>...</td>\n",
       "      <td>...</td>\n",
       "      <td>...</td>\n",
       "      <td>...</td>\n",
       "      <td>...</td>\n",
       "      <td>...</td>\n",
       "      <td>...</td>\n",
       "      <td>...</td>\n",
       "    </tr>\n",
       "    <tr>\n",
       "      <th>19670960</th>\n",
       "      <td>2019-05-31 09:59:46.510</td>\n",
       "      <td>36.177697</td>\n",
       "      <td>-86.777695</td>\n",
       "      <td>PoweredZYASW</td>\n",
       "      <td>83.0</td>\n",
       "      <td>0</td>\n",
       "      <td>2019-05-31</td>\n",
       "      <td>09:59:46.510000</td>\n",
       "      <td>9</td>\n",
       "    </tr>\n",
       "    <tr>\n",
       "      <th>19670961</th>\n",
       "      <td>2019-05-31 09:59:46.510</td>\n",
       "      <td>36.154415</td>\n",
       "      <td>-86.779239</td>\n",
       "      <td>Powered5ZVXC</td>\n",
       "      <td>100.0</td>\n",
       "      <td>0</td>\n",
       "      <td>2019-05-31</td>\n",
       "      <td>09:59:46.510000</td>\n",
       "      <td>9</td>\n",
       "    </tr>\n",
       "    <tr>\n",
       "      <th>19670962</th>\n",
       "      <td>2019-05-31 09:59:46.510</td>\n",
       "      <td>36.180934</td>\n",
       "      <td>-86.749486</td>\n",
       "      <td>Powered72PTV</td>\n",
       "      <td>96.0</td>\n",
       "      <td>0</td>\n",
       "      <td>2019-05-31</td>\n",
       "      <td>09:59:46.510000</td>\n",
       "      <td>9</td>\n",
       "    </tr>\n",
       "    <tr>\n",
       "      <th>19670963</th>\n",
       "      <td>2019-05-31 09:59:46.510</td>\n",
       "      <td>36.171303</td>\n",
       "      <td>-86.752101</td>\n",
       "      <td>PoweredYFN3B</td>\n",
       "      <td>100.0</td>\n",
       "      <td>0</td>\n",
       "      <td>2019-05-31</td>\n",
       "      <td>09:59:46.510000</td>\n",
       "      <td>9</td>\n",
       "    </tr>\n",
       "    <tr>\n",
       "      <th>19670964</th>\n",
       "      <td>2019-05-31 09:59:46.510</td>\n",
       "      <td>36.163723</td>\n",
       "      <td>-86.770110</td>\n",
       "      <td>PoweredQTW6I</td>\n",
       "      <td>39.0</td>\n",
       "      <td>0</td>\n",
       "      <td>2019-05-31</td>\n",
       "      <td>09:59:46.510000</td>\n",
       "      <td>9</td>\n",
       "    </tr>\n",
       "  </tbody>\n",
       "</table>\n",
       "<p>1892185 rows × 9 columns</p>\n",
       "</div>"
      ],
      "text/plain": [
       "                     pubdatetime   latitude  longitude        sumdid  \\\n",
       "154603   2019-05-01 07:00:03.897  36.121480 -86.770450    Powered447   \n",
       "154604   2019-05-01 07:00:03.897  36.121393 -86.770228    Powered695   \n",
       "154605   2019-05-01 07:00:03.897  36.144292 -86.811540    Powered341   \n",
       "154606   2019-05-01 07:00:03.897  36.121616 -86.770332    Powered351   \n",
       "154607   2019-05-01 07:00:03.897  36.121575 -86.770093    Powered759   \n",
       "...                          ...        ...        ...           ...   \n",
       "19670960 2019-05-31 09:59:46.510  36.177697 -86.777695  PoweredZYASW   \n",
       "19670961 2019-05-31 09:59:46.510  36.154415 -86.779239  Powered5ZVXC   \n",
       "19670962 2019-05-31 09:59:46.510  36.180934 -86.749486  Powered72PTV   \n",
       "19670963 2019-05-31 09:59:46.510  36.171303 -86.752101  PoweredYFN3B   \n",
       "19670964 2019-05-31 09:59:46.510  36.163723 -86.770110  PoweredQTW6I   \n",
       "\n",
       "          chargelevel  companyname       dates            times  hours  \n",
       "154603           66.0            2  2019-05-01  07:00:03.897000      7  \n",
       "154604           96.0            2  2019-05-01  07:00:03.897000      7  \n",
       "154605           90.0            2  2019-05-01  07:00:03.897000      7  \n",
       "154606           61.0            2  2019-05-01  07:00:03.897000      7  \n",
       "154607           41.0            2  2019-05-01  07:00:03.897000      7  \n",
       "...               ...          ...         ...              ...    ...  \n",
       "19670960         83.0            0  2019-05-31  09:59:46.510000      9  \n",
       "19670961        100.0            0  2019-05-31  09:59:46.510000      9  \n",
       "19670962         96.0            0  2019-05-31  09:59:46.510000      9  \n",
       "19670963        100.0            0  2019-05-31  09:59:46.510000      9  \n",
       "19670964         39.0            0  2019-05-31  09:59:46.510000      9  \n",
       "\n",
       "[1892185 rows x 9 columns]"
      ]
     },
     "execution_count": 32,
     "metadata": {},
     "output_type": "execute_result"
    }
   ],
   "source": [
    "may.loc[(may['hours'] > 6) & (may['hours'] < 10)]"
   ]
  },
  {
   "cell_type": "markdown",
   "id": "4ffcb38c",
   "metadata": {},
   "source": [
    "Okay!  so, i have a dates column that i can filter on to find all data for a specific date - useful!\n",
    "\n",
    "and i have an hours column that i can filter on for a specific hour-wide window, or a range of hours - also useful!  "
   ]
  },
  {
   "cell_type": "markdown",
   "id": "e202823f",
   "metadata": {},
   "source": [
    "#NOW TO LOOK AT THE DATA OF THE TRIPS DF"
   ]
  },
  {
   "cell_type": "code",
   "execution_count": 33,
   "id": "c14f3c44",
   "metadata": {},
   "outputs": [],
   "source": [
    "#maytrip.head()"
   ]
  },
  {
   "cell_type": "code",
   "execution_count": 34,
   "id": "f0bb92fe",
   "metadata": {},
   "outputs": [],
   "source": [
    "#maytrip.tail()"
   ]
  },
  {
   "cell_type": "code",
   "execution_count": 35,
   "id": "d0628d9e",
   "metadata": {},
   "outputs": [],
   "source": [
    "#maytrip.info()"
   ]
  },
  {
   "cell_type": "markdown",
   "id": "38054a04",
   "metadata": {},
   "source": [
    "Hmmm ... i'm not sure just now what to do with this.  But, i think it should be possible to merge it with the other one?  which one would be left though?  and do i really need to do that?\n",
    "\n",
    "if i do ... it would probably be useful to me to convert the company names to the same numbers to start with.  That way there's any hope of the two dfs talking with one another ... "
   ]
  },
  {
   "cell_type": "code",
   "execution_count": 36,
   "id": "72b183d4",
   "metadata": {},
   "outputs": [],
   "source": [
    "#maytrip.companyName.unique()"
   ]
  },
  {
   "cell_type": "code",
   "execution_count": 37,
   "id": "fc178975",
   "metadata": {},
   "outputs": [],
   "source": [
    "#company_dict = {'Bird':0, 'Lyft': 1, 'Gotcha': 2, 'Lime': 3, 'SPIN': 4, 'JUMP': 5, 'Bolt Mobility': 6}"
   ]
  },
  {
   "cell_type": "code",
   "execution_count": 38,
   "id": "7ef7f5d3",
   "metadata": {},
   "outputs": [],
   "source": [
    "#maytrip.companyName = maytrip.companyName.replace(company_dict)"
   ]
  },
  {
   "cell_type": "code",
   "execution_count": 39,
   "id": "30e51465",
   "metadata": {},
   "outputs": [],
   "source": [
    "#maytrip.head()"
   ]
  },
  {
   "cell_type": "markdown",
   "id": "d4839ee5",
   "metadata": {},
   "source": [
    "the variations on the column titles is going to be annoying to me too.  let's get these to match the ones in may"
   ]
  },
  {
   "cell_type": "code",
   "execution_count": 40,
   "id": "588637a2",
   "metadata": {},
   "outputs": [],
   "source": [
    "#may.columns"
   ]
  },
  {
   "cell_type": "code",
   "execution_count": 41,
   "id": "47c738bd",
   "metadata": {},
   "outputs": [],
   "source": [
    "#maytrip.columns"
   ]
  },
  {
   "cell_type": "code",
   "execution_count": 42,
   "id": "0c20b673",
   "metadata": {},
   "outputs": [],
   "source": [
    "#maytrip = maytrip.rename(columns={'pubTimeStamp':'pubdatetime', 'companyName':'companyname', 'tripRecordNum':'tripnum', 'sumdID':'sumdid','tripDuration':'tripduration', 'tripDistance':'tripdistance', 'startDate':'startdate', 'startTime':'starttime', 'endDate':'enddate', 'endTime':'endtime', 'startLatitude':'startlat', 'startLongitude':'startlong', 'endLatitude':'endlat', 'endLongitude':'endlong', 'tripRoute':'triproute'})"
   ]
  },
  {
   "cell_type": "code",
   "execution_count": 43,
   "id": "d13ecf92",
   "metadata": {},
   "outputs": [],
   "source": [
    "#maytrip.head()"
   ]
  },
  {
   "cell_type": "markdown",
   "id": "5dd8c264",
   "metadata": {},
   "source": [
    "better!  also, i'm betting it will be useful here too to be able to search for things by date or time, given the commute focus we're aiming for"
   ]
  },
  {
   "cell_type": "code",
   "execution_count": 44,
   "id": "ec6dd847",
   "metadata": {},
   "outputs": [
    {
     "data": {
      "text/plain": [
       "\"maytrip.pubdatetime = pd.to_datetime(maytrip.pubdatetime)\\nmaytrip['dates'] = pd.to_datetime(maytrip['pubdatetime']).dt.date\\nmaytrip['times'] = pd.to_datetime(maytrip['pubdatetime']).dt.time\\nmaytrip['hours'] = pd.to_datetime(maytrip['pubdatetime']).dt.hour\\nmaytrip.head()\""
      ]
     },
     "execution_count": 44,
     "metadata": {},
     "output_type": "execute_result"
    }
   ],
   "source": [
    "'''maytrip.pubdatetime = pd.to_datetime(maytrip.pubdatetime)\n",
    "maytrip['dates'] = pd.to_datetime(maytrip['pubdatetime']).dt.date\n",
    "maytrip['times'] = pd.to_datetime(maytrip['pubdatetime']).dt.time\n",
    "maytrip['hours'] = pd.to_datetime(maytrip['pubdatetime']).dt.hour\n",
    "maytrip.head()'''"
   ]
  },
  {
   "cell_type": "code",
   "execution_count": 45,
   "id": "13888dbf",
   "metadata": {},
   "outputs": [],
   "source": [
    "#maytrip.info()"
   ]
  },
  {
   "cell_type": "markdown",
   "id": "0400fcef",
   "metadata": {},
   "source": [
    "now, the readme suggests that there may be some trips here of very short distance or very long duration, and that we should remove them.  duration first - anything of less than one minute or more than 24 hours.  they need to be removed.  \n",
    "\n",
    "the column is listed in rounded hours that the trip lasted"
   ]
  },
  {
   "cell_type": "code",
   "execution_count": 46,
   "id": "54a81306",
   "metadata": {},
   "outputs": [],
   "source": [
    "#maytrip[(maytrip['tripduration'] > 24.0)]"
   ]
  },
  {
   "cell_type": "code",
   "execution_count": 47,
   "id": "9d44ff60",
   "metadata": {},
   "outputs": [],
   "source": [
    "#maytrip.sort_values(\"tripduration\")"
   ]
  },
  {
   "cell_type": "code",
   "execution_count": 48,
   "id": "ae26dc9b",
   "metadata": {},
   "outputs": [],
   "source": [
    "#maytrip[(maytrip['tripduration'] <= 0.01)]"
   ]
  },
  {
   "cell_type": "markdown",
   "id": "d7e07ef8",
   "metadata": {},
   "source": [
    "... now i'm wondering if i even need to take these rows out.  doing that is to make the df smaller and faster to work with, but this is already small"
   ]
  },
  {
   "cell_type": "code",
   "execution_count": 49,
   "id": "786a1771",
   "metadata": {},
   "outputs": [],
   "source": [
    "#maytrip.loc[(maytrip['starttime'] >= \"06:59:59.000000\") & (maytrip['endtime'] <= \"10:00:00.000000\")]"
   ]
  },
  {
   "cell_type": "markdown",
   "id": "6bb86346",
   "metadata": {},
   "source": [
    "... that did not do what i was hoping it would do.  need to try something else ... \n",
    "\n",
    "i need a start time between time_a and time_b and an end time between time_a and time_b.  not greaterthan/lessthan/equalto \n"
   ]
  },
  {
   "cell_type": "code",
   "execution_count": null,
   "id": "531c7eb7",
   "metadata": {},
   "outputs": [],
   "source": []
  },
  {
   "cell_type": "markdown",
   "id": "907b9c1d",
   "metadata": {},
   "source": [
    "#OKAY - BREAKING THIS PROJECT UP.  I AM LOOKING TO FIND SCOOTERS THAT HAVE BEEN ABANDONED.  SCOOTERS THAT ARE SITTING IN THE SAME PLACE FOR A LONG TIME, LOSING A CHARGE, NOT BEING USED.\n",
    "\n",
    "FIRST STEP - FINDING SCOOTERS THAT AREN'T MOVING.  UNIQUE SUMDID, LOCATION UNCHANGED.  A FOR-LOOP SHOULD DO IT I THINK?"
   ]
  },
  {
   "cell_type": "markdown",
   "id": "18cc48b0",
   "metadata": {},
   "source": [
    "first , i'm going to sort my data.  all the individual scooters together, then sorted by datetime"
   ]
  },
  {
   "cell_type": "code",
   "execution_count": 50,
   "id": "0ecbb086",
   "metadata": {},
   "outputs": [],
   "source": [
    "maysorted = may.sort_values(['sumdid', 'pubdatetime'])"
   ]
  },
  {
   "cell_type": "code",
   "execution_count": 51,
   "id": "14aeb39d",
   "metadata": {
    "scrolled": true
   },
   "outputs": [
    {
     "data": {
      "text/html": [
       "<div>\n",
       "<style scoped>\n",
       "    .dataframe tbody tr th:only-of-type {\n",
       "        vertical-align: middle;\n",
       "    }\n",
       "\n",
       "    .dataframe tbody tr th {\n",
       "        vertical-align: top;\n",
       "    }\n",
       "\n",
       "    .dataframe thead th {\n",
       "        text-align: right;\n",
       "    }\n",
       "</style>\n",
       "<table border=\"1\" class=\"dataframe\">\n",
       "  <thead>\n",
       "    <tr style=\"text-align: right;\">\n",
       "      <th></th>\n",
       "      <th>pubdatetime</th>\n",
       "      <th>latitude</th>\n",
       "      <th>longitude</th>\n",
       "      <th>sumdid</th>\n",
       "      <th>chargelevel</th>\n",
       "      <th>companyname</th>\n",
       "      <th>dates</th>\n",
       "      <th>times</th>\n",
       "      <th>hours</th>\n",
       "    </tr>\n",
       "  </thead>\n",
       "  <tbody>\n",
       "    <tr>\n",
       "      <th>12757337</th>\n",
       "      <td>2019-05-24 00:04:42</td>\n",
       "      <td>36.161549</td>\n",
       "      <td>-86.775012</td>\n",
       "      <td>Powered-017d3133-f14a-2b83-ee4f-d777e7c5b619</td>\n",
       "      <td>100.0</td>\n",
       "      <td>6</td>\n",
       "      <td>2019-05-24</td>\n",
       "      <td>00:04:42</td>\n",
       "      <td>0</td>\n",
       "    </tr>\n",
       "    <tr>\n",
       "      <th>12761150</th>\n",
       "      <td>2019-05-24 00:09:42</td>\n",
       "      <td>36.161505</td>\n",
       "      <td>-86.775087</td>\n",
       "      <td>Powered-017d3133-f14a-2b83-ee4f-d777e7c5b619</td>\n",
       "      <td>100.0</td>\n",
       "      <td>6</td>\n",
       "      <td>2019-05-24</td>\n",
       "      <td>00:09:42</td>\n",
       "      <td>0</td>\n",
       "    </tr>\n",
       "    <tr>\n",
       "      <th>12765093</th>\n",
       "      <td>2019-05-24 00:14:42</td>\n",
       "      <td>36.161555</td>\n",
       "      <td>-86.775050</td>\n",
       "      <td>Powered-017d3133-f14a-2b83-ee4f-d777e7c5b619</td>\n",
       "      <td>100.0</td>\n",
       "      <td>6</td>\n",
       "      <td>2019-05-24</td>\n",
       "      <td>00:14:42</td>\n",
       "      <td>0</td>\n",
       "    </tr>\n",
       "    <tr>\n",
       "      <th>12769113</th>\n",
       "      <td>2019-05-24 00:19:42</td>\n",
       "      <td>36.161609</td>\n",
       "      <td>-86.775016</td>\n",
       "      <td>Powered-017d3133-f14a-2b83-ee4f-d777e7c5b619</td>\n",
       "      <td>100.0</td>\n",
       "      <td>6</td>\n",
       "      <td>2019-05-24</td>\n",
       "      <td>00:19:42</td>\n",
       "      <td>0</td>\n",
       "    </tr>\n",
       "    <tr>\n",
       "      <th>12773048</th>\n",
       "      <td>2019-05-24 00:24:43</td>\n",
       "      <td>36.161596</td>\n",
       "      <td>-86.775033</td>\n",
       "      <td>Powered-017d3133-f14a-2b83-ee4f-d777e7c5b619</td>\n",
       "      <td>100.0</td>\n",
       "      <td>6</td>\n",
       "      <td>2019-05-24</td>\n",
       "      <td>00:24:43</td>\n",
       "      <td>0</td>\n",
       "    </tr>\n",
       "  </tbody>\n",
       "</table>\n",
       "</div>"
      ],
      "text/plain": [
       "                 pubdatetime   latitude  longitude  \\\n",
       "12757337 2019-05-24 00:04:42  36.161549 -86.775012   \n",
       "12761150 2019-05-24 00:09:42  36.161505 -86.775087   \n",
       "12765093 2019-05-24 00:14:42  36.161555 -86.775050   \n",
       "12769113 2019-05-24 00:19:42  36.161609 -86.775016   \n",
       "12773048 2019-05-24 00:24:43  36.161596 -86.775033   \n",
       "\n",
       "                                                sumdid  chargelevel  \\\n",
       "12757337  Powered-017d3133-f14a-2b83-ee4f-d777e7c5b619        100.0   \n",
       "12761150  Powered-017d3133-f14a-2b83-ee4f-d777e7c5b619        100.0   \n",
       "12765093  Powered-017d3133-f14a-2b83-ee4f-d777e7c5b619        100.0   \n",
       "12769113  Powered-017d3133-f14a-2b83-ee4f-d777e7c5b619        100.0   \n",
       "12773048  Powered-017d3133-f14a-2b83-ee4f-d777e7c5b619        100.0   \n",
       "\n",
       "          companyname       dates     times  hours  \n",
       "12757337            6  2019-05-24  00:04:42      0  \n",
       "12761150            6  2019-05-24  00:09:42      0  \n",
       "12765093            6  2019-05-24  00:14:42      0  \n",
       "12769113            6  2019-05-24  00:19:42      0  \n",
       "12773048            6  2019-05-24  00:24:43      0  "
      ]
     },
     "execution_count": 51,
     "metadata": {},
     "output_type": "execute_result"
    }
   ],
   "source": [
    "maysorted.head()"
   ]
  },
  {
   "cell_type": "markdown",
   "id": "245f651a",
   "metadata": {},
   "source": [
    "now, i'm trying to find movement in the scooter.  i think i can find this with just one of the location columns.  going to try with latitude, just because the # is positive instead of negative ... "
   ]
  },
  {
   "cell_type": "markdown",
   "id": "06fdf456",
   "metadata": {},
   "source": [
    "just \"shift\" gave me a number, but using math - i get movement!  \"0.0\" = standing still!  "
   ]
  },
  {
   "cell_type": "code",
   "execution_count": 52,
   "id": "b9b444b9",
   "metadata": {},
   "outputs": [],
   "source": [
    "maysorted['latmovement'] = (maysorted.latitude.shift() - maysorted.latitude)"
   ]
  },
  {
   "cell_type": "code",
   "execution_count": 53,
   "id": "f8ca910c",
   "metadata": {},
   "outputs": [
    {
     "data": {
      "text/html": [
       "<div>\n",
       "<style scoped>\n",
       "    .dataframe tbody tr th:only-of-type {\n",
       "        vertical-align: middle;\n",
       "    }\n",
       "\n",
       "    .dataframe tbody tr th {\n",
       "        vertical-align: top;\n",
       "    }\n",
       "\n",
       "    .dataframe thead th {\n",
       "        text-align: right;\n",
       "    }\n",
       "</style>\n",
       "<table border=\"1\" class=\"dataframe\">\n",
       "  <thead>\n",
       "    <tr style=\"text-align: right;\">\n",
       "      <th></th>\n",
       "      <th>pubdatetime</th>\n",
       "      <th>latitude</th>\n",
       "      <th>longitude</th>\n",
       "      <th>sumdid</th>\n",
       "      <th>chargelevel</th>\n",
       "      <th>companyname</th>\n",
       "      <th>dates</th>\n",
       "      <th>times</th>\n",
       "      <th>hours</th>\n",
       "      <th>latmovement</th>\n",
       "    </tr>\n",
       "  </thead>\n",
       "  <tbody>\n",
       "    <tr>\n",
       "      <th>20275424</th>\n",
       "      <td>2019-05-31 23:35:13</td>\n",
       "      <td>36.1706</td>\n",
       "      <td>-86.7806</td>\n",
       "      <td>Poweredffdcc0c3-1db8-58e2-a876-036bbad5db5d</td>\n",
       "      <td>66.0</td>\n",
       "      <td>5</td>\n",
       "      <td>2019-05-31</td>\n",
       "      <td>23:35:13</td>\n",
       "      <td>23</td>\n",
       "      <td>0.0</td>\n",
       "    </tr>\n",
       "    <tr>\n",
       "      <th>20279019</th>\n",
       "      <td>2019-05-31 23:40:13</td>\n",
       "      <td>36.1706</td>\n",
       "      <td>-86.7806</td>\n",
       "      <td>Poweredffdcc0c3-1db8-58e2-a876-036bbad5db5d</td>\n",
       "      <td>66.0</td>\n",
       "      <td>5</td>\n",
       "      <td>2019-05-31</td>\n",
       "      <td>23:40:13</td>\n",
       "      <td>23</td>\n",
       "      <td>0.0</td>\n",
       "    </tr>\n",
       "    <tr>\n",
       "      <th>20282194</th>\n",
       "      <td>2019-05-31 23:45:12</td>\n",
       "      <td>36.1706</td>\n",
       "      <td>-86.7806</td>\n",
       "      <td>Poweredffdcc0c3-1db8-58e2-a876-036bbad5db5d</td>\n",
       "      <td>66.0</td>\n",
       "      <td>5</td>\n",
       "      <td>2019-05-31</td>\n",
       "      <td>23:45:12</td>\n",
       "      <td>23</td>\n",
       "      <td>0.0</td>\n",
       "    </tr>\n",
       "    <tr>\n",
       "      <th>20286222</th>\n",
       "      <td>2019-05-31 23:50:12</td>\n",
       "      <td>36.1706</td>\n",
       "      <td>-86.7806</td>\n",
       "      <td>Poweredffdcc0c3-1db8-58e2-a876-036bbad5db5d</td>\n",
       "      <td>66.0</td>\n",
       "      <td>5</td>\n",
       "      <td>2019-05-31</td>\n",
       "      <td>23:50:12</td>\n",
       "      <td>23</td>\n",
       "      <td>0.0</td>\n",
       "    </tr>\n",
       "    <tr>\n",
       "      <th>20289583</th>\n",
       "      <td>2019-05-31 23:55:12</td>\n",
       "      <td>36.1706</td>\n",
       "      <td>-86.7806</td>\n",
       "      <td>Poweredffdcc0c3-1db8-58e2-a876-036bbad5db5d</td>\n",
       "      <td>66.0</td>\n",
       "      <td>5</td>\n",
       "      <td>2019-05-31</td>\n",
       "      <td>23:55:12</td>\n",
       "      <td>23</td>\n",
       "      <td>0.0</td>\n",
       "    </tr>\n",
       "  </tbody>\n",
       "</table>\n",
       "</div>"
      ],
      "text/plain": [
       "                 pubdatetime  latitude  longitude  \\\n",
       "20275424 2019-05-31 23:35:13   36.1706   -86.7806   \n",
       "20279019 2019-05-31 23:40:13   36.1706   -86.7806   \n",
       "20282194 2019-05-31 23:45:12   36.1706   -86.7806   \n",
       "20286222 2019-05-31 23:50:12   36.1706   -86.7806   \n",
       "20289583 2019-05-31 23:55:12   36.1706   -86.7806   \n",
       "\n",
       "                                               sumdid  chargelevel  \\\n",
       "20275424  Poweredffdcc0c3-1db8-58e2-a876-036bbad5db5d         66.0   \n",
       "20279019  Poweredffdcc0c3-1db8-58e2-a876-036bbad5db5d         66.0   \n",
       "20282194  Poweredffdcc0c3-1db8-58e2-a876-036bbad5db5d         66.0   \n",
       "20286222  Poweredffdcc0c3-1db8-58e2-a876-036bbad5db5d         66.0   \n",
       "20289583  Poweredffdcc0c3-1db8-58e2-a876-036bbad5db5d         66.0   \n",
       "\n",
       "          companyname       dates     times  hours  latmovement  \n",
       "20275424            5  2019-05-31  23:35:13     23          0.0  \n",
       "20279019            5  2019-05-31  23:40:13     23          0.0  \n",
       "20282194            5  2019-05-31  23:45:12     23          0.0  \n",
       "20286222            5  2019-05-31  23:50:12     23          0.0  \n",
       "20289583            5  2019-05-31  23:55:12     23          0.0  "
      ]
     },
     "execution_count": 53,
     "metadata": {},
     "output_type": "execute_result"
    }
   ],
   "source": [
    "maysorted.tail()"
   ]
  },
  {
   "cell_type": "code",
   "execution_count": 54,
   "id": "4169becf",
   "metadata": {},
   "outputs": [],
   "source": [
    "may_stationaryscooter= maysorted[maysorted['latmovement']==0.0]"
   ]
  },
  {
   "cell_type": "code",
   "execution_count": 55,
   "id": "c9f51e6f",
   "metadata": {},
   "outputs": [
    {
     "data": {
      "text/html": [
       "<div>\n",
       "<style scoped>\n",
       "    .dataframe tbody tr th:only-of-type {\n",
       "        vertical-align: middle;\n",
       "    }\n",
       "\n",
       "    .dataframe tbody tr th {\n",
       "        vertical-align: top;\n",
       "    }\n",
       "\n",
       "    .dataframe thead th {\n",
       "        text-align: right;\n",
       "    }\n",
       "</style>\n",
       "<table border=\"1\" class=\"dataframe\">\n",
       "  <thead>\n",
       "    <tr style=\"text-align: right;\">\n",
       "      <th></th>\n",
       "      <th>pubdatetime</th>\n",
       "      <th>latitude</th>\n",
       "      <th>longitude</th>\n",
       "      <th>sumdid</th>\n",
       "      <th>chargelevel</th>\n",
       "      <th>companyname</th>\n",
       "      <th>dates</th>\n",
       "      <th>times</th>\n",
       "      <th>hours</th>\n",
       "      <th>latmovement</th>\n",
       "    </tr>\n",
       "  </thead>\n",
       "  <tbody>\n",
       "    <tr>\n",
       "      <th>12803829</th>\n",
       "      <td>2019-05-24 01:04:44</td>\n",
       "      <td>36.161594</td>\n",
       "      <td>-86.775060</td>\n",
       "      <td>Powered-017d3133-f14a-2b83-ee4f-d777e7c5b619</td>\n",
       "      <td>100.00</td>\n",
       "      <td>6</td>\n",
       "      <td>2019-05-24</td>\n",
       "      <td>01:04:44</td>\n",
       "      <td>1</td>\n",
       "      <td>0.0</td>\n",
       "    </tr>\n",
       "    <tr>\n",
       "      <th>12909756</th>\n",
       "      <td>2019-05-24 03:34:51</td>\n",
       "      <td>36.161485</td>\n",
       "      <td>-86.775018</td>\n",
       "      <td>Powered-017d3133-f14a-2b83-ee4f-d777e7c5b619</td>\n",
       "      <td>100.00</td>\n",
       "      <td>6</td>\n",
       "      <td>2019-05-24</td>\n",
       "      <td>03:34:51</td>\n",
       "      <td>3</td>\n",
       "      <td>0.0</td>\n",
       "    </tr>\n",
       "    <tr>\n",
       "      <th>13037674</th>\n",
       "      <td>2019-05-24 07:15:00</td>\n",
       "      <td>36.216279</td>\n",
       "      <td>-86.729816</td>\n",
       "      <td>Powered-017d3133-f14a-2b83-ee4f-d777e7c5b619</td>\n",
       "      <td>67.43</td>\n",
       "      <td>6</td>\n",
       "      <td>2019-05-24</td>\n",
       "      <td>07:15:00</td>\n",
       "      <td>7</td>\n",
       "      <td>0.0</td>\n",
       "    </tr>\n",
       "    <tr>\n",
       "      <th>13040512</th>\n",
       "      <td>2019-05-24 07:20:00</td>\n",
       "      <td>36.216279</td>\n",
       "      <td>-86.729816</td>\n",
       "      <td>Powered-017d3133-f14a-2b83-ee4f-d777e7c5b619</td>\n",
       "      <td>68.41</td>\n",
       "      <td>6</td>\n",
       "      <td>2019-05-24</td>\n",
       "      <td>07:20:00</td>\n",
       "      <td>7</td>\n",
       "      <td>0.0</td>\n",
       "    </tr>\n",
       "    <tr>\n",
       "      <th>13045802</th>\n",
       "      <td>2019-05-24 07:30:00</td>\n",
       "      <td>36.216276</td>\n",
       "      <td>-86.729803</td>\n",
       "      <td>Powered-017d3133-f14a-2b83-ee4f-d777e7c5b619</td>\n",
       "      <td>69.98</td>\n",
       "      <td>6</td>\n",
       "      <td>2019-05-24</td>\n",
       "      <td>07:30:00</td>\n",
       "      <td>7</td>\n",
       "      <td>0.0</td>\n",
       "    </tr>\n",
       "  </tbody>\n",
       "</table>\n",
       "</div>"
      ],
      "text/plain": [
       "                 pubdatetime   latitude  longitude  \\\n",
       "12803829 2019-05-24 01:04:44  36.161594 -86.775060   \n",
       "12909756 2019-05-24 03:34:51  36.161485 -86.775018   \n",
       "13037674 2019-05-24 07:15:00  36.216279 -86.729816   \n",
       "13040512 2019-05-24 07:20:00  36.216279 -86.729816   \n",
       "13045802 2019-05-24 07:30:00  36.216276 -86.729803   \n",
       "\n",
       "                                                sumdid  chargelevel  \\\n",
       "12803829  Powered-017d3133-f14a-2b83-ee4f-d777e7c5b619       100.00   \n",
       "12909756  Powered-017d3133-f14a-2b83-ee4f-d777e7c5b619       100.00   \n",
       "13037674  Powered-017d3133-f14a-2b83-ee4f-d777e7c5b619        67.43   \n",
       "13040512  Powered-017d3133-f14a-2b83-ee4f-d777e7c5b619        68.41   \n",
       "13045802  Powered-017d3133-f14a-2b83-ee4f-d777e7c5b619        69.98   \n",
       "\n",
       "          companyname       dates     times  hours  latmovement  \n",
       "12803829            6  2019-05-24  01:04:44      1          0.0  \n",
       "12909756            6  2019-05-24  03:34:51      3          0.0  \n",
       "13037674            6  2019-05-24  07:15:00      7          0.0  \n",
       "13040512            6  2019-05-24  07:20:00      7          0.0  \n",
       "13045802            6  2019-05-24  07:30:00      7          0.0  "
      ]
     },
     "execution_count": 55,
     "metadata": {},
     "output_type": "execute_result"
    }
   ],
   "source": [
    "may_stationaryscooter.head()"
   ]
  },
  {
   "cell_type": "markdown",
   "id": "6cb29ecb",
   "metadata": {},
   "source": [
    "okay!  part of the way there!  i have those that aren't moving via latitude - but I still see that the very first row is still moving via longitude.  so ... repeat and take those out too?  "
   ]
  },
  {
   "cell_type": "code",
   "execution_count": 56,
   "id": "ebbc87d3",
   "metadata": {},
   "outputs": [
    {
     "name": "stderr",
     "output_type": "stream",
     "text": [
      "<ipython-input-56-7da0dedf9d04>:1: SettingWithCopyWarning: \n",
      "A value is trying to be set on a copy of a slice from a DataFrame.\n",
      "Try using .loc[row_indexer,col_indexer] = value instead\n",
      "\n",
      "See the caveats in the documentation: https://pandas.pydata.org/pandas-docs/stable/user_guide/indexing.html#returning-a-view-versus-a-copy\n",
      "  may_stationaryscooter['lonmovement'] = (may_stationaryscooter.longitude.shift() - may_stationaryscooter.longitude)\n"
     ]
    }
   ],
   "source": [
    "may_stationaryscooter['lonmovement'] = (may_stationaryscooter.longitude.shift() - may_stationaryscooter.longitude)"
   ]
  },
  {
   "cell_type": "code",
   "execution_count": 57,
   "id": "9ac14427",
   "metadata": {},
   "outputs": [
    {
     "data": {
      "text/html": [
       "<div>\n",
       "<style scoped>\n",
       "    .dataframe tbody tr th:only-of-type {\n",
       "        vertical-align: middle;\n",
       "    }\n",
       "\n",
       "    .dataframe tbody tr th {\n",
       "        vertical-align: top;\n",
       "    }\n",
       "\n",
       "    .dataframe thead th {\n",
       "        text-align: right;\n",
       "    }\n",
       "</style>\n",
       "<table border=\"1\" class=\"dataframe\">\n",
       "  <thead>\n",
       "    <tr style=\"text-align: right;\">\n",
       "      <th></th>\n",
       "      <th>pubdatetime</th>\n",
       "      <th>latitude</th>\n",
       "      <th>longitude</th>\n",
       "      <th>sumdid</th>\n",
       "      <th>chargelevel</th>\n",
       "      <th>companyname</th>\n",
       "      <th>dates</th>\n",
       "      <th>times</th>\n",
       "      <th>hours</th>\n",
       "      <th>latmovement</th>\n",
       "      <th>lonmovement</th>\n",
       "    </tr>\n",
       "  </thead>\n",
       "  <tbody>\n",
       "    <tr>\n",
       "      <th>12803829</th>\n",
       "      <td>2019-05-24 01:04:44</td>\n",
       "      <td>36.161594</td>\n",
       "      <td>-86.775060</td>\n",
       "      <td>Powered-017d3133-f14a-2b83-ee4f-d777e7c5b619</td>\n",
       "      <td>100.00</td>\n",
       "      <td>6</td>\n",
       "      <td>2019-05-24</td>\n",
       "      <td>01:04:44</td>\n",
       "      <td>1</td>\n",
       "      <td>0.0</td>\n",
       "      <td>NaN</td>\n",
       "    </tr>\n",
       "    <tr>\n",
       "      <th>12909756</th>\n",
       "      <td>2019-05-24 03:34:51</td>\n",
       "      <td>36.161485</td>\n",
       "      <td>-86.775018</td>\n",
       "      <td>Powered-017d3133-f14a-2b83-ee4f-d777e7c5b619</td>\n",
       "      <td>100.00</td>\n",
       "      <td>6</td>\n",
       "      <td>2019-05-24</td>\n",
       "      <td>03:34:51</td>\n",
       "      <td>3</td>\n",
       "      <td>0.0</td>\n",
       "      <td>-0.000042</td>\n",
       "    </tr>\n",
       "    <tr>\n",
       "      <th>13037674</th>\n",
       "      <td>2019-05-24 07:15:00</td>\n",
       "      <td>36.216279</td>\n",
       "      <td>-86.729816</td>\n",
       "      <td>Powered-017d3133-f14a-2b83-ee4f-d777e7c5b619</td>\n",
       "      <td>67.43</td>\n",
       "      <td>6</td>\n",
       "      <td>2019-05-24</td>\n",
       "      <td>07:15:00</td>\n",
       "      <td>7</td>\n",
       "      <td>0.0</td>\n",
       "      <td>-0.045202</td>\n",
       "    </tr>\n",
       "    <tr>\n",
       "      <th>13040512</th>\n",
       "      <td>2019-05-24 07:20:00</td>\n",
       "      <td>36.216279</td>\n",
       "      <td>-86.729816</td>\n",
       "      <td>Powered-017d3133-f14a-2b83-ee4f-d777e7c5b619</td>\n",
       "      <td>68.41</td>\n",
       "      <td>6</td>\n",
       "      <td>2019-05-24</td>\n",
       "      <td>07:20:00</td>\n",
       "      <td>7</td>\n",
       "      <td>0.0</td>\n",
       "      <td>0.000000</td>\n",
       "    </tr>\n",
       "    <tr>\n",
       "      <th>13045802</th>\n",
       "      <td>2019-05-24 07:30:00</td>\n",
       "      <td>36.216276</td>\n",
       "      <td>-86.729803</td>\n",
       "      <td>Powered-017d3133-f14a-2b83-ee4f-d777e7c5b619</td>\n",
       "      <td>69.98</td>\n",
       "      <td>6</td>\n",
       "      <td>2019-05-24</td>\n",
       "      <td>07:30:00</td>\n",
       "      <td>7</td>\n",
       "      <td>0.0</td>\n",
       "      <td>-0.000013</td>\n",
       "    </tr>\n",
       "  </tbody>\n",
       "</table>\n",
       "</div>"
      ],
      "text/plain": [
       "                 pubdatetime   latitude  longitude  \\\n",
       "12803829 2019-05-24 01:04:44  36.161594 -86.775060   \n",
       "12909756 2019-05-24 03:34:51  36.161485 -86.775018   \n",
       "13037674 2019-05-24 07:15:00  36.216279 -86.729816   \n",
       "13040512 2019-05-24 07:20:00  36.216279 -86.729816   \n",
       "13045802 2019-05-24 07:30:00  36.216276 -86.729803   \n",
       "\n",
       "                                                sumdid  chargelevel  \\\n",
       "12803829  Powered-017d3133-f14a-2b83-ee4f-d777e7c5b619       100.00   \n",
       "12909756  Powered-017d3133-f14a-2b83-ee4f-d777e7c5b619       100.00   \n",
       "13037674  Powered-017d3133-f14a-2b83-ee4f-d777e7c5b619        67.43   \n",
       "13040512  Powered-017d3133-f14a-2b83-ee4f-d777e7c5b619        68.41   \n",
       "13045802  Powered-017d3133-f14a-2b83-ee4f-d777e7c5b619        69.98   \n",
       "\n",
       "          companyname       dates     times  hours  latmovement  lonmovement  \n",
       "12803829            6  2019-05-24  01:04:44      1          0.0          NaN  \n",
       "12909756            6  2019-05-24  03:34:51      3          0.0    -0.000042  \n",
       "13037674            6  2019-05-24  07:15:00      7          0.0    -0.045202  \n",
       "13040512            6  2019-05-24  07:20:00      7          0.0     0.000000  \n",
       "13045802            6  2019-05-24  07:30:00      7          0.0    -0.000013  "
      ]
     },
     "execution_count": 57,
     "metadata": {},
     "output_type": "execute_result"
    }
   ],
   "source": [
    "may_stationaryscooter.head()"
   ]
  },
  {
   "cell_type": "code",
   "execution_count": 58,
   "id": "b5b3909d",
   "metadata": {},
   "outputs": [],
   "source": [
    "may_stationaryscooter = may_stationaryscooter[may_stationaryscooter['lonmovement']==0.0]"
   ]
  },
  {
   "cell_type": "code",
   "execution_count": 59,
   "id": "284dc1ce",
   "metadata": {},
   "outputs": [
    {
     "data": {
      "text/html": [
       "<div>\n",
       "<style scoped>\n",
       "    .dataframe tbody tr th:only-of-type {\n",
       "        vertical-align: middle;\n",
       "    }\n",
       "\n",
       "    .dataframe tbody tr th {\n",
       "        vertical-align: top;\n",
       "    }\n",
       "\n",
       "    .dataframe thead th {\n",
       "        text-align: right;\n",
       "    }\n",
       "</style>\n",
       "<table border=\"1\" class=\"dataframe\">\n",
       "  <thead>\n",
       "    <tr style=\"text-align: right;\">\n",
       "      <th></th>\n",
       "      <th>pubdatetime</th>\n",
       "      <th>latitude</th>\n",
       "      <th>longitude</th>\n",
       "      <th>sumdid</th>\n",
       "      <th>chargelevel</th>\n",
       "      <th>companyname</th>\n",
       "      <th>dates</th>\n",
       "      <th>times</th>\n",
       "      <th>hours</th>\n",
       "      <th>latmovement</th>\n",
       "      <th>lonmovement</th>\n",
       "    </tr>\n",
       "  </thead>\n",
       "  <tbody>\n",
       "    <tr>\n",
       "      <th>20275424</th>\n",
       "      <td>2019-05-31 23:35:13</td>\n",
       "      <td>36.1706</td>\n",
       "      <td>-86.7806</td>\n",
       "      <td>Poweredffdcc0c3-1db8-58e2-a876-036bbad5db5d</td>\n",
       "      <td>66.0</td>\n",
       "      <td>5</td>\n",
       "      <td>2019-05-31</td>\n",
       "      <td>23:35:13</td>\n",
       "      <td>23</td>\n",
       "      <td>0.0</td>\n",
       "      <td>0.0</td>\n",
       "    </tr>\n",
       "    <tr>\n",
       "      <th>20279019</th>\n",
       "      <td>2019-05-31 23:40:13</td>\n",
       "      <td>36.1706</td>\n",
       "      <td>-86.7806</td>\n",
       "      <td>Poweredffdcc0c3-1db8-58e2-a876-036bbad5db5d</td>\n",
       "      <td>66.0</td>\n",
       "      <td>5</td>\n",
       "      <td>2019-05-31</td>\n",
       "      <td>23:40:13</td>\n",
       "      <td>23</td>\n",
       "      <td>0.0</td>\n",
       "      <td>0.0</td>\n",
       "    </tr>\n",
       "    <tr>\n",
       "      <th>20282194</th>\n",
       "      <td>2019-05-31 23:45:12</td>\n",
       "      <td>36.1706</td>\n",
       "      <td>-86.7806</td>\n",
       "      <td>Poweredffdcc0c3-1db8-58e2-a876-036bbad5db5d</td>\n",
       "      <td>66.0</td>\n",
       "      <td>5</td>\n",
       "      <td>2019-05-31</td>\n",
       "      <td>23:45:12</td>\n",
       "      <td>23</td>\n",
       "      <td>0.0</td>\n",
       "      <td>0.0</td>\n",
       "    </tr>\n",
       "    <tr>\n",
       "      <th>20286222</th>\n",
       "      <td>2019-05-31 23:50:12</td>\n",
       "      <td>36.1706</td>\n",
       "      <td>-86.7806</td>\n",
       "      <td>Poweredffdcc0c3-1db8-58e2-a876-036bbad5db5d</td>\n",
       "      <td>66.0</td>\n",
       "      <td>5</td>\n",
       "      <td>2019-05-31</td>\n",
       "      <td>23:50:12</td>\n",
       "      <td>23</td>\n",
       "      <td>0.0</td>\n",
       "      <td>0.0</td>\n",
       "    </tr>\n",
       "    <tr>\n",
       "      <th>20289583</th>\n",
       "      <td>2019-05-31 23:55:12</td>\n",
       "      <td>36.1706</td>\n",
       "      <td>-86.7806</td>\n",
       "      <td>Poweredffdcc0c3-1db8-58e2-a876-036bbad5db5d</td>\n",
       "      <td>66.0</td>\n",
       "      <td>5</td>\n",
       "      <td>2019-05-31</td>\n",
       "      <td>23:55:12</td>\n",
       "      <td>23</td>\n",
       "      <td>0.0</td>\n",
       "      <td>0.0</td>\n",
       "    </tr>\n",
       "  </tbody>\n",
       "</table>\n",
       "</div>"
      ],
      "text/plain": [
       "                 pubdatetime  latitude  longitude  \\\n",
       "20275424 2019-05-31 23:35:13   36.1706   -86.7806   \n",
       "20279019 2019-05-31 23:40:13   36.1706   -86.7806   \n",
       "20282194 2019-05-31 23:45:12   36.1706   -86.7806   \n",
       "20286222 2019-05-31 23:50:12   36.1706   -86.7806   \n",
       "20289583 2019-05-31 23:55:12   36.1706   -86.7806   \n",
       "\n",
       "                                               sumdid  chargelevel  \\\n",
       "20275424  Poweredffdcc0c3-1db8-58e2-a876-036bbad5db5d         66.0   \n",
       "20279019  Poweredffdcc0c3-1db8-58e2-a876-036bbad5db5d         66.0   \n",
       "20282194  Poweredffdcc0c3-1db8-58e2-a876-036bbad5db5d         66.0   \n",
       "20286222  Poweredffdcc0c3-1db8-58e2-a876-036bbad5db5d         66.0   \n",
       "20289583  Poweredffdcc0c3-1db8-58e2-a876-036bbad5db5d         66.0   \n",
       "\n",
       "          companyname       dates     times  hours  latmovement  lonmovement  \n",
       "20275424            5  2019-05-31  23:35:13     23          0.0          0.0  \n",
       "20279019            5  2019-05-31  23:40:13     23          0.0          0.0  \n",
       "20282194            5  2019-05-31  23:45:12     23          0.0          0.0  \n",
       "20286222            5  2019-05-31  23:50:12     23          0.0          0.0  \n",
       "20289583            5  2019-05-31  23:55:12     23          0.0          0.0  "
      ]
     },
     "execution_count": 59,
     "metadata": {},
     "output_type": "execute_result"
    }
   ],
   "source": [
    "may_stationaryscooter.tail()"
   ]
  },
  {
   "cell_type": "code",
   "execution_count": 60,
   "id": "a8d134c1",
   "metadata": {},
   "outputs": [
    {
     "name": "stdout",
     "output_type": "stream",
     "text": [
      "<class 'pandas.core.frame.DataFrame'>\n",
      "Int64Index: 8755359 entries, 13040512 to 20289583\n",
      "Data columns (total 11 columns):\n",
      " #   Column       Dtype         \n",
      "---  ------       -----         \n",
      " 0   pubdatetime  datetime64[ns]\n",
      " 1   latitude     float64       \n",
      " 2   longitude    float64       \n",
      " 3   sumdid       object        \n",
      " 4   chargelevel  float64       \n",
      " 5   companyname  int64         \n",
      " 6   dates        object        \n",
      " 7   times        object        \n",
      " 8   hours        int64         \n",
      " 9   latmovement  float64       \n",
      " 10  lonmovement  float64       \n",
      "dtypes: datetime64[ns](1), float64(5), int64(2), object(3)\n",
      "memory usage: 801.6+ MB\n"
     ]
    }
   ],
   "source": [
    "may_stationaryscooter.info()"
   ]
  },
  {
   "cell_type": "markdown",
   "id": "f2303fcf",
   "metadata": {},
   "source": [
    "okay!  that worked!  I have 8.7million rows now of stationary scooters.  \n",
    "\n",
    "so - what i'm looking for first is those that stay still for a long time.  if it's only for a few minutes, then maybe it's a crosswalk or something.  or it takes a bit for someone new to check it out.  \n",
    "\n",
    "let's look for scooters that stay put for longer than half an hour\n",
    "first, i think i need a column that calculates the time differential between rows, that way i have something i can count"
   ]
  },
  {
   "cell_type": "code",
   "execution_count": 61,
   "id": "19ca9d1e",
   "metadata": {},
   "outputs": [],
   "source": [
    "#minimay_stationaryscooter = may_stationaryscooter[:10000]"
   ]
  },
  {
   "cell_type": "code",
   "execution_count": 62,
   "id": "c66ab6f2",
   "metadata": {
    "scrolled": true
   },
   "outputs": [],
   "source": [
    "#minimay_stationaryscooter.head(20)"
   ]
  },
  {
   "cell_type": "markdown",
   "id": "b882faa2",
   "metadata": {},
   "source": [
    "#position = minimay_stationaryscooter.columns.get_loc('pubdatetime')\n",
    "#minimay_stationaryscooter['elapsed'] = minimay_stationaryscooter.iloc[1:,position] - minimay_stationaryscooter.iat[0,position]\n",
    "\n",
    "# i tried this first - didn't work.  tried shift again - and this time it worked."
   ]
  },
  {
   "cell_type": "code",
   "execution_count": 63,
   "id": "2042dea0",
   "metadata": {},
   "outputs": [],
   "source": [
    "#minimay_stationaryscooter['timeshift']= (minimay_stationaryscooter.pubdatetime - minimay_stationaryscooter.pubdatetime.shift())"
   ]
  },
  {
   "cell_type": "code",
   "execution_count": 64,
   "id": "0de0dd0b",
   "metadata": {},
   "outputs": [],
   "source": [
    "#minimay_stationaryscooter.head()"
   ]
  },
  {
   "cell_type": "code",
   "execution_count": 65,
   "id": "f51cf1cb",
   "metadata": {},
   "outputs": [],
   "source": [
    "#minimay_stationaryscooter.info()"
   ]
  },
  {
   "cell_type": "code",
   "execution_count": 66,
   "id": "c0b3f4bb",
   "metadata": {},
   "outputs": [],
   "source": [
    "#minimay_stationaryscooter['timeshift'] = minimay_stationaryscooter['timeshift']/np.timedelta64(1, 's')\n",
    "\n",
    "#this worked to give me a column that is in a form i can use"
   ]
  },
  {
   "cell_type": "code",
   "execution_count": 67,
   "id": "969d521e",
   "metadata": {},
   "outputs": [],
   "source": [
    "#minimay_stationaryscooter.head()"
   ]
  },
  {
   "cell_type": "code",
   "execution_count": 68,
   "id": "f7767c59",
   "metadata": {},
   "outputs": [],
   "source": [
    "#minimay_stationaryscooter.info()"
   ]
  },
  {
   "cell_type": "code",
   "execution_count": 69,
   "id": "2bef231e",
   "metadata": {},
   "outputs": [
    {
     "data": {
      "text/plain": [
       "\"def duration(row): \\n    if 240 <= row ['timeshift'] <= 360:\\n        return 5\\n    else:\\n        return 0\\n\\nminimay_stationaryscooter['duration'] = minimay_stationaryscooter.apply(duration, axis = 1)\""
      ]
     },
     "execution_count": 69,
     "metadata": {},
     "output_type": "execute_result"
    }
   ],
   "source": [
    "'''def duration(row): \n",
    "    if 240 <= row ['timeshift'] <= 360:\n",
    "        return 5\n",
    "    else:\n",
    "        return 0\n",
    "\n",
    "minimay_stationaryscooter['duration'] = minimay_stationaryscooter.apply(duration, axis = 1)'''"
   ]
  },
  {
   "cell_type": "code",
   "execution_count": 70,
   "id": "e6fddf87",
   "metadata": {},
   "outputs": [],
   "source": [
    "#minimay_stationaryscooter.head(10)"
   ]
  },
  {
   "cell_type": "code",
   "execution_count": 71,
   "id": "df2a2f77",
   "metadata": {},
   "outputs": [
    {
     "data": {
      "text/plain": [
       "\"minimay_stationaryscooter['cumulative_sum'] = 0 # initializing column\\nprevious_index = 0\\ntime_duration = 0\\nfor ind, row in minimay_stationaryscooter.iterrows():\\n    if row['duration'] ==5:\\n        time_duration += 5\\n        minimay_stationaryscooter.loc[ind,'cumulative_sum'] = time_duration\\n    else: \\n        time_duration = 0\""
      ]
     },
     "execution_count": 71,
     "metadata": {},
     "output_type": "execute_result"
    }
   ],
   "source": [
    "'''minimay_stationaryscooter['cumulative_sum'] = 0 # initializing column\n",
    "previous_index = 0\n",
    "time_duration = 0\n",
    "for ind, row in minimay_stationaryscooter.iterrows():\n",
    "    if row['duration'] ==5:\n",
    "        time_duration += 5\n",
    "        minimay_stationaryscooter.loc[ind,'cumulative_sum'] = time_duration\n",
    "    else: \n",
    "        time_duration = 0'''\n",
    "\n",
    "#this iterrow worked!  it gave me a computational column with time clusters of how long the scooter has \n",
    "#been in the same spot!  \n",
    "#took about 3 seconds to run.  now to run on the larger df..."
   ]
  },
  {
   "cell_type": "code",
   "execution_count": 72,
   "id": "c6682afa",
   "metadata": {
    "scrolled": true
   },
   "outputs": [],
   "source": [
    "#minimay_stationaryscooter.head(20)"
   ]
  },
  {
   "cell_type": "markdown",
   "id": "5ddd6600",
   "metadata": {},
   "source": [
    "Okay!  Finally worked!  now to apply all this to the larger may_stationaryscooter df, and then to june/july as well"
   ]
  },
  {
   "cell_type": "code",
   "execution_count": 73,
   "id": "b2f921aa",
   "metadata": {},
   "outputs": [],
   "source": [
    "may_stationaryscooter['timeshift']= (may_stationaryscooter.pubdatetime - may_stationaryscooter.pubdatetime.shift())\n"
   ]
  },
  {
   "cell_type": "code",
   "execution_count": 74,
   "id": "a9ae7f9d",
   "metadata": {},
   "outputs": [],
   "source": [
    "may_stationaryscooter['timeshift'] = may_stationaryscooter['timeshift']/np.timedelta64(1, 's')"
   ]
  },
  {
   "cell_type": "code",
   "execution_count": 75,
   "id": "402e47d8",
   "metadata": {},
   "outputs": [],
   "source": [
    "def duration(row): \n",
    "    if 240 <= row ['timeshift'] <= 360:\n",
    "        return 5\n",
    "    else:\n",
    "        return 0\n",
    "\n",
    "may_stationaryscooter['duration'] = may_stationaryscooter.apply(duration, axis = 1)"
   ]
  },
  {
   "cell_type": "code",
   "execution_count": 76,
   "id": "60c084b4",
   "metadata": {
    "scrolled": true
   },
   "outputs": [
    {
     "data": {
      "text/plain": [
       "\"may_stationaryscooter['cumulative_sum'] = 0 # initializing column\\niter_count = 1\\ntime_duration = 0\\nfor ind, row in may_stationaryscooter.iterrows():\\n    if row['duration'] ==5:\\n        time_duration += 5\\n        may_stationaryscooter.loc[ind,'cumulative_sum'] = time_duration\\n    else: \\n        time_duration = 0\\n    if iter_count % 100000 == 0:\\n        print (f'completed iteration: {iter_count}')\\n    iter_count += 1\""
      ]
     },
     "execution_count": 76,
     "metadata": {},
     "output_type": "execute_result"
    }
   ],
   "source": [
    "'''may_stationaryscooter['cumulative_sum'] = 0 # initializing column\n",
    "iter_count = 1\n",
    "time_duration = 0\n",
    "for ind, row in may_stationaryscooter.iterrows():\n",
    "    if row['duration'] ==5:\n",
    "        time_duration += 5\n",
    "        may_stationaryscooter.loc[ind,'cumulative_sum'] = time_duration\n",
    "    else: \n",
    "        time_duration = 0\n",
    "    if iter_count % 100000 == 0:\n",
    "        print (f'completed iteration: {iter_count}')\n",
    "    iter_count += 1'''\n",
    "#this took forever - 2 hours in and not done.  so, breaking it apart, adding a progress print function, and trying again"
   ]
  },
  {
   "cell_type": "code",
   "execution_count": 77,
   "id": "18eeabad",
   "metadata": {},
   "outputs": [],
   "source": [
    "may_stationaryscooter = may_stationaryscooter.reset_index()"
   ]
  },
  {
   "cell_type": "code",
   "execution_count": 78,
   "id": "abf37d3b",
   "metadata": {
    "scrolled": true
   },
   "outputs": [
    {
     "data": {
      "text/html": [
       "<div>\n",
       "<style scoped>\n",
       "    .dataframe tbody tr th:only-of-type {\n",
       "        vertical-align: middle;\n",
       "    }\n",
       "\n",
       "    .dataframe tbody tr th {\n",
       "        vertical-align: top;\n",
       "    }\n",
       "\n",
       "    .dataframe thead th {\n",
       "        text-align: right;\n",
       "    }\n",
       "</style>\n",
       "<table border=\"1\" class=\"dataframe\">\n",
       "  <thead>\n",
       "    <tr style=\"text-align: right;\">\n",
       "      <th></th>\n",
       "      <th>index</th>\n",
       "      <th>pubdatetime</th>\n",
       "      <th>latitude</th>\n",
       "      <th>longitude</th>\n",
       "      <th>sumdid</th>\n",
       "      <th>chargelevel</th>\n",
       "      <th>companyname</th>\n",
       "      <th>dates</th>\n",
       "      <th>times</th>\n",
       "      <th>hours</th>\n",
       "      <th>latmovement</th>\n",
       "      <th>lonmovement</th>\n",
       "      <th>timeshift</th>\n",
       "      <th>duration</th>\n",
       "    </tr>\n",
       "  </thead>\n",
       "  <tbody>\n",
       "    <tr>\n",
       "      <th>0</th>\n",
       "      <td>13040512</td>\n",
       "      <td>2019-05-24 07:20:00</td>\n",
       "      <td>36.216279</td>\n",
       "      <td>-86.729816</td>\n",
       "      <td>Powered-017d3133-f14a-2b83-ee4f-d777e7c5b619</td>\n",
       "      <td>68.41</td>\n",
       "      <td>6</td>\n",
       "      <td>2019-05-24</td>\n",
       "      <td>07:20:00</td>\n",
       "      <td>7</td>\n",
       "      <td>0.0</td>\n",
       "      <td>0.0</td>\n",
       "      <td>NaN</td>\n",
       "      <td>0</td>\n",
       "    </tr>\n",
       "    <tr>\n",
       "      <th>1</th>\n",
       "      <td>16993465</td>\n",
       "      <td>2019-05-28 17:58:51</td>\n",
       "      <td>36.162549</td>\n",
       "      <td>-86.774197</td>\n",
       "      <td>Powered-017d3133-f14a-2b83-ee4f-d777e7c5b619</td>\n",
       "      <td>100.00</td>\n",
       "      <td>6</td>\n",
       "      <td>2019-05-28</td>\n",
       "      <td>17:58:51</td>\n",
       "      <td>17</td>\n",
       "      <td>0.0</td>\n",
       "      <td>0.0</td>\n",
       "      <td>383931.0</td>\n",
       "      <td>0</td>\n",
       "    </tr>\n",
       "    <tr>\n",
       "      <th>2</th>\n",
       "      <td>17126263</td>\n",
       "      <td>2019-05-28 20:53:56</td>\n",
       "      <td>36.162530</td>\n",
       "      <td>-86.774246</td>\n",
       "      <td>Powered-017d3133-f14a-2b83-ee4f-d777e7c5b619</td>\n",
       "      <td>100.00</td>\n",
       "      <td>6</td>\n",
       "      <td>2019-05-28</td>\n",
       "      <td>20:53:56</td>\n",
       "      <td>20</td>\n",
       "      <td>0.0</td>\n",
       "      <td>0.0</td>\n",
       "      <td>10505.0</td>\n",
       "      <td>0</td>\n",
       "    </tr>\n",
       "    <tr>\n",
       "      <th>3</th>\n",
       "      <td>17130115</td>\n",
       "      <td>2019-05-28 20:58:56</td>\n",
       "      <td>36.162530</td>\n",
       "      <td>-86.774246</td>\n",
       "      <td>Powered-017d3133-f14a-2b83-ee4f-d777e7c5b619</td>\n",
       "      <td>100.00</td>\n",
       "      <td>6</td>\n",
       "      <td>2019-05-28</td>\n",
       "      <td>20:58:56</td>\n",
       "      <td>20</td>\n",
       "      <td>0.0</td>\n",
       "      <td>0.0</td>\n",
       "      <td>300.0</td>\n",
       "      <td>5</td>\n",
       "    </tr>\n",
       "    <tr>\n",
       "      <th>4</th>\n",
       "      <td>17134009</td>\n",
       "      <td>2019-05-28 21:03:56</td>\n",
       "      <td>36.162530</td>\n",
       "      <td>-86.774246</td>\n",
       "      <td>Powered-017d3133-f14a-2b83-ee4f-d777e7c5b619</td>\n",
       "      <td>100.00</td>\n",
       "      <td>6</td>\n",
       "      <td>2019-05-28</td>\n",
       "      <td>21:03:56</td>\n",
       "      <td>21</td>\n",
       "      <td>0.0</td>\n",
       "      <td>0.0</td>\n",
       "      <td>300.0</td>\n",
       "      <td>5</td>\n",
       "    </tr>\n",
       "    <tr>\n",
       "      <th>5</th>\n",
       "      <td>17137902</td>\n",
       "      <td>2019-05-28 21:08:56</td>\n",
       "      <td>36.162530</td>\n",
       "      <td>-86.774246</td>\n",
       "      <td>Powered-017d3133-f14a-2b83-ee4f-d777e7c5b619</td>\n",
       "      <td>100.00</td>\n",
       "      <td>6</td>\n",
       "      <td>2019-05-28</td>\n",
       "      <td>21:08:56</td>\n",
       "      <td>21</td>\n",
       "      <td>0.0</td>\n",
       "      <td>0.0</td>\n",
       "      <td>300.0</td>\n",
       "      <td>5</td>\n",
       "    </tr>\n",
       "    <tr>\n",
       "      <th>6</th>\n",
       "      <td>17142018</td>\n",
       "      <td>2019-05-28 21:13:57</td>\n",
       "      <td>36.162530</td>\n",
       "      <td>-86.774246</td>\n",
       "      <td>Powered-017d3133-f14a-2b83-ee4f-d777e7c5b619</td>\n",
       "      <td>100.00</td>\n",
       "      <td>6</td>\n",
       "      <td>2019-05-28</td>\n",
       "      <td>21:13:57</td>\n",
       "      <td>21</td>\n",
       "      <td>0.0</td>\n",
       "      <td>0.0</td>\n",
       "      <td>301.0</td>\n",
       "      <td>5</td>\n",
       "    </tr>\n",
       "    <tr>\n",
       "      <th>7</th>\n",
       "      <td>17145815</td>\n",
       "      <td>2019-05-28 21:18:57</td>\n",
       "      <td>36.162530</td>\n",
       "      <td>-86.774246</td>\n",
       "      <td>Powered-017d3133-f14a-2b83-ee4f-d777e7c5b619</td>\n",
       "      <td>100.00</td>\n",
       "      <td>6</td>\n",
       "      <td>2019-05-28</td>\n",
       "      <td>21:18:57</td>\n",
       "      <td>21</td>\n",
       "      <td>0.0</td>\n",
       "      <td>0.0</td>\n",
       "      <td>300.0</td>\n",
       "      <td>5</td>\n",
       "    </tr>\n",
       "    <tr>\n",
       "      <th>8</th>\n",
       "      <td>17149849</td>\n",
       "      <td>2019-05-28 21:23:57</td>\n",
       "      <td>36.162530</td>\n",
       "      <td>-86.774246</td>\n",
       "      <td>Powered-017d3133-f14a-2b83-ee4f-d777e7c5b619</td>\n",
       "      <td>100.00</td>\n",
       "      <td>6</td>\n",
       "      <td>2019-05-28</td>\n",
       "      <td>21:23:57</td>\n",
       "      <td>21</td>\n",
       "      <td>0.0</td>\n",
       "      <td>0.0</td>\n",
       "      <td>300.0</td>\n",
       "      <td>5</td>\n",
       "    </tr>\n",
       "    <tr>\n",
       "      <th>9</th>\n",
       "      <td>17153683</td>\n",
       "      <td>2019-05-28 21:29:19</td>\n",
       "      <td>36.162530</td>\n",
       "      <td>-86.774246</td>\n",
       "      <td>Powered-017d3133-f14a-2b83-ee4f-d777e7c5b619</td>\n",
       "      <td>100.00</td>\n",
       "      <td>6</td>\n",
       "      <td>2019-05-28</td>\n",
       "      <td>21:29:19</td>\n",
       "      <td>21</td>\n",
       "      <td>0.0</td>\n",
       "      <td>0.0</td>\n",
       "      <td>322.0</td>\n",
       "      <td>5</td>\n",
       "    </tr>\n",
       "  </tbody>\n",
       "</table>\n",
       "</div>"
      ],
      "text/plain": [
       "      index         pubdatetime   latitude  longitude  \\\n",
       "0  13040512 2019-05-24 07:20:00  36.216279 -86.729816   \n",
       "1  16993465 2019-05-28 17:58:51  36.162549 -86.774197   \n",
       "2  17126263 2019-05-28 20:53:56  36.162530 -86.774246   \n",
       "3  17130115 2019-05-28 20:58:56  36.162530 -86.774246   \n",
       "4  17134009 2019-05-28 21:03:56  36.162530 -86.774246   \n",
       "5  17137902 2019-05-28 21:08:56  36.162530 -86.774246   \n",
       "6  17142018 2019-05-28 21:13:57  36.162530 -86.774246   \n",
       "7  17145815 2019-05-28 21:18:57  36.162530 -86.774246   \n",
       "8  17149849 2019-05-28 21:23:57  36.162530 -86.774246   \n",
       "9  17153683 2019-05-28 21:29:19  36.162530 -86.774246   \n",
       "\n",
       "                                         sumdid  chargelevel  companyname  \\\n",
       "0  Powered-017d3133-f14a-2b83-ee4f-d777e7c5b619        68.41            6   \n",
       "1  Powered-017d3133-f14a-2b83-ee4f-d777e7c5b619       100.00            6   \n",
       "2  Powered-017d3133-f14a-2b83-ee4f-d777e7c5b619       100.00            6   \n",
       "3  Powered-017d3133-f14a-2b83-ee4f-d777e7c5b619       100.00            6   \n",
       "4  Powered-017d3133-f14a-2b83-ee4f-d777e7c5b619       100.00            6   \n",
       "5  Powered-017d3133-f14a-2b83-ee4f-d777e7c5b619       100.00            6   \n",
       "6  Powered-017d3133-f14a-2b83-ee4f-d777e7c5b619       100.00            6   \n",
       "7  Powered-017d3133-f14a-2b83-ee4f-d777e7c5b619       100.00            6   \n",
       "8  Powered-017d3133-f14a-2b83-ee4f-d777e7c5b619       100.00            6   \n",
       "9  Powered-017d3133-f14a-2b83-ee4f-d777e7c5b619       100.00            6   \n",
       "\n",
       "        dates     times  hours  latmovement  lonmovement  timeshift  duration  \n",
       "0  2019-05-24  07:20:00      7          0.0          0.0        NaN         0  \n",
       "1  2019-05-28  17:58:51     17          0.0          0.0   383931.0         0  \n",
       "2  2019-05-28  20:53:56     20          0.0          0.0    10505.0         0  \n",
       "3  2019-05-28  20:58:56     20          0.0          0.0      300.0         5  \n",
       "4  2019-05-28  21:03:56     21          0.0          0.0      300.0         5  \n",
       "5  2019-05-28  21:08:56     21          0.0          0.0      300.0         5  \n",
       "6  2019-05-28  21:13:57     21          0.0          0.0      301.0         5  \n",
       "7  2019-05-28  21:18:57     21          0.0          0.0      300.0         5  \n",
       "8  2019-05-28  21:23:57     21          0.0          0.0      300.0         5  \n",
       "9  2019-05-28  21:29:19     21          0.0          0.0      322.0         5  "
      ]
     },
     "execution_count": 78,
     "metadata": {},
     "output_type": "execute_result"
    }
   ],
   "source": [
    "may_stationaryscooter.head(10)"
   ]
  },
  {
   "cell_type": "code",
   "execution_count": 79,
   "id": "f636a6e9",
   "metadata": {
    "scrolled": true
   },
   "outputs": [
    {
     "ename": "NameError",
     "evalue": "name 'mini_4may_stationaryscooter' is not defined",
     "output_type": "error",
     "traceback": [
      "\u001b[1;31m---------------------------------------------------------------------------\u001b[0m",
      "\u001b[1;31mNameError\u001b[0m                                 Traceback (most recent call last)",
      "\u001b[1;32m<ipython-input-79-bb41a3d8d00c>\u001b[0m in \u001b[0;36m<module>\u001b[1;34m\u001b[0m\n\u001b[1;32m----> 1\u001b[1;33m \u001b[0mmini_4may_stationaryscooter\u001b[0m\u001b[1;33m.\u001b[0m\u001b[0miloc\u001b[0m\u001b[1;33m[\u001b[0m\u001b[1;36m1500000\u001b[0m\u001b[1;33m:\u001b[0m\u001b[1;36m1500020\u001b[0m\u001b[1;33m]\u001b[0m\u001b[1;33m\u001b[0m\u001b[1;33m\u001b[0m\u001b[0m\n\u001b[0m",
      "\u001b[1;31mNameError\u001b[0m: name 'mini_4may_stationaryscooter' is not defined"
     ]
    }
   ],
   "source": [
    "mini_4may_stationaryscooter.iloc[1500000:1500020]"
   ]
  },
  {
   "cell_type": "code",
   "execution_count": null,
   "id": "1f5f683c",
   "metadata": {
    "scrolled": true
   },
   "outputs": [],
   "source": [
    "mini_1may_stationaryscooter = may_stationaryscooter[:1999999]\n",
    "mini_1may_stationaryscooter.info()"
   ]
  },
  {
   "cell_type": "code",
   "execution_count": null,
   "id": "173110f1",
   "metadata": {},
   "outputs": [],
   "source": [
    "mini_1amay_stationaryscooter = mini_1may_stationaryscooter[:500046]\n",
    "mini_1amay_stationaryscooter.info()"
   ]
  },
  {
   "cell_type": "code",
   "execution_count": null,
   "id": "87124120",
   "metadata": {
    "scrolled": true
   },
   "outputs": [],
   "source": [
    "mini_1bmay_stationaryscooter = mini_1may_stationaryscooter[500047:1000042]\n",
    "mini_1bmay_stationaryscooter.info()"
   ]
  },
  {
   "cell_type": "code",
   "execution_count": null,
   "id": "cd38fde7",
   "metadata": {},
   "outputs": [],
   "source": [
    "mini_1cmay_stationaryscooter = mini_1may_stationaryscooter[1000043:1500003]\n",
    "mini_1cmay_stationaryscooter.info()"
   ]
  },
  {
   "cell_type": "code",
   "execution_count": null,
   "id": "da7c88b5",
   "metadata": {},
   "outputs": [],
   "source": [
    "mini_1dmay_stationaryscooter = mini_1may_stationaryscooter[1500004:]\n",
    "mini_1dmay_stationaryscooter.info()"
   ]
  },
  {
   "cell_type": "code",
   "execution_count": null,
   "id": "b3f0ec9b",
   "metadata": {
    "scrolled": false
   },
   "outputs": [],
   "source": [
    "mini_2may_stationaryscooter = may_stationaryscooter[2000000:4000011]\n",
    "mini_2may_stationaryscooter.info()"
   ]
  },
  {
   "cell_type": "code",
   "execution_count": null,
   "id": "26a706a4",
   "metadata": {},
   "outputs": [],
   "source": [
    "mini_2amay_stationaryscooter = mini_2may_stationaryscooter[:500015]\n",
    "mini_2amay_stationaryscooter.info()"
   ]
  },
  {
   "cell_type": "code",
   "execution_count": null,
   "id": "80435f77",
   "metadata": {},
   "outputs": [],
   "source": [
    "mini_2bmay_stationaryscooter = mini_2may_stationaryscooter[500016:1001811]\n",
    "mini_2bmay_stationaryscooter.info()"
   ]
  },
  {
   "cell_type": "code",
   "execution_count": null,
   "id": "944e3a49",
   "metadata": {},
   "outputs": [],
   "source": [
    "mini_2cmay_stationaryscooter = mini_2may_stationaryscooter[1001812:1500003]\n",
    "mini_2cmay_stationaryscooter.info()"
   ]
  },
  {
   "cell_type": "code",
   "execution_count": null,
   "id": "4d3c86e0",
   "metadata": {
    "scrolled": true
   },
   "outputs": [],
   "source": [
    "mini_2dmay_stationaryscooter = mini_2may_stationaryscooter[1500004:]\n",
    "mini_2dmay_stationaryscooter.info()"
   ]
  },
  {
   "cell_type": "code",
   "execution_count": null,
   "id": "4f860787",
   "metadata": {
    "scrolled": true
   },
   "outputs": [],
   "source": [
    "mini_3may_stationaryscooter = may_stationaryscooter[4000012:6000006]\n",
    "mini_3may_stationaryscooter.info()"
   ]
  },
  {
   "cell_type": "code",
   "execution_count": null,
   "id": "9e8467ce",
   "metadata": {},
   "outputs": [],
   "source": [
    "mini_3amay_stationaryscooter = mini_3may_stationaryscooter[:500000]\n",
    "mini_3amay_stationaryscooter.info()"
   ]
  },
  {
   "cell_type": "code",
   "execution_count": null,
   "id": "8d9a44ab",
   "metadata": {},
   "outputs": [],
   "source": [
    "mini_3bmay_stationaryscooter = mini_3may_stationaryscooter[500000:1000001]\n",
    "mini_3bmay_stationaryscooter.info()"
   ]
  },
  {
   "cell_type": "code",
   "execution_count": null,
   "id": "feb657ba",
   "metadata": {},
   "outputs": [],
   "source": [
    "mini_3cmay_stationaryscooter = mini_3may_stationaryscooter[1000001:1500154]\n",
    "mini_3cmay_stationaryscooter.info()"
   ]
  },
  {
   "cell_type": "code",
   "execution_count": null,
   "id": "885b08aa",
   "metadata": {},
   "outputs": [],
   "source": [
    "mini_3dmay_stationaryscooter = mini_3may_stationaryscooter[1500154:]\n",
    "mini_3dmay_stationaryscooter.info()"
   ]
  },
  {
   "cell_type": "code",
   "execution_count": null,
   "id": "9ec92288",
   "metadata": {},
   "outputs": [],
   "source": [
    "mini_4may_stationaryscooter = may_stationaryscooter[6000006:8000039]\n",
    "mini_4may_stationaryscooter.info()"
   ]
  },
  {
   "cell_type": "code",
   "execution_count": null,
   "id": "2f568e28",
   "metadata": {},
   "outputs": [],
   "source": []
  },
  {
   "cell_type": "code",
   "execution_count": null,
   "id": "41f9cd71",
   "metadata": {},
   "outputs": [],
   "source": []
  },
  {
   "cell_type": "code",
   "execution_count": null,
   "id": "f8a1e241",
   "metadata": {},
   "outputs": [],
   "source": []
  },
  {
   "cell_type": "code",
   "execution_count": null,
   "id": "c79d4573",
   "metadata": {},
   "outputs": [],
   "source": []
  },
  {
   "cell_type": "code",
   "execution_count": null,
   "id": "257c5ab9",
   "metadata": {},
   "outputs": [],
   "source": [
    "mini_5may_stationaryscooter = may_stationaryscooter[8000040:]\n",
    "mini_5may_stationaryscooter.info()"
   ]
  },
  {
   "cell_type": "code",
   "execution_count": null,
   "id": "a82c85b5",
   "metadata": {},
   "outputs": [],
   "source": [
    "#trying again\n",
    "\n",
    "'''mini_1may_stationaryscooter['cumulative_sum'] = 0 # initializing column\n",
    "iter_count = 1\n",
    "time_duration = 0\n",
    "for ind, row in mini_1may_stationaryscooter.iterrows():\n",
    "    if row['duration'] ==5:\n",
    "        time_duration += 5\n",
    "        mini_1may_stationaryscooter.loc[ind,'cumulative_sum'] = time_duration\n",
    "    else: \n",
    "        time_duration = 0\n",
    "    if iter_count % 100000 == 0:\n",
    "        print (f'completed iteration: {iter_count}')\n",
    "    iter_count += 1'''\n",
    "\n",
    "#it worked!  Took my comp 6 hours to do it - but it worked.  "
   ]
  },
  {
   "cell_type": "code",
   "execution_count": null,
   "id": "f5a954c2",
   "metadata": {},
   "outputs": [],
   "source": [
    "'''mini_3dmay_stationaryscooter['cumulative_sum'] = 0 # initializing column\n",
    "iter_count = 1\n",
    "time_duration = 0\n",
    "for ind, row in mini_3dmay_stationaryscooter.iterrows():\n",
    "    if row['duration'] ==5:\n",
    "        time_duration += 5\n",
    "        mini_3dmay_stationaryscooter.loc[ind,'cumulative_sum'] = time_duration\n",
    "    else: \n",
    "        time_duration = 0\n",
    "    if iter_count % 100000 == 0:\n",
    "        print (f'completed iteration: {iter_count}')\n",
    "    iter_count += 1'''"
   ]
  },
  {
   "cell_type": "code",
   "execution_count": null,
   "id": "61878b65",
   "metadata": {},
   "outputs": [],
   "source": [
    "#mini_1may_stationaryscooter.to_csv()\n",
    "\n",
    "#note - it says it ran this function - but i do not see the csv in my folder.  so ... ?  \n",
    "# but given it's size - maybe it takes a while too.  it's using a lot of memory right now ...\n",
    "#or maybe i can break it up and save it bit by bit?  i feel like that may crash everything, clearing 6 hours of work\n",
    "#if it's still in the exporting process.  unsure what to do.  wait for morning and see if it arrives?  \n",
    "#i'm concerned about opening a new notebook.  or trying to reexport this one.\n",
    "\n",
    "#going to try breaking it up.  what's the worst that can happen?"
   ]
  },
  {
   "cell_type": "code",
   "execution_count": null,
   "id": "5f79c94d",
   "metadata": {},
   "outputs": [],
   "source": [
    "#mini_1may_stationaryscooter.info()"
   ]
  },
  {
   "cell_type": "code",
   "execution_count": null,
   "id": "d0f5992c",
   "metadata": {},
   "outputs": [],
   "source": [
    "#mini_1amay_stationaryscooter = mini_1may_stationaryscooter[:500000]\n",
    "#mini_1amay_stationaryscooter.info()"
   ]
  },
  {
   "cell_type": "markdown",
   "id": "44b6b778",
   "metadata": {},
   "source": [
    "#yup - tried to export and everything crashed saying \"out of memory\" ... so my fears were not unfounded.\n",
    "i guess i'll check again in the morning and see if the first csv comes through or not.  if not ... ugh.  I may need to rerun this whole dang thing, 6 hours and all ... that is not a good option"
   ]
  },
  {
   "cell_type": "code",
   "execution_count": null,
   "id": "d0e8564d",
   "metadata": {},
   "outputs": [],
   "source": [
    "#mini_1amay_stationaryscooter.to_pickle(\"../data/mini_1a_may.pkl\")"
   ]
  },
  {
   "cell_type": "code",
   "execution_count": null,
   "id": "12d4486f",
   "metadata": {},
   "outputs": [],
   "source": [
    "#mini_1bmay_stationaryscooter.to_pickle(\"../data/mini_1b_may.pkl\")"
   ]
  },
  {
   "cell_type": "code",
   "execution_count": null,
   "id": "113642fe",
   "metadata": {},
   "outputs": [],
   "source": [
    "#mini_1cmay_stationaryscooter.to_pickle(\"../data/mini_1c_may.pkl\")"
   ]
  },
  {
   "cell_type": "code",
   "execution_count": null,
   "id": "2634e2c3",
   "metadata": {},
   "outputs": [],
   "source": [
    "#mini_1dmay_stationaryscooter.to_pickle(\"../data/mini_1d_may.pkl\")"
   ]
  },
  {
   "cell_type": "code",
   "execution_count": null,
   "id": "fb474458",
   "metadata": {},
   "outputs": [],
   "source": [
    "#mini_2amay_stationaryscooter.to_pickle(\"../data/mini_2a_may.pkl\")"
   ]
  },
  {
   "cell_type": "code",
   "execution_count": null,
   "id": "19a12609",
   "metadata": {},
   "outputs": [],
   "source": [
    "#mini_2bmay_stationaryscooter.to_pickle(\"../data/mini_2b_may.pkl\")"
   ]
  },
  {
   "cell_type": "code",
   "execution_count": null,
   "id": "ac22d008",
   "metadata": {},
   "outputs": [],
   "source": [
    "#mini_2cmay_stationaryscooter.to_pickle(\"../data/mini_2c_may.pkl\")"
   ]
  },
  {
   "cell_type": "code",
   "execution_count": null,
   "id": "80859b64",
   "metadata": {},
   "outputs": [],
   "source": [
    "#mini_2dmay_stationaryscooter.to_pickle(\"../data/mini_2d_may.pkl\")"
   ]
  },
  {
   "cell_type": "code",
   "execution_count": null,
   "id": "495d7a5a",
   "metadata": {},
   "outputs": [],
   "source": [
    "#mini_3amay_stationaryscooter.to_pickle(\"../data/mini_3a_may.pkl\")"
   ]
  },
  {
   "cell_type": "code",
   "execution_count": null,
   "id": "7fbb35d5",
   "metadata": {},
   "outputs": [],
   "source": [
    "#mini_3bmay_stationaryscooter.to_pickle(\"../data/mini_3b_may.pkl\")"
   ]
  },
  {
   "cell_type": "code",
   "execution_count": null,
   "id": "db0715f0",
   "metadata": {},
   "outputs": [],
   "source": [
    "#mini_3cmay_stationaryscooter.to_pickle(\"../data/mini_3c_may.pkl\")"
   ]
  },
  {
   "cell_type": "code",
   "execution_count": null,
   "id": "7fad87fa",
   "metadata": {},
   "outputs": [],
   "source": [
    "#mini_3dmay_stationaryscooter.to_pickle(\"../data/mini_3d_may.pkl\")"
   ]
  },
  {
   "cell_type": "code",
   "execution_count": null,
   "id": "3edb8ad0",
   "metadata": {},
   "outputs": [],
   "source": []
  },
  {
   "cell_type": "markdown",
   "id": "8530fb3d",
   "metadata": {},
   "source": [
    "So - after all that, my friend helped me find a code that may work better and faster than my working-but-taking-forever iterrows ... let's see:"
   ]
  },
  {
   "cell_type": "code",
   "execution_count": null,
   "id": "d9dd6f06",
   "metadata": {},
   "outputs": [],
   "source": [
    "'''%%time\n",
    "may_stationaryscooter['reset'] = np.where(may_stationaryscooter['duration'] == 0,1,0)\n",
    "may_stationaryscooter['cumsum'] = may_stationaryscooter['reset'].cumsum()\n",
    "may_stationaryscooter['cumulative_sum'] = may_stationaryscooter.groupby(['cumsum'])['duration'].cumsum()\n",
    "may_stationaryscooter = may_stationaryscooter.drop(['reset','cumsum'],axis=1)'''"
   ]
  },
  {
   "cell_type": "code",
   "execution_count": null,
   "id": "b25b67e1",
   "metadata": {},
   "outputs": [],
   "source": [
    "#yeah, that didn't work nearly as well on mine as it did on theirs ... "
   ]
  },
  {
   "cell_type": "code",
   "execution_count": 80,
   "id": "f471bb24",
   "metadata": {},
   "outputs": [],
   "source": [
    "may_stationaryscooter.to_pickle(\"../data/may_stationaryscooter.pkl\")"
   ]
  },
  {
   "cell_type": "code",
   "execution_count": null,
   "id": "03add072",
   "metadata": {},
   "outputs": [],
   "source": []
  }
 ],
 "metadata": {
  "kernelspec": {
   "display_name": "Python 3",
   "language": "python",
   "name": "python3"
  },
  "language_info": {
   "codemirror_mode": {
    "name": "ipython",
    "version": 3
   },
   "file_extension": ".py",
   "mimetype": "text/x-python",
   "name": "python",
   "nbconvert_exporter": "python",
   "pygments_lexer": "ipython3",
   "version": "3.8.8"
  }
 },
 "nbformat": 4,
 "nbformat_minor": 5
}
