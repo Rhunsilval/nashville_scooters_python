{
 "cells": [
  {
   "cell_type": "code",
   "execution_count": 1,
   "id": "8b298653",
   "metadata": {},
   "outputs": [],
   "source": [
    "import pandas as pd\n",
    "import matplotlib.pyplot as plt"
   ]
  },
  {
   "cell_type": "code",
   "execution_count": 2,
   "id": "f7f3d132",
   "metadata": {},
   "outputs": [
    {
     "data": {
      "text/html": [
       "<div>\n",
       "<style scoped>\n",
       "    .dataframe tbody tr th:only-of-type {\n",
       "        vertical-align: middle;\n",
       "    }\n",
       "\n",
       "    .dataframe tbody tr th {\n",
       "        vertical-align: top;\n",
       "    }\n",
       "\n",
       "    .dataframe thead th {\n",
       "        text-align: right;\n",
       "    }\n",
       "</style>\n",
       "<table border=\"1\" class=\"dataframe\">\n",
       "  <thead>\n",
       "    <tr style=\"text-align: right;\">\n",
       "      <th></th>\n",
       "      <th>pubdatetime</th>\n",
       "      <th>latitude</th>\n",
       "      <th>longitude</th>\n",
       "      <th>sumdid</th>\n",
       "      <th>chargelevel</th>\n",
       "      <th>companyname</th>\n",
       "    </tr>\n",
       "  </thead>\n",
       "  <tbody>\n",
       "    <tr>\n",
       "      <th>0</th>\n",
       "      <td>2019-05-01 00:01:41.247</td>\n",
       "      <td>36.136822</td>\n",
       "      <td>-86.799877</td>\n",
       "      <td>PoweredLIRL1</td>\n",
       "      <td>93.0</td>\n",
       "      <td>0</td>\n",
       "    </tr>\n",
       "    <tr>\n",
       "      <th>1</th>\n",
       "      <td>2019-05-01 00:01:41.247</td>\n",
       "      <td>36.191252</td>\n",
       "      <td>-86.772945</td>\n",
       "      <td>PoweredXWRWC</td>\n",
       "      <td>35.0</td>\n",
       "      <td>0</td>\n",
       "    </tr>\n",
       "    <tr>\n",
       "      <th>2</th>\n",
       "      <td>2019-05-01 00:01:41.247</td>\n",
       "      <td>36.144752</td>\n",
       "      <td>-86.806293</td>\n",
       "      <td>PoweredMEJEH</td>\n",
       "      <td>90.0</td>\n",
       "      <td>0</td>\n",
       "    </tr>\n",
       "    <tr>\n",
       "      <th>3</th>\n",
       "      <td>2019-05-01 00:01:41.247</td>\n",
       "      <td>36.162056</td>\n",
       "      <td>-86.774688</td>\n",
       "      <td>Powered1A7TC</td>\n",
       "      <td>88.0</td>\n",
       "      <td>0</td>\n",
       "    </tr>\n",
       "    <tr>\n",
       "      <th>4</th>\n",
       "      <td>2019-05-01 00:01:41.247</td>\n",
       "      <td>36.150973</td>\n",
       "      <td>-86.783109</td>\n",
       "      <td>Powered2TYEF</td>\n",
       "      <td>98.0</td>\n",
       "      <td>0</td>\n",
       "    </tr>\n",
       "  </tbody>\n",
       "</table>\n",
       "</div>"
      ],
      "text/plain": [
       "              pubdatetime   latitude  longitude        sumdid  chargelevel  \\\n",
       "0 2019-05-01 00:01:41.247  36.136822 -86.799877  PoweredLIRL1         93.0   \n",
       "1 2019-05-01 00:01:41.247  36.191252 -86.772945  PoweredXWRWC         35.0   \n",
       "2 2019-05-01 00:01:41.247  36.144752 -86.806293  PoweredMEJEH         90.0   \n",
       "3 2019-05-01 00:01:41.247  36.162056 -86.774688  Powered1A7TC         88.0   \n",
       "4 2019-05-01 00:01:41.247  36.150973 -86.783109  Powered2TYEF         98.0   \n",
       "\n",
       "   companyname  \n",
       "0            0  \n",
       "1            0  \n",
       "2            0  \n",
       "3            0  \n",
       "4            0  "
      ]
     },
     "execution_count": 2,
     "metadata": {},
     "output_type": "execute_result"
    }
   ],
   "source": [
    "may = pd.read_pickle('../data/may.pkl')\n",
    "may.head()"
   ]
  },
  {
   "cell_type": "code",
   "execution_count": 3,
   "id": "a06225b0",
   "metadata": {},
   "outputs": [
    {
     "data": {
      "text/html": [
       "<div>\n",
       "<style scoped>\n",
       "    .dataframe tbody tr th:only-of-type {\n",
       "        vertical-align: middle;\n",
       "    }\n",
       "\n",
       "    .dataframe tbody tr th {\n",
       "        vertical-align: top;\n",
       "    }\n",
       "\n",
       "    .dataframe thead th {\n",
       "        text-align: right;\n",
       "    }\n",
       "</style>\n",
       "<table border=\"1\" class=\"dataframe\">\n",
       "  <thead>\n",
       "    <tr style=\"text-align: right;\">\n",
       "      <th></th>\n",
       "      <th>pubdatetime</th>\n",
       "      <th>latitude</th>\n",
       "      <th>longitude</th>\n",
       "      <th>sumdid</th>\n",
       "      <th>chargelevel</th>\n",
       "      <th>companyname</th>\n",
       "    </tr>\n",
       "  </thead>\n",
       "  <tbody>\n",
       "    <tr>\n",
       "      <th>20292498</th>\n",
       "      <td>2019-05-31 23:59:42</td>\n",
       "      <td>36.1639</td>\n",
       "      <td>-86.7823</td>\n",
       "      <td>Poweredbb60ef04-c719-597f-805f-20978964fd8c</td>\n",
       "      <td>49.0</td>\n",
       "      <td>5</td>\n",
       "    </tr>\n",
       "    <tr>\n",
       "      <th>20292499</th>\n",
       "      <td>2019-05-31 23:59:42</td>\n",
       "      <td>36.1606</td>\n",
       "      <td>-86.7768</td>\n",
       "      <td>Powered9f5743ed-7f81-539b-9e37-6503d54445d3</td>\n",
       "      <td>68.0</td>\n",
       "      <td>5</td>\n",
       "    </tr>\n",
       "    <tr>\n",
       "      <th>20292500</th>\n",
       "      <td>2019-05-31 23:59:42</td>\n",
       "      <td>36.1606</td>\n",
       "      <td>-86.7769</td>\n",
       "      <td>Powered5744d1db-3bbe-55e5-9a23-a93828ba54fc</td>\n",
       "      <td>53.0</td>\n",
       "      <td>5</td>\n",
       "    </tr>\n",
       "    <tr>\n",
       "      <th>20292501</th>\n",
       "      <td>2019-05-31 23:59:42</td>\n",
       "      <td>36.1624</td>\n",
       "      <td>-86.7745</td>\n",
       "      <td>Poweredad1d6d3b-162a-5bec-bffd-cac4ac8dee1c</td>\n",
       "      <td>42.0</td>\n",
       "      <td>5</td>\n",
       "    </tr>\n",
       "    <tr>\n",
       "      <th>20292502</th>\n",
       "      <td>2019-05-31 23:59:42</td>\n",
       "      <td>36.1519</td>\n",
       "      <td>-86.7985</td>\n",
       "      <td>Powered8505008e-97c9-5003-8975-2ea6b2634fa0</td>\n",
       "      <td>76.0</td>\n",
       "      <td>5</td>\n",
       "    </tr>\n",
       "  </tbody>\n",
       "</table>\n",
       "</div>"
      ],
      "text/plain": [
       "                 pubdatetime  latitude  longitude  \\\n",
       "20292498 2019-05-31 23:59:42   36.1639   -86.7823   \n",
       "20292499 2019-05-31 23:59:42   36.1606   -86.7768   \n",
       "20292500 2019-05-31 23:59:42   36.1606   -86.7769   \n",
       "20292501 2019-05-31 23:59:42   36.1624   -86.7745   \n",
       "20292502 2019-05-31 23:59:42   36.1519   -86.7985   \n",
       "\n",
       "                                               sumdid  chargelevel  \\\n",
       "20292498  Poweredbb60ef04-c719-597f-805f-20978964fd8c         49.0   \n",
       "20292499  Powered9f5743ed-7f81-539b-9e37-6503d54445d3         68.0   \n",
       "20292500  Powered5744d1db-3bbe-55e5-9a23-a93828ba54fc         53.0   \n",
       "20292501  Poweredad1d6d3b-162a-5bec-bffd-cac4ac8dee1c         42.0   \n",
       "20292502  Powered8505008e-97c9-5003-8975-2ea6b2634fa0         76.0   \n",
       "\n",
       "          companyname  \n",
       "20292498            5  \n",
       "20292499            5  \n",
       "20292500            5  \n",
       "20292501            5  \n",
       "20292502            5  "
      ]
     },
     "execution_count": 3,
     "metadata": {},
     "output_type": "execute_result"
    }
   ],
   "source": [
    "may.tail()"
   ]
  },
  {
   "cell_type": "code",
   "execution_count": 4,
   "id": "9867dd00",
   "metadata": {},
   "outputs": [
    {
     "name": "stdout",
     "output_type": "stream",
     "text": [
      "<class 'pandas.core.frame.DataFrame'>\n",
      "Int64Index: 20283582 entries, 0 to 20292502\n",
      "Data columns (total 6 columns):\n",
      " #   Column       Dtype         \n",
      "---  ------       -----         \n",
      " 0   pubdatetime  datetime64[ns]\n",
      " 1   latitude     float64       \n",
      " 2   longitude    float64       \n",
      " 3   sumdid       object        \n",
      " 4   chargelevel  float64       \n",
      " 5   companyname  int64         \n",
      "dtypes: datetime64[ns](1), float64(3), int64(1), object(1)\n",
      "memory usage: 1.1+ GB\n"
     ]
    }
   ],
   "source": [
    "may.info()"
   ]
  },
  {
   "cell_type": "markdown",
   "id": "10e9fc92",
   "metadata": {},
   "source": [
    "#note - the entries and the index numbers are different because we removed bicycles from our dataset.  difference of 8920 entries, there's 8921 bicycles in the csv."
   ]
  },
  {
   "cell_type": "markdown",
   "id": "af8f1f99",
   "metadata": {},
   "source": [
    "#i wonder how many individual scooters are in this dataset"
   ]
  },
  {
   "cell_type": "code",
   "execution_count": 5,
   "id": "45a8238a",
   "metadata": {},
   "outputs": [
    {
     "data": {
      "text/plain": [
       "PoweredIE7H5RIN474PE    8921\n",
       "PoweredUK65LOU3K5N7G    8748\n",
       "PoweredIOHG2G3XKATUL    8576\n",
       "PoweredJCKMQCAL2SSNJ    8521\n",
       "Powered4NYK5PWADVIAU    8439\n",
       "                        ... \n",
       "Powered6599831             1\n",
       "Powered523737              1\n",
       "Powered1PKP7               1\n",
       "PoweredCW742BQMJ3XHN       1\n",
       "PoweredGJYGPDVTFXRH7       1\n",
       "Name: sumdid, Length: 8303, dtype: int64"
      ]
     },
     "execution_count": 5,
     "metadata": {},
     "output_type": "execute_result"
    }
   ],
   "source": [
    "may['sumdid'].value_counts() "
   ]
  },
  {
   "cell_type": "markdown",
   "id": "b326a023",
   "metadata": {},
   "source": [
    "#there's 8303 scooters across 20,283,582 rows of data\n",
    "that's almost 2443 entries per scooter ... which i can see is not true.\n",
    "max is 8921, min is 1\n",
    "\n",
    "i wonder if there's a difference across companies as to how many times each scooter is entered\n",
    "there's 7 companies - is SHOULD be something like 2,897,654 entries for each business if the distribution is equal"
   ]
  },
  {
   "cell_type": "code",
   "execution_count": 6,
   "id": "e1e0044f",
   "metadata": {},
   "outputs": [
    {
     "data": {
      "text/plain": [
       "3    7111655\n",
       "0    4334006\n",
       "1    3112581\n",
       "5    2984630\n",
       "4    1301001\n",
       "2     915314\n",
       "6     524395\n",
       "Name: companyname, dtype: int64"
      ]
     },
     "execution_count": 6,
     "metadata": {},
     "output_type": "execute_result"
    }
   ],
   "source": [
    "may['companyname'].value_counts()"
   ]
  },
  {
   "cell_type": "markdown",
   "id": "0ea9cd59",
   "metadata": {},
   "source": [
    "the data is NOT equal\n",
    "company 3 has a lot more info than anyone else\n",
    "companies 1 and 5 are right about where i predicted\n",
    "companies 0 and 4 are a little above and below\n",
    "companies 2 and 6 are way underreported compared to the other 5."
   ]
  },
  {
   "cell_type": "code",
   "execution_count": 7,
   "id": "1c3cde37",
   "metadata": {},
   "outputs": [
    {
     "data": {
      "text/plain": [
       "pubdatetime      0\n",
       "latitude         0\n",
       "longitude        0\n",
       "sumdid           0\n",
       "chargelevel    283\n",
       "companyname      0\n",
       "dtype: int64"
      ]
     },
     "execution_count": 7,
     "metadata": {},
     "output_type": "execute_result"
    }
   ],
   "source": [
    "may.isnull().sum()"
   ]
  },
  {
   "cell_type": "code",
   "execution_count": 8,
   "id": "311749b9",
   "metadata": {},
   "outputs": [
    {
     "data": {
      "text/html": [
       "<div>\n",
       "<style scoped>\n",
       "    .dataframe tbody tr th:only-of-type {\n",
       "        vertical-align: middle;\n",
       "    }\n",
       "\n",
       "    .dataframe tbody tr th {\n",
       "        vertical-align: top;\n",
       "    }\n",
       "\n",
       "    .dataframe thead th {\n",
       "        text-align: right;\n",
       "    }\n",
       "</style>\n",
       "<table border=\"1\" class=\"dataframe\">\n",
       "  <thead>\n",
       "    <tr style=\"text-align: right;\">\n",
       "      <th></th>\n",
       "      <th>pubdatetime</th>\n",
       "      <th>latitude</th>\n",
       "      <th>longitude</th>\n",
       "      <th>sumdid</th>\n",
       "      <th>chargelevel</th>\n",
       "      <th>companyname</th>\n",
       "    </tr>\n",
       "  </thead>\n",
       "  <tbody>\n",
       "    <tr>\n",
       "      <th>0</th>\n",
       "      <td>2019-05-01 00:01:41.247</td>\n",
       "      <td>36.136822</td>\n",
       "      <td>-86.799877</td>\n",
       "      <td>PoweredLIRL1</td>\n",
       "      <td>93.0</td>\n",
       "      <td>0</td>\n",
       "    </tr>\n",
       "    <tr>\n",
       "      <th>2694</th>\n",
       "      <td>2019-05-01 00:06:41.537</td>\n",
       "      <td>36.136822</td>\n",
       "      <td>-86.799877</td>\n",
       "      <td>PoweredLIRL1</td>\n",
       "      <td>93.0</td>\n",
       "      <td>0</td>\n",
       "    </tr>\n",
       "    <tr>\n",
       "      <th>26176</th>\n",
       "      <td>2019-05-01 01:01:43.917</td>\n",
       "      <td>36.136751</td>\n",
       "      <td>-86.799921</td>\n",
       "      <td>PoweredLIRL1</td>\n",
       "      <td>92.0</td>\n",
       "      <td>0</td>\n",
       "    </tr>\n",
       "    <tr>\n",
       "      <th>28812</th>\n",
       "      <td>2019-05-01 01:06:44.237</td>\n",
       "      <td>36.136751</td>\n",
       "      <td>-86.799921</td>\n",
       "      <td>PoweredLIRL1</td>\n",
       "      <td>92.0</td>\n",
       "      <td>0</td>\n",
       "    </tr>\n",
       "    <tr>\n",
       "      <th>30726</th>\n",
       "      <td>2019-05-01 01:11:44.167</td>\n",
       "      <td>36.136751</td>\n",
       "      <td>-86.799921</td>\n",
       "      <td>PoweredLIRL1</td>\n",
       "      <td>92.0</td>\n",
       "      <td>0</td>\n",
       "    </tr>\n",
       "    <tr>\n",
       "      <th>...</th>\n",
       "      <td>...</td>\n",
       "      <td>...</td>\n",
       "      <td>...</td>\n",
       "      <td>...</td>\n",
       "      <td>...</td>\n",
       "      <td>...</td>\n",
       "    </tr>\n",
       "    <tr>\n",
       "      <th>20209588</th>\n",
       "      <td>2019-05-31 22:00:15.960</td>\n",
       "      <td>36.191117</td>\n",
       "      <td>-86.781360</td>\n",
       "      <td>PoweredLIRL1</td>\n",
       "      <td>53.0</td>\n",
       "      <td>0</td>\n",
       "    </tr>\n",
       "    <tr>\n",
       "      <th>20213207</th>\n",
       "      <td>2019-05-31 22:05:16.080</td>\n",
       "      <td>36.191117</td>\n",
       "      <td>-86.781360</td>\n",
       "      <td>PoweredLIRL1</td>\n",
       "      <td>53.0</td>\n",
       "      <td>0</td>\n",
       "    </tr>\n",
       "    <tr>\n",
       "      <th>20216631</th>\n",
       "      <td>2019-05-31 22:10:16.483</td>\n",
       "      <td>36.191096</td>\n",
       "      <td>-86.781369</td>\n",
       "      <td>PoweredLIRL1</td>\n",
       "      <td>53.0</td>\n",
       "      <td>0</td>\n",
       "    </tr>\n",
       "    <tr>\n",
       "      <th>20220463</th>\n",
       "      <td>2019-05-31 22:15:16.653</td>\n",
       "      <td>36.191096</td>\n",
       "      <td>-86.781369</td>\n",
       "      <td>PoweredLIRL1</td>\n",
       "      <td>53.0</td>\n",
       "      <td>0</td>\n",
       "    </tr>\n",
       "    <tr>\n",
       "      <th>20224154</th>\n",
       "      <td>2019-05-31 22:20:16.737</td>\n",
       "      <td>36.191122</td>\n",
       "      <td>-86.781343</td>\n",
       "      <td>PoweredLIRL1</td>\n",
       "      <td>53.0</td>\n",
       "      <td>0</td>\n",
       "    </tr>\n",
       "  </tbody>\n",
       "</table>\n",
       "<p>2859 rows × 6 columns</p>\n",
       "</div>"
      ],
      "text/plain": [
       "                     pubdatetime   latitude  longitude        sumdid  \\\n",
       "0        2019-05-01 00:01:41.247  36.136822 -86.799877  PoweredLIRL1   \n",
       "2694     2019-05-01 00:06:41.537  36.136822 -86.799877  PoweredLIRL1   \n",
       "26176    2019-05-01 01:01:43.917  36.136751 -86.799921  PoweredLIRL1   \n",
       "28812    2019-05-01 01:06:44.237  36.136751 -86.799921  PoweredLIRL1   \n",
       "30726    2019-05-01 01:11:44.167  36.136751 -86.799921  PoweredLIRL1   \n",
       "...                          ...        ...        ...           ...   \n",
       "20209588 2019-05-31 22:00:15.960  36.191117 -86.781360  PoweredLIRL1   \n",
       "20213207 2019-05-31 22:05:16.080  36.191117 -86.781360  PoweredLIRL1   \n",
       "20216631 2019-05-31 22:10:16.483  36.191096 -86.781369  PoweredLIRL1   \n",
       "20220463 2019-05-31 22:15:16.653  36.191096 -86.781369  PoweredLIRL1   \n",
       "20224154 2019-05-31 22:20:16.737  36.191122 -86.781343  PoweredLIRL1   \n",
       "\n",
       "          chargelevel  companyname  \n",
       "0                93.0            0  \n",
       "2694             93.0            0  \n",
       "26176            92.0            0  \n",
       "28812            92.0            0  \n",
       "30726            92.0            0  \n",
       "...               ...          ...  \n",
       "20209588         53.0            0  \n",
       "20213207         53.0            0  \n",
       "20216631         53.0            0  \n",
       "20220463         53.0            0  \n",
       "20224154         53.0            0  \n",
       "\n",
       "[2859 rows x 6 columns]"
      ]
     },
     "execution_count": 8,
     "metadata": {},
     "output_type": "execute_result"
    }
   ],
   "source": [
    "may.loc[may['sumdid'] == 'PoweredLIRL1']\n",
    "#company0 = may.loc[may['sumdid'] == 'PoweredLIRL1']\n",
    "#note: Jeremiah's query to look at how often a scooter is pinged.  this one is every 5 mins"
   ]
  },
  {
   "cell_type": "markdown",
   "id": "375dadf5",
   "metadata": {},
   "source": [
    "so one of the scooters that had only 1 entry ... "
   ]
  },
  {
   "cell_type": "code",
   "execution_count": 9,
   "id": "beac23d6",
   "metadata": {},
   "outputs": [
    {
     "data": {
      "text/html": [
       "<div>\n",
       "<style scoped>\n",
       "    .dataframe tbody tr th:only-of-type {\n",
       "        vertical-align: middle;\n",
       "    }\n",
       "\n",
       "    .dataframe tbody tr th {\n",
       "        vertical-align: top;\n",
       "    }\n",
       "\n",
       "    .dataframe thead th {\n",
       "        text-align: right;\n",
       "    }\n",
       "</style>\n",
       "<table border=\"1\" class=\"dataframe\">\n",
       "  <thead>\n",
       "    <tr style=\"text-align: right;\">\n",
       "      <th></th>\n",
       "      <th>pubdatetime</th>\n",
       "      <th>latitude</th>\n",
       "      <th>longitude</th>\n",
       "      <th>sumdid</th>\n",
       "      <th>chargelevel</th>\n",
       "      <th>companyname</th>\n",
       "    </tr>\n",
       "  </thead>\n",
       "  <tbody>\n",
       "    <tr>\n",
       "      <th>16270541</th>\n",
       "      <td>2019-05-27 21:46:35.653</td>\n",
       "      <td>36.176051</td>\n",
       "      <td>-86.76609</td>\n",
       "      <td>Powered1PKP7</td>\n",
       "      <td>82.0</td>\n",
       "      <td>0</td>\n",
       "    </tr>\n",
       "  </tbody>\n",
       "</table>\n",
       "</div>"
      ],
      "text/plain": [
       "                     pubdatetime   latitude  longitude        sumdid  \\\n",
       "16270541 2019-05-27 21:46:35.653  36.176051  -86.76609  Powered1PKP7   \n",
       "\n",
       "          chargelevel  companyname  \n",
       "16270541         82.0            0  "
      ]
     },
     "execution_count": 9,
     "metadata": {},
     "output_type": "execute_result"
    }
   ],
   "source": [
    "may.loc[may['sumdid']== 'Powered1PKP7']"
   ]
  },
  {
   "cell_type": "markdown",
   "id": "a75a1e62",
   "metadata": {},
   "source": [
    "same company ... interesting."
   ]
  },
  {
   "cell_type": "markdown",
   "id": "e6d3f856",
   "metadata": {},
   "source": [
    "let me try and find out how many scooters each of these companies have.  \n",
    "I know there's 8303 scooters and 7 companies."
   ]
  },
  {
   "cell_type": "code",
   "execution_count": 10,
   "id": "0c9909f2",
   "metadata": {},
   "outputs": [],
   "source": [
    "may_company_group = may.groupby(\"companyname\")"
   ]
  },
  {
   "cell_type": "code",
   "execution_count": 11,
   "id": "1389fcce",
   "metadata": {},
   "outputs": [],
   "source": [
    "may_scooter_company = may_company_group.agg({\"sumdid\": \"nunique\"})"
   ]
  },
  {
   "cell_type": "code",
   "execution_count": 12,
   "id": "59c47462",
   "metadata": {},
   "outputs": [
    {
     "name": "stdout",
     "output_type": "stream",
     "text": [
      "             sumdid\n",
      "companyname        \n",
      "0              3064\n",
      "1              1376\n",
      "2               223\n",
      "3              1631\n",
      "4               687\n",
      "5               976\n",
      "6               346\n"
     ]
    }
   ],
   "source": [
    "print(may_scooter_company)"
   ]
  },
  {
   "cell_type": "markdown",
   "id": "61e499f7",
   "metadata": {},
   "source": [
    "it worked!  \n",
    "so, there's a definite leader in company 0.  \n",
    "company 1 and 3 are close for positions 2 and 3.  \n",
    "company 4 and 5 are fairly modest.\n",
    "and company 2 and 6 barely have any scooters"
   ]
  },
  {
   "cell_type": "markdown",
   "id": "6e5b6751",
   "metadata": {},
   "source": [
    " ... i wonder if there's a company trend for those null chargelevels?\n",
    " what do the charge levels even look like?"
   ]
  },
  {
   "cell_type": "code",
   "execution_count": 13,
   "id": "41553b37",
   "metadata": {},
   "outputs": [
    {
     "data": {
      "image/png": "[encoded data removed]",
      "text/plain": [
       "<Figure size 432x288 with 1 Axes>"
      ]
     },
     "metadata": {
      "needs_background": "light"
     },
     "output_type": "display_data"
    }
   ],
   "source": [
    "plt.hist(\"chargelevel\", bins = 10, data = may);"
   ]
  },
  {
   "cell_type": "code",
   "execution_count": 15,
   "id": "adeecf82",
   "metadata": {},
   "outputs": [
    {
     "name": "stdout",
     "output_type": "stream",
     "text": [
      "companyname\n",
      "0      0\n",
      "1      0\n",
      "2      0\n",
      "3      0\n",
      "4    283\n",
      "5      0\n",
      "6      0\n",
      "Name: chargelevel, dtype: int64\n"
     ]
    }
   ],
   "source": [
    "may_nullcharge_company= may.chargelevel.isnull().groupby(may.companyname).sum()\n",
    "print(may_nullcharge_company)"
   ]
  },
  {
   "cell_type": "markdown",
   "id": "a1f5f213",
   "metadata": {},
   "source": [
    "bingo - all 283 null values are in the same company, company 4.  which was a modest sized company with 687 scooters.  I'm not sure yet what that means, but something's going on there."
   ]
  },
  {
   "cell_type": "markdown",
   "id": "b3f27939",
   "metadata": {},
   "source": [
    "i wonder about the number of unique id scooter entries - those that have just one entry, is there a pattern there as well?"
   ]
  },
  {
   "cell_type": "code",
   "execution_count": 23,
   "id": "b2adc2a1",
   "metadata": {},
   "outputs": [
    {
     "data": {
      "text/html": [
       "<div>\n",
       "<style scoped>\n",
       "    .dataframe tbody tr th:only-of-type {\n",
       "        vertical-align: middle;\n",
       "    }\n",
       "\n",
       "    .dataframe tbody tr th {\n",
       "        vertical-align: top;\n",
       "    }\n",
       "\n",
       "    .dataframe thead th {\n",
       "        text-align: right;\n",
       "    }\n",
       "</style>\n",
       "<table border=\"1\" class=\"dataframe\">\n",
       "  <thead>\n",
       "    <tr style=\"text-align: right;\">\n",
       "      <th></th>\n",
       "      <th>pubdatetime</th>\n",
       "      <th>latitude</th>\n",
       "      <th>longitude</th>\n",
       "      <th>sumdid</th>\n",
       "      <th>chargelevel</th>\n",
       "      <th>companyname</th>\n",
       "    </tr>\n",
       "  </thead>\n",
       "  <tbody>\n",
       "    <tr>\n",
       "      <th>62</th>\n",
       "      <td>2019-05-01 00:01:41.247</td>\n",
       "      <td>36.161052</td>\n",
       "      <td>-86.781899</td>\n",
       "      <td>PoweredYEBSU</td>\n",
       "      <td>73.0</td>\n",
       "      <td>0</td>\n",
       "    </tr>\n",
       "    <tr>\n",
       "      <th>4272949</th>\n",
       "      <td>2019-05-09 23:03:18.997</td>\n",
       "      <td>36.134312</td>\n",
       "      <td>-86.667562</td>\n",
       "      <td>PoweredCI6VKIK2KOFMC</td>\n",
       "      <td>6.0</td>\n",
       "      <td>3</td>\n",
       "    </tr>\n",
       "    <tr>\n",
       "      <th>4326724</th>\n",
       "      <td>2019-05-10 02:13:10.420</td>\n",
       "      <td>36.164273</td>\n",
       "      <td>-86.769398</td>\n",
       "      <td>Powered523737</td>\n",
       "      <td>100.0</td>\n",
       "      <td>1</td>\n",
       "    </tr>\n",
       "    <tr>\n",
       "      <th>7520973</th>\n",
       "      <td>2019-05-16 16:18:48.717</td>\n",
       "      <td>36.141950</td>\n",
       "      <td>-86.789444</td>\n",
       "      <td>Powered3361332</td>\n",
       "      <td>0.0</td>\n",
       "      <td>4</td>\n",
       "    </tr>\n",
       "    <tr>\n",
       "      <th>7908151</th>\n",
       "      <td>2019-05-17 05:45:01.127</td>\n",
       "      <td>36.161862</td>\n",
       "      <td>-86.774241</td>\n",
       "      <td>PoweredN4YI2A7RXZQLY</td>\n",
       "      <td>54.0</td>\n",
       "      <td>3</td>\n",
       "    </tr>\n",
       "    <tr>\n",
       "      <th>9656375</th>\n",
       "      <td>2019-05-19 23:57:38.663</td>\n",
       "      <td>36.162614</td>\n",
       "      <td>-86.776840</td>\n",
       "      <td>PoweredGJYGPDVTFXRH7</td>\n",
       "      <td>78.0</td>\n",
       "      <td>3</td>\n",
       "    </tr>\n",
       "    <tr>\n",
       "      <th>10331574</th>\n",
       "      <td>2019-05-21 01:53:37.427</td>\n",
       "      <td>36.176371</td>\n",
       "      <td>-86.804886</td>\n",
       "      <td>PoweredCW742BQMJ3XHN</td>\n",
       "      <td>0.0</td>\n",
       "      <td>3</td>\n",
       "    </tr>\n",
       "    <tr>\n",
       "      <th>14738928</th>\n",
       "      <td>2019-05-26 03:17:34.450</td>\n",
       "      <td>36.153148</td>\n",
       "      <td>-86.793122</td>\n",
       "      <td>Powered8019965</td>\n",
       "      <td>100.0</td>\n",
       "      <td>4</td>\n",
       "    </tr>\n",
       "    <tr>\n",
       "      <th>16270541</th>\n",
       "      <td>2019-05-27 21:46:35.653</td>\n",
       "      <td>36.176051</td>\n",
       "      <td>-86.766090</td>\n",
       "      <td>Powered1PKP7</td>\n",
       "      <td>82.0</td>\n",
       "      <td>0</td>\n",
       "    </tr>\n",
       "    <tr>\n",
       "      <th>19207378</th>\n",
       "      <td>2019-05-30 22:07:00.887</td>\n",
       "      <td>36.147729</td>\n",
       "      <td>-86.740345</td>\n",
       "      <td>Powered6599831</td>\n",
       "      <td>71.0</td>\n",
       "      <td>4</td>\n",
       "    </tr>\n",
       "  </tbody>\n",
       "</table>\n",
       "</div>"
      ],
      "text/plain": [
       "                     pubdatetime   latitude  longitude                sumdid  \\\n",
       "62       2019-05-01 00:01:41.247  36.161052 -86.781899          PoweredYEBSU   \n",
       "4272949  2019-05-09 23:03:18.997  36.134312 -86.667562  PoweredCI6VKIK2KOFMC   \n",
       "4326724  2019-05-10 02:13:10.420  36.164273 -86.769398         Powered523737   \n",
       "7520973  2019-05-16 16:18:48.717  36.141950 -86.789444        Powered3361332   \n",
       "7908151  2019-05-17 05:45:01.127  36.161862 -86.774241  PoweredN4YI2A7RXZQLY   \n",
       "9656375  2019-05-19 23:57:38.663  36.162614 -86.776840  PoweredGJYGPDVTFXRH7   \n",
       "10331574 2019-05-21 01:53:37.427  36.176371 -86.804886  PoweredCW742BQMJ3XHN   \n",
       "14738928 2019-05-26 03:17:34.450  36.153148 -86.793122        Powered8019965   \n",
       "16270541 2019-05-27 21:46:35.653  36.176051 -86.766090          Powered1PKP7   \n",
       "19207378 2019-05-30 22:07:00.887  36.147729 -86.740345        Powered6599831   \n",
       "\n",
       "          chargelevel  companyname  \n",
       "62               73.0            0  \n",
       "4272949           6.0            3  \n",
       "4326724         100.0            1  \n",
       "7520973           0.0            4  \n",
       "7908151          54.0            3  \n",
       "9656375          78.0            3  \n",
       "10331574          0.0            3  \n",
       "14738928        100.0            4  \n",
       "16270541         82.0            0  \n",
       "19207378         71.0            4  "
      ]
     },
     "execution_count": 23,
     "metadata": {},
     "output_type": "execute_result"
    }
   ],
   "source": [
    "may.groupby(\"sumdid\").filter(lambda x: len(x) == 1)"
   ]
  },
  {
   "cell_type": "markdown",
   "id": "e0069576",
   "metadata": {},
   "source": [
    "well, there's not as many as i thought there might be - just 10, \n",
    "and company 3 has 4 of them, while company 4 has 3 of them.  No real insights here ... \n",
    "\n",
    "dates all over the place.  chargelevels all over.  all in different places.  i see no pattern with these single entry scooters.  and given that it's 10 out of 8300 ... not significant."
   ]
  },
  {
   "cell_type": "code",
   "execution_count": null,
   "id": "c93651d0",
   "metadata": {},
   "outputs": [],
   "source": []
  }
 ],
 "metadata": {
  "kernelspec": {
   "display_name": "Python 3",
   "language": "python",
   "name": "python3"
  },
  "language_info": {
   "codemirror_mode": {
    "name": "ipython",
    "version": 3
   },
   "file_extension": ".py",
   "mimetype": "text/x-python",
   "name": "python",
   "nbconvert_exporter": "python",
   "pygments_lexer": "ipython3",
   "version": "3.8.8"
  }
 },
 "nbformat": 4,
 "nbformat_minor": 5
}
