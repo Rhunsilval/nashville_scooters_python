{
 "cells": [
  {
   "cell_type": "code",
   "execution_count": 1,
   "id": "0e08e5d4",
   "metadata": {},
   "outputs": [],
   "source": [
    "import pandas as pd\n",
    "import matplotlib.pyplot as plt"
   ]
  },
  {
   "cell_type": "code",
   "execution_count": 2,
   "id": "efb622b6",
   "metadata": {},
   "outputs": [
    {
     "data": {
      "text/html": [
       "<div>\n",
       "<style scoped>\n",
       "    .dataframe tbody tr th:only-of-type {\n",
       "        vertical-align: middle;\n",
       "    }\n",
       "\n",
       "    .dataframe tbody tr th {\n",
       "        vertical-align: top;\n",
       "    }\n",
       "\n",
       "    .dataframe thead th {\n",
       "        text-align: right;\n",
       "    }\n",
       "</style>\n",
       "<table border=\"1\" class=\"dataframe\">\n",
       "  <thead>\n",
       "    <tr style=\"text-align: right;\">\n",
       "      <th></th>\n",
       "      <th>pubdatetime</th>\n",
       "      <th>latitude</th>\n",
       "      <th>longitude</th>\n",
       "      <th>sumdid</th>\n",
       "      <th>chargelevel</th>\n",
       "      <th>companyname</th>\n",
       "    </tr>\n",
       "  </thead>\n",
       "  <tbody>\n",
       "    <tr>\n",
       "      <th>0</th>\n",
       "      <td>2019-06-01 00:00:12</td>\n",
       "      <td>36.1202</td>\n",
       "      <td>-86.7534</td>\n",
       "      <td>Powered93627c35-0f62-5b81-a78d-75a4a92ecf47</td>\n",
       "      <td>90.0</td>\n",
       "      <td>5</td>\n",
       "    </tr>\n",
       "    <tr>\n",
       "      <th>1</th>\n",
       "      <td>2019-06-01 00:00:12</td>\n",
       "      <td>36.1630</td>\n",
       "      <td>-86.7765</td>\n",
       "      <td>Powered17715097-e8a0-5494-a5ab-9b625796607d</td>\n",
       "      <td>63.0</td>\n",
       "      <td>5</td>\n",
       "    </tr>\n",
       "    <tr>\n",
       "      <th>2</th>\n",
       "      <td>2019-06-01 00:00:12</td>\n",
       "      <td>36.1202</td>\n",
       "      <td>-86.7533</td>\n",
       "      <td>Powerede5cb95ae-b091-5a93-86fa-ededd946d0d7</td>\n",
       "      <td>77.0</td>\n",
       "      <td>5</td>\n",
       "    </tr>\n",
       "    <tr>\n",
       "      <th>3</th>\n",
       "      <td>2019-06-01 00:00:12</td>\n",
       "      <td>36.1201</td>\n",
       "      <td>-86.7530</td>\n",
       "      <td>Powered71fa5e4f-1e17-54c4-936d-330df38cc2fa</td>\n",
       "      <td>0.0</td>\n",
       "      <td>5</td>\n",
       "    </tr>\n",
       "    <tr>\n",
       "      <th>4</th>\n",
       "      <td>2019-06-01 00:00:12</td>\n",
       "      <td>36.1622</td>\n",
       "      <td>-86.7806</td>\n",
       "      <td>Poweredfa549dd6-40bb-5757-ac87-2c2528f2bc68</td>\n",
       "      <td>2.0</td>\n",
       "      <td>5</td>\n",
       "    </tr>\n",
       "  </tbody>\n",
       "</table>\n",
       "</div>"
      ],
      "text/plain": [
       "          pubdatetime  latitude  longitude  \\\n",
       "0 2019-06-01 00:00:12   36.1202   -86.7534   \n",
       "1 2019-06-01 00:00:12   36.1630   -86.7765   \n",
       "2 2019-06-01 00:00:12   36.1202   -86.7533   \n",
       "3 2019-06-01 00:00:12   36.1201   -86.7530   \n",
       "4 2019-06-01 00:00:12   36.1622   -86.7806   \n",
       "\n",
       "                                        sumdid  chargelevel  companyname  \n",
       "0  Powered93627c35-0f62-5b81-a78d-75a4a92ecf47         90.0            5  \n",
       "1  Powered17715097-e8a0-5494-a5ab-9b625796607d         63.0            5  \n",
       "2  Powerede5cb95ae-b091-5a93-86fa-ededd946d0d7         77.0            5  \n",
       "3  Powered71fa5e4f-1e17-54c4-936d-330df38cc2fa          0.0            5  \n",
       "4  Poweredfa549dd6-40bb-5757-ac87-2c2528f2bc68          2.0            5  "
      ]
     },
     "execution_count": 2,
     "metadata": {},
     "output_type": "execute_result"
    }
   ],
   "source": [
    "june = pd.read_pickle('../data/june.pkl')\n",
    "june.head()"
   ]
  },
  {
   "cell_type": "code",
   "execution_count": 4,
   "id": "2285a306",
   "metadata": {},
   "outputs": [
    {
     "data": {
      "text/html": [
       "<div>\n",
       "<style scoped>\n",
       "    .dataframe tbody tr th:only-of-type {\n",
       "        vertical-align: middle;\n",
       "    }\n",
       "\n",
       "    .dataframe tbody tr th {\n",
       "        vertical-align: top;\n",
       "    }\n",
       "\n",
       "    .dataframe thead th {\n",
       "        text-align: right;\n",
       "    }\n",
       "</style>\n",
       "<table border=\"1\" class=\"dataframe\">\n",
       "  <thead>\n",
       "    <tr style=\"text-align: right;\">\n",
       "      <th></th>\n",
       "      <th>pubdatetime</th>\n",
       "      <th>latitude</th>\n",
       "      <th>longitude</th>\n",
       "      <th>sumdid</th>\n",
       "      <th>chargelevel</th>\n",
       "      <th>companyname</th>\n",
       "    </tr>\n",
       "  </thead>\n",
       "  <tbody>\n",
       "    <tr>\n",
       "      <th>28046090</th>\n",
       "      <td>2019-06-30 23:59:55.273</td>\n",
       "      <td>36.125567</td>\n",
       "      <td>-86.776982</td>\n",
       "      <td>PoweredZYNSVOII2QSLD</td>\n",
       "      <td>100.0</td>\n",
       "      <td>3</td>\n",
       "    </tr>\n",
       "    <tr>\n",
       "      <th>28046091</th>\n",
       "      <td>2019-06-30 23:59:55.273</td>\n",
       "      <td>36.121717</td>\n",
       "      <td>-86.775207</td>\n",
       "      <td>PoweredXOPAIWGL7SF62</td>\n",
       "      <td>93.0</td>\n",
       "      <td>3</td>\n",
       "    </tr>\n",
       "    <tr>\n",
       "      <th>28046092</th>\n",
       "      <td>2019-06-30 23:59:55.273</td>\n",
       "      <td>36.127046</td>\n",
       "      <td>-86.777262</td>\n",
       "      <td>PoweredBYKFOWELGPKH6</td>\n",
       "      <td>61.0</td>\n",
       "      <td>3</td>\n",
       "    </tr>\n",
       "    <tr>\n",
       "      <th>28046093</th>\n",
       "      <td>2019-06-30 23:59:55.273</td>\n",
       "      <td>36.123775</td>\n",
       "      <td>-86.790115</td>\n",
       "      <td>PoweredIAAQ7WODYXON7</td>\n",
       "      <td>35.0</td>\n",
       "      <td>3</td>\n",
       "    </tr>\n",
       "    <tr>\n",
       "      <th>28046094</th>\n",
       "      <td>2019-06-30 23:59:55.273</td>\n",
       "      <td>36.121735</td>\n",
       "      <td>-86.775148</td>\n",
       "      <td>Powered3HJPPUNVYGL45</td>\n",
       "      <td>96.0</td>\n",
       "      <td>3</td>\n",
       "    </tr>\n",
       "  </tbody>\n",
       "</table>\n",
       "</div>"
      ],
      "text/plain": [
       "                     pubdatetime   latitude  longitude                sumdid  \\\n",
       "28046090 2019-06-30 23:59:55.273  36.125567 -86.776982  PoweredZYNSVOII2QSLD   \n",
       "28046091 2019-06-30 23:59:55.273  36.121717 -86.775207  PoweredXOPAIWGL7SF62   \n",
       "28046092 2019-06-30 23:59:55.273  36.127046 -86.777262  PoweredBYKFOWELGPKH6   \n",
       "28046093 2019-06-30 23:59:55.273  36.123775 -86.790115  PoweredIAAQ7WODYXON7   \n",
       "28046094 2019-06-30 23:59:55.273  36.121735 -86.775148  Powered3HJPPUNVYGL45   \n",
       "\n",
       "          chargelevel  companyname  \n",
       "28046090        100.0            3  \n",
       "28046091         93.0            3  \n",
       "28046092         61.0            3  \n",
       "28046093         35.0            3  \n",
       "28046094         96.0            3  "
      ]
     },
     "execution_count": 4,
     "metadata": {},
     "output_type": "execute_result"
    }
   ],
   "source": [
    "june.tail()"
   ]
  },
  {
   "cell_type": "code",
   "execution_count": 5,
   "id": "b90d4f3c",
   "metadata": {},
   "outputs": [
    {
     "name": "stdout",
     "output_type": "stream",
     "text": [
      "<class 'pandas.core.frame.DataFrame'>\n",
      "Int64Index: 28037408 entries, 0 to 28046094\n",
      "Data columns (total 6 columns):\n",
      " #   Column       Dtype         \n",
      "---  ------       -----         \n",
      " 0   pubdatetime  datetime64[ns]\n",
      " 1   latitude     float64       \n",
      " 2   longitude    float64       \n",
      " 3   sumdid       object        \n",
      " 4   chargelevel  float64       \n",
      " 5   companyname  int64         \n",
      "dtypes: datetime64[ns](1), float64(3), int64(1), object(1)\n",
      "memory usage: 1.5+ GB\n"
     ]
    }
   ],
   "source": [
    "june.info()"
   ]
  },
  {
   "cell_type": "markdown",
   "id": "87dc937e",
   "metadata": {},
   "source": [
    "#note: there are 8 million more rows of data in June than there are in May.  The month is actually shorter than may, so it's not that ... Maybe more logging per scooter?  maybe more scooters in total?"
   ]
  },
  {
   "cell_type": "code",
   "execution_count": 6,
   "id": "acafdfd7",
   "metadata": {},
   "outputs": [
    {
     "data": {
      "text/plain": [
       "PoweredUNORTWSTRM4AM                           8631\n",
       "PoweredBV42LPYJGVBL4                           8630\n",
       "Powered9d204daf-7897-5dd5-8273-c2454b226d97    8628\n",
       "Powered0286418d-3aff-5080-b4ee-a1ac8be225b8    8628\n",
       "Poweredec02467e-2602-5e91-a74d-33f6f53a0c07    8628\n",
       "                                               ... \n",
       "Powered2WZRP                                      1\n",
       "Powered255293                                     1\n",
       "PoweredUKDFR5O5HBMBO                              1\n",
       "Powered911DI                                      1\n",
       "PoweredXCPDB                                      1\n",
       "Name: sumdid, Length: 7822, dtype: int64"
      ]
     },
     "execution_count": 6,
     "metadata": {},
     "output_type": "execute_result"
    }
   ],
   "source": [
    "june['sumdid'].value_counts() "
   ]
  },
  {
   "cell_type": "markdown",
   "id": "f5744dc0",
   "metadata": {},
   "source": [
    "nope - fewer scooters.  there were 8303 in may, there's 7822 in june.\n",
    "I still see the top number of entries is about the same, and the bottom is still 1"
   ]
  },
  {
   "cell_type": "code",
   "execution_count": 7,
   "id": "aff45cdd",
   "metadata": {},
   "outputs": [
    {
     "data": {
      "text/plain": [
       "5    8482893\n",
       "3    6152504\n",
       "0    4215302\n",
       "1    3084229\n",
       "4    2507991\n",
       "2    1830453\n",
       "6    1764036\n",
       "Name: companyname, dtype: int64"
      ]
     },
     "execution_count": 7,
     "metadata": {},
     "output_type": "execute_result"
    }
   ],
   "source": [
    "june['companyname'].value_counts()"
   ]
  },
  {
   "cell_type": "markdown",
   "id": "ce94438f",
   "metadata": {},
   "source": [
    "interesting - in may, company 3 had the most entries.  in june, it's company 5.  they stepped up their data collection.  do they have more scooters too?  Even though the overall number is smaller?"
   ]
  },
  {
   "cell_type": "code",
   "execution_count": null,
   "id": "9cef530b",
   "metadata": {},
   "outputs": [],
   "source": [
    "may.isnull().sum()"
   ]
  }
 ],
 "metadata": {
  "kernelspec": {
   "display_name": "Python 3",
   "language": "python",
   "name": "python3"
  },
  "language_info": {
   "codemirror_mode": {
    "name": "ipython",
    "version": 3
   },
   "file_extension": ".py",
   "mimetype": "text/x-python",
   "name": "python",
   "nbconvert_exporter": "python",
   "pygments_lexer": "ipython3",
   "version": "3.8.8"
  }
 },
 "nbformat": 4,
 "nbformat_minor": 5
}
