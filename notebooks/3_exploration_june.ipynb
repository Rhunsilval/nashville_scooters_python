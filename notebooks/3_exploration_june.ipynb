{
 "cells": [
  {
   "cell_type": "code",
   "execution_count": 1,
   "id": "b09ccb30",
   "metadata": {},
   "outputs": [],
   "source": [
    "import pandas as pd\n",
    "import matplotlib.pyplot as plt"
   ]
  },
  {
   "cell_type": "code",
   "execution_count": 2,
   "id": "2706f4bf",
   "metadata": {},
   "outputs": [
    {
     "data": {
      "text/html": [
       "<div>\n",
       "<style scoped>\n",
       "    .dataframe tbody tr th:only-of-type {\n",
       "        vertical-align: middle;\n",
       "    }\n",
       "\n",
       "    .dataframe tbody tr th {\n",
       "        vertical-align: top;\n",
       "    }\n",
       "\n",
       "    .dataframe thead th {\n",
       "        text-align: right;\n",
       "    }\n",
       "</style>\n",
       "<table border=\"1\" class=\"dataframe\">\n",
       "  <thead>\n",
       "    <tr style=\"text-align: right;\">\n",
       "      <th></th>\n",
       "      <th>pubdatetime</th>\n",
       "      <th>latitude</th>\n",
       "      <th>longitude</th>\n",
       "      <th>sumdid</th>\n",
       "      <th>chargelevel</th>\n",
       "      <th>companyname</th>\n",
       "    </tr>\n",
       "  </thead>\n",
       "  <tbody>\n",
       "    <tr>\n",
       "      <th>0</th>\n",
       "      <td>2019-06-01 00:00:12</td>\n",
       "      <td>36.1202</td>\n",
       "      <td>-86.7534</td>\n",
       "      <td>Powered93627c35-0f62-5b81-a78d-75a4a92ecf47</td>\n",
       "      <td>90.0</td>\n",
       "      <td>5</td>\n",
       "    </tr>\n",
       "    <tr>\n",
       "      <th>1</th>\n",
       "      <td>2019-06-01 00:00:12</td>\n",
       "      <td>36.1630</td>\n",
       "      <td>-86.7765</td>\n",
       "      <td>Powered17715097-e8a0-5494-a5ab-9b625796607d</td>\n",
       "      <td>63.0</td>\n",
       "      <td>5</td>\n",
       "    </tr>\n",
       "    <tr>\n",
       "      <th>2</th>\n",
       "      <td>2019-06-01 00:00:12</td>\n",
       "      <td>36.1202</td>\n",
       "      <td>-86.7533</td>\n",
       "      <td>Powerede5cb95ae-b091-5a93-86fa-ededd946d0d7</td>\n",
       "      <td>77.0</td>\n",
       "      <td>5</td>\n",
       "    </tr>\n",
       "    <tr>\n",
       "      <th>3</th>\n",
       "      <td>2019-06-01 00:00:12</td>\n",
       "      <td>36.1201</td>\n",
       "      <td>-86.7530</td>\n",
       "      <td>Powered71fa5e4f-1e17-54c4-936d-330df38cc2fa</td>\n",
       "      <td>0.0</td>\n",
       "      <td>5</td>\n",
       "    </tr>\n",
       "    <tr>\n",
       "      <th>4</th>\n",
       "      <td>2019-06-01 00:00:12</td>\n",
       "      <td>36.1622</td>\n",
       "      <td>-86.7806</td>\n",
       "      <td>Poweredfa549dd6-40bb-5757-ac87-2c2528f2bc68</td>\n",
       "      <td>2.0</td>\n",
       "      <td>5</td>\n",
       "    </tr>\n",
       "  </tbody>\n",
       "</table>\n",
       "</div>"
      ],
      "text/plain": [
       "          pubdatetime  latitude  longitude  \\\n",
       "0 2019-06-01 00:00:12   36.1202   -86.7534   \n",
       "1 2019-06-01 00:00:12   36.1630   -86.7765   \n",
       "2 2019-06-01 00:00:12   36.1202   -86.7533   \n",
       "3 2019-06-01 00:00:12   36.1201   -86.7530   \n",
       "4 2019-06-01 00:00:12   36.1622   -86.7806   \n",
       "\n",
       "                                        sumdid  chargelevel  companyname  \n",
       "0  Powered93627c35-0f62-5b81-a78d-75a4a92ecf47         90.0            5  \n",
       "1  Powered17715097-e8a0-5494-a5ab-9b625796607d         63.0            5  \n",
       "2  Powerede5cb95ae-b091-5a93-86fa-ededd946d0d7         77.0            5  \n",
       "3  Powered71fa5e4f-1e17-54c4-936d-330df38cc2fa          0.0            5  \n",
       "4  Poweredfa549dd6-40bb-5757-ac87-2c2528f2bc68          2.0            5  "
      ]
     },
     "execution_count": 2,
     "metadata": {},
     "output_type": "execute_result"
    }
   ],
   "source": [
    "june = pd.read_pickle('../data/june.pkl')\n",
    "june.head()"
   ]
  },
  {
   "cell_type": "code",
   "execution_count": 4,
   "id": "2dc80203",
   "metadata": {},
   "outputs": [
    {
     "data": {
      "text/html": [
       "<div>\n",
       "<style scoped>\n",
       "    .dataframe tbody tr th:only-of-type {\n",
       "        vertical-align: middle;\n",
       "    }\n",
       "\n",
       "    .dataframe tbody tr th {\n",
       "        vertical-align: top;\n",
       "    }\n",
       "\n",
       "    .dataframe thead th {\n",
       "        text-align: right;\n",
       "    }\n",
       "</style>\n",
       "<table border=\"1\" class=\"dataframe\">\n",
       "  <thead>\n",
       "    <tr style=\"text-align: right;\">\n",
       "      <th></th>\n",
       "      <th>pubdatetime</th>\n",
       "      <th>latitude</th>\n",
       "      <th>longitude</th>\n",
       "      <th>sumdid</th>\n",
       "      <th>chargelevel</th>\n",
       "      <th>companyname</th>\n",
       "    </tr>\n",
       "  </thead>\n",
       "  <tbody>\n",
       "    <tr>\n",
       "      <th>28046090</th>\n",
       "      <td>2019-06-30 23:59:55.273</td>\n",
       "      <td>36.125567</td>\n",
       "      <td>-86.776982</td>\n",
       "      <td>PoweredZYNSVOII2QSLD</td>\n",
       "      <td>100.0</td>\n",
       "      <td>3</td>\n",
       "    </tr>\n",
       "    <tr>\n",
       "      <th>28046091</th>\n",
       "      <td>2019-06-30 23:59:55.273</td>\n",
       "      <td>36.121717</td>\n",
       "      <td>-86.775207</td>\n",
       "      <td>PoweredXOPAIWGL7SF62</td>\n",
       "      <td>93.0</td>\n",
       "      <td>3</td>\n",
       "    </tr>\n",
       "    <tr>\n",
       "      <th>28046092</th>\n",
       "      <td>2019-06-30 23:59:55.273</td>\n",
       "      <td>36.127046</td>\n",
       "      <td>-86.777262</td>\n",
       "      <td>PoweredBYKFOWELGPKH6</td>\n",
       "      <td>61.0</td>\n",
       "      <td>3</td>\n",
       "    </tr>\n",
       "    <tr>\n",
       "      <th>28046093</th>\n",
       "      <td>2019-06-30 23:59:55.273</td>\n",
       "      <td>36.123775</td>\n",
       "      <td>-86.790115</td>\n",
       "      <td>PoweredIAAQ7WODYXON7</td>\n",
       "      <td>35.0</td>\n",
       "      <td>3</td>\n",
       "    </tr>\n",
       "    <tr>\n",
       "      <th>28046094</th>\n",
       "      <td>2019-06-30 23:59:55.273</td>\n",
       "      <td>36.121735</td>\n",
       "      <td>-86.775148</td>\n",
       "      <td>Powered3HJPPUNVYGL45</td>\n",
       "      <td>96.0</td>\n",
       "      <td>3</td>\n",
       "    </tr>\n",
       "  </tbody>\n",
       "</table>\n",
       "</div>"
      ],
      "text/plain": [
       "                     pubdatetime   latitude  longitude                sumdid  \\\n",
       "28046090 2019-06-30 23:59:55.273  36.125567 -86.776982  PoweredZYNSVOII2QSLD   \n",
       "28046091 2019-06-30 23:59:55.273  36.121717 -86.775207  PoweredXOPAIWGL7SF62   \n",
       "28046092 2019-06-30 23:59:55.273  36.127046 -86.777262  PoweredBYKFOWELGPKH6   \n",
       "28046093 2019-06-30 23:59:55.273  36.123775 -86.790115  PoweredIAAQ7WODYXON7   \n",
       "28046094 2019-06-30 23:59:55.273  36.121735 -86.775148  Powered3HJPPUNVYGL45   \n",
       "\n",
       "          chargelevel  companyname  \n",
       "28046090        100.0            3  \n",
       "28046091         93.0            3  \n",
       "28046092         61.0            3  \n",
       "28046093         35.0            3  \n",
       "28046094         96.0            3  "
      ]
     },
     "execution_count": 4,
     "metadata": {},
     "output_type": "execute_result"
    }
   ],
   "source": [
    "june.tail()"
   ]
  },
  {
   "cell_type": "code",
   "execution_count": 5,
   "id": "ab4984fa",
   "metadata": {},
   "outputs": [
    {
     "name": "stdout",
     "output_type": "stream",
     "text": [
      "<class 'pandas.core.frame.DataFrame'>\n",
      "Int64Index: 28037408 entries, 0 to 28046094\n",
      "Data columns (total 6 columns):\n",
      " #   Column       Dtype         \n",
      "---  ------       -----         \n",
      " 0   pubdatetime  datetime64[ns]\n",
      " 1   latitude     float64       \n",
      " 2   longitude    float64       \n",
      " 3   sumdid       object        \n",
      " 4   chargelevel  float64       \n",
      " 5   companyname  int64         \n",
      "dtypes: datetime64[ns](1), float64(3), int64(1), object(1)\n",
      "memory usage: 1.5+ GB\n"
     ]
    }
   ],
   "source": [
    "june.info()"
   ]
  },
  {
   "cell_type": "markdown",
   "id": "e7073a5f",
   "metadata": {},
   "source": [
    "#note: there are 8 million more rows of data in June than there are in May.  The month is actually shorter than may, so it's not that ... Maybe more logging per scooter?  maybe more scooters in total?"
   ]
  },
  {
   "cell_type": "code",
   "execution_count": 6,
   "id": "eebcf706",
   "metadata": {},
   "outputs": [
    {
     "data": {
      "text/plain": [
       "PoweredUNORTWSTRM4AM                           8631\n",
       "PoweredBV42LPYJGVBL4                           8630\n",
       "Powered9d204daf-7897-5dd5-8273-c2454b226d97    8628\n",
       "Powered0286418d-3aff-5080-b4ee-a1ac8be225b8    8628\n",
       "Poweredec02467e-2602-5e91-a74d-33f6f53a0c07    8628\n",
       "                                               ... \n",
       "Powered2WZRP                                      1\n",
       "Powered255293                                     1\n",
       "PoweredUKDFR5O5HBMBO                              1\n",
       "Powered911DI                                      1\n",
       "PoweredXCPDB                                      1\n",
       "Name: sumdid, Length: 7822, dtype: int64"
      ]
     },
     "execution_count": 6,
     "metadata": {},
     "output_type": "execute_result"
    }
   ],
   "source": [
    "june['sumdid'].value_counts() "
   ]
  },
  {
   "cell_type": "markdown",
   "id": "5ce29882",
   "metadata": {},
   "source": [
    "nope - fewer scooters.  there were 8303 in may, there's 7822 in june.\n",
    "I still see the top number of entries is about the same, and the bottom is still 1"
   ]
  },
  {
   "cell_type": "code",
   "execution_count": 7,
   "id": "2e2b3808",
   "metadata": {},
   "outputs": [
    {
     "data": {
      "text/plain": [
       "5    8482893\n",
       "3    6152504\n",
       "0    4215302\n",
       "1    3084229\n",
       "4    2507991\n",
       "2    1830453\n",
       "6    1764036\n",
       "Name: companyname, dtype: int64"
      ]
     },
     "execution_count": 7,
     "metadata": {},
     "output_type": "execute_result"
    }
   ],
   "source": [
    "june['companyname'].value_counts()"
   ]
  },
  {
   "cell_type": "markdown",
   "id": "999d1ffd",
   "metadata": {},
   "source": [
    "interesting - in may, company 3 had the most entries.  in june, it's company 5.  they stepped up their data collection.  do they have more scooters too?  Even though the overall number is smaller?"
   ]
  },
  {
   "cell_type": "code",
   "execution_count": 9,
   "id": "d18d67a4",
   "metadata": {},
   "outputs": [],
   "source": [
    "june_company_group = june.groupby(\"companyname\")"
   ]
  },
  {
   "cell_type": "code",
   "execution_count": 10,
   "id": "a2968c53",
   "metadata": {},
   "outputs": [
    {
     "name": "stdout",
     "output_type": "stream",
     "text": [
      "             sumdid\n",
      "companyname        \n",
      "0              2910\n",
      "1              1152\n",
      "2               223\n",
      "3              1455\n",
      "4               713\n",
      "5              1036\n",
      "6               333\n"
     ]
    }
   ],
   "source": [
    "june_scooter_company = june_company_group.agg({\"sumdid\": \"nunique\"})\n",
    "print(june_scooter_company)"
   ]
  },
  {
   "cell_type": "markdown",
   "id": "7157a84a",
   "metadata": {},
   "source": [
    "company 0 dropped 154 scooters;\n",
    "company 1 dropped 224 scooters;\n",
    "company 2 same;\n",
    "company 3 dropped 176 scooters;\n",
    "company 4 gained 26 scooters;\n",
    "company 5 gained 60 scooters;\n",
    "company 6 dropped 13 scooters"
   ]
  },
  {
   "cell_type": "code",
   "execution_count": 12,
   "id": "1f41d64f",
   "metadata": {},
   "outputs": [
    {
     "data": {
      "text/plain": [
       "pubdatetime      0\n",
       "latitude         0\n",
       "longitude        0\n",
       "sumdid           0\n",
       "chargelevel    285\n",
       "companyname      0\n",
       "dtype: int64"
      ]
     },
     "execution_count": 12,
     "metadata": {},
     "output_type": "execute_result"
    }
   ],
   "source": [
    "june.isnull().sum()"
   ]
  },
  {
   "cell_type": "code",
   "execution_count": 13,
   "id": "95339418",
   "metadata": {},
   "outputs": [
    {
     "name": "stdout",
     "output_type": "stream",
     "text": [
      "companyname\n",
      "0      0\n",
      "1      0\n",
      "2      0\n",
      "3      0\n",
      "4      0\n",
      "5      0\n",
      "6    285\n",
      "Name: chargelevel, dtype: int64\n"
     ]
    }
   ],
   "source": [
    "june_nullcharge_company= june.chargelevel.isnull().groupby(june.companyname).sum()\n",
    "print(june_nullcharge_company)"
   ]
  },
  {
   "cell_type": "markdown",
   "id": "073263dc",
   "metadata": {},
   "source": [
    "i was careful to make sure that the company name/numbers were the same across all 3 months.  May all nulls were in company 4.   june, all nulls are in company 6.  what changed?"
   ]
  },
  {
   "cell_type": "markdown",
   "id": "b9798ba0",
   "metadata": {},
   "source": [
    "just for kicks, let's see how many single value entries there are in june ... "
   ]
  },
  {
   "cell_type": "code",
   "execution_count": 14,
   "id": "2d8324e7",
   "metadata": {},
   "outputs": [
    {
     "data": {
      "text/html": [
       "<div>\n",
       "<style scoped>\n",
       "    .dataframe tbody tr th:only-of-type {\n",
       "        vertical-align: middle;\n",
       "    }\n",
       "\n",
       "    .dataframe tbody tr th {\n",
       "        vertical-align: top;\n",
       "    }\n",
       "\n",
       "    .dataframe thead th {\n",
       "        text-align: right;\n",
       "    }\n",
       "</style>\n",
       "<table border=\"1\" class=\"dataframe\">\n",
       "  <thead>\n",
       "    <tr style=\"text-align: right;\">\n",
       "      <th></th>\n",
       "      <th>pubdatetime</th>\n",
       "      <th>latitude</th>\n",
       "      <th>longitude</th>\n",
       "      <th>sumdid</th>\n",
       "      <th>chargelevel</th>\n",
       "      <th>companyname</th>\n",
       "    </tr>\n",
       "  </thead>\n",
       "  <tbody>\n",
       "    <tr>\n",
       "      <th>3045</th>\n",
       "      <td>2019-06-01 00:03:27.257</td>\n",
       "      <td>36.157671</td>\n",
       "      <td>-86.773311</td>\n",
       "      <td>PoweredNIBNX6HK6AP5L</td>\n",
       "      <td>31.0</td>\n",
       "      <td>3</td>\n",
       "    </tr>\n",
       "    <tr>\n",
       "      <th>639001</th>\n",
       "      <td>2019-06-01 16:40:58.923</td>\n",
       "      <td>36.082328</td>\n",
       "      <td>-86.725584</td>\n",
       "      <td>Powered911DI</td>\n",
       "      <td>78.0</td>\n",
       "      <td>0</td>\n",
       "    </tr>\n",
       "    <tr>\n",
       "      <th>4372676</th>\n",
       "      <td>2019-06-05 13:02:07.010</td>\n",
       "      <td>36.147920</td>\n",
       "      <td>-86.740430</td>\n",
       "      <td>Powered8112481</td>\n",
       "      <td>0.0</td>\n",
       "      <td>4</td>\n",
       "    </tr>\n",
       "    <tr>\n",
       "      <th>11366205</th>\n",
       "      <td>2019-06-12 20:58:57.477</td>\n",
       "      <td>36.137113</td>\n",
       "      <td>-86.800817</td>\n",
       "      <td>PoweredUKDFR5O5HBMBO</td>\n",
       "      <td>20.0</td>\n",
       "      <td>3</td>\n",
       "    </tr>\n",
       "    <tr>\n",
       "      <th>16974731</th>\n",
       "      <td>2019-06-18 22:16:16.873</td>\n",
       "      <td>36.213138</td>\n",
       "      <td>-86.735270</td>\n",
       "      <td>Powered2WZRP</td>\n",
       "      <td>62.0</td>\n",
       "      <td>0</td>\n",
       "    </tr>\n",
       "    <tr>\n",
       "      <th>18752982</th>\n",
       "      <td>2019-06-20 17:12:50.910</td>\n",
       "      <td>36.213265</td>\n",
       "      <td>-86.735226</td>\n",
       "      <td>PoweredXCPDB</td>\n",
       "      <td>48.0</td>\n",
       "      <td>0</td>\n",
       "    </tr>\n",
       "    <tr>\n",
       "      <th>23512054</th>\n",
       "      <td>2019-06-26 03:50:10.600</td>\n",
       "      <td>36.149604</td>\n",
       "      <td>-86.797419</td>\n",
       "      <td>Powered6668448</td>\n",
       "      <td>92.0</td>\n",
       "      <td>4</td>\n",
       "    </tr>\n",
       "    <tr>\n",
       "      <th>28043947</th>\n",
       "      <td>2019-06-30 23:56:15.457</td>\n",
       "      <td>36.177585</td>\n",
       "      <td>-86.750157</td>\n",
       "      <td>Powered255293</td>\n",
       "      <td>91.0</td>\n",
       "      <td>1</td>\n",
       "    </tr>\n",
       "  </tbody>\n",
       "</table>\n",
       "</div>"
      ],
      "text/plain": [
       "                     pubdatetime   latitude  longitude                sumdid  \\\n",
       "3045     2019-06-01 00:03:27.257  36.157671 -86.773311  PoweredNIBNX6HK6AP5L   \n",
       "639001   2019-06-01 16:40:58.923  36.082328 -86.725584          Powered911DI   \n",
       "4372676  2019-06-05 13:02:07.010  36.147920 -86.740430        Powered8112481   \n",
       "11366205 2019-06-12 20:58:57.477  36.137113 -86.800817  PoweredUKDFR5O5HBMBO   \n",
       "16974731 2019-06-18 22:16:16.873  36.213138 -86.735270          Powered2WZRP   \n",
       "18752982 2019-06-20 17:12:50.910  36.213265 -86.735226          PoweredXCPDB   \n",
       "23512054 2019-06-26 03:50:10.600  36.149604 -86.797419        Powered6668448   \n",
       "28043947 2019-06-30 23:56:15.457  36.177585 -86.750157         Powered255293   \n",
       "\n",
       "          chargelevel  companyname  \n",
       "3045             31.0            3  \n",
       "639001           78.0            0  \n",
       "4372676           0.0            4  \n",
       "11366205         20.0            3  \n",
       "16974731         62.0            0  \n",
       "18752982         48.0            0  \n",
       "23512054         92.0            4  \n",
       "28043947         91.0            1  "
      ]
     },
     "execution_count": 14,
     "metadata": {},
     "output_type": "execute_result"
    }
   ],
   "source": [
    "june.groupby(\"sumdid\").filter(lambda x: len(x) == 1)"
   ]
  },
  {
   "cell_type": "markdown",
   "id": "64f1fbc7",
   "metadata": {},
   "source": [
    "just 8 this time.  off hand, looks like different scooters  similar distribution across companies, dates, locations ... "
   ]
  }
 ],
 "metadata": {
  "kernelspec": {
   "display_name": "Python 3",
   "language": "python",
   "name": "python3"
  },
  "language_info": {
   "codemirror_mode": {
    "name": "ipython",
    "version": 3
   },
   "file_extension": ".py",
   "mimetype": "text/x-python",
   "name": "python",
   "nbconvert_exporter": "python",
   "pygments_lexer": "ipython3",
   "version": "3.8.8"
  }
 },
 "nbformat": 4,
 "nbformat_minor": 5
}
