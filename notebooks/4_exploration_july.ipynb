{
 "cells": [
  {
   "cell_type": "code",
   "execution_count": 1,
   "id": "4bc35b7d",
   "metadata": {},
   "outputs": [],
   "source": [
    "import pandas as pd\n",
    "import matplotlib.pyplot as plt"
   ]
  },
  {
   "cell_type": "code",
   "execution_count": 2,
   "id": "b8ebff42",
   "metadata": {},
   "outputs": [
    {
     "data": {
      "text/html": [
       "<div>\n",
       "<style scoped>\n",
       "    .dataframe tbody tr th:only-of-type {\n",
       "        vertical-align: middle;\n",
       "    }\n",
       "\n",
       "    .dataframe tbody tr th {\n",
       "        vertical-align: top;\n",
       "    }\n",
       "\n",
       "    .dataframe thead th {\n",
       "        text-align: right;\n",
       "    }\n",
       "</style>\n",
       "<table border=\"1\" class=\"dataframe\">\n",
       "  <thead>\n",
       "    <tr style=\"text-align: right;\">\n",
       "      <th></th>\n",
       "      <th>pubdatetime</th>\n",
       "      <th>latitude</th>\n",
       "      <th>longitude</th>\n",
       "      <th>sumdid</th>\n",
       "      <th>chargelevel</th>\n",
       "      <th>companyname</th>\n",
       "    </tr>\n",
       "  </thead>\n",
       "  <tbody>\n",
       "    <tr>\n",
       "      <th>0</th>\n",
       "      <td>2019-07-01 00:00:33.550</td>\n",
       "      <td>36.156678</td>\n",
       "      <td>-86.809004</td>\n",
       "      <td>Powered635135</td>\n",
       "      <td>22.0</td>\n",
       "      <td>1</td>\n",
       "    </tr>\n",
       "    <tr>\n",
       "      <th>1</th>\n",
       "      <td>2019-07-01 00:00:34.973</td>\n",
       "      <td>36.145674</td>\n",
       "      <td>-86.794138</td>\n",
       "      <td>Powered790946</td>\n",
       "      <td>33.0</td>\n",
       "      <td>1</td>\n",
       "    </tr>\n",
       "    <tr>\n",
       "      <th>2</th>\n",
       "      <td>2019-07-01 00:00:41.183</td>\n",
       "      <td>36.179319</td>\n",
       "      <td>-86.751538</td>\n",
       "      <td>Powered570380</td>\n",
       "      <td>76.0</td>\n",
       "      <td>1</td>\n",
       "    </tr>\n",
       "    <tr>\n",
       "      <th>3</th>\n",
       "      <td>2019-07-01 00:00:41.620</td>\n",
       "      <td>36.152111</td>\n",
       "      <td>-86.803821</td>\n",
       "      <td>Powered240631</td>\n",
       "      <td>43.0</td>\n",
       "      <td>1</td>\n",
       "    </tr>\n",
       "    <tr>\n",
       "      <th>4</th>\n",
       "      <td>2019-07-01 00:00:45.087</td>\n",
       "      <td>36.149355</td>\n",
       "      <td>-86.797550</td>\n",
       "      <td>Powered970404</td>\n",
       "      <td>52.0</td>\n",
       "      <td>1</td>\n",
       "    </tr>\n",
       "  </tbody>\n",
       "</table>\n",
       "</div>"
      ],
      "text/plain": [
       "              pubdatetime   latitude  longitude         sumdid  chargelevel  \\\n",
       "0 2019-07-01 00:00:33.550  36.156678 -86.809004  Powered635135         22.0   \n",
       "1 2019-07-01 00:00:34.973  36.145674 -86.794138  Powered790946         33.0   \n",
       "2 2019-07-01 00:00:41.183  36.179319 -86.751538  Powered570380         76.0   \n",
       "3 2019-07-01 00:00:41.620  36.152111 -86.803821  Powered240631         43.0   \n",
       "4 2019-07-01 00:00:45.087  36.149355 -86.797550  Powered970404         52.0   \n",
       "\n",
       "   companyname  \n",
       "0            1  \n",
       "1            1  \n",
       "2            1  \n",
       "3            1  \n",
       "4            1  "
      ]
     },
     "execution_count": 2,
     "metadata": {},
     "output_type": "execute_result"
    }
   ],
   "source": [
    "july = pd.read_pickle('../data/july.pkl')\n",
    "july.head()"
   ]
  },
  {
   "cell_type": "code",
   "execution_count": 3,
   "id": "4e49501e",
   "metadata": {},
   "outputs": [
    {
     "data": {
      "text/html": [
       "<div>\n",
       "<style scoped>\n",
       "    .dataframe tbody tr th:only-of-type {\n",
       "        vertical-align: middle;\n",
       "    }\n",
       "\n",
       "    .dataframe tbody tr th {\n",
       "        vertical-align: top;\n",
       "    }\n",
       "\n",
       "    .dataframe thead th {\n",
       "        text-align: right;\n",
       "    }\n",
       "</style>\n",
       "<table border=\"1\" class=\"dataframe\">\n",
       "  <thead>\n",
       "    <tr style=\"text-align: right;\">\n",
       "      <th></th>\n",
       "      <th>pubdatetime</th>\n",
       "      <th>latitude</th>\n",
       "      <th>longitude</th>\n",
       "      <th>sumdid</th>\n",
       "      <th>chargelevel</th>\n",
       "      <th>companyname</th>\n",
       "    </tr>\n",
       "  </thead>\n",
       "  <tbody>\n",
       "    <tr>\n",
       "      <th>25075440</th>\n",
       "      <td>2019-07-31 23:59:57</td>\n",
       "      <td>36.162420</td>\n",
       "      <td>-86.779314</td>\n",
       "      <td>Powered-1a8321d0-5c21-04a4-bd7d-7b96ba51f17b</td>\n",
       "      <td>100.00</td>\n",
       "      <td>6</td>\n",
       "    </tr>\n",
       "    <tr>\n",
       "      <th>25075441</th>\n",
       "      <td>2019-07-31 23:59:57</td>\n",
       "      <td>36.146010</td>\n",
       "      <td>-86.810197</td>\n",
       "      <td>Powered-bd4ba83b-513f-ed5c-3c51-b4f51e7fdc51</td>\n",
       "      <td>100.00</td>\n",
       "      <td>6</td>\n",
       "    </tr>\n",
       "    <tr>\n",
       "      <th>25075442</th>\n",
       "      <td>2019-07-31 23:59:57</td>\n",
       "      <td>36.165837</td>\n",
       "      <td>-86.777765</td>\n",
       "      <td>Powered-cc9c0b7e-2b9e-def9-e48b-1a8a489c4daf</td>\n",
       "      <td>71.68</td>\n",
       "      <td>6</td>\n",
       "    </tr>\n",
       "    <tr>\n",
       "      <th>25075443</th>\n",
       "      <td>2019-07-31 23:59:57</td>\n",
       "      <td>36.149792</td>\n",
       "      <td>-86.806818</td>\n",
       "      <td>Powered-55a7ac02-7e17-bb3b-130d-b160d9776405</td>\n",
       "      <td>0.00</td>\n",
       "      <td>6</td>\n",
       "    </tr>\n",
       "    <tr>\n",
       "      <th>25075444</th>\n",
       "      <td>2019-07-31 23:59:57</td>\n",
       "      <td>36.162644</td>\n",
       "      <td>-86.779345</td>\n",
       "      <td>Powered-03be23ca-d43b-222f-be54-e44b5b4690df</td>\n",
       "      <td>100.00</td>\n",
       "      <td>6</td>\n",
       "    </tr>\n",
       "  </tbody>\n",
       "</table>\n",
       "</div>"
      ],
      "text/plain": [
       "                 pubdatetime   latitude  longitude  \\\n",
       "25075440 2019-07-31 23:59:57  36.162420 -86.779314   \n",
       "25075441 2019-07-31 23:59:57  36.146010 -86.810197   \n",
       "25075442 2019-07-31 23:59:57  36.165837 -86.777765   \n",
       "25075443 2019-07-31 23:59:57  36.149792 -86.806818   \n",
       "25075444 2019-07-31 23:59:57  36.162644 -86.779345   \n",
       "\n",
       "                                                sumdid  chargelevel  \\\n",
       "25075440  Powered-1a8321d0-5c21-04a4-bd7d-7b96ba51f17b       100.00   \n",
       "25075441  Powered-bd4ba83b-513f-ed5c-3c51-b4f51e7fdc51       100.00   \n",
       "25075442  Powered-cc9c0b7e-2b9e-def9-e48b-1a8a489c4daf        71.68   \n",
       "25075443  Powered-55a7ac02-7e17-bb3b-130d-b160d9776405         0.00   \n",
       "25075444  Powered-03be23ca-d43b-222f-be54-e44b5b4690df       100.00   \n",
       "\n",
       "          companyname  \n",
       "25075440            6  \n",
       "25075441            6  \n",
       "25075442            6  \n",
       "25075443            6  \n",
       "25075444            6  "
      ]
     },
     "execution_count": 3,
     "metadata": {},
     "output_type": "execute_result"
    }
   ],
   "source": [
    "july.tail()"
   ]
  },
  {
   "cell_type": "code",
   "execution_count": 4,
   "id": "8fadc53a",
   "metadata": {},
   "outputs": [
    {
     "name": "stdout",
     "output_type": "stream",
     "text": [
      "<class 'pandas.core.frame.DataFrame'>\n",
      "Int64Index: 25066524 entries, 0 to 25075444\n",
      "Data columns (total 6 columns):\n",
      " #   Column       Dtype         \n",
      "---  ------       -----         \n",
      " 0   pubdatetime  datetime64[ns]\n",
      " 1   latitude     float64       \n",
      " 2   longitude    float64       \n",
      " 3   sumdid       object        \n",
      " 4   chargelevel  float64       \n",
      " 5   companyname  int64         \n",
      "dtypes: datetime64[ns](1), float64(3), int64(1), object(1)\n",
      "memory usage: 1.3+ GB\n"
     ]
    }
   ],
   "source": [
    "july.info()"
   ]
  },
  {
   "cell_type": "markdown",
   "id": "7c125302",
   "metadata": {},
   "source": [
    "july is 3 million rows smaller than june, even though the month is longer and should have more data as a result ... "
   ]
  },
  {
   "cell_type": "code",
   "execution_count": 5,
   "id": "e748e57c",
   "metadata": {},
   "outputs": [
    {
     "data": {
      "text/plain": [
       "PoweredK7VBEW7S2VHPG                           8915\n",
       "PoweredSMYDSCUCCKE3D                           8910\n",
       "PoweredCPBMGOVZOHE4Z                           8909\n",
       "Powered581a2464-b7ea-5d81-b4e1-4507bc3cd51f    8901\n",
       "Powered98faa79c-2d9d-5417-8f22-594ca028fdfe    8901\n",
       "                                               ... \n",
       "Powered4314410                                    1\n",
       "Powered3ZPZ7                                      1\n",
       "PoweredMMQC4MGMOH675                              1\n",
       "Powered5WF3M                                      1\n",
       "PoweredBHQPF4NGORWCW                              1\n",
       "Name: sumdid, Length: 6787, dtype: int64"
      ]
     },
     "execution_count": 5,
     "metadata": {},
     "output_type": "execute_result"
    }
   ],
   "source": [
    "july['sumdid'].value_counts() "
   ]
  },
  {
   "cell_type": "markdown",
   "id": "e8822248",
   "metadata": {},
   "source": [
    "there are even fewer scooters in july than in june - down another 1035.  more tourists in the summer, but fewer students?"
   ]
  },
  {
   "cell_type": "code",
   "execution_count": 6,
   "id": "c5095662",
   "metadata": {},
   "outputs": [
    {
     "data": {
      "text/plain": [
       "5    10367575\n",
       "0     3702282\n",
       "3     3233573\n",
       "1     2890233\n",
       "2     1933513\n",
       "4     1750581\n",
       "6     1188767\n",
       "Name: companyname, dtype: int64"
      ]
     },
     "execution_count": 6,
     "metadata": {},
     "output_type": "execute_result"
    }
   ],
   "source": [
    "july['companyname'].value_counts()"
   ]
  },
  {
   "cell_type": "markdown",
   "id": "e324d869",
   "metadata": {},
   "source": [
    "company 5 is at the top again.  \n",
    "company 3 slid down another spot in data entry.  \n",
    "company 0 moved up a spot"
   ]
  },
  {
   "cell_type": "code",
   "execution_count": 7,
   "id": "096cb781",
   "metadata": {},
   "outputs": [
    {
     "name": "stdout",
     "output_type": "stream",
     "text": [
      "             sumdid\n",
      "companyname        \n",
      "0              2583\n",
      "1              1026\n",
      "2               224\n",
      "3               902\n",
      "4               570\n",
      "5              1206\n",
      "6               276\n"
     ]
    }
   ],
   "source": [
    "july_company_group = july.groupby(\"companyname\")\n",
    "july_scooter_company = july_company_group.agg({\"sumdid\": \"nunique\"})\n",
    "print(july_scooter_company)"
   ]
  },
  {
   "cell_type": "markdown",
   "id": "f0f664f8",
   "metadata": {},
   "source": [
    "company 0 dropped another 327;\n",
    "company 1 dropped another 126; \n",
    "company 2 gained 1 scooter;\n",
    "company 3 dropped another 553;\n",
    "company 4 dropped 143;\n",
    "company 5 gained 170 scooters;\n",
    "company 6 dropped another 57 scooters"
   ]
  },
  {
   "cell_type": "code",
   "execution_count": 8,
   "id": "09eb0a79",
   "metadata": {},
   "outputs": [
    {
     "data": {
      "text/plain": [
       "pubdatetime      0\n",
       "latitude         0\n",
       "longitude        0\n",
       "sumdid           0\n",
       "chargelevel    202\n",
       "companyname      0\n",
       "dtype: int64"
      ]
     },
     "execution_count": 8,
     "metadata": {},
     "output_type": "execute_result"
    }
   ],
   "source": [
    "july.isnull().sum()"
   ]
  },
  {
   "cell_type": "code",
   "execution_count": 9,
   "id": "279b7f78",
   "metadata": {},
   "outputs": [
    {
     "name": "stdout",
     "output_type": "stream",
     "text": [
      "companyname\n",
      "0      0\n",
      "1      0\n",
      "2      0\n",
      "3      0\n",
      "4      0\n",
      "5      0\n",
      "6    202\n",
      "Name: chargelevel, dtype: int64\n"
     ]
    }
   ],
   "source": [
    "july_nullcharge_company= july.chargelevel.isnull().groupby(july.companyname).sum()\n",
    "print(july_nullcharge_company)"
   ]
  },
  {
   "cell_type": "markdown",
   "id": "9f5c5351",
   "metadata": {},
   "source": [
    "company 6 has all the nulls again"
   ]
  },
  {
   "cell_type": "code",
   "execution_count": 10,
   "id": "b634e24a",
   "metadata": {},
   "outputs": [
    {
     "data": {
      "text/html": [
       "<div>\n",
       "<style scoped>\n",
       "    .dataframe tbody tr th:only-of-type {\n",
       "        vertical-align: middle;\n",
       "    }\n",
       "\n",
       "    .dataframe tbody tr th {\n",
       "        vertical-align: top;\n",
       "    }\n",
       "\n",
       "    .dataframe thead th {\n",
       "        text-align: right;\n",
       "    }\n",
       "</style>\n",
       "<table border=\"1\" class=\"dataframe\">\n",
       "  <thead>\n",
       "    <tr style=\"text-align: right;\">\n",
       "      <th></th>\n",
       "      <th>pubdatetime</th>\n",
       "      <th>latitude</th>\n",
       "      <th>longitude</th>\n",
       "      <th>sumdid</th>\n",
       "      <th>chargelevel</th>\n",
       "      <th>companyname</th>\n",
       "    </tr>\n",
       "  </thead>\n",
       "  <tbody>\n",
       "    <tr>\n",
       "      <th>1767252</th>\n",
       "      <td>2019-07-03 00:16:40.223</td>\n",
       "      <td>36.157689</td>\n",
       "      <td>-86.780898</td>\n",
       "      <td>PoweredC7EZRZTYAREOS</td>\n",
       "      <td>20.0</td>\n",
       "      <td>3</td>\n",
       "    </tr>\n",
       "    <tr>\n",
       "      <th>4342700</th>\n",
       "      <td>2019-07-05 21:29:12.997</td>\n",
       "      <td>36.158526</td>\n",
       "      <td>-86.768371</td>\n",
       "      <td>PoweredCPHMRCMZUUDRA</td>\n",
       "      <td>0.0</td>\n",
       "      <td>3</td>\n",
       "    </tr>\n",
       "    <tr>\n",
       "      <th>5286939</th>\n",
       "      <td>2019-07-07 00:05:09.727</td>\n",
       "      <td>36.156435</td>\n",
       "      <td>-86.780193</td>\n",
       "      <td>Powered6TPOZJO4U6WGE</td>\n",
       "      <td>55.0</td>\n",
       "      <td>3</td>\n",
       "    </tr>\n",
       "    <tr>\n",
       "      <th>9275444</th>\n",
       "      <td>2019-07-11 18:54:46.290</td>\n",
       "      <td>36.147753</td>\n",
       "      <td>-86.740528</td>\n",
       "      <td>Powered2045928</td>\n",
       "      <td>36.0</td>\n",
       "      <td>4</td>\n",
       "    </tr>\n",
       "    <tr>\n",
       "      <th>12982124</th>\n",
       "      <td>2019-07-16 10:28:54.357</td>\n",
       "      <td>36.151911</td>\n",
       "      <td>-86.781074</td>\n",
       "      <td>PoweredMMQC4MGMOH675</td>\n",
       "      <td>51.0</td>\n",
       "      <td>3</td>\n",
       "    </tr>\n",
       "    <tr>\n",
       "      <th>15955523</th>\n",
       "      <td>2019-07-20 01:52:17.300</td>\n",
       "      <td>36.159918</td>\n",
       "      <td>-86.773954</td>\n",
       "      <td>Powered6EPAKQB4QHWJF</td>\n",
       "      <td>34.0</td>\n",
       "      <td>3</td>\n",
       "    </tr>\n",
       "    <tr>\n",
       "      <th>18907914</th>\n",
       "      <td>2019-07-24 01:40:37.453</td>\n",
       "      <td>36.169105</td>\n",
       "      <td>-86.786400</td>\n",
       "      <td>PoweredBHQPF4NGORWCW</td>\n",
       "      <td>46.0</td>\n",
       "      <td>3</td>\n",
       "    </tr>\n",
       "    <tr>\n",
       "      <th>20679436</th>\n",
       "      <td>2019-07-26 11:12:13.690</td>\n",
       "      <td>36.147950</td>\n",
       "      <td>-86.740510</td>\n",
       "      <td>Powered4314410</td>\n",
       "      <td>100.0</td>\n",
       "      <td>4</td>\n",
       "    </tr>\n",
       "    <tr>\n",
       "      <th>21662119</th>\n",
       "      <td>2019-07-27 17:05:23.127</td>\n",
       "      <td>36.158738</td>\n",
       "      <td>-86.768364</td>\n",
       "      <td>PoweredA9GT8</td>\n",
       "      <td>99.0</td>\n",
       "      <td>0</td>\n",
       "    </tr>\n",
       "    <tr>\n",
       "      <th>23165398</th>\n",
       "      <td>2019-07-29 16:31:47.630</td>\n",
       "      <td>36.158474</td>\n",
       "      <td>-86.768241</td>\n",
       "      <td>Powered3ZPZ7</td>\n",
       "      <td>23.0</td>\n",
       "      <td>0</td>\n",
       "    </tr>\n",
       "    <tr>\n",
       "      <th>24972252</th>\n",
       "      <td>2019-07-31 21:18:13.167</td>\n",
       "      <td>36.073140</td>\n",
       "      <td>-86.797854</td>\n",
       "      <td>Powered5WF3M</td>\n",
       "      <td>77.0</td>\n",
       "      <td>0</td>\n",
       "    </tr>\n",
       "  </tbody>\n",
       "</table>\n",
       "</div>"
      ],
      "text/plain": [
       "                     pubdatetime   latitude  longitude                sumdid  \\\n",
       "1767252  2019-07-03 00:16:40.223  36.157689 -86.780898  PoweredC7EZRZTYAREOS   \n",
       "4342700  2019-07-05 21:29:12.997  36.158526 -86.768371  PoweredCPHMRCMZUUDRA   \n",
       "5286939  2019-07-07 00:05:09.727  36.156435 -86.780193  Powered6TPOZJO4U6WGE   \n",
       "9275444  2019-07-11 18:54:46.290  36.147753 -86.740528        Powered2045928   \n",
       "12982124 2019-07-16 10:28:54.357  36.151911 -86.781074  PoweredMMQC4MGMOH675   \n",
       "15955523 2019-07-20 01:52:17.300  36.159918 -86.773954  Powered6EPAKQB4QHWJF   \n",
       "18907914 2019-07-24 01:40:37.453  36.169105 -86.786400  PoweredBHQPF4NGORWCW   \n",
       "20679436 2019-07-26 11:12:13.690  36.147950 -86.740510        Powered4314410   \n",
       "21662119 2019-07-27 17:05:23.127  36.158738 -86.768364          PoweredA9GT8   \n",
       "23165398 2019-07-29 16:31:47.630  36.158474 -86.768241          Powered3ZPZ7   \n",
       "24972252 2019-07-31 21:18:13.167  36.073140 -86.797854          Powered5WF3M   \n",
       "\n",
       "          chargelevel  companyname  \n",
       "1767252          20.0            3  \n",
       "4342700           0.0            3  \n",
       "5286939          55.0            3  \n",
       "9275444          36.0            4  \n",
       "12982124         51.0            3  \n",
       "15955523         34.0            3  \n",
       "18907914         46.0            3  \n",
       "20679436        100.0            4  \n",
       "21662119         99.0            0  \n",
       "23165398         23.0            0  \n",
       "24972252         77.0            0  "
      ]
     },
     "execution_count": 10,
     "metadata": {},
     "output_type": "execute_result"
    }
   ],
   "source": [
    "july.groupby(\"sumdid\").filter(lambda x: len(x) == 1)"
   ]
  },
  {
   "cell_type": "markdown",
   "id": "2f7615e0",
   "metadata": {},
   "source": [
    "11 scooters this time with just 1 entry - companies 3 and 4 the biggest offenders yet again"
   ]
  },
  {
   "cell_type": "code",
   "execution_count": null,
   "id": "83e2c75d",
   "metadata": {},
   "outputs": [],
   "source": []
  }
 ],
 "metadata": {
  "kernelspec": {
   "display_name": "Python 3",
   "language": "python",
   "name": "python3"
  },
  "language_info": {
   "codemirror_mode": {
    "name": "ipython",
    "version": 3
   },
   "file_extension": ".py",
   "mimetype": "text/x-python",
   "name": "python",
   "nbconvert_exporter": "python",
   "pygments_lexer": "ipython3",
   "version": "3.8.8"
  }
 },
 "nbformat": 4,
 "nbformat_minor": 5
}
