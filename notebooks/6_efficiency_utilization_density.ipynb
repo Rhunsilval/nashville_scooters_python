{
 "cells": [
  {
   "cell_type": "code",
   "execution_count": 1,
   "id": "14a4cfdf",
   "metadata": {},
   "outputs": [],
   "source": [
    "from shapely.geometry import Point\n",
    "import numpy as np\n",
    "import pandas as pd\n",
    "import geopandas as gpd\n",
    "import matplotlib.pyplot as plt\n",
    "import folium\n",
    "from folium.plugins import MarkerCluster\n",
    "from folium.plugins import FastMarkerCluster\n",
    "\n",
    "%matplotlib inline"
   ]
  },
  {
   "cell_type": "code",
   "execution_count": 2,
   "id": "49de1c18",
   "metadata": {},
   "outputs": [],
   "source": [
    "may_trip = pd.read_csv('../data/may_trip.csv')\n",
    "june_trip = pd.read_csv('../data/june_trip.csv')\n",
    "july_trip = pd.read_csv('../data/july_trip.csv')"
   ]
  },
  {
   "cell_type": "code",
   "execution_count": 8,
   "id": "ee81b3ae",
   "metadata": {},
   "outputs": [],
   "source": [
    "may_trip_clean = pd.read_csv('../data/may_trip_clean.csv')"
   ]
  },
  {
   "cell_type": "code",
   "execution_count": 5,
   "id": "19a623dd",
   "metadata": {},
   "outputs": [
    {
     "name": "stdout",
     "output_type": "stream",
     "text": [
      "epsg:2274\n"
     ]
    },
    {
     "data": {
      "text/html": [
       "<div>\n",
       "<style scoped>\n",
       "    .dataframe tbody tr th:only-of-type {\n",
       "        vertical-align: middle;\n",
       "    }\n",
       "\n",
       "    .dataframe tbody tr th {\n",
       "        vertical-align: top;\n",
       "    }\n",
       "\n",
       "    .dataframe thead th {\n",
       "        text-align: right;\n",
       "    }\n",
       "</style>\n",
       "<table border=\"1\" class=\"dataframe\">\n",
       "  <thead>\n",
       "    <tr style=\"text-align: right;\">\n",
       "      <th></th>\n",
       "      <th>OBJECTID</th>\n",
       "      <th>ZONE_ID</th>\n",
       "      <th>SHAPE_STAr</th>\n",
       "      <th>SHAPE_STLe</th>\n",
       "      <th>geometry</th>\n",
       "    </tr>\n",
       "  </thead>\n",
       "  <tbody>\n",
       "    <tr>\n",
       "      <th>0</th>\n",
       "      <td>1</td>\n",
       "      <td>1</td>\n",
       "      <td>1.053728e+08</td>\n",
       "      <td>49364.601403</td>\n",
       "      <td>POLYGON ((-86.76297 36.19364, -86.76297 36.193...</td>\n",
       "    </tr>\n",
       "    <tr>\n",
       "      <th>1</th>\n",
       "      <td>2</td>\n",
       "      <td>2</td>\n",
       "      <td>7.670585e+07</td>\n",
       "      <td>45226.018917</td>\n",
       "      <td>POLYGON ((-86.77838 36.14889, -86.77823 36.148...</td>\n",
       "    </tr>\n",
       "    <tr>\n",
       "      <th>2</th>\n",
       "      <td>3</td>\n",
       "      <td>3</td>\n",
       "      <td>2.985488e+08</td>\n",
       "      <td>75207.067487</td>\n",
       "      <td>POLYGON ((-86.70771 36.16723, -86.70758 36.166...</td>\n",
       "    </tr>\n",
       "    <tr>\n",
       "      <th>3</th>\n",
       "      <td>4</td>\n",
       "      <td>4</td>\n",
       "      <td>2.713638e+08</td>\n",
       "      <td>74348.596054</td>\n",
       "      <td>POLYGON ((-86.74735 36.13036, -86.74728 36.130...</td>\n",
       "    </tr>\n",
       "    <tr>\n",
       "      <th>4</th>\n",
       "      <td>5</td>\n",
       "      <td>5</td>\n",
       "      <td>3.928178e+08</td>\n",
       "      <td>106661.712102</td>\n",
       "      <td>POLYGON ((-86.78490 36.23358, -86.78452 36.232...</td>\n",
       "    </tr>\n",
       "  </tbody>\n",
       "</table>\n",
       "</div>"
      ],
      "text/plain": [
       "   OBJECTID  ZONE_ID    SHAPE_STAr     SHAPE_STLe  \\\n",
       "0         1        1  1.053728e+08   49364.601403   \n",
       "1         2        2  7.670585e+07   45226.018917   \n",
       "2         3        3  2.985488e+08   75207.067487   \n",
       "3         4        4  2.713638e+08   74348.596054   \n",
       "4         5        5  3.928178e+08  106661.712102   \n",
       "\n",
       "                                            geometry  \n",
       "0  POLYGON ((-86.76297 36.19364, -86.76297 36.193...  \n",
       "1  POLYGON ((-86.77838 36.14889, -86.77823 36.148...  \n",
       "2  POLYGON ((-86.70771 36.16723, -86.70758 36.166...  \n",
       "3  POLYGON ((-86.74735 36.13036, -86.74728 36.130...  \n",
       "4  POLYGON ((-86.78490 36.23358, -86.78452 36.232...  "
      ]
     },
     "execution_count": 5,
     "metadata": {},
     "output_type": "execute_result"
    }
   ],
   "source": [
    "promise_zones = gpd.read_file('../data/MDHA_Promise_Zones/Export_Output_5.shp')\n",
    "print(promise_zones.crs)\n",
    "\n",
    "\n",
    "promise_zones.head()"
   ]
  },
  {
   "cell_type": "code",
   "execution_count": 7,
   "id": "7f2896d1",
   "metadata": {},
   "outputs": [
    {
     "name": "stdout",
     "output_type": "stream",
     "text": [
      "EPSG:4326\n"
     ]
    }
   ],
   "source": [
    "promise_zones = promise_zones.to_crs('EPSG:4326')\n",
    "print(promise_zones.crs)"
   ]
  },
  {
   "cell_type": "code",
   "execution_count": 9,
   "id": "f1c5e25b",
   "metadata": {},
   "outputs": [
    {
     "data": {
      "text/html": [
       "<div>\n",
       "<style scoped>\n",
       "    .dataframe tbody tr th:only-of-type {\n",
       "        vertical-align: middle;\n",
       "    }\n",
       "\n",
       "    .dataframe tbody tr th {\n",
       "        vertical-align: top;\n",
       "    }\n",
       "\n",
       "    .dataframe thead th {\n",
       "        text-align: right;\n",
       "    }\n",
       "</style>\n",
       "<table border=\"1\" class=\"dataframe\">\n",
       "  <thead>\n",
       "    <tr style=\"text-align: right;\">\n",
       "      <th></th>\n",
       "      <th>Unnamed: 0</th>\n",
       "      <th>pubTimeStamp</th>\n",
       "      <th>companyName</th>\n",
       "      <th>tripRecordNum</th>\n",
       "      <th>sumdID</th>\n",
       "      <th>tripDuration</th>\n",
       "      <th>tripDistance</th>\n",
       "      <th>startDate</th>\n",
       "      <th>startTime</th>\n",
       "      <th>endDate</th>\n",
       "      <th>...</th>\n",
       "      <th>endLatitude</th>\n",
       "      <th>endLongitude</th>\n",
       "      <th>tripRoute</th>\n",
       "      <th>create_dt</th>\n",
       "      <th>start</th>\n",
       "      <th>end</th>\n",
       "      <th>totaltime</th>\n",
       "      <th>seconds</th>\n",
       "      <th>hours</th>\n",
       "      <th>minutes</th>\n",
       "    </tr>\n",
       "  </thead>\n",
       "  <tbody>\n",
       "    <tr>\n",
       "      <th>0</th>\n",
       "      <td>0</td>\n",
       "      <td>2019-05-01 00:00:55.423000</td>\n",
       "      <td>Bird</td>\n",
       "      <td>BRD2134</td>\n",
       "      <td>Powered9EAJL</td>\n",
       "      <td>3.0000</td>\n",
       "      <td>958.00528</td>\n",
       "      <td>2019-05-01 00:00:00.000000</td>\n",
       "      <td>00:00:20.460000</td>\n",
       "      <td>2019-05-01 00:00:00.000000</td>\n",
       "      <td>...</td>\n",
       "      <td>36.15660</td>\n",
       "      <td>-86.80670</td>\n",
       "      <td>36.157235,-86.803612,36.157235,-86.80362,36.15...</td>\n",
       "      <td>2019-05-02 05:30:23.780000</td>\n",
       "      <td>2019-05-01 00:00:20.460000</td>\n",
       "      <td>2019-05-01 00:02:52.346666</td>\n",
       "      <td>0 days 00:02:31.886666</td>\n",
       "      <td>151.886666</td>\n",
       "      <td>0</td>\n",
       "      <td>2.531444</td>\n",
       "    </tr>\n",
       "    <tr>\n",
       "      <th>1</th>\n",
       "      <td>1</td>\n",
       "      <td>2019-05-01 00:03:33.147000</td>\n",
       "      <td>Lyft</td>\n",
       "      <td>LFT5</td>\n",
       "      <td>Powered296631</td>\n",
       "      <td>1.7156</td>\n",
       "      <td>1371.39112</td>\n",
       "      <td>2019-05-01 00:00:00.000000</td>\n",
       "      <td>00:01:50.090000</td>\n",
       "      <td>2019-05-01 00:00:00.000000</td>\n",
       "      <td>...</td>\n",
       "      <td>36.16054</td>\n",
       "      <td>-86.77689</td>\n",
       "      <td>36.15797,-86.77896,36.15795,-86.77873,36.15798...</td>\n",
       "      <td>2019-05-02 07:20:32.757000</td>\n",
       "      <td>2019-05-01 00:01:50.090000</td>\n",
       "      <td>2019-05-01 00:03:33.026666</td>\n",
       "      <td>0 days 00:01:42.936666</td>\n",
       "      <td>102.936666</td>\n",
       "      <td>0</td>\n",
       "      <td>1.715611</td>\n",
       "    </tr>\n",
       "    <tr>\n",
       "      <th>2</th>\n",
       "      <td>2</td>\n",
       "      <td>2019-05-01 00:05:55.570000</td>\n",
       "      <td>Bird</td>\n",
       "      <td>BRD2168</td>\n",
       "      <td>Powered7S2UU</td>\n",
       "      <td>3.0000</td>\n",
       "      <td>2296.58800</td>\n",
       "      <td>2019-05-01 00:00:00.000000</td>\n",
       "      <td>00:03:47.363333</td>\n",
       "      <td>2019-05-01 00:00:00.000000</td>\n",
       "      <td>...</td>\n",
       "      <td>36.15650</td>\n",
       "      <td>-86.78680</td>\n",
       "      <td>36.155068,-86.782124,36.156597,-86.78675</td>\n",
       "      <td>2019-05-02 05:30:24.530000</td>\n",
       "      <td>2019-05-01 00:03:47.363333</td>\n",
       "      <td>2019-05-01 00:07:13.596666</td>\n",
       "      <td>0 days 00:03:26.233333</td>\n",
       "      <td>206.233333</td>\n",
       "      <td>0</td>\n",
       "      <td>3.437222</td>\n",
       "    </tr>\n",
       "    <tr>\n",
       "      <th>3</th>\n",
       "      <td>3</td>\n",
       "      <td>2019-05-01 00:05:55.570000</td>\n",
       "      <td>Bird</td>\n",
       "      <td>BRD2166</td>\n",
       "      <td>PoweredZIIVX</td>\n",
       "      <td>3.0000</td>\n",
       "      <td>1200.78744</td>\n",
       "      <td>2019-05-01 00:00:00.000000</td>\n",
       "      <td>00:04:21.386666</td>\n",
       "      <td>2019-05-01 00:00:00.000000</td>\n",
       "      <td>...</td>\n",
       "      <td>36.15310</td>\n",
       "      <td>-86.77960</td>\n",
       "      <td>36.149741,-86.779344,36.149741,-86.779327,36.1...</td>\n",
       "      <td>2019-05-02 05:30:24.237000</td>\n",
       "      <td>2019-05-01 00:04:21.386666</td>\n",
       "      <td>2019-05-01 00:06:59.176666</td>\n",
       "      <td>0 days 00:02:37.790000</td>\n",
       "      <td>157.790000</td>\n",
       "      <td>0</td>\n",
       "      <td>2.629833</td>\n",
       "    </tr>\n",
       "    <tr>\n",
       "      <th>4</th>\n",
       "      <td>4</td>\n",
       "      <td>2019-05-01 00:05:55.570000</td>\n",
       "      <td>Bird</td>\n",
       "      <td>BRD2165</td>\n",
       "      <td>PoweredJ7MB3</td>\n",
       "      <td>2.0000</td>\n",
       "      <td>351.04988</td>\n",
       "      <td>2019-05-01 00:00:00.000000</td>\n",
       "      <td>00:04:27.796666</td>\n",
       "      <td>2019-05-01 00:00:00.000000</td>\n",
       "      <td>...</td>\n",
       "      <td>36.17740</td>\n",
       "      <td>-86.78760</td>\n",
       "      <td>36.177699,-86.786477,36.177711,-86.786469,36.1...</td>\n",
       "      <td>2019-05-02 05:30:24.207000</td>\n",
       "      <td>2019-05-01 00:04:27.796666</td>\n",
       "      <td>2019-05-01 00:06:23.150000</td>\n",
       "      <td>0 days 00:01:55.353334</td>\n",
       "      <td>115.353334</td>\n",
       "      <td>0</td>\n",
       "      <td>1.922556</td>\n",
       "    </tr>\n",
       "  </tbody>\n",
       "</table>\n",
       "<p>5 rows × 23 columns</p>\n",
       "</div>"
      ],
      "text/plain": [
       "   Unnamed: 0                pubTimeStamp companyName tripRecordNum  \\\n",
       "0           0  2019-05-01 00:00:55.423000        Bird       BRD2134   \n",
       "1           1  2019-05-01 00:03:33.147000        Lyft          LFT5   \n",
       "2           2  2019-05-01 00:05:55.570000        Bird       BRD2168   \n",
       "3           3  2019-05-01 00:05:55.570000        Bird       BRD2166   \n",
       "4           4  2019-05-01 00:05:55.570000        Bird       BRD2165   \n",
       "\n",
       "          sumdID  tripDuration  tripDistance                   startDate  \\\n",
       "0   Powered9EAJL        3.0000     958.00528  2019-05-01 00:00:00.000000   \n",
       "1  Powered296631        1.7156    1371.39112  2019-05-01 00:00:00.000000   \n",
       "2   Powered7S2UU        3.0000    2296.58800  2019-05-01 00:00:00.000000   \n",
       "3   PoweredZIIVX        3.0000    1200.78744  2019-05-01 00:00:00.000000   \n",
       "4   PoweredJ7MB3        2.0000     351.04988  2019-05-01 00:00:00.000000   \n",
       "\n",
       "         startTime                     endDate  ... endLatitude  endLongitude  \\\n",
       "0  00:00:20.460000  2019-05-01 00:00:00.000000  ...    36.15660     -86.80670   \n",
       "1  00:01:50.090000  2019-05-01 00:00:00.000000  ...    36.16054     -86.77689   \n",
       "2  00:03:47.363333  2019-05-01 00:00:00.000000  ...    36.15650     -86.78680   \n",
       "3  00:04:21.386666  2019-05-01 00:00:00.000000  ...    36.15310     -86.77960   \n",
       "4  00:04:27.796666  2019-05-01 00:00:00.000000  ...    36.17740     -86.78760   \n",
       "\n",
       "                                           tripRoute  \\\n",
       "0  36.157235,-86.803612,36.157235,-86.80362,36.15...   \n",
       "1  36.15797,-86.77896,36.15795,-86.77873,36.15798...   \n",
       "2           36.155068,-86.782124,36.156597,-86.78675   \n",
       "3  36.149741,-86.779344,36.149741,-86.779327,36.1...   \n",
       "4  36.177699,-86.786477,36.177711,-86.786469,36.1...   \n",
       "\n",
       "                    create_dt                       start  \\\n",
       "0  2019-05-02 05:30:23.780000  2019-05-01 00:00:20.460000   \n",
       "1  2019-05-02 07:20:32.757000  2019-05-01 00:01:50.090000   \n",
       "2  2019-05-02 05:30:24.530000  2019-05-01 00:03:47.363333   \n",
       "3  2019-05-02 05:30:24.237000  2019-05-01 00:04:21.386666   \n",
       "4  2019-05-02 05:30:24.207000  2019-05-01 00:04:27.796666   \n",
       "\n",
       "                          end               totaltime     seconds hours  \\\n",
       "0  2019-05-01 00:02:52.346666  0 days 00:02:31.886666  151.886666     0   \n",
       "1  2019-05-01 00:03:33.026666  0 days 00:01:42.936666  102.936666     0   \n",
       "2  2019-05-01 00:07:13.596666  0 days 00:03:26.233333  206.233333     0   \n",
       "3  2019-05-01 00:06:59.176666  0 days 00:02:37.790000  157.790000     0   \n",
       "4  2019-05-01 00:06:23.150000  0 days 00:01:55.353334  115.353334     0   \n",
       "\n",
       "    minutes  \n",
       "0  2.531444  \n",
       "1  1.715611  \n",
       "2  3.437222  \n",
       "3  2.629833  \n",
       "4  1.922556  \n",
       "\n",
       "[5 rows x 23 columns]"
      ]
     },
     "execution_count": 9,
     "metadata": {},
     "output_type": "execute_result"
    }
   ],
   "source": [
    "may_trip_clean.head()"
   ]
  },
  {
   "cell_type": "code",
   "execution_count": 12,
   "id": "dda75a82",
   "metadata": {},
   "outputs": [
    {
     "data": {
      "text/plain": [
       "pandas.core.frame.DataFrame"
      ]
     },
     "execution_count": 12,
     "metadata": {},
     "output_type": "execute_result"
    }
   ],
   "source": [
    "type(may_trip_clean)"
   ]
  },
  {
   "cell_type": "code",
   "execution_count": 13,
   "id": "82d1d048",
   "metadata": {},
   "outputs": [
    {
     "data": {
      "text/html": [
       "<div>\n",
       "<style scoped>\n",
       "    .dataframe tbody tr th:only-of-type {\n",
       "        vertical-align: middle;\n",
       "    }\n",
       "\n",
       "    .dataframe tbody tr th {\n",
       "        vertical-align: top;\n",
       "    }\n",
       "\n",
       "    .dataframe thead th {\n",
       "        text-align: right;\n",
       "    }\n",
       "</style>\n",
       "<table border=\"1\" class=\"dataframe\">\n",
       "  <thead>\n",
       "    <tr style=\"text-align: right;\">\n",
       "      <th></th>\n",
       "      <th>Unnamed: 0</th>\n",
       "      <th>pubTimeStamp</th>\n",
       "      <th>companyName</th>\n",
       "      <th>tripRecordNum</th>\n",
       "      <th>sumdID</th>\n",
       "      <th>tripDuration</th>\n",
       "      <th>tripDistance</th>\n",
       "      <th>startDate</th>\n",
       "      <th>startTime</th>\n",
       "      <th>endDate</th>\n",
       "      <th>...</th>\n",
       "      <th>endLongitude</th>\n",
       "      <th>tripRoute</th>\n",
       "      <th>create_dt</th>\n",
       "      <th>start</th>\n",
       "      <th>end</th>\n",
       "      <th>totaltime</th>\n",
       "      <th>seconds</th>\n",
       "      <th>hours</th>\n",
       "      <th>minutes</th>\n",
       "      <th>geometry</th>\n",
       "    </tr>\n",
       "  </thead>\n",
       "  <tbody>\n",
       "    <tr>\n",
       "      <th>0</th>\n",
       "      <td>0</td>\n",
       "      <td>2019-05-01 00:00:55.423000</td>\n",
       "      <td>Bird</td>\n",
       "      <td>BRD2134</td>\n",
       "      <td>Powered9EAJL</td>\n",
       "      <td>3.0000</td>\n",
       "      <td>958.00528</td>\n",
       "      <td>2019-05-01 00:00:00.000000</td>\n",
       "      <td>00:00:20.460000</td>\n",
       "      <td>2019-05-01 00:00:00.000000</td>\n",
       "      <td>...</td>\n",
       "      <td>-86.80670</td>\n",
       "      <td>36.157235,-86.803612,36.157235,-86.80362,36.15...</td>\n",
       "      <td>2019-05-02 05:30:23.780000</td>\n",
       "      <td>2019-05-01 00:00:20.460000</td>\n",
       "      <td>2019-05-01 00:02:52.346666</td>\n",
       "      <td>0 days 00:02:31.886666</td>\n",
       "      <td>151.886666</td>\n",
       "      <td>0</td>\n",
       "      <td>2.531444</td>\n",
       "      <td>POINT (-86.8036 36.1571)</td>\n",
       "    </tr>\n",
       "    <tr>\n",
       "      <th>1</th>\n",
       "      <td>1</td>\n",
       "      <td>2019-05-01 00:03:33.147000</td>\n",
       "      <td>Lyft</td>\n",
       "      <td>LFT5</td>\n",
       "      <td>Powered296631</td>\n",
       "      <td>1.7156</td>\n",
       "      <td>1371.39112</td>\n",
       "      <td>2019-05-01 00:00:00.000000</td>\n",
       "      <td>00:01:50.090000</td>\n",
       "      <td>2019-05-01 00:00:00.000000</td>\n",
       "      <td>...</td>\n",
       "      <td>-86.77689</td>\n",
       "      <td>36.15797,-86.77896,36.15795,-86.77873,36.15798...</td>\n",
       "      <td>2019-05-02 07:20:32.757000</td>\n",
       "      <td>2019-05-01 00:01:50.090000</td>\n",
       "      <td>2019-05-01 00:03:33.026666</td>\n",
       "      <td>0 days 00:01:42.936666</td>\n",
       "      <td>102.936666</td>\n",
       "      <td>0</td>\n",
       "      <td>1.715611</td>\n",
       "      <td>POINT (-86.77896 36.15797)</td>\n",
       "    </tr>\n",
       "    <tr>\n",
       "      <th>2</th>\n",
       "      <td>2</td>\n",
       "      <td>2019-05-01 00:05:55.570000</td>\n",
       "      <td>Bird</td>\n",
       "      <td>BRD2168</td>\n",
       "      <td>Powered7S2UU</td>\n",
       "      <td>3.0000</td>\n",
       "      <td>2296.58800</td>\n",
       "      <td>2019-05-01 00:00:00.000000</td>\n",
       "      <td>00:03:47.363333</td>\n",
       "      <td>2019-05-01 00:00:00.000000</td>\n",
       "      <td>...</td>\n",
       "      <td>-86.78680</td>\n",
       "      <td>36.155068,-86.782124,36.156597,-86.78675</td>\n",
       "      <td>2019-05-02 05:30:24.530000</td>\n",
       "      <td>2019-05-01 00:03:47.363333</td>\n",
       "      <td>2019-05-01 00:07:13.596666</td>\n",
       "      <td>0 days 00:03:26.233333</td>\n",
       "      <td>206.233333</td>\n",
       "      <td>0</td>\n",
       "      <td>3.437222</td>\n",
       "      <td>POINT (-86.7818 36.1547)</td>\n",
       "    </tr>\n",
       "  </tbody>\n",
       "</table>\n",
       "<p>3 rows × 24 columns</p>\n",
       "</div>"
      ],
      "text/plain": [
       "   Unnamed: 0                pubTimeStamp companyName tripRecordNum  \\\n",
       "0           0  2019-05-01 00:00:55.423000        Bird       BRD2134   \n",
       "1           1  2019-05-01 00:03:33.147000        Lyft          LFT5   \n",
       "2           2  2019-05-01 00:05:55.570000        Bird       BRD2168   \n",
       "\n",
       "          sumdID  tripDuration  tripDistance                   startDate  \\\n",
       "0   Powered9EAJL        3.0000     958.00528  2019-05-01 00:00:00.000000   \n",
       "1  Powered296631        1.7156    1371.39112  2019-05-01 00:00:00.000000   \n",
       "2   Powered7S2UU        3.0000    2296.58800  2019-05-01 00:00:00.000000   \n",
       "\n",
       "         startTime                     endDate  ... endLongitude  \\\n",
       "0  00:00:20.460000  2019-05-01 00:00:00.000000  ...    -86.80670   \n",
       "1  00:01:50.090000  2019-05-01 00:00:00.000000  ...    -86.77689   \n",
       "2  00:03:47.363333  2019-05-01 00:00:00.000000  ...    -86.78680   \n",
       "\n",
       "                                           tripRoute  \\\n",
       "0  36.157235,-86.803612,36.157235,-86.80362,36.15...   \n",
       "1  36.15797,-86.77896,36.15795,-86.77873,36.15798...   \n",
       "2           36.155068,-86.782124,36.156597,-86.78675   \n",
       "\n",
       "                    create_dt                       start  \\\n",
       "0  2019-05-02 05:30:23.780000  2019-05-01 00:00:20.460000   \n",
       "1  2019-05-02 07:20:32.757000  2019-05-01 00:01:50.090000   \n",
       "2  2019-05-02 05:30:24.530000  2019-05-01 00:03:47.363333   \n",
       "\n",
       "                          end               totaltime     seconds hours  \\\n",
       "0  2019-05-01 00:02:52.346666  0 days 00:02:31.886666  151.886666     0   \n",
       "1  2019-05-01 00:03:33.026666  0 days 00:01:42.936666  102.936666     0   \n",
       "2  2019-05-01 00:07:13.596666  0 days 00:03:26.233333  206.233333     0   \n",
       "\n",
       "    minutes                    geometry  \n",
       "0  2.531444    POINT (-86.8036 36.1571)  \n",
       "1  1.715611  POINT (-86.77896 36.15797)  \n",
       "2  3.437222    POINT (-86.7818 36.1547)  \n",
       "\n",
       "[3 rows x 24 columns]"
      ]
     },
     "execution_count": 13,
     "metadata": {},
     "output_type": "execute_result"
    }
   ],
   "source": [
    "may_trip_clean['geometry'] = may_trip_clean.apply(lambda x: Point((x.startLongitude, \n",
    "                                                         x.startLatitude)), \n",
    "                                        axis=1)\n",
    "may_trip_clean.head(3)"
   ]
  },
  {
   "cell_type": "code",
   "execution_count": 14,
   "id": "320e3b41",
   "metadata": {},
   "outputs": [],
   "source": [
    "may_trip_clean_geo = gpd.GeoDataFrame(may_trip_clean, \n",
    "                           crs = promise_zones.crs, \n",
    "                           geometry = may_trip_clean['geometry'])"
   ]
  },
  {
   "cell_type": "code",
   "execution_count": 15,
   "id": "2543e721",
   "metadata": {},
   "outputs": [],
   "source": [
    "may_trip_clean_pro_start = gpd.sjoin(may_trip_clean_geo, promise_zones, op = 'within')"
   ]
  },
  {
   "cell_type": "code",
   "execution_count": 16,
   "id": "c5cfbe30",
   "metadata": {},
   "outputs": [
    {
     "data": {
      "text/html": [
       "<div>\n",
       "<style scoped>\n",
       "    .dataframe tbody tr th:only-of-type {\n",
       "        vertical-align: middle;\n",
       "    }\n",
       "\n",
       "    .dataframe tbody tr th {\n",
       "        vertical-align: top;\n",
       "    }\n",
       "\n",
       "    .dataframe thead th {\n",
       "        text-align: right;\n",
       "    }\n",
       "</style>\n",
       "<table border=\"1\" class=\"dataframe\">\n",
       "  <thead>\n",
       "    <tr style=\"text-align: right;\">\n",
       "      <th></th>\n",
       "      <th>Unnamed: 0</th>\n",
       "      <th>pubTimeStamp</th>\n",
       "      <th>companyName</th>\n",
       "      <th>tripRecordNum</th>\n",
       "      <th>sumdID</th>\n",
       "      <th>tripDuration</th>\n",
       "      <th>tripDistance</th>\n",
       "      <th>startDate</th>\n",
       "      <th>startTime</th>\n",
       "      <th>endDate</th>\n",
       "      <th>...</th>\n",
       "      <th>totaltime</th>\n",
       "      <th>seconds</th>\n",
       "      <th>hours</th>\n",
       "      <th>minutes</th>\n",
       "      <th>geometry</th>\n",
       "      <th>index_right</th>\n",
       "      <th>OBJECTID</th>\n",
       "      <th>ZONE_ID</th>\n",
       "      <th>SHAPE_STAr</th>\n",
       "      <th>SHAPE_STLe</th>\n",
       "    </tr>\n",
       "  </thead>\n",
       "  <tbody>\n",
       "    <tr>\n",
       "      <th>0</th>\n",
       "      <td>0</td>\n",
       "      <td>2019-05-01 00:00:55.423000</td>\n",
       "      <td>Bird</td>\n",
       "      <td>BRD2134</td>\n",
       "      <td>Powered9EAJL</td>\n",
       "      <td>3.000000</td>\n",
       "      <td>958.00528</td>\n",
       "      <td>2019-05-01 00:00:00.000000</td>\n",
       "      <td>00:00:20.460000</td>\n",
       "      <td>2019-05-01 00:00:00.000000</td>\n",
       "      <td>...</td>\n",
       "      <td>0 days 00:02:31.886666</td>\n",
       "      <td>151.886666</td>\n",
       "      <td>0</td>\n",
       "      <td>2.531444</td>\n",
       "      <td>POINT (-86.80360 36.15710)</td>\n",
       "      <td>4</td>\n",
       "      <td>5</td>\n",
       "      <td>5</td>\n",
       "      <td>3.928178e+08</td>\n",
       "      <td>106661.712102</td>\n",
       "    </tr>\n",
       "    <tr>\n",
       "      <th>4</th>\n",
       "      <td>4</td>\n",
       "      <td>2019-05-01 00:05:55.570000</td>\n",
       "      <td>Bird</td>\n",
       "      <td>BRD2165</td>\n",
       "      <td>PoweredJ7MB3</td>\n",
       "      <td>2.000000</td>\n",
       "      <td>351.04988</td>\n",
       "      <td>2019-05-01 00:00:00.000000</td>\n",
       "      <td>00:04:27.796666</td>\n",
       "      <td>2019-05-01 00:00:00.000000</td>\n",
       "      <td>...</td>\n",
       "      <td>0 days 00:01:55.353334</td>\n",
       "      <td>115.353334</td>\n",
       "      <td>0</td>\n",
       "      <td>1.922556</td>\n",
       "      <td>POINT (-86.78660 36.17780)</td>\n",
       "      <td>4</td>\n",
       "      <td>5</td>\n",
       "      <td>5</td>\n",
       "      <td>3.928178e+08</td>\n",
       "      <td>106661.712102</td>\n",
       "    </tr>\n",
       "    <tr>\n",
       "      <th>8</th>\n",
       "      <td>8</td>\n",
       "      <td>2019-05-01 00:10:56.013000</td>\n",
       "      <td>Bird</td>\n",
       "      <td>BRD2193</td>\n",
       "      <td>PoweredSX2AW</td>\n",
       "      <td>6.000000</td>\n",
       "      <td>2624.67200</td>\n",
       "      <td>2019-05-01 00:00:00.000000</td>\n",
       "      <td>00:06:34.436666</td>\n",
       "      <td>2019-05-01 00:00:00.000000</td>\n",
       "      <td>...</td>\n",
       "      <td>0 days 00:06:14.240000</td>\n",
       "      <td>374.240000</td>\n",
       "      <td>0</td>\n",
       "      <td>6.237333</td>\n",
       "      <td>POINT (-86.78930 36.17080)</td>\n",
       "      <td>4</td>\n",
       "      <td>5</td>\n",
       "      <td>5</td>\n",
       "      <td>3.928178e+08</td>\n",
       "      <td>106661.712102</td>\n",
       "    </tr>\n",
       "    <tr>\n",
       "      <th>27</th>\n",
       "      <td>27</td>\n",
       "      <td>2019-05-01 00:15:55.977000</td>\n",
       "      <td>Bird</td>\n",
       "      <td>BRD2212</td>\n",
       "      <td>PoweredVGMWJ</td>\n",
       "      <td>10.000000</td>\n",
       "      <td>5249.34400</td>\n",
       "      <td>2019-05-01 00:00:00.000000</td>\n",
       "      <td>00:07:07.963333</td>\n",
       "      <td>2019-05-01 00:00:00.000000</td>\n",
       "      <td>...</td>\n",
       "      <td>0 days 00:09:50.800000</td>\n",
       "      <td>590.800000</td>\n",
       "      <td>0</td>\n",
       "      <td>9.846667</td>\n",
       "      <td>POINT (-86.78470 36.17650)</td>\n",
       "      <td>4</td>\n",
       "      <td>5</td>\n",
       "      <td>5</td>\n",
       "      <td>3.928178e+08</td>\n",
       "      <td>106661.712102</td>\n",
       "    </tr>\n",
       "    <tr>\n",
       "      <th>48</th>\n",
       "      <td>48</td>\n",
       "      <td>2019-05-01 00:25:34</td>\n",
       "      <td>Lyft</td>\n",
       "      <td>LFT42</td>\n",
       "      <td>Powered906727</td>\n",
       "      <td>14.803383</td>\n",
       "      <td>2004.59324</td>\n",
       "      <td>2019-05-01 00:00:00.000000</td>\n",
       "      <td>00:10:45.676666</td>\n",
       "      <td>2019-05-01 00:00:00.000000</td>\n",
       "      <td>...</td>\n",
       "      <td>0 days 00:14:48.203334</td>\n",
       "      <td>888.203334</td>\n",
       "      <td>0</td>\n",
       "      <td>14.803389</td>\n",
       "      <td>POINT (-86.79429 36.17546)</td>\n",
       "      <td>4</td>\n",
       "      <td>5</td>\n",
       "      <td>5</td>\n",
       "      <td>3.928178e+08</td>\n",
       "      <td>106661.712102</td>\n",
       "    </tr>\n",
       "  </tbody>\n",
       "</table>\n",
       "<p>5 rows × 29 columns</p>\n",
       "</div>"
      ],
      "text/plain": [
       "    Unnamed: 0                pubTimeStamp companyName tripRecordNum  \\\n",
       "0            0  2019-05-01 00:00:55.423000        Bird       BRD2134   \n",
       "4            4  2019-05-01 00:05:55.570000        Bird       BRD2165   \n",
       "8            8  2019-05-01 00:10:56.013000        Bird       BRD2193   \n",
       "27          27  2019-05-01 00:15:55.977000        Bird       BRD2212   \n",
       "48          48         2019-05-01 00:25:34        Lyft         LFT42   \n",
       "\n",
       "           sumdID  tripDuration  tripDistance                   startDate  \\\n",
       "0    Powered9EAJL      3.000000     958.00528  2019-05-01 00:00:00.000000   \n",
       "4    PoweredJ7MB3      2.000000     351.04988  2019-05-01 00:00:00.000000   \n",
       "8    PoweredSX2AW      6.000000    2624.67200  2019-05-01 00:00:00.000000   \n",
       "27   PoweredVGMWJ     10.000000    5249.34400  2019-05-01 00:00:00.000000   \n",
       "48  Powered906727     14.803383    2004.59324  2019-05-01 00:00:00.000000   \n",
       "\n",
       "          startTime                     endDate  ...               totaltime  \\\n",
       "0   00:00:20.460000  2019-05-01 00:00:00.000000  ...  0 days 00:02:31.886666   \n",
       "4   00:04:27.796666  2019-05-01 00:00:00.000000  ...  0 days 00:01:55.353334   \n",
       "8   00:06:34.436666  2019-05-01 00:00:00.000000  ...  0 days 00:06:14.240000   \n",
       "27  00:07:07.963333  2019-05-01 00:00:00.000000  ...  0 days 00:09:50.800000   \n",
       "48  00:10:45.676666  2019-05-01 00:00:00.000000  ...  0 days 00:14:48.203334   \n",
       "\n",
       "       seconds  hours    minutes                    geometry index_right  \\\n",
       "0   151.886666      0   2.531444  POINT (-86.80360 36.15710)           4   \n",
       "4   115.353334      0   1.922556  POINT (-86.78660 36.17780)           4   \n",
       "8   374.240000      0   6.237333  POINT (-86.78930 36.17080)           4   \n",
       "27  590.800000      0   9.846667  POINT (-86.78470 36.17650)           4   \n",
       "48  888.203334      0  14.803389  POINT (-86.79429 36.17546)           4   \n",
       "\n",
       "   OBJECTID ZONE_ID    SHAPE_STAr     SHAPE_STLe  \n",
       "0         5       5  3.928178e+08  106661.712102  \n",
       "4         5       5  3.928178e+08  106661.712102  \n",
       "8         5       5  3.928178e+08  106661.712102  \n",
       "27        5       5  3.928178e+08  106661.712102  \n",
       "48        5       5  3.928178e+08  106661.712102  \n",
       "\n",
       "[5 rows x 29 columns]"
      ]
     },
     "execution_count": 16,
     "metadata": {},
     "output_type": "execute_result"
    }
   ],
   "source": [
    "may_trip_clean_pro_start.head()"
   ]
  },
  {
   "cell_type": "code",
   "execution_count": 19,
   "id": "1bb5fe30",
   "metadata": {},
   "outputs": [
    {
     "data": {
      "text/plain": [
       "<bound method IndexOpsMixin.value_counts of 0                 Powered9EAJL\n",
       "1                Powered296631\n",
       "2                 Powered7S2UU\n",
       "3                 PoweredZIIVX\n",
       "4                 PoweredJ7MB3\n",
       "                  ...         \n",
       "220382    Powered2OFHK7WJJGPSG\n",
       "220383    PoweredJ6OI7QJIK4NO2\n",
       "220384    PoweredQDVYGLDL6ZQDU\n",
       "220385    PoweredH5HCTZB5WVABT\n",
       "220386    PoweredFXC5KHVLI3T7C\n",
       "Name: sumdID, Length: 220387, dtype: object>"
      ]
     },
     "execution_count": 19,
     "metadata": {},
     "output_type": "execute_result"
    }
   ],
   "source": [
    "may_trip_clean_geo['sumdID'].value_counts"
   ]
  },
  {
   "cell_type": "code",
   "execution_count": 28,
   "id": "b8dde2dd",
   "metadata": {},
   "outputs": [
    {
     "data": {
      "text/html": [
       "<div>\n",
       "<style scoped>\n",
       "    .dataframe tbody tr th:only-of-type {\n",
       "        vertical-align: middle;\n",
       "    }\n",
       "\n",
       "    .dataframe tbody tr th {\n",
       "        vertical-align: top;\n",
       "    }\n",
       "\n",
       "    .dataframe thead th {\n",
       "        text-align: right;\n",
       "    }\n",
       "</style>\n",
       "<table border=\"1\" class=\"dataframe\">\n",
       "  <thead>\n",
       "    <tr style=\"text-align: right;\">\n",
       "      <th></th>\n",
       "      <th>sumdID</th>\n",
       "    </tr>\n",
       "    <tr>\n",
       "      <th>companyName</th>\n",
       "      <th></th>\n",
       "    </tr>\n",
       "  </thead>\n",
       "  <tbody>\n",
       "    <tr>\n",
       "      <th>Bird</th>\n",
       "      <td>2937</td>\n",
       "    </tr>\n",
       "    <tr>\n",
       "      <th>Bolt Mobility</th>\n",
       "      <td>341</td>\n",
       "    </tr>\n",
       "    <tr>\n",
       "      <th>Gotcha</th>\n",
       "      <td>105</td>\n",
       "    </tr>\n",
       "    <tr>\n",
       "      <th>JUMP</th>\n",
       "      <td>1</td>\n",
       "    </tr>\n",
       "    <tr>\n",
       "      <th>Lime</th>\n",
       "      <td>1576</td>\n",
       "    </tr>\n",
       "    <tr>\n",
       "      <th>Lyft</th>\n",
       "      <td>1359</td>\n",
       "    </tr>\n",
       "    <tr>\n",
       "      <th>SPIN</th>\n",
       "      <td>636</td>\n",
       "    </tr>\n",
       "  </tbody>\n",
       "</table>\n",
       "</div>"
      ],
      "text/plain": [
       "               sumdID\n",
       "companyName          \n",
       "Bird             2937\n",
       "Bolt Mobility     341\n",
       "Gotcha            105\n",
       "JUMP                1\n",
       "Lime             1576\n",
       "Lyft             1359\n",
       "SPIN              636"
      ]
     },
     "execution_count": 28,
     "metadata": {},
     "output_type": "execute_result"
    }
   ],
   "source": [
    "may_grouped2 = may_trip_clean_geo.groupby(\"companyName\")\n",
    "\n",
    "may_grouped2 = may_grouped2.agg({\"sumdID\": \"nunique\"})\n",
    "\n",
    "may_grouped2"
   ]
  },
  {
   "cell_type": "code",
   "execution_count": 30,
   "id": "93183bf4",
   "metadata": {},
   "outputs": [
    {
     "data": {
      "text/plain": [
       "companyName\n",
       "Bird              51236\n",
       "Bolt Mobility      4847\n",
       "Gotcha              650\n",
       "JUMP                593\n",
       "Lime             102569\n",
       "Lyft              52036\n",
       "SPIN               8456\n",
       "dtype: int64"
      ]
     },
     "execution_count": 30,
     "metadata": {},
     "output_type": "execute_result"
    }
   ],
   "source": [
    "may_trip_clean_geo.groupby('companyName').size()"
   ]
  },
  {
   "cell_type": "code",
   "execution_count": 39,
   "id": "680ab8d4",
   "metadata": {},
   "outputs": [
    {
     "data": {
      "text/plain": [
       "0.5627423199007107"
      ]
     },
     "execution_count": 39,
     "metadata": {},
     "output_type": "execute_result"
    }
   ],
   "source": [
    "bird_efficiency = 51236/2937/31\n",
    "\n",
    "bird_efficiency"
   ]
  },
  {
   "cell_type": "code",
   "execution_count": null,
   "id": "534ceb5d",
   "metadata": {},
   "outputs": [],
   "source": [
    "may_trip_clean_geo_3 = may_trip_clean_geo[(may_trip_clean_geo[''] == 22)"
   ]
  },
  {
   "cell_type": "code",
   "execution_count": 41,
   "id": "8bfa7abb",
   "metadata": {},
   "outputs": [
    {
     "ename": "ValueError",
     "evalue": "Length of values (7) does not match length of index (220387)",
     "output_type": "error",
     "traceback": [
      "\u001b[1;31m---------------------------------------------------------------------------\u001b[0m",
      "\u001b[1;31mValueError\u001b[0m                                Traceback (most recent call last)",
      "\u001b[1;32m~\\AppData\\Local\\Temp/ipykernel_4188/396852187.py\u001b[0m in \u001b[0;36m<module>\u001b[1;34m\u001b[0m\n\u001b[1;32m----> 1\u001b[1;33m \u001b[0mmay_trip_clean_geo\u001b[0m\u001b[1;33m[\u001b[0m\u001b[1;34m'number_of_trips'\u001b[0m\u001b[1;33m]\u001b[0m \u001b[1;33m=\u001b[0m \u001b[0mmay_trip_clean_geo\u001b[0m\u001b[1;33m.\u001b[0m\u001b[0mgroupby\u001b[0m\u001b[1;33m(\u001b[0m\u001b[1;34m\"companyName\"\u001b[0m\u001b[1;33m)\u001b[0m\u001b[1;33m\u001b[0m\u001b[1;33m\u001b[0m\u001b[0m\n\u001b[0m",
      "\u001b[1;32m~\\anaconda3\\envs\\geospatial\\lib\\site-packages\\geopandas\\geodataframe.py\u001b[0m in \u001b[0;36m__setitem__\u001b[1;34m(self, key, value)\u001b[0m\n\u001b[0;32m    851\u001b[0m             \u001b[1;32mexcept\u001b[0m \u001b[0mTypeError\u001b[0m\u001b[1;33m:\u001b[0m\u001b[1;33m\u001b[0m\u001b[1;33m\u001b[0m\u001b[0m\n\u001b[0;32m    852\u001b[0m                 \u001b[0mwarnings\u001b[0m\u001b[1;33m.\u001b[0m\u001b[0mwarn\u001b[0m\u001b[1;33m(\u001b[0m\u001b[1;34m\"Geometry column does not contain geometry.\"\u001b[0m\u001b[1;33m)\u001b[0m\u001b[1;33m\u001b[0m\u001b[1;33m\u001b[0m\u001b[0m\n\u001b[1;32m--> 853\u001b[1;33m         \u001b[0msuper\u001b[0m\u001b[1;33m(\u001b[0m\u001b[0mGeoDataFrame\u001b[0m\u001b[1;33m,\u001b[0m \u001b[0mself\u001b[0m\u001b[1;33m)\u001b[0m\u001b[1;33m.\u001b[0m\u001b[0m__setitem__\u001b[0m\u001b[1;33m(\u001b[0m\u001b[0mkey\u001b[0m\u001b[1;33m,\u001b[0m \u001b[0mvalue\u001b[0m\u001b[1;33m)\u001b[0m\u001b[1;33m\u001b[0m\u001b[1;33m\u001b[0m\u001b[0m\n\u001b[0m\u001b[0;32m    854\u001b[0m \u001b[1;33m\u001b[0m\u001b[0m\n\u001b[0;32m    855\u001b[0m     \u001b[1;31m#\u001b[0m\u001b[1;33m\u001b[0m\u001b[1;33m\u001b[0m\u001b[1;33m\u001b[0m\u001b[0m\n",
      "\u001b[1;32m~\\anaconda3\\envs\\geospatial\\lib\\site-packages\\pandas\\core\\frame.py\u001b[0m in \u001b[0;36m__setitem__\u001b[1;34m(self, key, value)\u001b[0m\n\u001b[0;32m   3610\u001b[0m         \u001b[1;32melse\u001b[0m\u001b[1;33m:\u001b[0m\u001b[1;33m\u001b[0m\u001b[1;33m\u001b[0m\u001b[0m\n\u001b[0;32m   3611\u001b[0m             \u001b[1;31m# set column\u001b[0m\u001b[1;33m\u001b[0m\u001b[1;33m\u001b[0m\u001b[1;33m\u001b[0m\u001b[0m\n\u001b[1;32m-> 3612\u001b[1;33m             \u001b[0mself\u001b[0m\u001b[1;33m.\u001b[0m\u001b[0m_set_item\u001b[0m\u001b[1;33m(\u001b[0m\u001b[0mkey\u001b[0m\u001b[1;33m,\u001b[0m \u001b[0mvalue\u001b[0m\u001b[1;33m)\u001b[0m\u001b[1;33m\u001b[0m\u001b[1;33m\u001b[0m\u001b[0m\n\u001b[0m\u001b[0;32m   3613\u001b[0m \u001b[1;33m\u001b[0m\u001b[0m\n\u001b[0;32m   3614\u001b[0m     \u001b[1;32mdef\u001b[0m \u001b[0m_setitem_slice\u001b[0m\u001b[1;33m(\u001b[0m\u001b[0mself\u001b[0m\u001b[1;33m,\u001b[0m \u001b[0mkey\u001b[0m\u001b[1;33m:\u001b[0m \u001b[0mslice\u001b[0m\u001b[1;33m,\u001b[0m \u001b[0mvalue\u001b[0m\u001b[1;33m)\u001b[0m\u001b[1;33m:\u001b[0m\u001b[1;33m\u001b[0m\u001b[1;33m\u001b[0m\u001b[0m\n",
      "\u001b[1;32m~\\anaconda3\\envs\\geospatial\\lib\\site-packages\\pandas\\core\\frame.py\u001b[0m in \u001b[0;36m_set_item\u001b[1;34m(self, key, value)\u001b[0m\n\u001b[0;32m   3782\u001b[0m         \u001b[0mensure\u001b[0m \u001b[0mhomogeneity\u001b[0m\u001b[1;33m.\u001b[0m\u001b[1;33m\u001b[0m\u001b[1;33m\u001b[0m\u001b[0m\n\u001b[0;32m   3783\u001b[0m         \"\"\"\n\u001b[1;32m-> 3784\u001b[1;33m         \u001b[0mvalue\u001b[0m \u001b[1;33m=\u001b[0m \u001b[0mself\u001b[0m\u001b[1;33m.\u001b[0m\u001b[0m_sanitize_column\u001b[0m\u001b[1;33m(\u001b[0m\u001b[0mvalue\u001b[0m\u001b[1;33m)\u001b[0m\u001b[1;33m\u001b[0m\u001b[1;33m\u001b[0m\u001b[0m\n\u001b[0m\u001b[0;32m   3785\u001b[0m \u001b[1;33m\u001b[0m\u001b[0m\n\u001b[0;32m   3786\u001b[0m         if (\n",
      "\u001b[1;32m~\\anaconda3\\envs\\geospatial\\lib\\site-packages\\pandas\\core\\frame.py\u001b[0m in \u001b[0;36m_sanitize_column\u001b[1;34m(self, value)\u001b[0m\n\u001b[0;32m   4507\u001b[0m \u001b[1;33m\u001b[0m\u001b[0m\n\u001b[0;32m   4508\u001b[0m         \u001b[1;32mif\u001b[0m \u001b[0mis_list_like\u001b[0m\u001b[1;33m(\u001b[0m\u001b[0mvalue\u001b[0m\u001b[1;33m)\u001b[0m\u001b[1;33m:\u001b[0m\u001b[1;33m\u001b[0m\u001b[1;33m\u001b[0m\u001b[0m\n\u001b[1;32m-> 4509\u001b[1;33m             \u001b[0mcom\u001b[0m\u001b[1;33m.\u001b[0m\u001b[0mrequire_length_match\u001b[0m\u001b[1;33m(\u001b[0m\u001b[0mvalue\u001b[0m\u001b[1;33m,\u001b[0m \u001b[0mself\u001b[0m\u001b[1;33m.\u001b[0m\u001b[0mindex\u001b[0m\u001b[1;33m)\u001b[0m\u001b[1;33m\u001b[0m\u001b[1;33m\u001b[0m\u001b[0m\n\u001b[0m\u001b[0;32m   4510\u001b[0m         \u001b[1;32mreturn\u001b[0m \u001b[0msanitize_array\u001b[0m\u001b[1;33m(\u001b[0m\u001b[0mvalue\u001b[0m\u001b[1;33m,\u001b[0m \u001b[0mself\u001b[0m\u001b[1;33m.\u001b[0m\u001b[0mindex\u001b[0m\u001b[1;33m,\u001b[0m \u001b[0mcopy\u001b[0m\u001b[1;33m=\u001b[0m\u001b[1;32mTrue\u001b[0m\u001b[1;33m,\u001b[0m \u001b[0mallow_2d\u001b[0m\u001b[1;33m=\u001b[0m\u001b[1;32mTrue\u001b[0m\u001b[1;33m)\u001b[0m\u001b[1;33m\u001b[0m\u001b[1;33m\u001b[0m\u001b[0m\n\u001b[0;32m   4511\u001b[0m \u001b[1;33m\u001b[0m\u001b[0m\n",
      "\u001b[1;32m~\\anaconda3\\envs\\geospatial\\lib\\site-packages\\pandas\\core\\common.py\u001b[0m in \u001b[0;36mrequire_length_match\u001b[1;34m(data, index)\u001b[0m\n\u001b[0;32m    529\u001b[0m     \"\"\"\n\u001b[0;32m    530\u001b[0m     \u001b[1;32mif\u001b[0m \u001b[0mlen\u001b[0m\u001b[1;33m(\u001b[0m\u001b[0mdata\u001b[0m\u001b[1;33m)\u001b[0m \u001b[1;33m!=\u001b[0m \u001b[0mlen\u001b[0m\u001b[1;33m(\u001b[0m\u001b[0mindex\u001b[0m\u001b[1;33m)\u001b[0m\u001b[1;33m:\u001b[0m\u001b[1;33m\u001b[0m\u001b[1;33m\u001b[0m\u001b[0m\n\u001b[1;32m--> 531\u001b[1;33m         raise ValueError(\n\u001b[0m\u001b[0;32m    532\u001b[0m             \u001b[1;34m\"Length of values \"\u001b[0m\u001b[1;33m\u001b[0m\u001b[1;33m\u001b[0m\u001b[0m\n\u001b[0;32m    533\u001b[0m             \u001b[1;34mf\"({len(data)}) \"\u001b[0m\u001b[1;33m\u001b[0m\u001b[1;33m\u001b[0m\u001b[0m\n",
      "\u001b[1;31mValueError\u001b[0m: Length of values (7) does not match length of index (220387)"
     ]
    }
   ],
   "source": [
    "may_trip_clean_geo['number_of_trips'] = if sum(may_trip_clean_geo['sumdid'] >= 3, 'efficient'"
   ]
  },
  {
   "cell_type": "code",
   "execution_count": 42,
   "id": "ff85c186",
   "metadata": {},
   "outputs": [
    {
     "ename": "SyntaxError",
     "evalue": "unexpected character after line continuation character (Temp/ipykernel_4188/1757116686.py, line 1)",
     "output_type": "error",
     "traceback": [
      "\u001b[1;36m  File \u001b[1;32m\"C:\\Users\\jerem\\AppData\\Local\\Temp/ipykernel_4188/1757116686.py\"\u001b[1;36m, line \u001b[1;32m1\u001b[0m\n\u001b[1;33m    may_trip_clean_geo['number_of_trips'] = np.where(sum(may_trip_clean_geo['sumdID']) >=3, may_trip_clean_geo['efficient'],\\\u001b[0m\n\u001b[1;37m                                                                                                                              ^\u001b[0m\n\u001b[1;31mSyntaxError\u001b[0m\u001b[1;31m:\u001b[0m unexpected character after line continuation character\n"
     ]
    }
   ],
   "source": [
    "may_trip_clean_geo['number_of_trips'] = np.where(sum(may_trip_clean_geo['sumdID']) >=3, may_trip_clean_geo['efficient'],\\ \n",
    "        np.where(sum(may_trip_clean_geo['sumdID']) <3, may_trip_clean_geo['not_effecient'],\\\n"
   ]
  },
  {
   "cell_type": "code",
   "execution_count": null,
   "id": "64cac435",
   "metadata": {},
   "outputs": [],
   "source": [
    "print(\"Count of students with physics marks greater than 11 is->\",\n",
    "      dataframe[dataframe['Physics'] > 11]['Name'].count())"
   ]
  },
  {
   "cell_type": "code",
   "execution_count": 44,
   "id": "7eb3092d",
   "metadata": {},
   "outputs": [
    {
     "data": {
      "text/plain": [
       "PoweredUNKNOWN                                 714\n",
       "Poweredb671ffe4-2bca-5880-98ec-d36f65aa11a2    593\n",
       "PoweredWVIAXNCVDNOXP                           338\n",
       "PoweredR3QXO6TL2HIAB                           291\n",
       "PoweredRJ7YYJTHAR5N3                           274\n",
       "                                              ... \n",
       "Powered8609556                                   1\n",
       "PoweredIW4P9                                     1\n",
       "PoweredT5FIG                                     1\n",
       "PoweredGUJ17                                     1\n",
       "PoweredPGY7IKLCK74X4                             1\n",
       "Name: sumdID, Length: 6955, dtype: int64"
      ]
     },
     "execution_count": 44,
     "metadata": {},
     "output_type": "execute_result"
    }
   ],
   "source": [
    "value_counts = may_trip_clean_geo['sumdID'].value_counts()\n",
    "\n",
    "value_counts\n"
   ]
  },
  {
   "cell_type": "code",
   "execution_count": 45,
   "id": "5cb9a947",
   "metadata": {},
   "outputs": [
    {
     "name": "stdout",
     "output_type": "stream",
     "text": [
      "PoweredUNKNOWN\n"
     ]
    }
   ],
   "source": [
    "print(value_counts[value_counts > 2].index[0])"
   ]
  },
  {
   "cell_type": "code",
   "execution_count": 47,
   "id": "6ce76361",
   "metadata": {},
   "outputs": [
    {
     "ename": "SyntaxError",
     "evalue": "invalid syntax (Temp/ipykernel_4188/82714934.py, line 1)",
     "output_type": "error",
     "traceback": [
      "\u001b[1;36m  File \u001b[1;32m\"C:\\Users\\jerem\\AppData\\Local\\Temp/ipykernel_4188/82714934.py\"\u001b[1;36m, line \u001b[1;32m1\u001b[0m\n\u001b[1;33m    may_trip_clean_geo['number_of_trips'] = if sum(may_trip_clean_geo['sumdid'].value_counts() >= 3, 'efficient')\u001b[0m\n\u001b[1;37m                                            ^\u001b[0m\n\u001b[1;31mSyntaxError\u001b[0m\u001b[1;31m:\u001b[0m invalid syntax\n"
     ]
    }
   ],
   "source": [
    "may_trip_clean_geo['number_of_trips'] = if sum(may_trip_clean_geo['sumdid'].value_counts() >= 3, 'efficient')\n",
    "                                            else may_trip_clean_geo['sumdid']"
   ]
  },
  {
   "cell_type": "code",
   "execution_count": null,
   "id": "a15cbebc",
   "metadata": {},
   "outputs": [],
   "source": []
  },
  {
   "cell_type": "code",
   "execution_count": null,
   "id": "37a2c391",
   "metadata": {},
   "outputs": [],
   "source": []
  },
  {
   "cell_type": "code",
   "execution_count": null,
   "id": "62df8c56",
   "metadata": {},
   "outputs": [],
   "source": []
  },
  {
   "cell_type": "code",
   "execution_count": null,
   "id": "8d790975",
   "metadata": {},
   "outputs": [],
   "source": []
  },
  {
   "cell_type": "code",
   "execution_count": null,
   "id": "5d4d93d5",
   "metadata": {},
   "outputs": [],
   "source": []
  },
  {
   "cell_type": "code",
   "execution_count": null,
   "id": "55ae49ed",
   "metadata": {},
   "outputs": [],
   "source": []
  },
  {
   "cell_type": "code",
   "execution_count": null,
   "id": "842e2da8",
   "metadata": {},
   "outputs": [],
   "source": []
  },
  {
   "cell_type": "code",
   "execution_count": 31,
   "id": "18574a29",
   "metadata": {},
   "outputs": [
    {
     "data": {
      "text/plain": [
       "(220387, 24)"
      ]
     },
     "execution_count": 31,
     "metadata": {},
     "output_type": "execute_result"
    }
   ],
   "source": [
    "may_trip_clean_geo.shape"
   ]
  },
  {
   "cell_type": "code",
   "execution_count": 32,
   "id": "1d9c39cd",
   "metadata": {},
   "outputs": [
    {
     "data": {
      "text/plain": [
       "Unnamed: 0        220387\n",
       "pubTimeStamp       88684\n",
       "companyName            7\n",
       "tripRecordNum      23062\n",
       "sumdID              6955\n",
       "tripDuration       59067\n",
       "tripDistance       19814\n",
       "startDate             31\n",
       "startTime         152971\n",
       "endDate               32\n",
       "endTime           152605\n",
       "startLatitude      47112\n",
       "startLongitude     48022\n",
       "endLatitude        48893\n",
       "endLongitude       50564\n",
       "tripRoute         193482\n",
       "create_dt         220387\n",
       "start             192086\n",
       "end               190957\n",
       "totaltime         100972\n",
       "seconds           100972\n",
       "hours                 24\n",
       "minutes           100972\n",
       "geometry          158939\n",
       "dtype: int64"
      ]
     },
     "execution_count": 32,
     "metadata": {},
     "output_type": "execute_result"
    }
   ],
   "source": [
    "may_trip_clean_geo.nunique()"
   ]
  },
  {
   "cell_type": "code",
   "execution_count": 35,
   "id": "9a8ec009",
   "metadata": {},
   "outputs": [],
   "source": [
    "rides_per_scooter = 220387/6955"
   ]
  },
  {
   "cell_type": "code",
   "execution_count": 37,
   "id": "458f556a",
   "metadata": {},
   "outputs": [
    {
     "data": {
      "text/plain": [
       "1.0221794485285591"
      ]
     },
     "execution_count": 37,
     "metadata": {},
     "output_type": "execute_result"
    }
   ],
   "source": [
    "rides_per_scooter_per_day = rides_per_scooter/31\n",
    "\n",
    "rides_per_scooter_per_day"
   ]
  },
  {
   "cell_type": "code",
   "execution_count": 48,
   "id": "919d5108",
   "metadata": {},
   "outputs": [
    {
     "name": "stdout",
     "output_type": "stream",
     "text": [
      "epsg:4326\n"
     ]
    },
    {
     "data": {
      "text/html": [
       "<div>\n",
       "<style scoped>\n",
       "    .dataframe tbody tr th:only-of-type {\n",
       "        vertical-align: middle;\n",
       "    }\n",
       "\n",
       "    .dataframe tbody tr th {\n",
       "        vertical-align: top;\n",
       "    }\n",
       "\n",
       "    .dataframe thead th {\n",
       "        text-align: right;\n",
       "    }\n",
       "</style>\n",
       "<table border=\"1\" class=\"dataframe\">\n",
       "  <thead>\n",
       "    <tr style=\"text-align: right;\">\n",
       "      <th></th>\n",
       "      <th>zip</th>\n",
       "      <th>objectid</th>\n",
       "      <th>po_name</th>\n",
       "      <th>shape_stlength</th>\n",
       "      <th>shape_starea</th>\n",
       "      <th>geometry</th>\n",
       "    </tr>\n",
       "  </thead>\n",
       "  <tbody>\n",
       "    <tr>\n",
       "      <th>0</th>\n",
       "      <td>37115</td>\n",
       "      <td>1</td>\n",
       "      <td>MADISON</td>\n",
       "      <td>178783.02488886821</td>\n",
       "      <td>596553400.57885742</td>\n",
       "      <td>MULTIPOLYGON (((-86.68725 36.31821, -86.68722 ...</td>\n",
       "    </tr>\n",
       "    <tr>\n",
       "      <th>1</th>\n",
       "      <td>37216</td>\n",
       "      <td>3</td>\n",
       "      <td>NASHVILLE</td>\n",
       "      <td>75820.997821400058</td>\n",
       "      <td>188884682.28344727</td>\n",
       "      <td>MULTIPOLYGON (((-86.73451 36.23774, -86.73425 ...</td>\n",
       "    </tr>\n",
       "    <tr>\n",
       "      <th>2</th>\n",
       "      <td>37204</td>\n",
       "      <td>9</td>\n",
       "      <td>NASHVILLE</td>\n",
       "      <td>93180.292250425613</td>\n",
       "      <td>200664795.51708984</td>\n",
       "      <td>MULTIPOLYGON (((-86.77914 36.13424, -86.77923 ...</td>\n",
       "    </tr>\n",
       "    <tr>\n",
       "      <th>3</th>\n",
       "      <td>37027</td>\n",
       "      <td>11</td>\n",
       "      <td>BRENTWOOD</td>\n",
       "      <td>159760.6942933173</td>\n",
       "      <td>174978422.04101562</td>\n",
       "      <td>MULTIPOLYGON (((-86.81258 36.06319, -86.81263 ...</td>\n",
       "    </tr>\n",
       "    <tr>\n",
       "      <th>4</th>\n",
       "      <td>37064</td>\n",
       "      <td>18</td>\n",
       "      <td>FRANKLIN</td>\n",
       "      <td>28995.828320601937</td>\n",
       "      <td>46969608.005737305</td>\n",
       "      <td>MULTIPOLYGON (((-87.02197 36.01200, -87.02140 ...</td>\n",
       "    </tr>\n",
       "  </tbody>\n",
       "</table>\n",
       "</div>"
      ],
      "text/plain": [
       "     zip objectid    po_name      shape_stlength        shape_starea  \\\n",
       "0  37115        1    MADISON  178783.02488886821  596553400.57885742   \n",
       "1  37216        3  NASHVILLE  75820.997821400058  188884682.28344727   \n",
       "2  37204        9  NASHVILLE  93180.292250425613  200664795.51708984   \n",
       "3  37027       11  BRENTWOOD   159760.6942933173  174978422.04101562   \n",
       "4  37064       18   FRANKLIN  28995.828320601937  46969608.005737305   \n",
       "\n",
       "                                            geometry  \n",
       "0  MULTIPOLYGON (((-86.68725 36.31821, -86.68722 ...  \n",
       "1  MULTIPOLYGON (((-86.73451 36.23774, -86.73425 ...  \n",
       "2  MULTIPOLYGON (((-86.77914 36.13424, -86.77923 ...  \n",
       "3  MULTIPOLYGON (((-86.81258 36.06319, -86.81263 ...  \n",
       "4  MULTIPOLYGON (((-87.02197 36.01200, -87.02140 ...  "
      ]
     },
     "execution_count": 48,
     "metadata": {},
     "output_type": "execute_result"
    }
   ],
   "source": [
    "zipcodes = gpd.read_file('../data/zipcodes.geojson')\n",
    "print(zipcodes.crs)\n",
    "zipcodes.head()"
   ]
  },
  {
   "cell_type": "code",
   "execution_count": null,
   "id": "c7e4bd30",
   "metadata": {},
   "outputs": [],
   "source": []
  }
 ],
 "metadata": {
  "kernelspec": {
   "display_name": "Python 3 (ipykernel)",
   "language": "python",
   "name": "python3"
  },
  "language_info": {
   "codemirror_mode": {
    "name": "ipython",
    "version": 3
   },
   "file_extension": ".py",
   "mimetype": "text/x-python",
   "name": "python",
   "nbconvert_exporter": "python",
   "pygments_lexer": "ipython3",
   "version": "3.8.5"
  }
 },
 "nbformat": 4,
 "nbformat_minor": 5
}
