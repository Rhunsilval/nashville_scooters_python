{
 "cells": [
  {
   "cell_type": "code",
   "execution_count": 3,
   "id": "14a4cfdf",
   "metadata": {},
   "outputs": [],
   "source": [
    "from shapely.geometry import Point\n",
    "import numpy as np\n",
    "import pandas as pd\n",
    "import geopandas as gpd\n",
    "import matplotlib.pyplot as plt\n",
    "import folium\n",
    "from folium.plugins import MarkerCluster\n",
    "from folium.plugins import FastMarkerCluster\n",
    "\n",
    "%matplotlib inline"
   ]
  },
  {
   "cell_type": "code",
   "execution_count": 4,
   "id": "49de1c18",
   "metadata": {},
   "outputs": [],
   "source": [
    "may_trip = pd.read_csv('../data/may_trip.csv')\n",
    "june_trip = pd.read_csv('../data/june_trip.csv')\n",
    "july_trip = pd.read_csv('../data/july_trip.csv')"
   ]
  },
  {
   "cell_type": "code",
   "execution_count": 5,
   "id": "ee81b3ae",
   "metadata": {},
   "outputs": [],
   "source": [
    "may_trip_clean = pd.read_csv('../data/may_trip_clean.csv')"
   ]
  },
  {
   "cell_type": "code",
   "execution_count": 6,
   "id": "19a623dd",
   "metadata": {},
   "outputs": [
    {
     "name": "stdout",
     "output_type": "stream",
     "text": [
      "epsg:2274\n"
     ]
    },
    {
     "data": {
      "text/html": [
       "<div>\n",
       "<style scoped>\n",
       "    .dataframe tbody tr th:only-of-type {\n",
       "        vertical-align: middle;\n",
       "    }\n",
       "\n",
       "    .dataframe tbody tr th {\n",
       "        vertical-align: top;\n",
       "    }\n",
       "\n",
       "    .dataframe thead th {\n",
       "        text-align: right;\n",
       "    }\n",
       "</style>\n",
       "<table border=\"1\" class=\"dataframe\">\n",
       "  <thead>\n",
       "    <tr style=\"text-align: right;\">\n",
       "      <th></th>\n",
       "      <th>OBJECTID</th>\n",
       "      <th>ZONE_ID</th>\n",
       "      <th>SHAPE_STAr</th>\n",
       "      <th>SHAPE_STLe</th>\n",
       "      <th>geometry</th>\n",
       "    </tr>\n",
       "  </thead>\n",
       "  <tbody>\n",
       "    <tr>\n",
       "      <th>0</th>\n",
       "      <td>1</td>\n",
       "      <td>1</td>\n",
       "      <td>1.053728e+08</td>\n",
       "      <td>49364.601403</td>\n",
       "      <td>POLYGON ((1743366.812 678044.543, 1743367.698 ...</td>\n",
       "    </tr>\n",
       "    <tr>\n",
       "      <th>1</th>\n",
       "      <td>2</td>\n",
       "      <td>2</td>\n",
       "      <td>7.670585e+07</td>\n",
       "      <td>45226.018917</td>\n",
       "      <td>POLYGON ((1738690.545 661791.347, 1738733.644 ...</td>\n",
       "    </tr>\n",
       "    <tr>\n",
       "      <th>2</th>\n",
       "      <td>3</td>\n",
       "      <td>3</td>\n",
       "      <td>2.985488e+08</td>\n",
       "      <td>75207.067487</td>\n",
       "      <td>POLYGON ((1759602.544 668309.889, 1759640.155 ...</td>\n",
       "    </tr>\n",
       "    <tr>\n",
       "      <th>3</th>\n",
       "      <td>4</td>\n",
       "      <td>4</td>\n",
       "      <td>2.713638e+08</td>\n",
       "      <td>74348.596054</td>\n",
       "      <td>POLYGON ((1747799.003 654974.612, 1747821.293 ...</td>\n",
       "    </tr>\n",
       "    <tr>\n",
       "      <th>4</th>\n",
       "      <td>5</td>\n",
       "      <td>5</td>\n",
       "      <td>3.928178e+08</td>\n",
       "      <td>106661.712102</td>\n",
       "      <td>POLYGON ((1737013.744 692634.639, 1737122.605 ...</td>\n",
       "    </tr>\n",
       "  </tbody>\n",
       "</table>\n",
       "</div>"
      ],
      "text/plain": [
       "   OBJECTID  ZONE_ID    SHAPE_STAr     SHAPE_STLe  \\\n",
       "0         1        1  1.053728e+08   49364.601403   \n",
       "1         2        2  7.670585e+07   45226.018917   \n",
       "2         3        3  2.985488e+08   75207.067487   \n",
       "3         4        4  2.713638e+08   74348.596054   \n",
       "4         5        5  3.928178e+08  106661.712102   \n",
       "\n",
       "                                            geometry  \n",
       "0  POLYGON ((1743366.812 678044.543, 1743367.698 ...  \n",
       "1  POLYGON ((1738690.545 661791.347, 1738733.644 ...  \n",
       "2  POLYGON ((1759602.544 668309.889, 1759640.155 ...  \n",
       "3  POLYGON ((1747799.003 654974.612, 1747821.293 ...  \n",
       "4  POLYGON ((1737013.744 692634.639, 1737122.605 ...  "
      ]
     },
     "execution_count": 6,
     "metadata": {},
     "output_type": "execute_result"
    }
   ],
   "source": [
    "promise_zones = gpd.read_file('../data/MDHA_Promise_Zones/Export_Output_5.shp')\n",
    "print(promise_zones.crs)\n",
    "\n",
    "\n",
    "promise_zones.head()"
   ]
  },
  {
   "cell_type": "code",
   "execution_count": 7,
   "id": "7f2896d1",
   "metadata": {},
   "outputs": [
    {
     "name": "stdout",
     "output_type": "stream",
     "text": [
      "EPSG:4326\n"
     ]
    }
   ],
   "source": [
    "promise_zones = promise_zones.to_crs('EPSG:4326')\n",
    "print(promise_zones.crs)"
   ]
  },
  {
   "cell_type": "code",
   "execution_count": 8,
   "id": "f1c5e25b",
   "metadata": {},
   "outputs": [
    {
     "data": {
      "text/html": [
       "<div>\n",
       "<style scoped>\n",
       "    .dataframe tbody tr th:only-of-type {\n",
       "        vertical-align: middle;\n",
       "    }\n",
       "\n",
       "    .dataframe tbody tr th {\n",
       "        vertical-align: top;\n",
       "    }\n",
       "\n",
       "    .dataframe thead th {\n",
       "        text-align: right;\n",
       "    }\n",
       "</style>\n",
       "<table border=\"1\" class=\"dataframe\">\n",
       "  <thead>\n",
       "    <tr style=\"text-align: right;\">\n",
       "      <th></th>\n",
       "      <th>Unnamed: 0</th>\n",
       "      <th>pubTimeStamp</th>\n",
       "      <th>companyName</th>\n",
       "      <th>tripRecordNum</th>\n",
       "      <th>sumdID</th>\n",
       "      <th>tripDuration</th>\n",
       "      <th>tripDistance</th>\n",
       "      <th>startDate</th>\n",
       "      <th>startTime</th>\n",
       "      <th>endDate</th>\n",
       "      <th>...</th>\n",
       "      <th>endLatitude</th>\n",
       "      <th>endLongitude</th>\n",
       "      <th>tripRoute</th>\n",
       "      <th>create_dt</th>\n",
       "      <th>start</th>\n",
       "      <th>end</th>\n",
       "      <th>totaltime</th>\n",
       "      <th>seconds</th>\n",
       "      <th>hours</th>\n",
       "      <th>minutes</th>\n",
       "    </tr>\n",
       "  </thead>\n",
       "  <tbody>\n",
       "    <tr>\n",
       "      <th>0</th>\n",
       "      <td>0</td>\n",
       "      <td>2019-05-01 00:00:55.423000</td>\n",
       "      <td>Bird</td>\n",
       "      <td>BRD2134</td>\n",
       "      <td>Powered9EAJL</td>\n",
       "      <td>3.0000</td>\n",
       "      <td>958.00528</td>\n",
       "      <td>2019-05-01 00:00:00.000000</td>\n",
       "      <td>00:00:20.460000</td>\n",
       "      <td>2019-05-01 00:00:00.000000</td>\n",
       "      <td>...</td>\n",
       "      <td>36.15660</td>\n",
       "      <td>-86.80670</td>\n",
       "      <td>36.157235,-86.803612,36.157235,-86.80362,36.15...</td>\n",
       "      <td>2019-05-02 05:30:23.780000</td>\n",
       "      <td>2019-05-01 00:00:20.460000</td>\n",
       "      <td>2019-05-01 00:02:52.346666</td>\n",
       "      <td>0 days 00:02:31.886666</td>\n",
       "      <td>151.886666</td>\n",
       "      <td>0</td>\n",
       "      <td>2.531444</td>\n",
       "    </tr>\n",
       "    <tr>\n",
       "      <th>1</th>\n",
       "      <td>1</td>\n",
       "      <td>2019-05-01 00:03:33.147000</td>\n",
       "      <td>Lyft</td>\n",
       "      <td>LFT5</td>\n",
       "      <td>Powered296631</td>\n",
       "      <td>1.7156</td>\n",
       "      <td>1371.39112</td>\n",
       "      <td>2019-05-01 00:00:00.000000</td>\n",
       "      <td>00:01:50.090000</td>\n",
       "      <td>2019-05-01 00:00:00.000000</td>\n",
       "      <td>...</td>\n",
       "      <td>36.16054</td>\n",
       "      <td>-86.77689</td>\n",
       "      <td>36.15797,-86.77896,36.15795,-86.77873,36.15798...</td>\n",
       "      <td>2019-05-02 07:20:32.757000</td>\n",
       "      <td>2019-05-01 00:01:50.090000</td>\n",
       "      <td>2019-05-01 00:03:33.026666</td>\n",
       "      <td>0 days 00:01:42.936666</td>\n",
       "      <td>102.936666</td>\n",
       "      <td>0</td>\n",
       "      <td>1.715611</td>\n",
       "    </tr>\n",
       "    <tr>\n",
       "      <th>2</th>\n",
       "      <td>2</td>\n",
       "      <td>2019-05-01 00:05:55.570000</td>\n",
       "      <td>Bird</td>\n",
       "      <td>BRD2168</td>\n",
       "      <td>Powered7S2UU</td>\n",
       "      <td>3.0000</td>\n",
       "      <td>2296.58800</td>\n",
       "      <td>2019-05-01 00:00:00.000000</td>\n",
       "      <td>00:03:47.363333</td>\n",
       "      <td>2019-05-01 00:00:00.000000</td>\n",
       "      <td>...</td>\n",
       "      <td>36.15650</td>\n",
       "      <td>-86.78680</td>\n",
       "      <td>36.155068,-86.782124,36.156597,-86.78675</td>\n",
       "      <td>2019-05-02 05:30:24.530000</td>\n",
       "      <td>2019-05-01 00:03:47.363333</td>\n",
       "      <td>2019-05-01 00:07:13.596666</td>\n",
       "      <td>0 days 00:03:26.233333</td>\n",
       "      <td>206.233333</td>\n",
       "      <td>0</td>\n",
       "      <td>3.437222</td>\n",
       "    </tr>\n",
       "    <tr>\n",
       "      <th>3</th>\n",
       "      <td>3</td>\n",
       "      <td>2019-05-01 00:05:55.570000</td>\n",
       "      <td>Bird</td>\n",
       "      <td>BRD2166</td>\n",
       "      <td>PoweredZIIVX</td>\n",
       "      <td>3.0000</td>\n",
       "      <td>1200.78744</td>\n",
       "      <td>2019-05-01 00:00:00.000000</td>\n",
       "      <td>00:04:21.386666</td>\n",
       "      <td>2019-05-01 00:00:00.000000</td>\n",
       "      <td>...</td>\n",
       "      <td>36.15310</td>\n",
       "      <td>-86.77960</td>\n",
       "      <td>36.149741,-86.779344,36.149741,-86.779327,36.1...</td>\n",
       "      <td>2019-05-02 05:30:24.237000</td>\n",
       "      <td>2019-05-01 00:04:21.386666</td>\n",
       "      <td>2019-05-01 00:06:59.176666</td>\n",
       "      <td>0 days 00:02:37.790000</td>\n",
       "      <td>157.790000</td>\n",
       "      <td>0</td>\n",
       "      <td>2.629833</td>\n",
       "    </tr>\n",
       "    <tr>\n",
       "      <th>4</th>\n",
       "      <td>4</td>\n",
       "      <td>2019-05-01 00:05:55.570000</td>\n",
       "      <td>Bird</td>\n",
       "      <td>BRD2165</td>\n",
       "      <td>PoweredJ7MB3</td>\n",
       "      <td>2.0000</td>\n",
       "      <td>351.04988</td>\n",
       "      <td>2019-05-01 00:00:00.000000</td>\n",
       "      <td>00:04:27.796666</td>\n",
       "      <td>2019-05-01 00:00:00.000000</td>\n",
       "      <td>...</td>\n",
       "      <td>36.17740</td>\n",
       "      <td>-86.78760</td>\n",
       "      <td>36.177699,-86.786477,36.177711,-86.786469,36.1...</td>\n",
       "      <td>2019-05-02 05:30:24.207000</td>\n",
       "      <td>2019-05-01 00:04:27.796666</td>\n",
       "      <td>2019-05-01 00:06:23.150000</td>\n",
       "      <td>0 days 00:01:55.353334</td>\n",
       "      <td>115.353334</td>\n",
       "      <td>0</td>\n",
       "      <td>1.922556</td>\n",
       "    </tr>\n",
       "  </tbody>\n",
       "</table>\n",
       "<p>5 rows × 23 columns</p>\n",
       "</div>"
      ],
      "text/plain": [
       "   Unnamed: 0                pubTimeStamp companyName tripRecordNum  \\\n",
       "0           0  2019-05-01 00:00:55.423000        Bird       BRD2134   \n",
       "1           1  2019-05-01 00:03:33.147000        Lyft          LFT5   \n",
       "2           2  2019-05-01 00:05:55.570000        Bird       BRD2168   \n",
       "3           3  2019-05-01 00:05:55.570000        Bird       BRD2166   \n",
       "4           4  2019-05-01 00:05:55.570000        Bird       BRD2165   \n",
       "\n",
       "          sumdID  tripDuration  tripDistance                   startDate  \\\n",
       "0   Powered9EAJL        3.0000     958.00528  2019-05-01 00:00:00.000000   \n",
       "1  Powered296631        1.7156    1371.39112  2019-05-01 00:00:00.000000   \n",
       "2   Powered7S2UU        3.0000    2296.58800  2019-05-01 00:00:00.000000   \n",
       "3   PoweredZIIVX        3.0000    1200.78744  2019-05-01 00:00:00.000000   \n",
       "4   PoweredJ7MB3        2.0000     351.04988  2019-05-01 00:00:00.000000   \n",
       "\n",
       "         startTime                     endDate  ... endLatitude  endLongitude  \\\n",
       "0  00:00:20.460000  2019-05-01 00:00:00.000000  ...    36.15660     -86.80670   \n",
       "1  00:01:50.090000  2019-05-01 00:00:00.000000  ...    36.16054     -86.77689   \n",
       "2  00:03:47.363333  2019-05-01 00:00:00.000000  ...    36.15650     -86.78680   \n",
       "3  00:04:21.386666  2019-05-01 00:00:00.000000  ...    36.15310     -86.77960   \n",
       "4  00:04:27.796666  2019-05-01 00:00:00.000000  ...    36.17740     -86.78760   \n",
       "\n",
       "                                           tripRoute  \\\n",
       "0  36.157235,-86.803612,36.157235,-86.80362,36.15...   \n",
       "1  36.15797,-86.77896,36.15795,-86.77873,36.15798...   \n",
       "2           36.155068,-86.782124,36.156597,-86.78675   \n",
       "3  36.149741,-86.779344,36.149741,-86.779327,36.1...   \n",
       "4  36.177699,-86.786477,36.177711,-86.786469,36.1...   \n",
       "\n",
       "                    create_dt                       start  \\\n",
       "0  2019-05-02 05:30:23.780000  2019-05-01 00:00:20.460000   \n",
       "1  2019-05-02 07:20:32.757000  2019-05-01 00:01:50.090000   \n",
       "2  2019-05-02 05:30:24.530000  2019-05-01 00:03:47.363333   \n",
       "3  2019-05-02 05:30:24.237000  2019-05-01 00:04:21.386666   \n",
       "4  2019-05-02 05:30:24.207000  2019-05-01 00:04:27.796666   \n",
       "\n",
       "                          end               totaltime     seconds hours  \\\n",
       "0  2019-05-01 00:02:52.346666  0 days 00:02:31.886666  151.886666     0   \n",
       "1  2019-05-01 00:03:33.026666  0 days 00:01:42.936666  102.936666     0   \n",
       "2  2019-05-01 00:07:13.596666  0 days 00:03:26.233333  206.233333     0   \n",
       "3  2019-05-01 00:06:59.176666  0 days 00:02:37.790000  157.790000     0   \n",
       "4  2019-05-01 00:06:23.150000  0 days 00:01:55.353334  115.353334     0   \n",
       "\n",
       "    minutes  \n",
       "0  2.531444  \n",
       "1  1.715611  \n",
       "2  3.437222  \n",
       "3  2.629833  \n",
       "4  1.922556  \n",
       "\n",
       "[5 rows x 23 columns]"
      ]
     },
     "execution_count": 8,
     "metadata": {},
     "output_type": "execute_result"
    }
   ],
   "source": [
    "may_trip_clean.head()"
   ]
  },
  {
   "cell_type": "code",
   "execution_count": 9,
   "id": "dda75a82",
   "metadata": {},
   "outputs": [
    {
     "data": {
      "text/plain": [
       "pandas.core.frame.DataFrame"
      ]
     },
     "execution_count": 9,
     "metadata": {},
     "output_type": "execute_result"
    }
   ],
   "source": [
    "type(may_trip_clean)"
   ]
  },
  {
   "cell_type": "code",
   "execution_count": 10,
   "id": "82d1d048",
   "metadata": {},
   "outputs": [
    {
     "data": {
      "text/html": [
       "<div>\n",
       "<style scoped>\n",
       "    .dataframe tbody tr th:only-of-type {\n",
       "        vertical-align: middle;\n",
       "    }\n",
       "\n",
       "    .dataframe tbody tr th {\n",
       "        vertical-align: top;\n",
       "    }\n",
       "\n",
       "    .dataframe thead th {\n",
       "        text-align: right;\n",
       "    }\n",
       "</style>\n",
       "<table border=\"1\" class=\"dataframe\">\n",
       "  <thead>\n",
       "    <tr style=\"text-align: right;\">\n",
       "      <th></th>\n",
       "      <th>Unnamed: 0</th>\n",
       "      <th>pubTimeStamp</th>\n",
       "      <th>companyName</th>\n",
       "      <th>tripRecordNum</th>\n",
       "      <th>sumdID</th>\n",
       "      <th>tripDuration</th>\n",
       "      <th>tripDistance</th>\n",
       "      <th>startDate</th>\n",
       "      <th>startTime</th>\n",
       "      <th>endDate</th>\n",
       "      <th>...</th>\n",
       "      <th>endLongitude</th>\n",
       "      <th>tripRoute</th>\n",
       "      <th>create_dt</th>\n",
       "      <th>start</th>\n",
       "      <th>end</th>\n",
       "      <th>totaltime</th>\n",
       "      <th>seconds</th>\n",
       "      <th>hours</th>\n",
       "      <th>minutes</th>\n",
       "      <th>geometry</th>\n",
       "    </tr>\n",
       "  </thead>\n",
       "  <tbody>\n",
       "    <tr>\n",
       "      <th>0</th>\n",
       "      <td>0</td>\n",
       "      <td>2019-05-01 00:00:55.423000</td>\n",
       "      <td>Bird</td>\n",
       "      <td>BRD2134</td>\n",
       "      <td>Powered9EAJL</td>\n",
       "      <td>3.0000</td>\n",
       "      <td>958.00528</td>\n",
       "      <td>2019-05-01 00:00:00.000000</td>\n",
       "      <td>00:00:20.460000</td>\n",
       "      <td>2019-05-01 00:00:00.000000</td>\n",
       "      <td>...</td>\n",
       "      <td>-86.80670</td>\n",
       "      <td>36.157235,-86.803612,36.157235,-86.80362,36.15...</td>\n",
       "      <td>2019-05-02 05:30:23.780000</td>\n",
       "      <td>2019-05-01 00:00:20.460000</td>\n",
       "      <td>2019-05-01 00:02:52.346666</td>\n",
       "      <td>0 days 00:02:31.886666</td>\n",
       "      <td>151.886666</td>\n",
       "      <td>0</td>\n",
       "      <td>2.531444</td>\n",
       "      <td>POINT (-86.8036 36.1571)</td>\n",
       "    </tr>\n",
       "    <tr>\n",
       "      <th>1</th>\n",
       "      <td>1</td>\n",
       "      <td>2019-05-01 00:03:33.147000</td>\n",
       "      <td>Lyft</td>\n",
       "      <td>LFT5</td>\n",
       "      <td>Powered296631</td>\n",
       "      <td>1.7156</td>\n",
       "      <td>1371.39112</td>\n",
       "      <td>2019-05-01 00:00:00.000000</td>\n",
       "      <td>00:01:50.090000</td>\n",
       "      <td>2019-05-01 00:00:00.000000</td>\n",
       "      <td>...</td>\n",
       "      <td>-86.77689</td>\n",
       "      <td>36.15797,-86.77896,36.15795,-86.77873,36.15798...</td>\n",
       "      <td>2019-05-02 07:20:32.757000</td>\n",
       "      <td>2019-05-01 00:01:50.090000</td>\n",
       "      <td>2019-05-01 00:03:33.026666</td>\n",
       "      <td>0 days 00:01:42.936666</td>\n",
       "      <td>102.936666</td>\n",
       "      <td>0</td>\n",
       "      <td>1.715611</td>\n",
       "      <td>POINT (-86.77896 36.15797)</td>\n",
       "    </tr>\n",
       "    <tr>\n",
       "      <th>2</th>\n",
       "      <td>2</td>\n",
       "      <td>2019-05-01 00:05:55.570000</td>\n",
       "      <td>Bird</td>\n",
       "      <td>BRD2168</td>\n",
       "      <td>Powered7S2UU</td>\n",
       "      <td>3.0000</td>\n",
       "      <td>2296.58800</td>\n",
       "      <td>2019-05-01 00:00:00.000000</td>\n",
       "      <td>00:03:47.363333</td>\n",
       "      <td>2019-05-01 00:00:00.000000</td>\n",
       "      <td>...</td>\n",
       "      <td>-86.78680</td>\n",
       "      <td>36.155068,-86.782124,36.156597,-86.78675</td>\n",
       "      <td>2019-05-02 05:30:24.530000</td>\n",
       "      <td>2019-05-01 00:03:47.363333</td>\n",
       "      <td>2019-05-01 00:07:13.596666</td>\n",
       "      <td>0 days 00:03:26.233333</td>\n",
       "      <td>206.233333</td>\n",
       "      <td>0</td>\n",
       "      <td>3.437222</td>\n",
       "      <td>POINT (-86.7818 36.1547)</td>\n",
       "    </tr>\n",
       "  </tbody>\n",
       "</table>\n",
       "<p>3 rows × 24 columns</p>\n",
       "</div>"
      ],
      "text/plain": [
       "   Unnamed: 0                pubTimeStamp companyName tripRecordNum  \\\n",
       "0           0  2019-05-01 00:00:55.423000        Bird       BRD2134   \n",
       "1           1  2019-05-01 00:03:33.147000        Lyft          LFT5   \n",
       "2           2  2019-05-01 00:05:55.570000        Bird       BRD2168   \n",
       "\n",
       "          sumdID  tripDuration  tripDistance                   startDate  \\\n",
       "0   Powered9EAJL        3.0000     958.00528  2019-05-01 00:00:00.000000   \n",
       "1  Powered296631        1.7156    1371.39112  2019-05-01 00:00:00.000000   \n",
       "2   Powered7S2UU        3.0000    2296.58800  2019-05-01 00:00:00.000000   \n",
       "\n",
       "         startTime                     endDate  ... endLongitude  \\\n",
       "0  00:00:20.460000  2019-05-01 00:00:00.000000  ...    -86.80670   \n",
       "1  00:01:50.090000  2019-05-01 00:00:00.000000  ...    -86.77689   \n",
       "2  00:03:47.363333  2019-05-01 00:00:00.000000  ...    -86.78680   \n",
       "\n",
       "                                           tripRoute  \\\n",
       "0  36.157235,-86.803612,36.157235,-86.80362,36.15...   \n",
       "1  36.15797,-86.77896,36.15795,-86.77873,36.15798...   \n",
       "2           36.155068,-86.782124,36.156597,-86.78675   \n",
       "\n",
       "                    create_dt                       start  \\\n",
       "0  2019-05-02 05:30:23.780000  2019-05-01 00:00:20.460000   \n",
       "1  2019-05-02 07:20:32.757000  2019-05-01 00:01:50.090000   \n",
       "2  2019-05-02 05:30:24.530000  2019-05-01 00:03:47.363333   \n",
       "\n",
       "                          end               totaltime     seconds hours  \\\n",
       "0  2019-05-01 00:02:52.346666  0 days 00:02:31.886666  151.886666     0   \n",
       "1  2019-05-01 00:03:33.026666  0 days 00:01:42.936666  102.936666     0   \n",
       "2  2019-05-01 00:07:13.596666  0 days 00:03:26.233333  206.233333     0   \n",
       "\n",
       "    minutes                    geometry  \n",
       "0  2.531444    POINT (-86.8036 36.1571)  \n",
       "1  1.715611  POINT (-86.77896 36.15797)  \n",
       "2  3.437222    POINT (-86.7818 36.1547)  \n",
       "\n",
       "[3 rows x 24 columns]"
      ]
     },
     "execution_count": 10,
     "metadata": {},
     "output_type": "execute_result"
    }
   ],
   "source": [
    "may_trip_clean['geometry'] = may_trip_clean.apply(lambda x: Point((x.startLongitude, \n",
    "                                                         x.startLatitude)), \n",
    "                                        axis=1)\n",
    "may_trip_clean.head(3)"
   ]
  },
  {
   "cell_type": "code",
   "execution_count": 11,
   "id": "320e3b41",
   "metadata": {},
   "outputs": [],
   "source": [
    "may_trip_clean_geo = gpd.GeoDataFrame(may_trip_clean, \n",
    "                           crs = promise_zones.crs, \n",
    "                           geometry = may_trip_clean['geometry'])"
   ]
  },
  {
   "cell_type": "code",
   "execution_count": 12,
   "id": "2543e721",
   "metadata": {},
   "outputs": [],
   "source": [
    "may_trip_clean_pro_start = gpd.sjoin(may_trip_clean_geo, promise_zones, op = 'within')"
   ]
  },
  {
   "cell_type": "code",
   "execution_count": 13,
   "id": "c5cfbe30",
   "metadata": {},
   "outputs": [
    {
     "data": {
      "text/html": [
       "<div>\n",
       "<style scoped>\n",
       "    .dataframe tbody tr th:only-of-type {\n",
       "        vertical-align: middle;\n",
       "    }\n",
       "\n",
       "    .dataframe tbody tr th {\n",
       "        vertical-align: top;\n",
       "    }\n",
       "\n",
       "    .dataframe thead th {\n",
       "        text-align: right;\n",
       "    }\n",
       "</style>\n",
       "<table border=\"1\" class=\"dataframe\">\n",
       "  <thead>\n",
       "    <tr style=\"text-align: right;\">\n",
       "      <th></th>\n",
       "      <th>Unnamed: 0</th>\n",
       "      <th>pubTimeStamp</th>\n",
       "      <th>companyName</th>\n",
       "      <th>tripRecordNum</th>\n",
       "      <th>sumdID</th>\n",
       "      <th>tripDuration</th>\n",
       "      <th>tripDistance</th>\n",
       "      <th>startDate</th>\n",
       "      <th>startTime</th>\n",
       "      <th>endDate</th>\n",
       "      <th>...</th>\n",
       "      <th>totaltime</th>\n",
       "      <th>seconds</th>\n",
       "      <th>hours</th>\n",
       "      <th>minutes</th>\n",
       "      <th>geometry</th>\n",
       "      <th>index_right</th>\n",
       "      <th>OBJECTID</th>\n",
       "      <th>ZONE_ID</th>\n",
       "      <th>SHAPE_STAr</th>\n",
       "      <th>SHAPE_STLe</th>\n",
       "    </tr>\n",
       "  </thead>\n",
       "  <tbody>\n",
       "    <tr>\n",
       "      <th>0</th>\n",
       "      <td>0</td>\n",
       "      <td>2019-05-01 00:00:55.423000</td>\n",
       "      <td>Bird</td>\n",
       "      <td>BRD2134</td>\n",
       "      <td>Powered9EAJL</td>\n",
       "      <td>3.000000</td>\n",
       "      <td>958.00528</td>\n",
       "      <td>2019-05-01 00:00:00.000000</td>\n",
       "      <td>00:00:20.460000</td>\n",
       "      <td>2019-05-01 00:00:00.000000</td>\n",
       "      <td>...</td>\n",
       "      <td>0 days 00:02:31.886666</td>\n",
       "      <td>151.886666</td>\n",
       "      <td>0</td>\n",
       "      <td>2.531444</td>\n",
       "      <td>POINT (-86.80360 36.15710)</td>\n",
       "      <td>4</td>\n",
       "      <td>5</td>\n",
       "      <td>5</td>\n",
       "      <td>3.928178e+08</td>\n",
       "      <td>106661.712102</td>\n",
       "    </tr>\n",
       "    <tr>\n",
       "      <th>4</th>\n",
       "      <td>4</td>\n",
       "      <td>2019-05-01 00:05:55.570000</td>\n",
       "      <td>Bird</td>\n",
       "      <td>BRD2165</td>\n",
       "      <td>PoweredJ7MB3</td>\n",
       "      <td>2.000000</td>\n",
       "      <td>351.04988</td>\n",
       "      <td>2019-05-01 00:00:00.000000</td>\n",
       "      <td>00:04:27.796666</td>\n",
       "      <td>2019-05-01 00:00:00.000000</td>\n",
       "      <td>...</td>\n",
       "      <td>0 days 00:01:55.353334</td>\n",
       "      <td>115.353334</td>\n",
       "      <td>0</td>\n",
       "      <td>1.922556</td>\n",
       "      <td>POINT (-86.78660 36.17780)</td>\n",
       "      <td>4</td>\n",
       "      <td>5</td>\n",
       "      <td>5</td>\n",
       "      <td>3.928178e+08</td>\n",
       "      <td>106661.712102</td>\n",
       "    </tr>\n",
       "    <tr>\n",
       "      <th>8</th>\n",
       "      <td>8</td>\n",
       "      <td>2019-05-01 00:10:56.013000</td>\n",
       "      <td>Bird</td>\n",
       "      <td>BRD2193</td>\n",
       "      <td>PoweredSX2AW</td>\n",
       "      <td>6.000000</td>\n",
       "      <td>2624.67200</td>\n",
       "      <td>2019-05-01 00:00:00.000000</td>\n",
       "      <td>00:06:34.436666</td>\n",
       "      <td>2019-05-01 00:00:00.000000</td>\n",
       "      <td>...</td>\n",
       "      <td>0 days 00:06:14.240000</td>\n",
       "      <td>374.240000</td>\n",
       "      <td>0</td>\n",
       "      <td>6.237333</td>\n",
       "      <td>POINT (-86.78930 36.17080)</td>\n",
       "      <td>4</td>\n",
       "      <td>5</td>\n",
       "      <td>5</td>\n",
       "      <td>3.928178e+08</td>\n",
       "      <td>106661.712102</td>\n",
       "    </tr>\n",
       "    <tr>\n",
       "      <th>27</th>\n",
       "      <td>27</td>\n",
       "      <td>2019-05-01 00:15:55.977000</td>\n",
       "      <td>Bird</td>\n",
       "      <td>BRD2212</td>\n",
       "      <td>PoweredVGMWJ</td>\n",
       "      <td>10.000000</td>\n",
       "      <td>5249.34400</td>\n",
       "      <td>2019-05-01 00:00:00.000000</td>\n",
       "      <td>00:07:07.963333</td>\n",
       "      <td>2019-05-01 00:00:00.000000</td>\n",
       "      <td>...</td>\n",
       "      <td>0 days 00:09:50.800000</td>\n",
       "      <td>590.800000</td>\n",
       "      <td>0</td>\n",
       "      <td>9.846667</td>\n",
       "      <td>POINT (-86.78470 36.17650)</td>\n",
       "      <td>4</td>\n",
       "      <td>5</td>\n",
       "      <td>5</td>\n",
       "      <td>3.928178e+08</td>\n",
       "      <td>106661.712102</td>\n",
       "    </tr>\n",
       "    <tr>\n",
       "      <th>48</th>\n",
       "      <td>48</td>\n",
       "      <td>2019-05-01 00:25:34</td>\n",
       "      <td>Lyft</td>\n",
       "      <td>LFT42</td>\n",
       "      <td>Powered906727</td>\n",
       "      <td>14.803383</td>\n",
       "      <td>2004.59324</td>\n",
       "      <td>2019-05-01 00:00:00.000000</td>\n",
       "      <td>00:10:45.676666</td>\n",
       "      <td>2019-05-01 00:00:00.000000</td>\n",
       "      <td>...</td>\n",
       "      <td>0 days 00:14:48.203334</td>\n",
       "      <td>888.203334</td>\n",
       "      <td>0</td>\n",
       "      <td>14.803389</td>\n",
       "      <td>POINT (-86.79429 36.17546)</td>\n",
       "      <td>4</td>\n",
       "      <td>5</td>\n",
       "      <td>5</td>\n",
       "      <td>3.928178e+08</td>\n",
       "      <td>106661.712102</td>\n",
       "    </tr>\n",
       "  </tbody>\n",
       "</table>\n",
       "<p>5 rows × 29 columns</p>\n",
       "</div>"
      ],
      "text/plain": [
       "    Unnamed: 0                pubTimeStamp companyName tripRecordNum  \\\n",
       "0            0  2019-05-01 00:00:55.423000        Bird       BRD2134   \n",
       "4            4  2019-05-01 00:05:55.570000        Bird       BRD2165   \n",
       "8            8  2019-05-01 00:10:56.013000        Bird       BRD2193   \n",
       "27          27  2019-05-01 00:15:55.977000        Bird       BRD2212   \n",
       "48          48         2019-05-01 00:25:34        Lyft         LFT42   \n",
       "\n",
       "           sumdID  tripDuration  tripDistance                   startDate  \\\n",
       "0    Powered9EAJL      3.000000     958.00528  2019-05-01 00:00:00.000000   \n",
       "4    PoweredJ7MB3      2.000000     351.04988  2019-05-01 00:00:00.000000   \n",
       "8    PoweredSX2AW      6.000000    2624.67200  2019-05-01 00:00:00.000000   \n",
       "27   PoweredVGMWJ     10.000000    5249.34400  2019-05-01 00:00:00.000000   \n",
       "48  Powered906727     14.803383    2004.59324  2019-05-01 00:00:00.000000   \n",
       "\n",
       "          startTime                     endDate  ...               totaltime  \\\n",
       "0   00:00:20.460000  2019-05-01 00:00:00.000000  ...  0 days 00:02:31.886666   \n",
       "4   00:04:27.796666  2019-05-01 00:00:00.000000  ...  0 days 00:01:55.353334   \n",
       "8   00:06:34.436666  2019-05-01 00:00:00.000000  ...  0 days 00:06:14.240000   \n",
       "27  00:07:07.963333  2019-05-01 00:00:00.000000  ...  0 days 00:09:50.800000   \n",
       "48  00:10:45.676666  2019-05-01 00:00:00.000000  ...  0 days 00:14:48.203334   \n",
       "\n",
       "       seconds  hours    minutes                    geometry index_right  \\\n",
       "0   151.886666      0   2.531444  POINT (-86.80360 36.15710)           4   \n",
       "4   115.353334      0   1.922556  POINT (-86.78660 36.17780)           4   \n",
       "8   374.240000      0   6.237333  POINT (-86.78930 36.17080)           4   \n",
       "27  590.800000      0   9.846667  POINT (-86.78470 36.17650)           4   \n",
       "48  888.203334      0  14.803389  POINT (-86.79429 36.17546)           4   \n",
       "\n",
       "   OBJECTID ZONE_ID    SHAPE_STAr     SHAPE_STLe  \n",
       "0         5       5  3.928178e+08  106661.712102  \n",
       "4         5       5  3.928178e+08  106661.712102  \n",
       "8         5       5  3.928178e+08  106661.712102  \n",
       "27        5       5  3.928178e+08  106661.712102  \n",
       "48        5       5  3.928178e+08  106661.712102  \n",
       "\n",
       "[5 rows x 29 columns]"
      ]
     },
     "execution_count": 13,
     "metadata": {},
     "output_type": "execute_result"
    }
   ],
   "source": [
    "may_trip_clean_pro_start.head()"
   ]
  },
  {
   "cell_type": "code",
   "execution_count": 14,
   "id": "1bb5fe30",
   "metadata": {},
   "outputs": [
    {
     "data": {
      "text/plain": [
       "<bound method IndexOpsMixin.value_counts of 0                 Powered9EAJL\n",
       "1                Powered296631\n",
       "2                 Powered7S2UU\n",
       "3                 PoweredZIIVX\n",
       "4                 PoweredJ7MB3\n",
       "                  ...         \n",
       "220382    Powered2OFHK7WJJGPSG\n",
       "220383    PoweredJ6OI7QJIK4NO2\n",
       "220384    PoweredQDVYGLDL6ZQDU\n",
       "220385    PoweredH5HCTZB5WVABT\n",
       "220386    PoweredFXC5KHVLI3T7C\n",
       "Name: sumdID, Length: 220387, dtype: object>"
      ]
     },
     "execution_count": 14,
     "metadata": {},
     "output_type": "execute_result"
    }
   ],
   "source": [
    "may_trip_clean_geo['sumdID'].value_counts"
   ]
  },
  {
   "cell_type": "code",
   "execution_count": 15,
   "id": "b8dde2dd",
   "metadata": {},
   "outputs": [
    {
     "data": {
      "text/html": [
       "<div>\n",
       "<style scoped>\n",
       "    .dataframe tbody tr th:only-of-type {\n",
       "        vertical-align: middle;\n",
       "    }\n",
       "\n",
       "    .dataframe tbody tr th {\n",
       "        vertical-align: top;\n",
       "    }\n",
       "\n",
       "    .dataframe thead th {\n",
       "        text-align: right;\n",
       "    }\n",
       "</style>\n",
       "<table border=\"1\" class=\"dataframe\">\n",
       "  <thead>\n",
       "    <tr style=\"text-align: right;\">\n",
       "      <th></th>\n",
       "      <th>sumdID</th>\n",
       "    </tr>\n",
       "    <tr>\n",
       "      <th>companyName</th>\n",
       "      <th></th>\n",
       "    </tr>\n",
       "  </thead>\n",
       "  <tbody>\n",
       "    <tr>\n",
       "      <th>Bird</th>\n",
       "      <td>2937</td>\n",
       "    </tr>\n",
       "    <tr>\n",
       "      <th>Bolt Mobility</th>\n",
       "      <td>341</td>\n",
       "    </tr>\n",
       "    <tr>\n",
       "      <th>Gotcha</th>\n",
       "      <td>105</td>\n",
       "    </tr>\n",
       "    <tr>\n",
       "      <th>JUMP</th>\n",
       "      <td>1</td>\n",
       "    </tr>\n",
       "    <tr>\n",
       "      <th>Lime</th>\n",
       "      <td>1576</td>\n",
       "    </tr>\n",
       "    <tr>\n",
       "      <th>Lyft</th>\n",
       "      <td>1359</td>\n",
       "    </tr>\n",
       "    <tr>\n",
       "      <th>SPIN</th>\n",
       "      <td>636</td>\n",
       "    </tr>\n",
       "  </tbody>\n",
       "</table>\n",
       "</div>"
      ],
      "text/plain": [
       "               sumdID\n",
       "companyName          \n",
       "Bird             2937\n",
       "Bolt Mobility     341\n",
       "Gotcha            105\n",
       "JUMP                1\n",
       "Lime             1576\n",
       "Lyft             1359\n",
       "SPIN              636"
      ]
     },
     "execution_count": 15,
     "metadata": {},
     "output_type": "execute_result"
    }
   ],
   "source": [
    "may_grouped2 = may_trip_clean_geo.groupby(\"companyName\")\n",
    "\n",
    "may_grouped2 = may_grouped2.agg({\"sumdID\": \"nunique\"})\n",
    "\n",
    "may_grouped2"
   ]
  },
  {
   "cell_type": "code",
   "execution_count": 19,
   "id": "7030183a",
   "metadata": {},
   "outputs": [
    {
     "data": {
      "text/plain": [
       "6955"
      ]
     },
     "execution_count": 19,
     "metadata": {},
     "output_type": "execute_result"
    }
   ],
   "source": [
    "2937+341+105+1+1576+1359+636"
   ]
  },
  {
   "cell_type": "code",
   "execution_count": 20,
   "id": "152644a0",
   "metadata": {},
   "outputs": [
    {
     "data": {
      "text/plain": [
       "31.687562904385334"
      ]
     },
     "execution_count": 20,
     "metadata": {},
     "output_type": "execute_result"
    }
   ],
   "source": [
    "220387/6955"
   ]
  },
  {
   "cell_type": "code",
   "execution_count": 25,
   "id": "d0add779",
   "metadata": {},
   "outputs": [
    {
     "ename": "KeyError",
     "evalue": "'companyName'",
     "output_type": "error",
     "traceback": [
      "\u001b[1;31m---------------------------------------------------------------------------\u001b[0m",
      "\u001b[1;31mKeyError\u001b[0m                                  Traceback (most recent call last)",
      "\u001b[1;32m~\\anaconda3\\envs\\geospatial\\lib\\site-packages\\pandas\\core\\indexes\\base.py\u001b[0m in \u001b[0;36mget_loc\u001b[1;34m(self, key, method, tolerance)\u001b[0m\n\u001b[0;32m   3360\u001b[0m             \u001b[1;32mtry\u001b[0m\u001b[1;33m:\u001b[0m\u001b[1;33m\u001b[0m\u001b[1;33m\u001b[0m\u001b[0m\n\u001b[1;32m-> 3361\u001b[1;33m                 \u001b[1;32mreturn\u001b[0m \u001b[0mself\u001b[0m\u001b[1;33m.\u001b[0m\u001b[0m_engine\u001b[0m\u001b[1;33m.\u001b[0m\u001b[0mget_loc\u001b[0m\u001b[1;33m(\u001b[0m\u001b[0mcasted_key\u001b[0m\u001b[1;33m)\u001b[0m\u001b[1;33m\u001b[0m\u001b[1;33m\u001b[0m\u001b[0m\n\u001b[0m\u001b[0;32m   3362\u001b[0m             \u001b[1;32mexcept\u001b[0m \u001b[0mKeyError\u001b[0m \u001b[1;32mas\u001b[0m \u001b[0merr\u001b[0m\u001b[1;33m:\u001b[0m\u001b[1;33m\u001b[0m\u001b[1;33m\u001b[0m\u001b[0m\n",
      "\u001b[1;32m~\\anaconda3\\envs\\geospatial\\lib\\site-packages\\pandas\\_libs\\index.pyx\u001b[0m in \u001b[0;36mpandas._libs.index.IndexEngine.get_loc\u001b[1;34m()\u001b[0m\n",
      "\u001b[1;32m~\\anaconda3\\envs\\geospatial\\lib\\site-packages\\pandas\\_libs\\index.pyx\u001b[0m in \u001b[0;36mpandas._libs.index.IndexEngine.get_loc\u001b[1;34m()\u001b[0m\n",
      "\u001b[1;32mpandas\\_libs\\hashtable_class_helper.pxi\u001b[0m in \u001b[0;36mpandas._libs.hashtable.PyObjectHashTable.get_item\u001b[1;34m()\u001b[0m\n",
      "\u001b[1;32mpandas\\_libs\\hashtable_class_helper.pxi\u001b[0m in \u001b[0;36mpandas._libs.hashtable.PyObjectHashTable.get_item\u001b[1;34m()\u001b[0m\n",
      "\u001b[1;31mKeyError\u001b[0m: 'companyName'",
      "\nThe above exception was the direct cause of the following exception:\n",
      "\u001b[1;31mKeyError\u001b[0m                                  Traceback (most recent call last)",
      "\u001b[1;32m~\\AppData\\Local\\Temp/ipykernel_17964/1988965154.py\u001b[0m in \u001b[0;36m<module>\u001b[1;34m\u001b[0m\n\u001b[1;32m----> 1\u001b[1;33m \u001b[0mefficiency\u001b[0m \u001b[1;33m=\u001b[0m \u001b[0mmay_grouped2\u001b[0m\u001b[1;33m[\u001b[0m\u001b[1;34m'companyName'\u001b[0m\u001b[1;33m]\u001b[0m\u001b[1;33m\u001b[0m\u001b[1;33m\u001b[0m\u001b[0m\n\u001b[0m",
      "\u001b[1;32m~\\anaconda3\\envs\\geospatial\\lib\\site-packages\\pandas\\core\\frame.py\u001b[0m in \u001b[0;36m__getitem__\u001b[1;34m(self, key)\u001b[0m\n\u001b[0;32m   3456\u001b[0m             \u001b[1;32mif\u001b[0m \u001b[0mself\u001b[0m\u001b[1;33m.\u001b[0m\u001b[0mcolumns\u001b[0m\u001b[1;33m.\u001b[0m\u001b[0mnlevels\u001b[0m \u001b[1;33m>\u001b[0m \u001b[1;36m1\u001b[0m\u001b[1;33m:\u001b[0m\u001b[1;33m\u001b[0m\u001b[1;33m\u001b[0m\u001b[0m\n\u001b[0;32m   3457\u001b[0m                 \u001b[1;32mreturn\u001b[0m \u001b[0mself\u001b[0m\u001b[1;33m.\u001b[0m\u001b[0m_getitem_multilevel\u001b[0m\u001b[1;33m(\u001b[0m\u001b[0mkey\u001b[0m\u001b[1;33m)\u001b[0m\u001b[1;33m\u001b[0m\u001b[1;33m\u001b[0m\u001b[0m\n\u001b[1;32m-> 3458\u001b[1;33m             \u001b[0mindexer\u001b[0m \u001b[1;33m=\u001b[0m \u001b[0mself\u001b[0m\u001b[1;33m.\u001b[0m\u001b[0mcolumns\u001b[0m\u001b[1;33m.\u001b[0m\u001b[0mget_loc\u001b[0m\u001b[1;33m(\u001b[0m\u001b[0mkey\u001b[0m\u001b[1;33m)\u001b[0m\u001b[1;33m\u001b[0m\u001b[1;33m\u001b[0m\u001b[0m\n\u001b[0m\u001b[0;32m   3459\u001b[0m             \u001b[1;32mif\u001b[0m \u001b[0mis_integer\u001b[0m\u001b[1;33m(\u001b[0m\u001b[0mindexer\u001b[0m\u001b[1;33m)\u001b[0m\u001b[1;33m:\u001b[0m\u001b[1;33m\u001b[0m\u001b[1;33m\u001b[0m\u001b[0m\n\u001b[0;32m   3460\u001b[0m                 \u001b[0mindexer\u001b[0m \u001b[1;33m=\u001b[0m \u001b[1;33m[\u001b[0m\u001b[0mindexer\u001b[0m\u001b[1;33m]\u001b[0m\u001b[1;33m\u001b[0m\u001b[1;33m\u001b[0m\u001b[0m\n",
      "\u001b[1;32m~\\anaconda3\\envs\\geospatial\\lib\\site-packages\\pandas\\core\\indexes\\base.py\u001b[0m in \u001b[0;36mget_loc\u001b[1;34m(self, key, method, tolerance)\u001b[0m\n\u001b[0;32m   3361\u001b[0m                 \u001b[1;32mreturn\u001b[0m \u001b[0mself\u001b[0m\u001b[1;33m.\u001b[0m\u001b[0m_engine\u001b[0m\u001b[1;33m.\u001b[0m\u001b[0mget_loc\u001b[0m\u001b[1;33m(\u001b[0m\u001b[0mcasted_key\u001b[0m\u001b[1;33m)\u001b[0m\u001b[1;33m\u001b[0m\u001b[1;33m\u001b[0m\u001b[0m\n\u001b[0;32m   3362\u001b[0m             \u001b[1;32mexcept\u001b[0m \u001b[0mKeyError\u001b[0m \u001b[1;32mas\u001b[0m \u001b[0merr\u001b[0m\u001b[1;33m:\u001b[0m\u001b[1;33m\u001b[0m\u001b[1;33m\u001b[0m\u001b[0m\n\u001b[1;32m-> 3363\u001b[1;33m                 \u001b[1;32mraise\u001b[0m \u001b[0mKeyError\u001b[0m\u001b[1;33m(\u001b[0m\u001b[0mkey\u001b[0m\u001b[1;33m)\u001b[0m \u001b[1;32mfrom\u001b[0m \u001b[0merr\u001b[0m\u001b[1;33m\u001b[0m\u001b[1;33m\u001b[0m\u001b[0m\n\u001b[0m\u001b[0;32m   3364\u001b[0m \u001b[1;33m\u001b[0m\u001b[0m\n\u001b[0;32m   3365\u001b[0m         \u001b[1;32mif\u001b[0m \u001b[0mis_scalar\u001b[0m\u001b[1;33m(\u001b[0m\u001b[0mkey\u001b[0m\u001b[1;33m)\u001b[0m \u001b[1;32mand\u001b[0m \u001b[0misna\u001b[0m\u001b[1;33m(\u001b[0m\u001b[0mkey\u001b[0m\u001b[1;33m)\u001b[0m \u001b[1;32mand\u001b[0m \u001b[1;32mnot\u001b[0m \u001b[0mself\u001b[0m\u001b[1;33m.\u001b[0m\u001b[0mhasnans\u001b[0m\u001b[1;33m:\u001b[0m\u001b[1;33m\u001b[0m\u001b[1;33m\u001b[0m\u001b[0m\n",
      "\u001b[1;31mKeyError\u001b[0m: 'companyName'"
     ]
    }
   ],
   "source": [
    "efficiency = may_grouped2['companyName']"
   ]
  },
  {
   "cell_type": "code",
   "execution_count": 26,
   "id": "16b8fc54",
   "metadata": {},
   "outputs": [
    {
     "data": {
      "text/html": [
       "<div>\n",
       "<style scoped>\n",
       "    .dataframe tbody tr th:only-of-type {\n",
       "        vertical-align: middle;\n",
       "    }\n",
       "\n",
       "    .dataframe tbody tr th {\n",
       "        vertical-align: top;\n",
       "    }\n",
       "\n",
       "    .dataframe thead th {\n",
       "        text-align: right;\n",
       "    }\n",
       "</style>\n",
       "<table border=\"1\" class=\"dataframe\">\n",
       "  <thead>\n",
       "    <tr style=\"text-align: right;\">\n",
       "      <th></th>\n",
       "      <th>sumdID</th>\n",
       "    </tr>\n",
       "    <tr>\n",
       "      <th>ZONE_ID</th>\n",
       "      <th></th>\n",
       "    </tr>\n",
       "  </thead>\n",
       "  <tbody>\n",
       "    <tr>\n",
       "      <th>1</th>\n",
       "      <td>4368</td>\n",
       "    </tr>\n",
       "    <tr>\n",
       "      <th>2</th>\n",
       "      <td>3543</td>\n",
       "    </tr>\n",
       "    <tr>\n",
       "      <th>3</th>\n",
       "      <td>417</td>\n",
       "    </tr>\n",
       "    <tr>\n",
       "      <th>4</th>\n",
       "      <td>96</td>\n",
       "    </tr>\n",
       "    <tr>\n",
       "      <th>5</th>\n",
       "      <td>4135</td>\n",
       "    </tr>\n",
       "    <tr>\n",
       "      <th>6</th>\n",
       "      <td>38</td>\n",
       "    </tr>\n",
       "  </tbody>\n",
       "</table>\n",
       "</div>"
      ],
      "text/plain": [
       "         sumdID\n",
       "ZONE_ID        \n",
       "1          4368\n",
       "2          3543\n",
       "3           417\n",
       "4            96\n",
       "5          4135\n",
       "6            38"
      ]
     },
     "execution_count": 26,
     "metadata": {},
     "output_type": "execute_result"
    }
   ],
   "source": [
    "sumdid_by_zone = may_trip_clean_pro_start.groupby(\"ZONE_ID\")\n",
    "\n",
    "sumdid_by_zone = sumdid_by_zone.agg({\"sumdID\": \"nunique\"})\n",
    "\n",
    "sumdid_by_zone"
   ]
  },
  {
   "cell_type": "code",
   "execution_count": 27,
   "id": "51442bc0",
   "metadata": {},
   "outputs": [
    {
     "data": {
      "text/plain": [
       "ZONE_ID\n",
       "1    15643\n",
       "2    14854\n",
       "3      653\n",
       "4      170\n",
       "5    14349\n",
       "6       57\n",
       "dtype: int64"
      ]
     },
     "execution_count": 27,
     "metadata": {},
     "output_type": "execute_result"
    }
   ],
   "source": [
    "trips_by_zone = may_trip_clean_pro_start.groupby('ZONE_ID').size()\n",
    "trips_by_zone"
   ]
  },
  {
   "cell_type": "code",
   "execution_count": 28,
   "id": "7f824bca",
   "metadata": {},
   "outputs": [
    {
     "data": {
      "text/plain": [
       "31150"
      ]
     },
     "execution_count": 28,
     "metadata": {},
     "output_type": "execute_result"
    }
   ],
   "source": [
    "15643+14854+653"
   ]
  },
  {
   "cell_type": "code",
   "execution_count": 29,
   "id": "db4933a4",
   "metadata": {},
   "outputs": [
    {
     "data": {
      "text/plain": [
       "0.11552493205719012"
      ]
     },
     "execution_count": 29,
     "metadata": {},
     "output_type": "execute_result"
    }
   ],
   "source": [
    "zone1 = 15643/4368/31\n",
    "zone1"
   ]
  },
  {
   "cell_type": "code",
   "execution_count": 30,
   "id": "0a4775a5",
   "metadata": {},
   "outputs": [
    {
     "data": {
      "text/plain": [
       "0.13524168510374843"
      ]
     },
     "execution_count": 30,
     "metadata": {},
     "output_type": "execute_result"
    }
   ],
   "source": [
    "zone2 = 14854/3543/31\n",
    "zone2"
   ]
  },
  {
   "cell_type": "code",
   "execution_count": 31,
   "id": "eca12b2c",
   "metadata": {},
   "outputs": [
    {
     "data": {
      "text/plain": [
       "0.05051442716794306"
      ]
     },
     "execution_count": 31,
     "metadata": {},
     "output_type": "execute_result"
    }
   ],
   "source": [
    "zone3 = 653/417/31\n",
    "zone3"
   ]
  },
  {
   "cell_type": "code",
   "execution_count": null,
   "id": "1c36ea0b",
   "metadata": {},
   "outputs": [],
   "source": []
  },
  {
   "cell_type": "code",
   "execution_count": 32,
   "id": "b0bedbc7",
   "metadata": {},
   "outputs": [],
   "source": [
    "d = {'companyName': ['Bird','Bolt Mobility', 'Gotcha', 'Lime','Lyft', 'SPIN'], 'avg_rides_per_scooter_per_day': [.56, .46, .20,2.10,1.24,.43]}\n",
    "company_efficiency = pd.DataFrame(data=d)\n",
    "company_efficiency = company_efficiency.sort_values(by=['avg_rides_per_scooter_per_day'], ascending=False)"
   ]
  },
  {
   "cell_type": "code",
   "execution_count": 33,
   "id": "53e58fba",
   "metadata": {},
   "outputs": [
    {
     "data": {
      "text/plain": [
       "<AxesSubplot:xlabel='companyName'>"
      ]
     },
     "execution_count": 33,
     "metadata": {},
     "output_type": "execute_result"
    },
    {
     "data": {
      "image/png": "[encoded data removed]",
      "text/plain": [
       "<Figure size 432x288 with 1 Axes>"
      ]
     },
     "metadata": {
      "needs_background": "light"
     },
     "output_type": "display_data"
    }
   ],
   "source": [
    "company_efficiency.plot.bar(x = 'companyName')"
   ]
  },
  {
   "cell_type": "code",
   "execution_count": null,
   "id": "4f6fde56",
   "metadata": {},
   "outputs": [],
   "source": []
  },
  {
   "cell_type": "code",
   "execution_count": 34,
   "id": "93183bf4",
   "metadata": {},
   "outputs": [
    {
     "data": {
      "text/plain": [
       "companyName\n",
       "Bird              51236\n",
       "Bolt Mobility      4847\n",
       "Gotcha              650\n",
       "JUMP                593\n",
       "Lime             102569\n",
       "Lyft              52036\n",
       "SPIN               8456\n",
       "dtype: int64"
      ]
     },
     "execution_count": 34,
     "metadata": {},
     "output_type": "execute_result"
    }
   ],
   "source": [
    "trips = may_trip_clean_geo.groupby('companyName').size()\n",
    "\n",
    "trips"
   ]
  },
  {
   "cell_type": "code",
   "execution_count": null,
   "id": "4214d532",
   "metadata": {},
   "outputs": [],
   "source": []
  },
  {
   "cell_type": "code",
   "execution_count": 35,
   "id": "8f075cd0",
   "metadata": {},
   "outputs": [
    {
     "data": {
      "text/plain": [
       "220387"
      ]
     },
     "execution_count": 35,
     "metadata": {},
     "output_type": "execute_result"
    }
   ],
   "source": [
    "total_rides = 51236+4847+650+593+102569+52036+8456\n",
    "\n",
    "total_rides"
   ]
  },
  {
   "cell_type": "code",
   "execution_count": null,
   "id": "43dfd493",
   "metadata": {},
   "outputs": [],
   "source": []
  },
  {
   "cell_type": "code",
   "execution_count": null,
   "id": "6f8eed61",
   "metadata": {},
   "outputs": [],
   "source": []
  },
  {
   "cell_type": "code",
   "execution_count": null,
   "id": "6c894137",
   "metadata": {},
   "outputs": [],
   "source": [
    "total_scooters= 2937+341+105+z"
   ]
  },
  {
   "cell_type": "code",
   "execution_count": null,
   "id": "41792210",
   "metadata": {},
   "outputs": [],
   "source": [
    "zz"
   ]
  },
  {
   "cell_type": "code",
   "execution_count": null,
   "id": "680ab8d4",
   "metadata": {},
   "outputs": [],
   "source": [
    "bird_efficiency = 51236/2937/31\n",
    "\n",
    "bird_efficiency"
   ]
  },
  {
   "cell_type": "code",
   "execution_count": null,
   "id": "27f140f2",
   "metadata": {},
   "outputs": [],
   "source": [
    "bolt_efficiency = 4847/341/31\n",
    "\n",
    "bolt_efficiency"
   ]
  },
  {
   "cell_type": "code",
   "execution_count": null,
   "id": "d06914be",
   "metadata": {},
   "outputs": [],
   "source": [
    "gotcha_efficiency =650/105/31\n",
    "\n",
    "gotcha_efficiency\n"
   ]
  },
  {
   "cell_type": "code",
   "execution_count": null,
   "id": "bdff3c76",
   "metadata": {},
   "outputs": [],
   "source": [
    "jump_efficiency = 593/1/31\n",
    "\n",
    "jump_efficiency\n"
   ]
  },
  {
   "cell_type": "code",
   "execution_count": null,
   "id": "c38712a8",
   "metadata": {},
   "outputs": [],
   "source": [
    "jump_scooters = may_trip_clean_geo.loc[may_trip_clean_geo['companyName'] == 'JUMP']\n",
    "\n",
    "jump_scooters"
   ]
  },
  {
   "cell_type": "code",
   "execution_count": null,
   "id": "245e1816",
   "metadata": {},
   "outputs": [],
   "source": [
    "lime_efficiency = 102569/1576/31\n",
    "\n",
    "lime_efficiency"
   ]
  },
  {
   "cell_type": "code",
   "execution_count": null,
   "id": "05fc20a7",
   "metadata": {},
   "outputs": [],
   "source": [
    "lyft_efficiency = 52036/1359/31\n",
    "\n",
    "lyft_efficiency"
   ]
  },
  {
   "cell_type": "code",
   "execution_count": null,
   "id": "42ced6d7",
   "metadata": {},
   "outputs": [],
   "source": [
    "spin_efficiency = 8456/636/31\n",
    "\n",
    "spin_efficiency"
   ]
  },
  {
   "cell_type": "code",
   "execution_count": null,
   "id": "035a14bf",
   "metadata": {},
   "outputs": [],
   "source": []
  },
  {
   "cell_type": "code",
   "execution_count": null,
   "id": "0eb6d84b",
   "metadata": {},
   "outputs": [],
   "source": []
  },
  {
   "cell_type": "code",
   "execution_count": null,
   "id": "534ceb5d",
   "metadata": {},
   "outputs": [],
   "source": [
    "may_trip_clean_geo_3 = may_trip_clean_geo[(may_trip_clean_geo[''] == 22)"
   ]
  },
  {
   "cell_type": "code",
   "execution_count": null,
   "id": "8bfa7abb",
   "metadata": {},
   "outputs": [],
   "source": [
    "may_trip_clean_geo['number_of_trips'] = if sum(may_trip_clean_geo['sumdid'] >= 3, 'efficient'"
   ]
  },
  {
   "cell_type": "code",
   "execution_count": null,
   "id": "ff85c186",
   "metadata": {},
   "outputs": [],
   "source": [
    "may_trip_clean_geo['number_of_trips'] = np.where(sum(may_trip_clean_geo['sumdID']) >=3, may_trip_clean_geo['efficient'],\\ \n",
    "        np.where(sum(may_trip_clean_geo['sumdID']) <3, may_trip_clean_geo['not_effecient'],\\\n"
   ]
  },
  {
   "cell_type": "code",
   "execution_count": null,
   "id": "64cac435",
   "metadata": {},
   "outputs": [],
   "source": [
    "print(\"Count of students with physics marks greater than 11 is->\",\n",
    "      dataframe[dataframe['Physics'] > 11]['Name'].count())"
   ]
  },
  {
   "cell_type": "code",
   "execution_count": null,
   "id": "7eb3092d",
   "metadata": {},
   "outputs": [],
   "source": [
    "value_counts = may_trip_clean_geo['sumdID'].value_counts()\n",
    "\n",
    "value_counts\n"
   ]
  },
  {
   "cell_type": "code",
   "execution_count": null,
   "id": "5cb9a947",
   "metadata": {},
   "outputs": [],
   "source": [
    "print(value_counts[value_counts > 2].index[0])"
   ]
  },
  {
   "cell_type": "code",
   "execution_count": null,
   "id": "6ce76361",
   "metadata": {},
   "outputs": [],
   "source": [
    "may_trip_clean_geo['number_of_trips'] = if sum(may_trip_clean_geo['sumdid'].value_counts() >= 3, 'efficient')\n",
    "                                            else may_trip_clean_geo['sumdid']"
   ]
  },
  {
   "cell_type": "code",
   "execution_count": null,
   "id": "a15cbebc",
   "metadata": {},
   "outputs": [],
   "source": []
  },
  {
   "cell_type": "code",
   "execution_count": null,
   "id": "37a2c391",
   "metadata": {},
   "outputs": [],
   "source": []
  },
  {
   "cell_type": "code",
   "execution_count": null,
   "id": "62df8c56",
   "metadata": {},
   "outputs": [],
   "source": []
  },
  {
   "cell_type": "code",
   "execution_count": null,
   "id": "8d790975",
   "metadata": {},
   "outputs": [],
   "source": []
  },
  {
   "cell_type": "code",
   "execution_count": null,
   "id": "5d4d93d5",
   "metadata": {},
   "outputs": [],
   "source": []
  },
  {
   "cell_type": "code",
   "execution_count": null,
   "id": "55ae49ed",
   "metadata": {},
   "outputs": [],
   "source": []
  },
  {
   "cell_type": "code",
   "execution_count": null,
   "id": "842e2da8",
   "metadata": {},
   "outputs": [],
   "source": []
  },
  {
   "cell_type": "code",
   "execution_count": null,
   "id": "18574a29",
   "metadata": {},
   "outputs": [],
   "source": [
    "may_trip_clean_geo.shape"
   ]
  },
  {
   "cell_type": "code",
   "execution_count": null,
   "id": "1d9c39cd",
   "metadata": {},
   "outputs": [],
   "source": [
    "may_trip_clean_geo.nunique()"
   ]
  },
  {
   "cell_type": "code",
   "execution_count": null,
   "id": "9a8ec009",
   "metadata": {},
   "outputs": [],
   "source": [
    "rides_per_scooter = 220387/6955"
   ]
  },
  {
   "cell_type": "code",
   "execution_count": null,
   "id": "458f556a",
   "metadata": {},
   "outputs": [],
   "source": [
    "rides_per_scooter_per_day = rides_per_scooter/31\n",
    "\n",
    "rides_per_scooter_per_day"
   ]
  },
  {
   "cell_type": "code",
   "execution_count": null,
   "id": "919d5108",
   "metadata": {},
   "outputs": [],
   "source": [
    "zipcodes = gpd.read_file('../data/zipcodes.geojson')\n",
    "print(zipcodes.crs)\n",
    "zipcodes.head()"
   ]
  },
  {
   "cell_type": "code",
   "execution_count": null,
   "id": "c7e4bd30",
   "metadata": {},
   "outputs": [],
   "source": []
  },
  {
   "cell_type": "code",
   "execution_count": null,
   "id": "674c6843",
   "metadata": {},
   "outputs": [],
   "source": []
  },
  {
   "cell_type": "code",
   "execution_count": null,
   "id": "ba0542ba",
   "metadata": {},
   "outputs": [],
   "source": [
    "may_trip_clean.head()"
   ]
  },
  {
   "cell_type": "code",
   "execution_count": null,
   "id": "0ed7474e",
   "metadata": {},
   "outputs": [],
   "source": [
    "may_trip_clean['startDate'].value_counts()"
   ]
  },
  {
   "cell_type": "markdown",
   "id": "263fd8fb",
   "metadata": {},
   "source": [
    "May 26 has most trips in May - 14584"
   ]
  },
  {
   "cell_type": "markdown",
   "id": "ab591696",
   "metadata": {},
   "source": [
    "May 9th has least - 4177"
   ]
  },
  {
   "cell_type": "markdown",
   "id": "56febce1",
   "metadata": {},
   "source": []
  },
  {
   "cell_type": "code",
   "execution_count": null,
   "id": "aa318feb",
   "metadata": {},
   "outputs": [],
   "source": [
    "May 26 13695,May 2 3821"
   ]
  },
  {
   "cell_type": "code",
   "execution_count": null,
   "id": "e33c9a65",
   "metadata": {},
   "outputs": [],
   "source": []
  },
  {
   "cell_type": "code",
   "execution_count": null,
   "id": "544107a9",
   "metadata": {},
   "outputs": [],
   "source": [
    "max and in trips"
   ]
  },
  {
   "cell_type": "code",
   "execution_count": null,
   "id": "5b56b2ab",
   "metadata": {},
   "outputs": [],
   "source": []
  },
  {
   "cell_type": "code",
   "execution_count": null,
   "id": "299dbf95",
   "metadata": {},
   "outputs": [],
   "source": []
  },
  {
   "cell_type": "code",
   "execution_count": null,
   "id": "52a4bb03",
   "metadata": {},
   "outputs": [],
   "source": []
  },
  {
   "cell_type": "code",
   "execution_count": null,
   "id": "17a182b8",
   "metadata": {},
   "outputs": [],
   "source": []
  },
  {
   "cell_type": "code",
   "execution_count": null,
   "id": "9e753d1d",
   "metadata": {},
   "outputs": [],
   "source": []
  },
  {
   "cell_type": "code",
   "execution_count": null,
   "id": "af5e54e8",
   "metadata": {},
   "outputs": [],
   "source": []
  },
  {
   "cell_type": "code",
   "execution_count": null,
   "id": "0bfdc5e7",
   "metadata": {},
   "outputs": [],
   "source": []
  },
  {
   "cell_type": "code",
   "execution_count": null,
   "id": "2dedce0a",
   "metadata": {},
   "outputs": [],
   "source": []
  },
  {
   "cell_type": "code",
   "execution_count": null,
   "id": "ae36b844",
   "metadata": {},
   "outputs": [],
   "source": []
  },
  {
   "cell_type": "code",
   "execution_count": null,
   "id": "535795c6",
   "metadata": {},
   "outputs": [],
   "source": []
  }
 ],
 "metadata": {
  "kernelspec": {
   "display_name": "Python 3 (ipykernel)",
   "language": "python",
   "name": "python3"
  },
  "language_info": {
   "codemirror_mode": {
    "name": "ipython",
    "version": 3
   },
   "file_extension": ".py",
   "mimetype": "text/x-python",
   "name": "python",
   "nbconvert_exporter": "python",
   "pygments_lexer": "ipython3",
   "version": "3.8.5"
  }
 },
 "nbformat": 4,
 "nbformat_minor": 5
}
