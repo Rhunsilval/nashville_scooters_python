{
 "cells": [
  {
   "cell_type": "code",
   "execution_count": 8,
   "id": "14a4cfdf",
   "metadata": {},
   "outputs": [],
   "source": [
    "from shapely.geometry import Point\n",
    "import numpy as np\n",
    "import pandas as pd\n",
    "import geopandas as gpd\n",
    "import matplotlib.pyplot as plt\n",
    "import folium\n",
    "from folium.plugins import MarkerCluster\n",
    "from folium.plugins import FastMarkerCluster\n",
    "\n",
    "%matplotlib inline"
   ]
  },
  {
   "cell_type": "code",
   "execution_count": 9,
   "id": "49de1c18",
   "metadata": {},
   "outputs": [],
   "source": [
    "may_trip = pd.read_csv('../data/may_trip.csv')\n",
    "june_trip = pd.read_csv('../data/june_trip.csv')\n",
    "july_trip = pd.read_csv('../data/july_trip.csv')"
   ]
  },
  {
   "cell_type": "code",
   "execution_count": 10,
   "id": "ee81b3ae",
   "metadata": {},
   "outputs": [],
   "source": [
    "may_trip_clean = pd.read_csv('../data/may_trip_clean.csv')"
   ]
  },
  {
   "cell_type": "code",
   "execution_count": 11,
   "id": "19a623dd",
   "metadata": {},
   "outputs": [
    {
     "name": "stdout",
     "output_type": "stream",
     "text": [
      "epsg:2274\n"
     ]
    },
    {
     "data": {
      "text/html": [
       "<div>\n",
       "<style scoped>\n",
       "    .dataframe tbody tr th:only-of-type {\n",
       "        vertical-align: middle;\n",
       "    }\n",
       "\n",
       "    .dataframe tbody tr th {\n",
       "        vertical-align: top;\n",
       "    }\n",
       "\n",
       "    .dataframe thead th {\n",
       "        text-align: right;\n",
       "    }\n",
       "</style>\n",
       "<table border=\"1\" class=\"dataframe\">\n",
       "  <thead>\n",
       "    <tr style=\"text-align: right;\">\n",
       "      <th></th>\n",
       "      <th>OBJECTID</th>\n",
       "      <th>ZONE_ID</th>\n",
       "      <th>SHAPE_STAr</th>\n",
       "      <th>SHAPE_STLe</th>\n",
       "      <th>geometry</th>\n",
       "    </tr>\n",
       "  </thead>\n",
       "  <tbody>\n",
       "    <tr>\n",
       "      <th>0</th>\n",
       "      <td>1</td>\n",
       "      <td>1</td>\n",
       "      <td>1.053728e+08</td>\n",
       "      <td>49364.601403</td>\n",
       "      <td>POLYGON ((1743366.812 678044.543, 1743367.698 ...</td>\n",
       "    </tr>\n",
       "    <tr>\n",
       "      <th>1</th>\n",
       "      <td>2</td>\n",
       "      <td>2</td>\n",
       "      <td>7.670585e+07</td>\n",
       "      <td>45226.018917</td>\n",
       "      <td>POLYGON ((1738690.545 661791.347, 1738733.644 ...</td>\n",
       "    </tr>\n",
       "    <tr>\n",
       "      <th>2</th>\n",
       "      <td>3</td>\n",
       "      <td>3</td>\n",
       "      <td>2.985488e+08</td>\n",
       "      <td>75207.067487</td>\n",
       "      <td>POLYGON ((1759602.544 668309.889, 1759640.155 ...</td>\n",
       "    </tr>\n",
       "    <tr>\n",
       "      <th>3</th>\n",
       "      <td>4</td>\n",
       "      <td>4</td>\n",
       "      <td>2.713638e+08</td>\n",
       "      <td>74348.596054</td>\n",
       "      <td>POLYGON ((1747799.003 654974.612, 1747821.293 ...</td>\n",
       "    </tr>\n",
       "    <tr>\n",
       "      <th>4</th>\n",
       "      <td>5</td>\n",
       "      <td>5</td>\n",
       "      <td>3.928178e+08</td>\n",
       "      <td>106661.712102</td>\n",
       "      <td>POLYGON ((1737013.744 692634.639, 1737122.605 ...</td>\n",
       "    </tr>\n",
       "  </tbody>\n",
       "</table>\n",
       "</div>"
      ],
      "text/plain": [
       "   OBJECTID  ZONE_ID    SHAPE_STAr     SHAPE_STLe  \\\n",
       "0         1        1  1.053728e+08   49364.601403   \n",
       "1         2        2  7.670585e+07   45226.018917   \n",
       "2         3        3  2.985488e+08   75207.067487   \n",
       "3         4        4  2.713638e+08   74348.596054   \n",
       "4         5        5  3.928178e+08  106661.712102   \n",
       "\n",
       "                                            geometry  \n",
       "0  POLYGON ((1743366.812 678044.543, 1743367.698 ...  \n",
       "1  POLYGON ((1738690.545 661791.347, 1738733.644 ...  \n",
       "2  POLYGON ((1759602.544 668309.889, 1759640.155 ...  \n",
       "3  POLYGON ((1747799.003 654974.612, 1747821.293 ...  \n",
       "4  POLYGON ((1737013.744 692634.639, 1737122.605 ...  "
      ]
     },
     "execution_count": 11,
     "metadata": {},
     "output_type": "execute_result"
    }
   ],
   "source": [
    "promise_zones = gpd.read_file('../data/MDHA_Promise_Zones/Export_Output_5.shp')\n",
    "print(promise_zones.crs)\n",
    "\n",
    "\n",
    "promise_zones.head()"
   ]
  },
  {
   "cell_type": "code",
   "execution_count": 12,
   "id": "7f2896d1",
   "metadata": {},
   "outputs": [
    {
     "name": "stdout",
     "output_type": "stream",
     "text": [
      "EPSG:4326\n"
     ]
    }
   ],
   "source": [
    "promise_zones = promise_zones.to_crs('EPSG:4326')\n",
    "print(promise_zones.crs)"
   ]
  },
  {
   "cell_type": "code",
   "execution_count": 13,
   "id": "f1c5e25b",
   "metadata": {},
   "outputs": [
    {
     "data": {
      "text/html": [
       "<div>\n",
       "<style scoped>\n",
       "    .dataframe tbody tr th:only-of-type {\n",
       "        vertical-align: middle;\n",
       "    }\n",
       "\n",
       "    .dataframe tbody tr th {\n",
       "        vertical-align: top;\n",
       "    }\n",
       "\n",
       "    .dataframe thead th {\n",
       "        text-align: right;\n",
       "    }\n",
       "</style>\n",
       "<table border=\"1\" class=\"dataframe\">\n",
       "  <thead>\n",
       "    <tr style=\"text-align: right;\">\n",
       "      <th></th>\n",
       "      <th>Unnamed: 0</th>\n",
       "      <th>pubTimeStamp</th>\n",
       "      <th>companyName</th>\n",
       "      <th>tripRecordNum</th>\n",
       "      <th>sumdID</th>\n",
       "      <th>tripDuration</th>\n",
       "      <th>tripDistance</th>\n",
       "      <th>startDate</th>\n",
       "      <th>startTime</th>\n",
       "      <th>endDate</th>\n",
       "      <th>...</th>\n",
       "      <th>endLatitude</th>\n",
       "      <th>endLongitude</th>\n",
       "      <th>tripRoute</th>\n",
       "      <th>create_dt</th>\n",
       "      <th>start</th>\n",
       "      <th>end</th>\n",
       "      <th>totaltime</th>\n",
       "      <th>seconds</th>\n",
       "      <th>hours</th>\n",
       "      <th>minutes</th>\n",
       "    </tr>\n",
       "  </thead>\n",
       "  <tbody>\n",
       "    <tr>\n",
       "      <th>0</th>\n",
       "      <td>0</td>\n",
       "      <td>2019-05-01 00:00:55.423000</td>\n",
       "      <td>Bird</td>\n",
       "      <td>BRD2134</td>\n",
       "      <td>Powered9EAJL</td>\n",
       "      <td>3.0000</td>\n",
       "      <td>958.00528</td>\n",
       "      <td>2019-05-01 00:00:00.000000</td>\n",
       "      <td>00:00:20.460000</td>\n",
       "      <td>2019-05-01 00:00:00.000000</td>\n",
       "      <td>...</td>\n",
       "      <td>36.15660</td>\n",
       "      <td>-86.80670</td>\n",
       "      <td>36.157235,-86.803612,36.157235,-86.80362,36.15...</td>\n",
       "      <td>2019-05-02 05:30:23.780000</td>\n",
       "      <td>2019-05-01 00:00:20.460000</td>\n",
       "      <td>2019-05-01 00:02:52.346666</td>\n",
       "      <td>0 days 00:02:31.886666</td>\n",
       "      <td>151.886666</td>\n",
       "      <td>0</td>\n",
       "      <td>2.531444</td>\n",
       "    </tr>\n",
       "    <tr>\n",
       "      <th>1</th>\n",
       "      <td>1</td>\n",
       "      <td>2019-05-01 00:03:33.147000</td>\n",
       "      <td>Lyft</td>\n",
       "      <td>LFT5</td>\n",
       "      <td>Powered296631</td>\n",
       "      <td>1.7156</td>\n",
       "      <td>1371.39112</td>\n",
       "      <td>2019-05-01 00:00:00.000000</td>\n",
       "      <td>00:01:50.090000</td>\n",
       "      <td>2019-05-01 00:00:00.000000</td>\n",
       "      <td>...</td>\n",
       "      <td>36.16054</td>\n",
       "      <td>-86.77689</td>\n",
       "      <td>36.15797,-86.77896,36.15795,-86.77873,36.15798...</td>\n",
       "      <td>2019-05-02 07:20:32.757000</td>\n",
       "      <td>2019-05-01 00:01:50.090000</td>\n",
       "      <td>2019-05-01 00:03:33.026666</td>\n",
       "      <td>0 days 00:01:42.936666</td>\n",
       "      <td>102.936666</td>\n",
       "      <td>0</td>\n",
       "      <td>1.715611</td>\n",
       "    </tr>\n",
       "    <tr>\n",
       "      <th>2</th>\n",
       "      <td>2</td>\n",
       "      <td>2019-05-01 00:05:55.570000</td>\n",
       "      <td>Bird</td>\n",
       "      <td>BRD2168</td>\n",
       "      <td>Powered7S2UU</td>\n",
       "      <td>3.0000</td>\n",
       "      <td>2296.58800</td>\n",
       "      <td>2019-05-01 00:00:00.000000</td>\n",
       "      <td>00:03:47.363333</td>\n",
       "      <td>2019-05-01 00:00:00.000000</td>\n",
       "      <td>...</td>\n",
       "      <td>36.15650</td>\n",
       "      <td>-86.78680</td>\n",
       "      <td>36.155068,-86.782124,36.156597,-86.78675</td>\n",
       "      <td>2019-05-02 05:30:24.530000</td>\n",
       "      <td>2019-05-01 00:03:47.363333</td>\n",
       "      <td>2019-05-01 00:07:13.596666</td>\n",
       "      <td>0 days 00:03:26.233333</td>\n",
       "      <td>206.233333</td>\n",
       "      <td>0</td>\n",
       "      <td>3.437222</td>\n",
       "    </tr>\n",
       "    <tr>\n",
       "      <th>3</th>\n",
       "      <td>3</td>\n",
       "      <td>2019-05-01 00:05:55.570000</td>\n",
       "      <td>Bird</td>\n",
       "      <td>BRD2166</td>\n",
       "      <td>PoweredZIIVX</td>\n",
       "      <td>3.0000</td>\n",
       "      <td>1200.78744</td>\n",
       "      <td>2019-05-01 00:00:00.000000</td>\n",
       "      <td>00:04:21.386666</td>\n",
       "      <td>2019-05-01 00:00:00.000000</td>\n",
       "      <td>...</td>\n",
       "      <td>36.15310</td>\n",
       "      <td>-86.77960</td>\n",
       "      <td>36.149741,-86.779344,36.149741,-86.779327,36.1...</td>\n",
       "      <td>2019-05-02 05:30:24.237000</td>\n",
       "      <td>2019-05-01 00:04:21.386666</td>\n",
       "      <td>2019-05-01 00:06:59.176666</td>\n",
       "      <td>0 days 00:02:37.790000</td>\n",
       "      <td>157.790000</td>\n",
       "      <td>0</td>\n",
       "      <td>2.629833</td>\n",
       "    </tr>\n",
       "    <tr>\n",
       "      <th>4</th>\n",
       "      <td>4</td>\n",
       "      <td>2019-05-01 00:05:55.570000</td>\n",
       "      <td>Bird</td>\n",
       "      <td>BRD2165</td>\n",
       "      <td>PoweredJ7MB3</td>\n",
       "      <td>2.0000</td>\n",
       "      <td>351.04988</td>\n",
       "      <td>2019-05-01 00:00:00.000000</td>\n",
       "      <td>00:04:27.796666</td>\n",
       "      <td>2019-05-01 00:00:00.000000</td>\n",
       "      <td>...</td>\n",
       "      <td>36.17740</td>\n",
       "      <td>-86.78760</td>\n",
       "      <td>36.177699,-86.786477,36.177711,-86.786469,36.1...</td>\n",
       "      <td>2019-05-02 05:30:24.207000</td>\n",
       "      <td>2019-05-01 00:04:27.796666</td>\n",
       "      <td>2019-05-01 00:06:23.150000</td>\n",
       "      <td>0 days 00:01:55.353334</td>\n",
       "      <td>115.353334</td>\n",
       "      <td>0</td>\n",
       "      <td>1.922556</td>\n",
       "    </tr>\n",
       "  </tbody>\n",
       "</table>\n",
       "<p>5 rows × 23 columns</p>\n",
       "</div>"
      ],
      "text/plain": [
       "   Unnamed: 0                pubTimeStamp companyName tripRecordNum  \\\n",
       "0           0  2019-05-01 00:00:55.423000        Bird       BRD2134   \n",
       "1           1  2019-05-01 00:03:33.147000        Lyft          LFT5   \n",
       "2           2  2019-05-01 00:05:55.570000        Bird       BRD2168   \n",
       "3           3  2019-05-01 00:05:55.570000        Bird       BRD2166   \n",
       "4           4  2019-05-01 00:05:55.570000        Bird       BRD2165   \n",
       "\n",
       "          sumdID  tripDuration  tripDistance                   startDate  \\\n",
       "0   Powered9EAJL        3.0000     958.00528  2019-05-01 00:00:00.000000   \n",
       "1  Powered296631        1.7156    1371.39112  2019-05-01 00:00:00.000000   \n",
       "2   Powered7S2UU        3.0000    2296.58800  2019-05-01 00:00:00.000000   \n",
       "3   PoweredZIIVX        3.0000    1200.78744  2019-05-01 00:00:00.000000   \n",
       "4   PoweredJ7MB3        2.0000     351.04988  2019-05-01 00:00:00.000000   \n",
       "\n",
       "         startTime                     endDate  ... endLatitude  endLongitude  \\\n",
       "0  00:00:20.460000  2019-05-01 00:00:00.000000  ...    36.15660     -86.80670   \n",
       "1  00:01:50.090000  2019-05-01 00:00:00.000000  ...    36.16054     -86.77689   \n",
       "2  00:03:47.363333  2019-05-01 00:00:00.000000  ...    36.15650     -86.78680   \n",
       "3  00:04:21.386666  2019-05-01 00:00:00.000000  ...    36.15310     -86.77960   \n",
       "4  00:04:27.796666  2019-05-01 00:00:00.000000  ...    36.17740     -86.78760   \n",
       "\n",
       "                                           tripRoute  \\\n",
       "0  36.157235,-86.803612,36.157235,-86.80362,36.15...   \n",
       "1  36.15797,-86.77896,36.15795,-86.77873,36.15798...   \n",
       "2           36.155068,-86.782124,36.156597,-86.78675   \n",
       "3  36.149741,-86.779344,36.149741,-86.779327,36.1...   \n",
       "4  36.177699,-86.786477,36.177711,-86.786469,36.1...   \n",
       "\n",
       "                    create_dt                       start  \\\n",
       "0  2019-05-02 05:30:23.780000  2019-05-01 00:00:20.460000   \n",
       "1  2019-05-02 07:20:32.757000  2019-05-01 00:01:50.090000   \n",
       "2  2019-05-02 05:30:24.530000  2019-05-01 00:03:47.363333   \n",
       "3  2019-05-02 05:30:24.237000  2019-05-01 00:04:21.386666   \n",
       "4  2019-05-02 05:30:24.207000  2019-05-01 00:04:27.796666   \n",
       "\n",
       "                          end               totaltime     seconds hours  \\\n",
       "0  2019-05-01 00:02:52.346666  0 days 00:02:31.886666  151.886666     0   \n",
       "1  2019-05-01 00:03:33.026666  0 days 00:01:42.936666  102.936666     0   \n",
       "2  2019-05-01 00:07:13.596666  0 days 00:03:26.233333  206.233333     0   \n",
       "3  2019-05-01 00:06:59.176666  0 days 00:02:37.790000  157.790000     0   \n",
       "4  2019-05-01 00:06:23.150000  0 days 00:01:55.353334  115.353334     0   \n",
       "\n",
       "    minutes  \n",
       "0  2.531444  \n",
       "1  1.715611  \n",
       "2  3.437222  \n",
       "3  2.629833  \n",
       "4  1.922556  \n",
       "\n",
       "[5 rows x 23 columns]"
      ]
     },
     "execution_count": 13,
     "metadata": {},
     "output_type": "execute_result"
    }
   ],
   "source": [
    "may_trip_clean.head()"
   ]
  },
  {
   "cell_type": "code",
   "execution_count": 14,
   "id": "dda75a82",
   "metadata": {},
   "outputs": [
    {
     "data": {
      "text/plain": [
       "pandas.core.frame.DataFrame"
      ]
     },
     "execution_count": 14,
     "metadata": {},
     "output_type": "execute_result"
    }
   ],
   "source": [
    "type(may_trip_clean)"
   ]
  },
  {
   "cell_type": "code",
   "execution_count": 15,
   "id": "82d1d048",
   "metadata": {},
   "outputs": [
    {
     "data": {
      "text/html": [
       "<div>\n",
       "<style scoped>\n",
       "    .dataframe tbody tr th:only-of-type {\n",
       "        vertical-align: middle;\n",
       "    }\n",
       "\n",
       "    .dataframe tbody tr th {\n",
       "        vertical-align: top;\n",
       "    }\n",
       "\n",
       "    .dataframe thead th {\n",
       "        text-align: right;\n",
       "    }\n",
       "</style>\n",
       "<table border=\"1\" class=\"dataframe\">\n",
       "  <thead>\n",
       "    <tr style=\"text-align: right;\">\n",
       "      <th></th>\n",
       "      <th>Unnamed: 0</th>\n",
       "      <th>pubTimeStamp</th>\n",
       "      <th>companyName</th>\n",
       "      <th>tripRecordNum</th>\n",
       "      <th>sumdID</th>\n",
       "      <th>tripDuration</th>\n",
       "      <th>tripDistance</th>\n",
       "      <th>startDate</th>\n",
       "      <th>startTime</th>\n",
       "      <th>endDate</th>\n",
       "      <th>...</th>\n",
       "      <th>endLongitude</th>\n",
       "      <th>tripRoute</th>\n",
       "      <th>create_dt</th>\n",
       "      <th>start</th>\n",
       "      <th>end</th>\n",
       "      <th>totaltime</th>\n",
       "      <th>seconds</th>\n",
       "      <th>hours</th>\n",
       "      <th>minutes</th>\n",
       "      <th>geometry</th>\n",
       "    </tr>\n",
       "  </thead>\n",
       "  <tbody>\n",
       "    <tr>\n",
       "      <th>0</th>\n",
       "      <td>0</td>\n",
       "      <td>2019-05-01 00:00:55.423000</td>\n",
       "      <td>Bird</td>\n",
       "      <td>BRD2134</td>\n",
       "      <td>Powered9EAJL</td>\n",
       "      <td>3.0000</td>\n",
       "      <td>958.00528</td>\n",
       "      <td>2019-05-01 00:00:00.000000</td>\n",
       "      <td>00:00:20.460000</td>\n",
       "      <td>2019-05-01 00:00:00.000000</td>\n",
       "      <td>...</td>\n",
       "      <td>-86.80670</td>\n",
       "      <td>36.157235,-86.803612,36.157235,-86.80362,36.15...</td>\n",
       "      <td>2019-05-02 05:30:23.780000</td>\n",
       "      <td>2019-05-01 00:00:20.460000</td>\n",
       "      <td>2019-05-01 00:02:52.346666</td>\n",
       "      <td>0 days 00:02:31.886666</td>\n",
       "      <td>151.886666</td>\n",
       "      <td>0</td>\n",
       "      <td>2.531444</td>\n",
       "      <td>POINT (-86.8036 36.1571)</td>\n",
       "    </tr>\n",
       "    <tr>\n",
       "      <th>1</th>\n",
       "      <td>1</td>\n",
       "      <td>2019-05-01 00:03:33.147000</td>\n",
       "      <td>Lyft</td>\n",
       "      <td>LFT5</td>\n",
       "      <td>Powered296631</td>\n",
       "      <td>1.7156</td>\n",
       "      <td>1371.39112</td>\n",
       "      <td>2019-05-01 00:00:00.000000</td>\n",
       "      <td>00:01:50.090000</td>\n",
       "      <td>2019-05-01 00:00:00.000000</td>\n",
       "      <td>...</td>\n",
       "      <td>-86.77689</td>\n",
       "      <td>36.15797,-86.77896,36.15795,-86.77873,36.15798...</td>\n",
       "      <td>2019-05-02 07:20:32.757000</td>\n",
       "      <td>2019-05-01 00:01:50.090000</td>\n",
       "      <td>2019-05-01 00:03:33.026666</td>\n",
       "      <td>0 days 00:01:42.936666</td>\n",
       "      <td>102.936666</td>\n",
       "      <td>0</td>\n",
       "      <td>1.715611</td>\n",
       "      <td>POINT (-86.77896 36.15797)</td>\n",
       "    </tr>\n",
       "    <tr>\n",
       "      <th>2</th>\n",
       "      <td>2</td>\n",
       "      <td>2019-05-01 00:05:55.570000</td>\n",
       "      <td>Bird</td>\n",
       "      <td>BRD2168</td>\n",
       "      <td>Powered7S2UU</td>\n",
       "      <td>3.0000</td>\n",
       "      <td>2296.58800</td>\n",
       "      <td>2019-05-01 00:00:00.000000</td>\n",
       "      <td>00:03:47.363333</td>\n",
       "      <td>2019-05-01 00:00:00.000000</td>\n",
       "      <td>...</td>\n",
       "      <td>-86.78680</td>\n",
       "      <td>36.155068,-86.782124,36.156597,-86.78675</td>\n",
       "      <td>2019-05-02 05:30:24.530000</td>\n",
       "      <td>2019-05-01 00:03:47.363333</td>\n",
       "      <td>2019-05-01 00:07:13.596666</td>\n",
       "      <td>0 days 00:03:26.233333</td>\n",
       "      <td>206.233333</td>\n",
       "      <td>0</td>\n",
       "      <td>3.437222</td>\n",
       "      <td>POINT (-86.7818 36.1547)</td>\n",
       "    </tr>\n",
       "  </tbody>\n",
       "</table>\n",
       "<p>3 rows × 24 columns</p>\n",
       "</div>"
      ],
      "text/plain": [
       "   Unnamed: 0                pubTimeStamp companyName tripRecordNum  \\\n",
       "0           0  2019-05-01 00:00:55.423000        Bird       BRD2134   \n",
       "1           1  2019-05-01 00:03:33.147000        Lyft          LFT5   \n",
       "2           2  2019-05-01 00:05:55.570000        Bird       BRD2168   \n",
       "\n",
       "          sumdID  tripDuration  tripDistance                   startDate  \\\n",
       "0   Powered9EAJL        3.0000     958.00528  2019-05-01 00:00:00.000000   \n",
       "1  Powered296631        1.7156    1371.39112  2019-05-01 00:00:00.000000   \n",
       "2   Powered7S2UU        3.0000    2296.58800  2019-05-01 00:00:00.000000   \n",
       "\n",
       "         startTime                     endDate  ... endLongitude  \\\n",
       "0  00:00:20.460000  2019-05-01 00:00:00.000000  ...    -86.80670   \n",
       "1  00:01:50.090000  2019-05-01 00:00:00.000000  ...    -86.77689   \n",
       "2  00:03:47.363333  2019-05-01 00:00:00.000000  ...    -86.78680   \n",
       "\n",
       "                                           tripRoute  \\\n",
       "0  36.157235,-86.803612,36.157235,-86.80362,36.15...   \n",
       "1  36.15797,-86.77896,36.15795,-86.77873,36.15798...   \n",
       "2           36.155068,-86.782124,36.156597,-86.78675   \n",
       "\n",
       "                    create_dt                       start  \\\n",
       "0  2019-05-02 05:30:23.780000  2019-05-01 00:00:20.460000   \n",
       "1  2019-05-02 07:20:32.757000  2019-05-01 00:01:50.090000   \n",
       "2  2019-05-02 05:30:24.530000  2019-05-01 00:03:47.363333   \n",
       "\n",
       "                          end               totaltime     seconds hours  \\\n",
       "0  2019-05-01 00:02:52.346666  0 days 00:02:31.886666  151.886666     0   \n",
       "1  2019-05-01 00:03:33.026666  0 days 00:01:42.936666  102.936666     0   \n",
       "2  2019-05-01 00:07:13.596666  0 days 00:03:26.233333  206.233333     0   \n",
       "\n",
       "    minutes                    geometry  \n",
       "0  2.531444    POINT (-86.8036 36.1571)  \n",
       "1  1.715611  POINT (-86.77896 36.15797)  \n",
       "2  3.437222    POINT (-86.7818 36.1547)  \n",
       "\n",
       "[3 rows x 24 columns]"
      ]
     },
     "execution_count": 15,
     "metadata": {},
     "output_type": "execute_result"
    }
   ],
   "source": [
    "may_trip_clean['geometry'] = may_trip_clean.apply(lambda x: Point((x.startLongitude, \n",
    "                                                         x.startLatitude)), \n",
    "                                        axis=1)\n",
    "may_trip_clean.head(3)"
   ]
  },
  {
   "cell_type": "code",
   "execution_count": 16,
   "id": "320e3b41",
   "metadata": {},
   "outputs": [],
   "source": [
    "may_trip_clean_geo = gpd.GeoDataFrame(may_trip_clean, \n",
    "                           crs = promise_zones.crs, \n",
    "                           geometry = may_trip_clean['geometry'])"
   ]
  },
  {
   "cell_type": "code",
   "execution_count": 17,
   "id": "2543e721",
   "metadata": {},
   "outputs": [],
   "source": [
    "may_trip_clean_pro_start = gpd.sjoin(may_trip_clean_geo, promise_zones, op = 'within')"
   ]
  },
  {
   "cell_type": "code",
   "execution_count": 18,
   "id": "c5cfbe30",
   "metadata": {},
   "outputs": [
    {
     "data": {
      "text/html": [
       "<div>\n",
       "<style scoped>\n",
       "    .dataframe tbody tr th:only-of-type {\n",
       "        vertical-align: middle;\n",
       "    }\n",
       "\n",
       "    .dataframe tbody tr th {\n",
       "        vertical-align: top;\n",
       "    }\n",
       "\n",
       "    .dataframe thead th {\n",
       "        text-align: right;\n",
       "    }\n",
       "</style>\n",
       "<table border=\"1\" class=\"dataframe\">\n",
       "  <thead>\n",
       "    <tr style=\"text-align: right;\">\n",
       "      <th></th>\n",
       "      <th>Unnamed: 0</th>\n",
       "      <th>pubTimeStamp</th>\n",
       "      <th>companyName</th>\n",
       "      <th>tripRecordNum</th>\n",
       "      <th>sumdID</th>\n",
       "      <th>tripDuration</th>\n",
       "      <th>tripDistance</th>\n",
       "      <th>startDate</th>\n",
       "      <th>startTime</th>\n",
       "      <th>endDate</th>\n",
       "      <th>...</th>\n",
       "      <th>totaltime</th>\n",
       "      <th>seconds</th>\n",
       "      <th>hours</th>\n",
       "      <th>minutes</th>\n",
       "      <th>geometry</th>\n",
       "      <th>index_right</th>\n",
       "      <th>OBJECTID</th>\n",
       "      <th>ZONE_ID</th>\n",
       "      <th>SHAPE_STAr</th>\n",
       "      <th>SHAPE_STLe</th>\n",
       "    </tr>\n",
       "  </thead>\n",
       "  <tbody>\n",
       "    <tr>\n",
       "      <th>0</th>\n",
       "      <td>0</td>\n",
       "      <td>2019-05-01 00:00:55.423000</td>\n",
       "      <td>Bird</td>\n",
       "      <td>BRD2134</td>\n",
       "      <td>Powered9EAJL</td>\n",
       "      <td>3.000000</td>\n",
       "      <td>958.00528</td>\n",
       "      <td>2019-05-01 00:00:00.000000</td>\n",
       "      <td>00:00:20.460000</td>\n",
       "      <td>2019-05-01 00:00:00.000000</td>\n",
       "      <td>...</td>\n",
       "      <td>0 days 00:02:31.886666</td>\n",
       "      <td>151.886666</td>\n",
       "      <td>0</td>\n",
       "      <td>2.531444</td>\n",
       "      <td>POINT (-86.80360 36.15710)</td>\n",
       "      <td>4</td>\n",
       "      <td>5</td>\n",
       "      <td>5</td>\n",
       "      <td>3.928178e+08</td>\n",
       "      <td>106661.712102</td>\n",
       "    </tr>\n",
       "    <tr>\n",
       "      <th>4</th>\n",
       "      <td>4</td>\n",
       "      <td>2019-05-01 00:05:55.570000</td>\n",
       "      <td>Bird</td>\n",
       "      <td>BRD2165</td>\n",
       "      <td>PoweredJ7MB3</td>\n",
       "      <td>2.000000</td>\n",
       "      <td>351.04988</td>\n",
       "      <td>2019-05-01 00:00:00.000000</td>\n",
       "      <td>00:04:27.796666</td>\n",
       "      <td>2019-05-01 00:00:00.000000</td>\n",
       "      <td>...</td>\n",
       "      <td>0 days 00:01:55.353334</td>\n",
       "      <td>115.353334</td>\n",
       "      <td>0</td>\n",
       "      <td>1.922556</td>\n",
       "      <td>POINT (-86.78660 36.17780)</td>\n",
       "      <td>4</td>\n",
       "      <td>5</td>\n",
       "      <td>5</td>\n",
       "      <td>3.928178e+08</td>\n",
       "      <td>106661.712102</td>\n",
       "    </tr>\n",
       "    <tr>\n",
       "      <th>8</th>\n",
       "      <td>8</td>\n",
       "      <td>2019-05-01 00:10:56.013000</td>\n",
       "      <td>Bird</td>\n",
       "      <td>BRD2193</td>\n",
       "      <td>PoweredSX2AW</td>\n",
       "      <td>6.000000</td>\n",
       "      <td>2624.67200</td>\n",
       "      <td>2019-05-01 00:00:00.000000</td>\n",
       "      <td>00:06:34.436666</td>\n",
       "      <td>2019-05-01 00:00:00.000000</td>\n",
       "      <td>...</td>\n",
       "      <td>0 days 00:06:14.240000</td>\n",
       "      <td>374.240000</td>\n",
       "      <td>0</td>\n",
       "      <td>6.237333</td>\n",
       "      <td>POINT (-86.78930 36.17080)</td>\n",
       "      <td>4</td>\n",
       "      <td>5</td>\n",
       "      <td>5</td>\n",
       "      <td>3.928178e+08</td>\n",
       "      <td>106661.712102</td>\n",
       "    </tr>\n",
       "    <tr>\n",
       "      <th>27</th>\n",
       "      <td>27</td>\n",
       "      <td>2019-05-01 00:15:55.977000</td>\n",
       "      <td>Bird</td>\n",
       "      <td>BRD2212</td>\n",
       "      <td>PoweredVGMWJ</td>\n",
       "      <td>10.000000</td>\n",
       "      <td>5249.34400</td>\n",
       "      <td>2019-05-01 00:00:00.000000</td>\n",
       "      <td>00:07:07.963333</td>\n",
       "      <td>2019-05-01 00:00:00.000000</td>\n",
       "      <td>...</td>\n",
       "      <td>0 days 00:09:50.800000</td>\n",
       "      <td>590.800000</td>\n",
       "      <td>0</td>\n",
       "      <td>9.846667</td>\n",
       "      <td>POINT (-86.78470 36.17650)</td>\n",
       "      <td>4</td>\n",
       "      <td>5</td>\n",
       "      <td>5</td>\n",
       "      <td>3.928178e+08</td>\n",
       "      <td>106661.712102</td>\n",
       "    </tr>\n",
       "    <tr>\n",
       "      <th>48</th>\n",
       "      <td>48</td>\n",
       "      <td>2019-05-01 00:25:34</td>\n",
       "      <td>Lyft</td>\n",
       "      <td>LFT42</td>\n",
       "      <td>Powered906727</td>\n",
       "      <td>14.803383</td>\n",
       "      <td>2004.59324</td>\n",
       "      <td>2019-05-01 00:00:00.000000</td>\n",
       "      <td>00:10:45.676666</td>\n",
       "      <td>2019-05-01 00:00:00.000000</td>\n",
       "      <td>...</td>\n",
       "      <td>0 days 00:14:48.203334</td>\n",
       "      <td>888.203334</td>\n",
       "      <td>0</td>\n",
       "      <td>14.803389</td>\n",
       "      <td>POINT (-86.79429 36.17546)</td>\n",
       "      <td>4</td>\n",
       "      <td>5</td>\n",
       "      <td>5</td>\n",
       "      <td>3.928178e+08</td>\n",
       "      <td>106661.712102</td>\n",
       "    </tr>\n",
       "  </tbody>\n",
       "</table>\n",
       "<p>5 rows × 29 columns</p>\n",
       "</div>"
      ],
      "text/plain": [
       "    Unnamed: 0                pubTimeStamp companyName tripRecordNum  \\\n",
       "0            0  2019-05-01 00:00:55.423000        Bird       BRD2134   \n",
       "4            4  2019-05-01 00:05:55.570000        Bird       BRD2165   \n",
       "8            8  2019-05-01 00:10:56.013000        Bird       BRD2193   \n",
       "27          27  2019-05-01 00:15:55.977000        Bird       BRD2212   \n",
       "48          48         2019-05-01 00:25:34        Lyft         LFT42   \n",
       "\n",
       "           sumdID  tripDuration  tripDistance                   startDate  \\\n",
       "0    Powered9EAJL      3.000000     958.00528  2019-05-01 00:00:00.000000   \n",
       "4    PoweredJ7MB3      2.000000     351.04988  2019-05-01 00:00:00.000000   \n",
       "8    PoweredSX2AW      6.000000    2624.67200  2019-05-01 00:00:00.000000   \n",
       "27   PoweredVGMWJ     10.000000    5249.34400  2019-05-01 00:00:00.000000   \n",
       "48  Powered906727     14.803383    2004.59324  2019-05-01 00:00:00.000000   \n",
       "\n",
       "          startTime                     endDate  ...               totaltime  \\\n",
       "0   00:00:20.460000  2019-05-01 00:00:00.000000  ...  0 days 00:02:31.886666   \n",
       "4   00:04:27.796666  2019-05-01 00:00:00.000000  ...  0 days 00:01:55.353334   \n",
       "8   00:06:34.436666  2019-05-01 00:00:00.000000  ...  0 days 00:06:14.240000   \n",
       "27  00:07:07.963333  2019-05-01 00:00:00.000000  ...  0 days 00:09:50.800000   \n",
       "48  00:10:45.676666  2019-05-01 00:00:00.000000  ...  0 days 00:14:48.203334   \n",
       "\n",
       "       seconds  hours    minutes                    geometry index_right  \\\n",
       "0   151.886666      0   2.531444  POINT (-86.80360 36.15710)           4   \n",
       "4   115.353334      0   1.922556  POINT (-86.78660 36.17780)           4   \n",
       "8   374.240000      0   6.237333  POINT (-86.78930 36.17080)           4   \n",
       "27  590.800000      0   9.846667  POINT (-86.78470 36.17650)           4   \n",
       "48  888.203334      0  14.803389  POINT (-86.79429 36.17546)           4   \n",
       "\n",
       "   OBJECTID ZONE_ID    SHAPE_STAr     SHAPE_STLe  \n",
       "0         5       5  3.928178e+08  106661.712102  \n",
       "4         5       5  3.928178e+08  106661.712102  \n",
       "8         5       5  3.928178e+08  106661.712102  \n",
       "27        5       5  3.928178e+08  106661.712102  \n",
       "48        5       5  3.928178e+08  106661.712102  \n",
       "\n",
       "[5 rows x 29 columns]"
      ]
     },
     "execution_count": 18,
     "metadata": {},
     "output_type": "execute_result"
    }
   ],
   "source": [
    "may_trip_clean_pro_start.head()"
   ]
  },
  {
   "cell_type": "code",
   "execution_count": 19,
   "id": "1bb5fe30",
   "metadata": {},
   "outputs": [
    {
     "data": {
      "text/plain": [
       "<bound method IndexOpsMixin.value_counts of 0                 Powered9EAJL\n",
       "1                Powered296631\n",
       "2                 Powered7S2UU\n",
       "3                 PoweredZIIVX\n",
       "4                 PoweredJ7MB3\n",
       "                  ...         \n",
       "220382    Powered2OFHK7WJJGPSG\n",
       "220383    PoweredJ6OI7QJIK4NO2\n",
       "220384    PoweredQDVYGLDL6ZQDU\n",
       "220385    PoweredH5HCTZB5WVABT\n",
       "220386    PoweredFXC5KHVLI3T7C\n",
       "Name: sumdID, Length: 220387, dtype: object>"
      ]
     },
     "execution_count": 19,
     "metadata": {},
     "output_type": "execute_result"
    }
   ],
   "source": [
    "may_trip_clean_geo['sumdID'].value_counts"
   ]
  },
  {
   "cell_type": "code",
   "execution_count": 84,
   "id": "b8dde2dd",
   "metadata": {},
   "outputs": [
    {
     "data": {
      "text/html": [
       "<div>\n",
       "<style scoped>\n",
       "    .dataframe tbody tr th:only-of-type {\n",
       "        vertical-align: middle;\n",
       "    }\n",
       "\n",
       "    .dataframe tbody tr th {\n",
       "        vertical-align: top;\n",
       "    }\n",
       "\n",
       "    .dataframe thead th {\n",
       "        text-align: right;\n",
       "    }\n",
       "</style>\n",
       "<table border=\"1\" class=\"dataframe\">\n",
       "  <thead>\n",
       "    <tr style=\"text-align: right;\">\n",
       "      <th></th>\n",
       "      <th>sumdID</th>\n",
       "    </tr>\n",
       "    <tr>\n",
       "      <th>companyName</th>\n",
       "      <th></th>\n",
       "    </tr>\n",
       "  </thead>\n",
       "  <tbody>\n",
       "    <tr>\n",
       "      <th>Bird</th>\n",
       "      <td>2937</td>\n",
       "    </tr>\n",
       "    <tr>\n",
       "      <th>Bolt Mobility</th>\n",
       "      <td>341</td>\n",
       "    </tr>\n",
       "    <tr>\n",
       "      <th>Gotcha</th>\n",
       "      <td>105</td>\n",
       "    </tr>\n",
       "    <tr>\n",
       "      <th>JUMP</th>\n",
       "      <td>1</td>\n",
       "    </tr>\n",
       "    <tr>\n",
       "      <th>Lime</th>\n",
       "      <td>1576</td>\n",
       "    </tr>\n",
       "    <tr>\n",
       "      <th>Lyft</th>\n",
       "      <td>1359</td>\n",
       "    </tr>\n",
       "    <tr>\n",
       "      <th>SPIN</th>\n",
       "      <td>636</td>\n",
       "    </tr>\n",
       "  </tbody>\n",
       "</table>\n",
       "</div>"
      ],
      "text/plain": [
       "               sumdID\n",
       "companyName          \n",
       "Bird             2937\n",
       "Bolt Mobility     341\n",
       "Gotcha            105\n",
       "JUMP                1\n",
       "Lime             1576\n",
       "Lyft             1359\n",
       "SPIN              636"
      ]
     },
     "execution_count": 84,
     "metadata": {},
     "output_type": "execute_result"
    }
   ],
   "source": [
    "may_grouped2 = may_trip_clean_geo.groupby(\"companyName\")\n",
    "\n",
    "may_grouped2 = may_grouped2.agg({\"sumdID\": \"nunique\"})\n",
    "\n",
    "may_grouped2"
   ]
  },
  {
   "cell_type": "code",
   "execution_count": 85,
   "id": "7030183a",
   "metadata": {},
   "outputs": [
    {
     "data": {
      "text/plain": [
       "6955"
      ]
     },
     "execution_count": 85,
     "metadata": {},
     "output_type": "execute_result"
    }
   ],
   "source": [
    "2937+341+105+1+1576+1359+636"
   ]
  },
  {
   "cell_type": "code",
   "execution_count": 86,
   "id": "152644a0",
   "metadata": {},
   "outputs": [
    {
     "data": {
      "text/plain": [
       "31.687562904385334"
      ]
     },
     "execution_count": 86,
     "metadata": {},
     "output_type": "execute_result"
    }
   ],
   "source": [
    "220387/6955"
   ]
  },
  {
   "cell_type": "code",
   "execution_count": null,
   "id": "d0add779",
   "metadata": {},
   "outputs": [],
   "source": [
    "efficiency = may_grouped2['companyName']\n",
    "\n",
    "efficiency = "
   ]
  },
  {
   "cell_type": "code",
   "execution_count": 46,
   "id": "16b8fc54",
   "metadata": {},
   "outputs": [
    {
     "data": {
      "text/html": [
       "<div>\n",
       "<style scoped>\n",
       "    .dataframe tbody tr th:only-of-type {\n",
       "        vertical-align: middle;\n",
       "    }\n",
       "\n",
       "    .dataframe tbody tr th {\n",
       "        vertical-align: top;\n",
       "    }\n",
       "\n",
       "    .dataframe thead th {\n",
       "        text-align: right;\n",
       "    }\n",
       "</style>\n",
       "<table border=\"1\" class=\"dataframe\">\n",
       "  <thead>\n",
       "    <tr style=\"text-align: right;\">\n",
       "      <th></th>\n",
       "      <th>sumdID</th>\n",
       "    </tr>\n",
       "    <tr>\n",
       "      <th>ZONE_ID</th>\n",
       "      <th></th>\n",
       "    </tr>\n",
       "  </thead>\n",
       "  <tbody>\n",
       "    <tr>\n",
       "      <th>1</th>\n",
       "      <td>4368</td>\n",
       "    </tr>\n",
       "    <tr>\n",
       "      <th>2</th>\n",
       "      <td>3543</td>\n",
       "    </tr>\n",
       "    <tr>\n",
       "      <th>3</th>\n",
       "      <td>417</td>\n",
       "    </tr>\n",
       "    <tr>\n",
       "      <th>4</th>\n",
       "      <td>96</td>\n",
       "    </tr>\n",
       "    <tr>\n",
       "      <th>5</th>\n",
       "      <td>4135</td>\n",
       "    </tr>\n",
       "    <tr>\n",
       "      <th>6</th>\n",
       "      <td>38</td>\n",
       "    </tr>\n",
       "  </tbody>\n",
       "</table>\n",
       "</div>"
      ],
      "text/plain": [
       "         sumdID\n",
       "ZONE_ID        \n",
       "1          4368\n",
       "2          3543\n",
       "3           417\n",
       "4            96\n",
       "5          4135\n",
       "6            38"
      ]
     },
     "execution_count": 46,
     "metadata": {},
     "output_type": "execute_result"
    }
   ],
   "source": [
    "sumdid_by_zone = may_trip_clean_pro_start.groupby(\"ZONE_ID\")\n",
    "\n",
    "sumdid_by_zone = sumdid_by_zone.agg({\"sumdID\": \"nunique\"})\n",
    "\n",
    "sumdid_by_zone"
   ]
  },
  {
   "cell_type": "code",
   "execution_count": 48,
   "id": "51442bc0",
   "metadata": {},
   "outputs": [
    {
     "data": {
      "text/plain": [
       "ZONE_ID\n",
       "1    15643\n",
       "2    14854\n",
       "3      653\n",
       "4      170\n",
       "5    14349\n",
       "6       57\n",
       "dtype: int64"
      ]
     },
     "execution_count": 48,
     "metadata": {},
     "output_type": "execute_result"
    }
   ],
   "source": [
    "trips_by_zone = may_trip_clean_pro_start.groupby('ZONE_ID').size()\n",
    "trips_by_zone"
   ]
  },
  {
   "cell_type": "code",
   "execution_count": null,
   "id": "7f824bca",
   "metadata": {},
   "outputs": [],
   "source": [
    "15643+14854+653"
   ]
  },
  {
   "cell_type": "code",
   "execution_count": 50,
   "id": "db4933a4",
   "metadata": {},
   "outputs": [
    {
     "data": {
      "text/plain": [
       "0.11552493205719012"
      ]
     },
     "execution_count": 50,
     "metadata": {},
     "output_type": "execute_result"
    }
   ],
   "source": [
    "zone1 = 15643/4368/31\n",
    "zone1"
   ]
  },
  {
   "cell_type": "code",
   "execution_count": 51,
   "id": "0a4775a5",
   "metadata": {},
   "outputs": [
    {
     "data": {
      "text/plain": [
       "0.13524168510374843"
      ]
     },
     "execution_count": 51,
     "metadata": {},
     "output_type": "execute_result"
    }
   ],
   "source": [
    "zone2 = 14854/3543/31\n",
    "zone2"
   ]
  },
  {
   "cell_type": "code",
   "execution_count": 53,
   "id": "eca12b2c",
   "metadata": {},
   "outputs": [
    {
     "data": {
      "text/plain": [
       "0.05051442716794306"
      ]
     },
     "execution_count": 53,
     "metadata": {},
     "output_type": "execute_result"
    }
   ],
   "source": [
    "zone3 = 653/417/31\n",
    "zone3"
   ]
  },
  {
   "cell_type": "code",
   "execution_count": null,
   "id": "1c36ea0b",
   "metadata": {},
   "outputs": [],
   "source": []
  },
  {
   "cell_type": "code",
   "execution_count": 63,
   "id": "b0bedbc7",
   "metadata": {},
   "outputs": [
    {
     "data": {
      "text/html": [
       "<div>\n",
       "<style scoped>\n",
       "    .dataframe tbody tr th:only-of-type {\n",
       "        vertical-align: middle;\n",
       "    }\n",
       "\n",
       "    .dataframe tbody tr th {\n",
       "        vertical-align: top;\n",
       "    }\n",
       "\n",
       "    .dataframe thead th {\n",
       "        text-align: right;\n",
       "    }\n",
       "</style>\n",
       "<table border=\"1\" class=\"dataframe\">\n",
       "  <thead>\n",
       "    <tr style=\"text-align: right;\">\n",
       "      <th></th>\n",
       "      <th>companyName</th>\n",
       "      <th>avg_rides_per_scooter_per_day</th>\n",
       "    </tr>\n",
       "  </thead>\n",
       "  <tbody>\n",
       "    <tr>\n",
       "      <th>0</th>\n",
       "      <td>Bird</td>\n",
       "      <td>0.56</td>\n",
       "    </tr>\n",
       "    <tr>\n",
       "      <th>1</th>\n",
       "      <td>Bolt Mobility</td>\n",
       "      <td>0.46</td>\n",
       "    </tr>\n",
       "    <tr>\n",
       "      <th>2</th>\n",
       "      <td>Gotcha</td>\n",
       "      <td>0.20</td>\n",
       "    </tr>\n",
       "    <tr>\n",
       "      <th>3</th>\n",
       "      <td>Lime</td>\n",
       "      <td>2.10</td>\n",
       "    </tr>\n",
       "    <tr>\n",
       "      <th>4</th>\n",
       "      <td>Lyft</td>\n",
       "      <td>1.24</td>\n",
       "    </tr>\n",
       "    <tr>\n",
       "      <th>5</th>\n",
       "      <td>SPIN</td>\n",
       "      <td>0.43</td>\n",
       "    </tr>\n",
       "  </tbody>\n",
       "</table>\n",
       "</div>"
      ],
      "text/plain": [
       "     companyName  avg_rides_per_scooter_per_day\n",
       "0           Bird                           0.56\n",
       "1  Bolt Mobility                           0.46\n",
       "2         Gotcha                           0.20\n",
       "3           Lime                           2.10\n",
       "4           Lyft                           1.24\n",
       "5           SPIN                           0.43"
      ]
     },
     "execution_count": 63,
     "metadata": {},
     "output_type": "execute_result"
    }
   ],
   "source": [
    "d = {'companyName': ['Bird','Bolt Mobility', 'Gotcha', 'Lime','Lyft', 'SPIN'], 'avg_rides_per_scooter_per_day': [.56, .46, .20,2.10,1.24,.43]}\n",
    "company_efficiency = pd.DataFrame(data=d)\n",
    "company_efficiency"
   ]
  },
  {
   "cell_type": "code",
   "execution_count": 71,
   "id": "53e58fba",
   "metadata": {},
   "outputs": [
    {
     "data": {
      "text/plain": [
       "<AxesSubplot:xlabel='companyName'>"
      ]
     },
     "execution_count": 71,
     "metadata": {},
     "output_type": "execute_result"
    },
    {
     "data": {
      "image/png": "[encoded data removed]",
      "text/plain": [
       "<Figure size 432x288 with 1 Axes>"
      ]
     },
     "metadata": {
      "needs_background": "light"
     },
     "output_type": "display_data"
    }
   ],
   "source": [
    "company_efficiency.plot.bar(x = 'companyName')"
   ]
  },
  {
   "cell_type": "code",
   "execution_count": 80,
   "id": "4f6fde56",
   "metadata": {},
   "outputs": [
    {
     "data": {
      "text/html": [
       "<div>\n",
       "<style scoped>\n",
       "    .dataframe tbody tr th:only-of-type {\n",
       "        vertical-align: middle;\n",
       "    }\n",
       "\n",
       "    .dataframe tbody tr th {\n",
       "        vertical-align: top;\n",
       "    }\n",
       "\n",
       "    .dataframe thead th {\n",
       "        text-align: right;\n",
       "    }\n",
       "</style>\n",
       "<table border=\"1\" class=\"dataframe\">\n",
       "  <thead>\n",
       "    <tr style=\"text-align: right;\">\n",
       "      <th></th>\n",
       "      <th>Unnamed: 0</th>\n",
       "      <th>pubTimeStamp</th>\n",
       "      <th>companyName</th>\n",
       "      <th>tripRecordNum</th>\n",
       "      <th>sumdID</th>\n",
       "      <th>tripDuration</th>\n",
       "      <th>tripDistance</th>\n",
       "      <th>startDate</th>\n",
       "      <th>startTime</th>\n",
       "      <th>endDate</th>\n",
       "      <th>...</th>\n",
       "      <th>endLongitude</th>\n",
       "      <th>tripRoute</th>\n",
       "      <th>create_dt</th>\n",
       "      <th>start</th>\n",
       "      <th>end</th>\n",
       "      <th>totaltime</th>\n",
       "      <th>seconds</th>\n",
       "      <th>hours</th>\n",
       "      <th>minutes</th>\n",
       "      <th>geometry</th>\n",
       "    </tr>\n",
       "  </thead>\n",
       "  <tbody>\n",
       "    <tr>\n",
       "      <th>0</th>\n",
       "      <td>0</td>\n",
       "      <td>2019-05-01 00:00:55.423000</td>\n",
       "      <td>Bird</td>\n",
       "      <td>BRD2134</td>\n",
       "      <td>Powered9EAJL</td>\n",
       "      <td>3.0000</td>\n",
       "      <td>958.00528</td>\n",
       "      <td>2019-05-01 00:00:00.000000</td>\n",
       "      <td>00:00:20.460000</td>\n",
       "      <td>2019-05-01 00:00:00.000000</td>\n",
       "      <td>...</td>\n",
       "      <td>-86.80670</td>\n",
       "      <td>36.157235,-86.803612,36.157235,-86.80362,36.15...</td>\n",
       "      <td>2019-05-02 05:30:23.780000</td>\n",
       "      <td>2019-05-01 00:00:20.460000</td>\n",
       "      <td>2019-05-01 00:02:52.346666</td>\n",
       "      <td>0 days 00:02:31.886666</td>\n",
       "      <td>151.886666</td>\n",
       "      <td>0</td>\n",
       "      <td>2.531444</td>\n",
       "      <td>POINT (-86.80360 36.15710)</td>\n",
       "    </tr>\n",
       "    <tr>\n",
       "      <th>1</th>\n",
       "      <td>1</td>\n",
       "      <td>2019-05-01 00:03:33.147000</td>\n",
       "      <td>Lyft</td>\n",
       "      <td>LFT5</td>\n",
       "      <td>Powered296631</td>\n",
       "      <td>1.7156</td>\n",
       "      <td>1371.39112</td>\n",
       "      <td>2019-05-01 00:00:00.000000</td>\n",
       "      <td>00:01:50.090000</td>\n",
       "      <td>2019-05-01 00:00:00.000000</td>\n",
       "      <td>...</td>\n",
       "      <td>-86.77689</td>\n",
       "      <td>36.15797,-86.77896,36.15795,-86.77873,36.15798...</td>\n",
       "      <td>2019-05-02 07:20:32.757000</td>\n",
       "      <td>2019-05-01 00:01:50.090000</td>\n",
       "      <td>2019-05-01 00:03:33.026666</td>\n",
       "      <td>0 days 00:01:42.936666</td>\n",
       "      <td>102.936666</td>\n",
       "      <td>0</td>\n",
       "      <td>1.715611</td>\n",
       "      <td>POINT (-86.77896 36.15797)</td>\n",
       "    </tr>\n",
       "    <tr>\n",
       "      <th>2</th>\n",
       "      <td>2</td>\n",
       "      <td>2019-05-01 00:05:55.570000</td>\n",
       "      <td>Bird</td>\n",
       "      <td>BRD2168</td>\n",
       "      <td>Powered7S2UU</td>\n",
       "      <td>3.0000</td>\n",
       "      <td>2296.58800</td>\n",
       "      <td>2019-05-01 00:00:00.000000</td>\n",
       "      <td>00:03:47.363333</td>\n",
       "      <td>2019-05-01 00:00:00.000000</td>\n",
       "      <td>...</td>\n",
       "      <td>-86.78680</td>\n",
       "      <td>36.155068,-86.782124,36.156597,-86.78675</td>\n",
       "      <td>2019-05-02 05:30:24.530000</td>\n",
       "      <td>2019-05-01 00:03:47.363333</td>\n",
       "      <td>2019-05-01 00:07:13.596666</td>\n",
       "      <td>0 days 00:03:26.233333</td>\n",
       "      <td>206.233333</td>\n",
       "      <td>0</td>\n",
       "      <td>3.437222</td>\n",
       "      <td>POINT (-86.78180 36.15470)</td>\n",
       "    </tr>\n",
       "    <tr>\n",
       "      <th>3</th>\n",
       "      <td>3</td>\n",
       "      <td>2019-05-01 00:05:55.570000</td>\n",
       "      <td>Bird</td>\n",
       "      <td>BRD2166</td>\n",
       "      <td>PoweredZIIVX</td>\n",
       "      <td>3.0000</td>\n",
       "      <td>1200.78744</td>\n",
       "      <td>2019-05-01 00:00:00.000000</td>\n",
       "      <td>00:04:21.386666</td>\n",
       "      <td>2019-05-01 00:00:00.000000</td>\n",
       "      <td>...</td>\n",
       "      <td>-86.77960</td>\n",
       "      <td>36.149741,-86.779344,36.149741,-86.779327,36.1...</td>\n",
       "      <td>2019-05-02 05:30:24.237000</td>\n",
       "      <td>2019-05-01 00:04:21.386666</td>\n",
       "      <td>2019-05-01 00:06:59.176666</td>\n",
       "      <td>0 days 00:02:37.790000</td>\n",
       "      <td>157.790000</td>\n",
       "      <td>0</td>\n",
       "      <td>2.629833</td>\n",
       "      <td>POINT (-86.77950 36.14940)</td>\n",
       "    </tr>\n",
       "    <tr>\n",
       "      <th>4</th>\n",
       "      <td>4</td>\n",
       "      <td>2019-05-01 00:05:55.570000</td>\n",
       "      <td>Bird</td>\n",
       "      <td>BRD2165</td>\n",
       "      <td>PoweredJ7MB3</td>\n",
       "      <td>2.0000</td>\n",
       "      <td>351.04988</td>\n",
       "      <td>2019-05-01 00:00:00.000000</td>\n",
       "      <td>00:04:27.796666</td>\n",
       "      <td>2019-05-01 00:00:00.000000</td>\n",
       "      <td>...</td>\n",
       "      <td>-86.78760</td>\n",
       "      <td>36.177699,-86.786477,36.177711,-86.786469,36.1...</td>\n",
       "      <td>2019-05-02 05:30:24.207000</td>\n",
       "      <td>2019-05-01 00:04:27.796666</td>\n",
       "      <td>2019-05-01 00:06:23.150000</td>\n",
       "      <td>0 days 00:01:55.353334</td>\n",
       "      <td>115.353334</td>\n",
       "      <td>0</td>\n",
       "      <td>1.922556</td>\n",
       "      <td>POINT (-86.78660 36.17780)</td>\n",
       "    </tr>\n",
       "  </tbody>\n",
       "</table>\n",
       "<p>5 rows × 24 columns</p>\n",
       "</div>"
      ],
      "text/plain": [
       "   Unnamed: 0                pubTimeStamp companyName tripRecordNum  \\\n",
       "0           0  2019-05-01 00:00:55.423000        Bird       BRD2134   \n",
       "1           1  2019-05-01 00:03:33.147000        Lyft          LFT5   \n",
       "2           2  2019-05-01 00:05:55.570000        Bird       BRD2168   \n",
       "3           3  2019-05-01 00:05:55.570000        Bird       BRD2166   \n",
       "4           4  2019-05-01 00:05:55.570000        Bird       BRD2165   \n",
       "\n",
       "          sumdID  tripDuration  tripDistance                   startDate  \\\n",
       "0   Powered9EAJL        3.0000     958.00528  2019-05-01 00:00:00.000000   \n",
       "1  Powered296631        1.7156    1371.39112  2019-05-01 00:00:00.000000   \n",
       "2   Powered7S2UU        3.0000    2296.58800  2019-05-01 00:00:00.000000   \n",
       "3   PoweredZIIVX        3.0000    1200.78744  2019-05-01 00:00:00.000000   \n",
       "4   PoweredJ7MB3        2.0000     351.04988  2019-05-01 00:00:00.000000   \n",
       "\n",
       "         startTime                     endDate  ... endLongitude  \\\n",
       "0  00:00:20.460000  2019-05-01 00:00:00.000000  ...    -86.80670   \n",
       "1  00:01:50.090000  2019-05-01 00:00:00.000000  ...    -86.77689   \n",
       "2  00:03:47.363333  2019-05-01 00:00:00.000000  ...    -86.78680   \n",
       "3  00:04:21.386666  2019-05-01 00:00:00.000000  ...    -86.77960   \n",
       "4  00:04:27.796666  2019-05-01 00:00:00.000000  ...    -86.78760   \n",
       "\n",
       "                                           tripRoute  \\\n",
       "0  36.157235,-86.803612,36.157235,-86.80362,36.15...   \n",
       "1  36.15797,-86.77896,36.15795,-86.77873,36.15798...   \n",
       "2           36.155068,-86.782124,36.156597,-86.78675   \n",
       "3  36.149741,-86.779344,36.149741,-86.779327,36.1...   \n",
       "4  36.177699,-86.786477,36.177711,-86.786469,36.1...   \n",
       "\n",
       "                    create_dt                       start  \\\n",
       "0  2019-05-02 05:30:23.780000  2019-05-01 00:00:20.460000   \n",
       "1  2019-05-02 07:20:32.757000  2019-05-01 00:01:50.090000   \n",
       "2  2019-05-02 05:30:24.530000  2019-05-01 00:03:47.363333   \n",
       "3  2019-05-02 05:30:24.237000  2019-05-01 00:04:21.386666   \n",
       "4  2019-05-02 05:30:24.207000  2019-05-01 00:04:27.796666   \n",
       "\n",
       "                          end               totaltime     seconds hours  \\\n",
       "0  2019-05-01 00:02:52.346666  0 days 00:02:31.886666  151.886666     0   \n",
       "1  2019-05-01 00:03:33.026666  0 days 00:01:42.936666  102.936666     0   \n",
       "2  2019-05-01 00:07:13.596666  0 days 00:03:26.233333  206.233333     0   \n",
       "3  2019-05-01 00:06:59.176666  0 days 00:02:37.790000  157.790000     0   \n",
       "4  2019-05-01 00:06:23.150000  0 days 00:01:55.353334  115.353334     0   \n",
       "\n",
       "    minutes                    geometry  \n",
       "0  2.531444  POINT (-86.80360 36.15710)  \n",
       "1  1.715611  POINT (-86.77896 36.15797)  \n",
       "2  3.437222  POINT (-86.78180 36.15470)  \n",
       "3  2.629833  POINT (-86.77950 36.14940)  \n",
       "4  1.922556  POINT (-86.78660 36.17780)  \n",
       "\n",
       "[5 rows x 24 columns]"
      ]
     },
     "execution_count": 80,
     "metadata": {},
     "output_type": "execute_result"
    }
   ],
   "source": []
  },
  {
   "cell_type": "code",
   "execution_count": 83,
   "id": "93183bf4",
   "metadata": {},
   "outputs": [
    {
     "data": {
      "text/plain": [
       "companyName\n",
       "Bird              51236\n",
       "Bolt Mobility      4847\n",
       "Gotcha              650\n",
       "JUMP                593\n",
       "Lime             102569\n",
       "Lyft              52036\n",
       "SPIN               8456\n",
       "dtype: int64"
      ]
     },
     "execution_count": 83,
     "metadata": {},
     "output_type": "execute_result"
    }
   ],
   "source": [
    "trips = may_trip_clean_geo.groupby('companyName').size()\n",
    "\n",
    "trips"
   ]
  },
  {
   "cell_type": "code",
   "execution_count": null,
   "id": "4214d532",
   "metadata": {},
   "outputs": [],
   "source": []
  },
  {
   "cell_type": "code",
   "execution_count": 73,
   "id": "8f075cd0",
   "metadata": {},
   "outputs": [
    {
     "data": {
      "text/plain": [
       "220387"
      ]
     },
     "execution_count": 73,
     "metadata": {},
     "output_type": "execute_result"
    }
   ],
   "source": [
    "total_rides = 51236+4847+650+593+102569+52036+8456\n",
    "\n",
    "total_rides"
   ]
  },
  {
   "cell_type": "code",
   "execution_count": 77,
   "id": "43dfd493",
   "metadata": {},
   "outputs": [
    {
     "data": {
      "text/plain": [
       "45726"
      ]
     },
     "execution_count": 77,
     "metadata": {},
     "output_type": "execute_result"
    }
   ],
   "source": []
  },
  {
   "cell_type": "code",
   "execution_count": 79,
   "id": "6f8eed61",
   "metadata": {},
   "outputs": [
    {
     "data": {
      "text/plain": [
       "6.574550682961898"
      ]
     },
     "execution_count": 79,
     "metadata": {},
     "output_type": "execute_result"
    }
   ],
   "source": []
  },
  {
   "cell_type": "code",
   "execution_count": 75,
   "id": "6c894137",
   "metadata": {},
   "outputs": [
    {
     "data": {
      "text/plain": [
       "6955"
      ]
     },
     "execution_count": 75,
     "metadata": {},
     "output_type": "execute_result"
    }
   ],
   "source": [
    "total_scooters= 2937+341+105+z"
   ]
  },
  {
   "cell_type": "code",
   "execution_count": 76,
   "id": "41792210",
   "metadata": {},
   "outputs": [
    {
     "data": {
      "text/plain": [
       "31.687562904385334"
      ]
     },
     "execution_count": 76,
     "metadata": {},
     "output_type": "execute_result"
    }
   ],
   "source": [
    "zz"
   ]
  },
  {
   "cell_type": "code",
   "execution_count": 22,
   "id": "680ab8d4",
   "metadata": {},
   "outputs": [
    {
     "data": {
      "text/plain": [
       "0.5627423199007107"
      ]
     },
     "execution_count": 22,
     "metadata": {},
     "output_type": "execute_result"
    }
   ],
   "source": [
    "bird_efficiency = 51236/2937/31\n",
    "\n",
    "bird_efficiency"
   ]
  },
  {
   "cell_type": "code",
   "execution_count": 23,
   "id": "27f140f2",
   "metadata": {},
   "outputs": [
    {
     "data": {
      "text/plain": [
       "0.4585185885914294"
      ]
     },
     "execution_count": 23,
     "metadata": {},
     "output_type": "execute_result"
    }
   ],
   "source": [
    "bolt_efficiency = 4847/341/31\n",
    "\n",
    "bolt_efficiency"
   ]
  },
  {
   "cell_type": "code",
   "execution_count": 24,
   "id": "d06914be",
   "metadata": {},
   "outputs": [
    {
     "data": {
      "text/plain": [
       "0.19969278033794163"
      ]
     },
     "execution_count": 24,
     "metadata": {},
     "output_type": "execute_result"
    }
   ],
   "source": [
    "gotcha_efficiency =650/105/31\n",
    "\n",
    "gotcha_efficiency\n"
   ]
  },
  {
   "cell_type": "code",
   "execution_count": 25,
   "id": "bdff3c76",
   "metadata": {},
   "outputs": [
    {
     "data": {
      "text/plain": [
       "19.129032258064516"
      ]
     },
     "execution_count": 25,
     "metadata": {},
     "output_type": "execute_result"
    }
   ],
   "source": [
    "jump_efficiency = 593/1/31\n",
    "\n",
    "jump_efficiency\n"
   ]
  },
  {
   "cell_type": "code",
   "execution_count": 40,
   "id": "c38712a8",
   "metadata": {},
   "outputs": [
    {
     "data": {
      "text/html": [
       "<div>\n",
       "<style scoped>\n",
       "    .dataframe tbody tr th:only-of-type {\n",
       "        vertical-align: middle;\n",
       "    }\n",
       "\n",
       "    .dataframe tbody tr th {\n",
       "        vertical-align: top;\n",
       "    }\n",
       "\n",
       "    .dataframe thead th {\n",
       "        text-align: right;\n",
       "    }\n",
       "</style>\n",
       "<table border=\"1\" class=\"dataframe\">\n",
       "  <thead>\n",
       "    <tr style=\"text-align: right;\">\n",
       "      <th></th>\n",
       "      <th>Unnamed: 0</th>\n",
       "      <th>pubTimeStamp</th>\n",
       "      <th>companyName</th>\n",
       "      <th>tripRecordNum</th>\n",
       "      <th>sumdID</th>\n",
       "      <th>tripDuration</th>\n",
       "      <th>tripDistance</th>\n",
       "      <th>startDate</th>\n",
       "      <th>startTime</th>\n",
       "      <th>endDate</th>\n",
       "      <th>...</th>\n",
       "      <th>endLongitude</th>\n",
       "      <th>tripRoute</th>\n",
       "      <th>create_dt</th>\n",
       "      <th>start</th>\n",
       "      <th>end</th>\n",
       "      <th>totaltime</th>\n",
       "      <th>seconds</th>\n",
       "      <th>hours</th>\n",
       "      <th>minutes</th>\n",
       "      <th>geometry</th>\n",
       "    </tr>\n",
       "  </thead>\n",
       "  <tbody>\n",
       "    <tr>\n",
       "      <th>97861</th>\n",
       "      <td>100007</td>\n",
       "      <td>2019-05-17 10:31:57</td>\n",
       "      <td>JUMP</td>\n",
       "      <td>JMP425</td>\n",
       "      <td>Poweredb671ffe4-2bca-5880-98ec-d36f65aa11a2</td>\n",
       "      <td>5.735817</td>\n",
       "      <td>1161.6</td>\n",
       "      <td>2019-05-17 00:00:00.000000</td>\n",
       "      <td>05:44:32</td>\n",
       "      <td>2019-05-17 00:00:00.000000</td>\n",
       "      <td>...</td>\n",
       "      <td>-86.783110</td>\n",
       "      <td>\"36.16797\",\"-86.782968\",\"36.167975\",\"-86.78298...</td>\n",
       "      <td>2019-05-18 06:20:19.380000</td>\n",
       "      <td>2019-05-17 05:44:32.000000</td>\n",
       "      <td>2019-05-17 05:50:16.000000</td>\n",
       "      <td>0 days 00:05:44</td>\n",
       "      <td>344.0</td>\n",
       "      <td>5</td>\n",
       "      <td>5.733333</td>\n",
       "      <td>POINT (-86.78297 36.16790)</td>\n",
       "    </tr>\n",
       "    <tr>\n",
       "      <th>97862</th>\n",
       "      <td>100008</td>\n",
       "      <td>2019-05-17 10:31:57</td>\n",
       "      <td>JUMP</td>\n",
       "      <td>JMP382</td>\n",
       "      <td>Poweredb671ffe4-2bca-5880-98ec-d36f65aa11a2</td>\n",
       "      <td>17.605667</td>\n",
       "      <td>6969.6</td>\n",
       "      <td>2019-05-17 00:00:00.000000</td>\n",
       "      <td>04:33:39</td>\n",
       "      <td>2019-05-17 00:00:00.000000</td>\n",
       "      <td>...</td>\n",
       "      <td>-86.767180</td>\n",
       "      <td>\"36.161466\",\"-86.775936\",\"36.161466\",\"-86.7759...</td>\n",
       "      <td>2019-05-18 06:20:17.900000</td>\n",
       "      <td>2019-05-17 04:33:39.000000</td>\n",
       "      <td>2019-05-17 04:51:16.000000</td>\n",
       "      <td>0 days 00:17:37</td>\n",
       "      <td>1057.0</td>\n",
       "      <td>4</td>\n",
       "      <td>17.616667</td>\n",
       "      <td>POINT (-86.77598 36.16151)</td>\n",
       "    </tr>\n",
       "    <tr>\n",
       "      <th>97863</th>\n",
       "      <td>100009</td>\n",
       "      <td>2019-05-17 10:31:57</td>\n",
       "      <td>JUMP</td>\n",
       "      <td>JMP391</td>\n",
       "      <td>Poweredb671ffe4-2bca-5880-98ec-d36f65aa11a2</td>\n",
       "      <td>3.145083</td>\n",
       "      <td>633.6</td>\n",
       "      <td>2019-05-17 00:00:00.000000</td>\n",
       "      <td>05:03:35</td>\n",
       "      <td>2019-05-17 00:00:00.000000</td>\n",
       "      <td>...</td>\n",
       "      <td>-86.782610</td>\n",
       "      <td>\"36.158383\",\"-86.784003\",\"36.158096\",\"-86.7841...</td>\n",
       "      <td>2019-05-18 06:20:18.233000</td>\n",
       "      <td>2019-05-17 05:03:35.000000</td>\n",
       "      <td>2019-05-17 05:06:43.000000</td>\n",
       "      <td>0 days 00:03:08</td>\n",
       "      <td>188.0</td>\n",
       "      <td>5</td>\n",
       "      <td>3.133333</td>\n",
       "      <td>POINT (-86.78403 36.15819)</td>\n",
       "    </tr>\n",
       "    <tr>\n",
       "      <th>97864</th>\n",
       "      <td>100010</td>\n",
       "      <td>2019-05-17 10:31:57</td>\n",
       "      <td>JUMP</td>\n",
       "      <td>JMP461</td>\n",
       "      <td>Poweredb671ffe4-2bca-5880-98ec-d36f65aa11a2</td>\n",
       "      <td>2.921533</td>\n",
       "      <td>1108.8</td>\n",
       "      <td>2019-05-17 00:00:00.000000</td>\n",
       "      <td>07:26:38</td>\n",
       "      <td>2019-05-17 00:00:00.000000</td>\n",
       "      <td>...</td>\n",
       "      <td>-86.775670</td>\n",
       "      <td>\"36.16387\",\"-86.774781\",\"36.16387\",\"-86.774781...</td>\n",
       "      <td>2019-05-18 06:20:35.663000</td>\n",
       "      <td>2019-05-17 07:26:38.000000</td>\n",
       "      <td>2019-05-17 07:29:34.000000</td>\n",
       "      <td>0 days 00:02:56</td>\n",
       "      <td>176.0</td>\n",
       "      <td>7</td>\n",
       "      <td>2.933333</td>\n",
       "      <td>POINT (-86.77478 36.16387)</td>\n",
       "    </tr>\n",
       "    <tr>\n",
       "      <th>97865</th>\n",
       "      <td>100011</td>\n",
       "      <td>2019-05-17 10:31:57</td>\n",
       "      <td>JUMP</td>\n",
       "      <td>JMP415</td>\n",
       "      <td>Poweredb671ffe4-2bca-5880-98ec-d36f65aa11a2</td>\n",
       "      <td>25.616600</td>\n",
       "      <td>17054.4</td>\n",
       "      <td>2019-05-17 00:00:00.000000</td>\n",
       "      <td>05:11:18</td>\n",
       "      <td>2019-05-17 00:00:00.000000</td>\n",
       "      <td>...</td>\n",
       "      <td>-86.806590</td>\n",
       "      <td>\"36.157531\",\"-86.792738\",\"36.157443\",\"-86.7928...</td>\n",
       "      <td>2019-05-18 06:20:18.973000</td>\n",
       "      <td>2019-05-17 05:11:18.000000</td>\n",
       "      <td>2019-05-17 05:36:55.000000</td>\n",
       "      <td>0 days 00:25:37</td>\n",
       "      <td>1537.0</td>\n",
       "      <td>5</td>\n",
       "      <td>25.616667</td>\n",
       "      <td>POINT (-86.79275 36.15755)</td>\n",
       "    </tr>\n",
       "    <tr>\n",
       "      <th>...</th>\n",
       "      <td>...</td>\n",
       "      <td>...</td>\n",
       "      <td>...</td>\n",
       "      <td>...</td>\n",
       "      <td>...</td>\n",
       "      <td>...</td>\n",
       "      <td>...</td>\n",
       "      <td>...</td>\n",
       "      <td>...</td>\n",
       "      <td>...</td>\n",
       "      <td>...</td>\n",
       "      <td>...</td>\n",
       "      <td>...</td>\n",
       "      <td>...</td>\n",
       "      <td>...</td>\n",
       "      <td>...</td>\n",
       "      <td>...</td>\n",
       "      <td>...</td>\n",
       "      <td>...</td>\n",
       "      <td>...</td>\n",
       "      <td>...</td>\n",
       "    </tr>\n",
       "    <tr>\n",
       "      <th>130779</th>\n",
       "      <td>133628</td>\n",
       "      <td>2019-05-20 16:02:08</td>\n",
       "      <td>JUMP</td>\n",
       "      <td>JMP564</td>\n",
       "      <td>Poweredb671ffe4-2bca-5880-98ec-d36f65aa11a2</td>\n",
       "      <td>5.819267</td>\n",
       "      <td>1584.0</td>\n",
       "      <td>2019-05-20 00:00:00.000000</td>\n",
       "      <td>11:47:22</td>\n",
       "      <td>2019-05-20 00:00:00.000000</td>\n",
       "      <td>...</td>\n",
       "      <td>-86.801674</td>\n",
       "      <td>\"36.135671\",\"-86.800901\",\"36.135671\",\"-86.8009...</td>\n",
       "      <td>2019-05-21 06:24:36.833000</td>\n",
       "      <td>2019-05-20 11:47:22.000000</td>\n",
       "      <td>2019-05-20 11:53:11.000000</td>\n",
       "      <td>0 days 00:05:49</td>\n",
       "      <td>349.0</td>\n",
       "      <td>11</td>\n",
       "      <td>5.816667</td>\n",
       "      <td>POINT (-86.80090 36.13567)</td>\n",
       "    </tr>\n",
       "    <tr>\n",
       "      <th>130780</th>\n",
       "      <td>133629</td>\n",
       "      <td>2019-05-20 16:02:08</td>\n",
       "      <td>JUMP</td>\n",
       "      <td>JMP566</td>\n",
       "      <td>Poweredb671ffe4-2bca-5880-98ec-d36f65aa11a2</td>\n",
       "      <td>3.262967</td>\n",
       "      <td>1531.2</td>\n",
       "      <td>2019-05-20 00:00:00.000000</td>\n",
       "      <td>11:58:47</td>\n",
       "      <td>2019-05-20 00:00:00.000000</td>\n",
       "      <td>...</td>\n",
       "      <td>-86.798860</td>\n",
       "      <td>\"36.152121\",\"-86.80322\",\"36.152121\",\"-86.80322...</td>\n",
       "      <td>2019-05-21 06:24:36.897000</td>\n",
       "      <td>2019-05-20 11:58:47.000000</td>\n",
       "      <td>2019-05-20 12:02:03.000000</td>\n",
       "      <td>0 days 00:03:16</td>\n",
       "      <td>196.0</td>\n",
       "      <td>11</td>\n",
       "      <td>3.266667</td>\n",
       "      <td>POINT (-86.80322 36.15212)</td>\n",
       "    </tr>\n",
       "    <tr>\n",
       "      <th>130781</th>\n",
       "      <td>133630</td>\n",
       "      <td>2019-05-20 16:02:08</td>\n",
       "      <td>JUMP</td>\n",
       "      <td>JMP565</td>\n",
       "      <td>Poweredb671ffe4-2bca-5880-98ec-d36f65aa11a2</td>\n",
       "      <td>4.210117</td>\n",
       "      <td>211.2</td>\n",
       "      <td>2019-05-20 00:00:00.000000</td>\n",
       "      <td>11:57:05</td>\n",
       "      <td>2019-05-20 00:00:00.000000</td>\n",
       "      <td>...</td>\n",
       "      <td>-86.792630</td>\n",
       "      <td>\"36.18197\",\"-86.793268\",\"36.18197\",\"-86.793268...</td>\n",
       "      <td>2019-05-21 06:24:36.960000</td>\n",
       "      <td>2019-05-20 11:57:05.000000</td>\n",
       "      <td>2019-05-20 12:01:17.000000</td>\n",
       "      <td>0 days 00:04:12</td>\n",
       "      <td>252.0</td>\n",
       "      <td>11</td>\n",
       "      <td>4.200000</td>\n",
       "      <td>POINT (-86.79327 36.18196)</td>\n",
       "    </tr>\n",
       "    <tr>\n",
       "      <th>130782</th>\n",
       "      <td>133631</td>\n",
       "      <td>2019-05-20 16:02:08</td>\n",
       "      <td>JUMP</td>\n",
       "      <td>JMP568</td>\n",
       "      <td>Poweredb671ffe4-2bca-5880-98ec-d36f65aa11a2</td>\n",
       "      <td>1.409867</td>\n",
       "      <td>0.0</td>\n",
       "      <td>2019-05-20 00:00:00.000000</td>\n",
       "      <td>12:07:58</td>\n",
       "      <td>2019-05-20 00:00:00.000000</td>\n",
       "      <td>...</td>\n",
       "      <td>-86.779015</td>\n",
       "      <td>\"36.16658\",\"-86.77904\",\"36.166575\",\"-86.779013...</td>\n",
       "      <td>2019-05-21 06:24:37.020000</td>\n",
       "      <td>2019-05-20 12:07:58.000000</td>\n",
       "      <td>2019-05-20 12:09:23.000000</td>\n",
       "      <td>0 days 00:01:25</td>\n",
       "      <td>85.0</td>\n",
       "      <td>12</td>\n",
       "      <td>1.416667</td>\n",
       "      <td>POINT (-86.77904 36.16656)</td>\n",
       "    </tr>\n",
       "    <tr>\n",
       "      <th>130783</th>\n",
       "      <td>133632</td>\n",
       "      <td>2019-05-20 16:02:08</td>\n",
       "      <td>JUMP</td>\n",
       "      <td>JMP567</td>\n",
       "      <td>Poweredb671ffe4-2bca-5880-98ec-d36f65aa11a2</td>\n",
       "      <td>2.918867</td>\n",
       "      <td>633.6</td>\n",
       "      <td>2019-05-20 00:00:00.000000</td>\n",
       "      <td>12:05:51</td>\n",
       "      <td>2019-05-20 00:00:00.000000</td>\n",
       "      <td>...</td>\n",
       "      <td>-86.774950</td>\n",
       "      <td>\"36.158155\",\"-86.775421\",\"36.158155\",\"-86.7754...</td>\n",
       "      <td>2019-05-21 06:24:37.080000</td>\n",
       "      <td>2019-05-20 12:05:51.000000</td>\n",
       "      <td>2019-05-20 12:08:46.000000</td>\n",
       "      <td>0 days 00:02:55</td>\n",
       "      <td>175.0</td>\n",
       "      <td>12</td>\n",
       "      <td>2.916667</td>\n",
       "      <td>POINT (-86.77542 36.15815)</td>\n",
       "    </tr>\n",
       "  </tbody>\n",
       "</table>\n",
       "<p>593 rows × 24 columns</p>\n",
       "</div>"
      ],
      "text/plain": [
       "        Unnamed: 0         pubTimeStamp companyName tripRecordNum  \\\n",
       "97861       100007  2019-05-17 10:31:57        JUMP        JMP425   \n",
       "97862       100008  2019-05-17 10:31:57        JUMP        JMP382   \n",
       "97863       100009  2019-05-17 10:31:57        JUMP        JMP391   \n",
       "97864       100010  2019-05-17 10:31:57        JUMP        JMP461   \n",
       "97865       100011  2019-05-17 10:31:57        JUMP        JMP415   \n",
       "...            ...                  ...         ...           ...   \n",
       "130779      133628  2019-05-20 16:02:08        JUMP        JMP564   \n",
       "130780      133629  2019-05-20 16:02:08        JUMP        JMP566   \n",
       "130781      133630  2019-05-20 16:02:08        JUMP        JMP565   \n",
       "130782      133631  2019-05-20 16:02:08        JUMP        JMP568   \n",
       "130783      133632  2019-05-20 16:02:08        JUMP        JMP567   \n",
       "\n",
       "                                             sumdID  tripDuration  \\\n",
       "97861   Poweredb671ffe4-2bca-5880-98ec-d36f65aa11a2      5.735817   \n",
       "97862   Poweredb671ffe4-2bca-5880-98ec-d36f65aa11a2     17.605667   \n",
       "97863   Poweredb671ffe4-2bca-5880-98ec-d36f65aa11a2      3.145083   \n",
       "97864   Poweredb671ffe4-2bca-5880-98ec-d36f65aa11a2      2.921533   \n",
       "97865   Poweredb671ffe4-2bca-5880-98ec-d36f65aa11a2     25.616600   \n",
       "...                                             ...           ...   \n",
       "130779  Poweredb671ffe4-2bca-5880-98ec-d36f65aa11a2      5.819267   \n",
       "130780  Poweredb671ffe4-2bca-5880-98ec-d36f65aa11a2      3.262967   \n",
       "130781  Poweredb671ffe4-2bca-5880-98ec-d36f65aa11a2      4.210117   \n",
       "130782  Poweredb671ffe4-2bca-5880-98ec-d36f65aa11a2      1.409867   \n",
       "130783  Poweredb671ffe4-2bca-5880-98ec-d36f65aa11a2      2.918867   \n",
       "\n",
       "        tripDistance                   startDate startTime  \\\n",
       "97861         1161.6  2019-05-17 00:00:00.000000  05:44:32   \n",
       "97862         6969.6  2019-05-17 00:00:00.000000  04:33:39   \n",
       "97863          633.6  2019-05-17 00:00:00.000000  05:03:35   \n",
       "97864         1108.8  2019-05-17 00:00:00.000000  07:26:38   \n",
       "97865        17054.4  2019-05-17 00:00:00.000000  05:11:18   \n",
       "...              ...                         ...       ...   \n",
       "130779        1584.0  2019-05-20 00:00:00.000000  11:47:22   \n",
       "130780        1531.2  2019-05-20 00:00:00.000000  11:58:47   \n",
       "130781         211.2  2019-05-20 00:00:00.000000  11:57:05   \n",
       "130782           0.0  2019-05-20 00:00:00.000000  12:07:58   \n",
       "130783         633.6  2019-05-20 00:00:00.000000  12:05:51   \n",
       "\n",
       "                           endDate  ... endLongitude  \\\n",
       "97861   2019-05-17 00:00:00.000000  ...   -86.783110   \n",
       "97862   2019-05-17 00:00:00.000000  ...   -86.767180   \n",
       "97863   2019-05-17 00:00:00.000000  ...   -86.782610   \n",
       "97864   2019-05-17 00:00:00.000000  ...   -86.775670   \n",
       "97865   2019-05-17 00:00:00.000000  ...   -86.806590   \n",
       "...                            ...  ...          ...   \n",
       "130779  2019-05-20 00:00:00.000000  ...   -86.801674   \n",
       "130780  2019-05-20 00:00:00.000000  ...   -86.798860   \n",
       "130781  2019-05-20 00:00:00.000000  ...   -86.792630   \n",
       "130782  2019-05-20 00:00:00.000000  ...   -86.779015   \n",
       "130783  2019-05-20 00:00:00.000000  ...   -86.774950   \n",
       "\n",
       "                                                tripRoute  \\\n",
       "97861   \"36.16797\",\"-86.782968\",\"36.167975\",\"-86.78298...   \n",
       "97862   \"36.161466\",\"-86.775936\",\"36.161466\",\"-86.7759...   \n",
       "97863   \"36.158383\",\"-86.784003\",\"36.158096\",\"-86.7841...   \n",
       "97864   \"36.16387\",\"-86.774781\",\"36.16387\",\"-86.774781...   \n",
       "97865   \"36.157531\",\"-86.792738\",\"36.157443\",\"-86.7928...   \n",
       "...                                                   ...   \n",
       "130779  \"36.135671\",\"-86.800901\",\"36.135671\",\"-86.8009...   \n",
       "130780  \"36.152121\",\"-86.80322\",\"36.152121\",\"-86.80322...   \n",
       "130781  \"36.18197\",\"-86.793268\",\"36.18197\",\"-86.793268...   \n",
       "130782  \"36.16658\",\"-86.77904\",\"36.166575\",\"-86.779013...   \n",
       "130783  \"36.158155\",\"-86.775421\",\"36.158155\",\"-86.7754...   \n",
       "\n",
       "                         create_dt                       start  \\\n",
       "97861   2019-05-18 06:20:19.380000  2019-05-17 05:44:32.000000   \n",
       "97862   2019-05-18 06:20:17.900000  2019-05-17 04:33:39.000000   \n",
       "97863   2019-05-18 06:20:18.233000  2019-05-17 05:03:35.000000   \n",
       "97864   2019-05-18 06:20:35.663000  2019-05-17 07:26:38.000000   \n",
       "97865   2019-05-18 06:20:18.973000  2019-05-17 05:11:18.000000   \n",
       "...                            ...                         ...   \n",
       "130779  2019-05-21 06:24:36.833000  2019-05-20 11:47:22.000000   \n",
       "130780  2019-05-21 06:24:36.897000  2019-05-20 11:58:47.000000   \n",
       "130781  2019-05-21 06:24:36.960000  2019-05-20 11:57:05.000000   \n",
       "130782  2019-05-21 06:24:37.020000  2019-05-20 12:07:58.000000   \n",
       "130783  2019-05-21 06:24:37.080000  2019-05-20 12:05:51.000000   \n",
       "\n",
       "                               end        totaltime seconds hours    minutes  \\\n",
       "97861   2019-05-17 05:50:16.000000  0 days 00:05:44   344.0     5   5.733333   \n",
       "97862   2019-05-17 04:51:16.000000  0 days 00:17:37  1057.0     4  17.616667   \n",
       "97863   2019-05-17 05:06:43.000000  0 days 00:03:08   188.0     5   3.133333   \n",
       "97864   2019-05-17 07:29:34.000000  0 days 00:02:56   176.0     7   2.933333   \n",
       "97865   2019-05-17 05:36:55.000000  0 days 00:25:37  1537.0     5  25.616667   \n",
       "...                            ...              ...     ...   ...        ...   \n",
       "130779  2019-05-20 11:53:11.000000  0 days 00:05:49   349.0    11   5.816667   \n",
       "130780  2019-05-20 12:02:03.000000  0 days 00:03:16   196.0    11   3.266667   \n",
       "130781  2019-05-20 12:01:17.000000  0 days 00:04:12   252.0    11   4.200000   \n",
       "130782  2019-05-20 12:09:23.000000  0 days 00:01:25    85.0    12   1.416667   \n",
       "130783  2019-05-20 12:08:46.000000  0 days 00:02:55   175.0    12   2.916667   \n",
       "\n",
       "                          geometry  \n",
       "97861   POINT (-86.78297 36.16790)  \n",
       "97862   POINT (-86.77598 36.16151)  \n",
       "97863   POINT (-86.78403 36.15819)  \n",
       "97864   POINT (-86.77478 36.16387)  \n",
       "97865   POINT (-86.79275 36.15755)  \n",
       "...                            ...  \n",
       "130779  POINT (-86.80090 36.13567)  \n",
       "130780  POINT (-86.80322 36.15212)  \n",
       "130781  POINT (-86.79327 36.18196)  \n",
       "130782  POINT (-86.77904 36.16656)  \n",
       "130783  POINT (-86.77542 36.15815)  \n",
       "\n",
       "[593 rows x 24 columns]"
      ]
     },
     "execution_count": 40,
     "metadata": {},
     "output_type": "execute_result"
    }
   ],
   "source": [
    "jump_scooters = may_trip_clean_geo.loc[may_trip_clean_geo['companyName'] == 'JUMP']\n",
    "\n",
    "jump_scooters"
   ]
  },
  {
   "cell_type": "code",
   "execution_count": 29,
   "id": "245e1816",
   "metadata": {},
   "outputs": [
    {
     "data": {
      "text/plain": [
       "2.0994146061896184"
      ]
     },
     "execution_count": 29,
     "metadata": {},
     "output_type": "execute_result"
    }
   ],
   "source": [
    "lime_efficiency = 102569/1576/31\n",
    "\n",
    "lime_efficiency"
   ]
  },
  {
   "cell_type": "code",
   "execution_count": 30,
   "id": "05fc20a7",
   "metadata": {},
   "outputs": [
    {
     "data": {
      "text/plain": [
       "1.2351586792945477"
      ]
     },
     "execution_count": 30,
     "metadata": {},
     "output_type": "execute_result"
    }
   ],
   "source": [
    "lyft_efficiency = 52036/1359/31\n",
    "\n",
    "lyft_efficiency"
   ]
  },
  {
   "cell_type": "code",
   "execution_count": 32,
   "id": "42ced6d7",
   "metadata": {},
   "outputs": [
    {
     "data": {
      "text/plain": [
       "0.4288902414282816"
      ]
     },
     "execution_count": 32,
     "metadata": {},
     "output_type": "execute_result"
    }
   ],
   "source": [
    "spin_efficiency = 8456/636/31\n",
    "\n",
    "spin_efficiency"
   ]
  },
  {
   "cell_type": "code",
   "execution_count": null,
   "id": "035a14bf",
   "metadata": {},
   "outputs": [],
   "source": []
  },
  {
   "cell_type": "code",
   "execution_count": null,
   "id": "0eb6d84b",
   "metadata": {},
   "outputs": [],
   "source": []
  },
  {
   "cell_type": "code",
   "execution_count": null,
   "id": "534ceb5d",
   "metadata": {},
   "outputs": [],
   "source": [
    "may_trip_clean_geo_3 = may_trip_clean_geo[(may_trip_clean_geo[''] == 22)"
   ]
  },
  {
   "cell_type": "code",
   "execution_count": null,
   "id": "8bfa7abb",
   "metadata": {},
   "outputs": [],
   "source": [
    "may_trip_clean_geo['number_of_trips'] = if sum(may_trip_clean_geo['sumdid'] >= 3, 'efficient'"
   ]
  },
  {
   "cell_type": "code",
   "execution_count": null,
   "id": "ff85c186",
   "metadata": {},
   "outputs": [],
   "source": [
    "may_trip_clean_geo['number_of_trips'] = np.where(sum(may_trip_clean_geo['sumdID']) >=3, may_trip_clean_geo['efficient'],\\ \n",
    "        np.where(sum(may_trip_clean_geo['sumdID']) <3, may_trip_clean_geo['not_effecient'],\\\n"
   ]
  },
  {
   "cell_type": "code",
   "execution_count": null,
   "id": "64cac435",
   "metadata": {},
   "outputs": [],
   "source": [
    "print(\"Count of students with physics marks greater than 11 is->\",\n",
    "      dataframe[dataframe['Physics'] > 11]['Name'].count())"
   ]
  },
  {
   "cell_type": "code",
   "execution_count": null,
   "id": "7eb3092d",
   "metadata": {},
   "outputs": [],
   "source": [
    "value_counts = may_trip_clean_geo['sumdID'].value_counts()\n",
    "\n",
    "value_counts\n"
   ]
  },
  {
   "cell_type": "code",
   "execution_count": null,
   "id": "5cb9a947",
   "metadata": {},
   "outputs": [],
   "source": [
    "print(value_counts[value_counts > 2].index[0])"
   ]
  },
  {
   "cell_type": "code",
   "execution_count": null,
   "id": "6ce76361",
   "metadata": {},
   "outputs": [],
   "source": [
    "may_trip_clean_geo['number_of_trips'] = if sum(may_trip_clean_geo['sumdid'].value_counts() >= 3, 'efficient')\n",
    "                                            else may_trip_clean_geo['sumdid']"
   ]
  },
  {
   "cell_type": "code",
   "execution_count": null,
   "id": "a15cbebc",
   "metadata": {},
   "outputs": [],
   "source": []
  },
  {
   "cell_type": "code",
   "execution_count": null,
   "id": "37a2c391",
   "metadata": {},
   "outputs": [],
   "source": []
  },
  {
   "cell_type": "code",
   "execution_count": null,
   "id": "62df8c56",
   "metadata": {},
   "outputs": [],
   "source": []
  },
  {
   "cell_type": "code",
   "execution_count": null,
   "id": "8d790975",
   "metadata": {},
   "outputs": [],
   "source": []
  },
  {
   "cell_type": "code",
   "execution_count": null,
   "id": "5d4d93d5",
   "metadata": {},
   "outputs": [],
   "source": []
  },
  {
   "cell_type": "code",
   "execution_count": null,
   "id": "55ae49ed",
   "metadata": {},
   "outputs": [],
   "source": []
  },
  {
   "cell_type": "code",
   "execution_count": null,
   "id": "842e2da8",
   "metadata": {},
   "outputs": [],
   "source": []
  },
  {
   "cell_type": "code",
   "execution_count": null,
   "id": "18574a29",
   "metadata": {},
   "outputs": [],
   "source": [
    "may_trip_clean_geo.shape"
   ]
  },
  {
   "cell_type": "code",
   "execution_count": null,
   "id": "1d9c39cd",
   "metadata": {},
   "outputs": [],
   "source": [
    "may_trip_clean_geo.nunique()"
   ]
  },
  {
   "cell_type": "code",
   "execution_count": null,
   "id": "9a8ec009",
   "metadata": {},
   "outputs": [],
   "source": [
    "rides_per_scooter = 220387/6955"
   ]
  },
  {
   "cell_type": "code",
   "execution_count": null,
   "id": "458f556a",
   "metadata": {},
   "outputs": [],
   "source": [
    "rides_per_scooter_per_day = rides_per_scooter/31\n",
    "\n",
    "rides_per_scooter_per_day"
   ]
  },
  {
   "cell_type": "code",
   "execution_count": null,
   "id": "919d5108",
   "metadata": {},
   "outputs": [],
   "source": [
    "zipcodes = gpd.read_file('../data/zipcodes.geojson')\n",
    "print(zipcodes.crs)\n",
    "zipcodes.head()"
   ]
  },
  {
   "cell_type": "code",
   "execution_count": null,
   "id": "c7e4bd30",
   "metadata": {},
   "outputs": [],
   "source": []
  },
  {
   "cell_type": "code",
   "execution_count": null,
   "id": "674c6843",
   "metadata": {},
   "outputs": [],
   "source": []
  },
  {
   "cell_type": "code",
   "execution_count": null,
   "id": "ba0542ba",
   "metadata": {},
   "outputs": [],
   "source": []
  },
  {
   "cell_type": "code",
   "execution_count": null,
   "id": "0ed7474e",
   "metadata": {},
   "outputs": [],
   "source": []
  },
  {
   "cell_type": "code",
   "execution_count": null,
   "id": "aa318feb",
   "metadata": {},
   "outputs": [],
   "source": []
  },
  {
   "cell_type": "code",
   "execution_count": null,
   "id": "e33c9a65",
   "metadata": {},
   "outputs": [],
   "source": []
  },
  {
   "cell_type": "code",
   "execution_count": null,
   "id": "544107a9",
   "metadata": {},
   "outputs": [],
   "source": []
  },
  {
   "cell_type": "code",
   "execution_count": null,
   "id": "5b56b2ab",
   "metadata": {},
   "outputs": [],
   "source": []
  },
  {
   "cell_type": "code",
   "execution_count": null,
   "id": "299dbf95",
   "metadata": {},
   "outputs": [],
   "source": []
  },
  {
   "cell_type": "code",
   "execution_count": null,
   "id": "52a4bb03",
   "metadata": {},
   "outputs": [],
   "source": []
  },
  {
   "cell_type": "code",
   "execution_count": null,
   "id": "17a182b8",
   "metadata": {},
   "outputs": [],
   "source": []
  },
  {
   "cell_type": "code",
   "execution_count": null,
   "id": "9e753d1d",
   "metadata": {},
   "outputs": [],
   "source": []
  },
  {
   "cell_type": "code",
   "execution_count": null,
   "id": "af5e54e8",
   "metadata": {},
   "outputs": [],
   "source": []
  },
  {
   "cell_type": "code",
   "execution_count": null,
   "id": "0bfdc5e7",
   "metadata": {},
   "outputs": [],
   "source": []
  },
  {
   "cell_type": "code",
   "execution_count": null,
   "id": "2dedce0a",
   "metadata": {},
   "outputs": [],
   "source": []
  },
  {
   "cell_type": "code",
   "execution_count": null,
   "id": "ae36b844",
   "metadata": {},
   "outputs": [],
   "source": []
  },
  {
   "cell_type": "code",
   "execution_count": null,
   "id": "535795c6",
   "metadata": {},
   "outputs": [],
   "source": []
  }
 ],
 "metadata": {
  "kernelspec": {
   "display_name": "Python 3 (ipykernel)",
   "language": "python",
   "name": "python3"
  },
  "language_info": {
   "codemirror_mode": {
    "name": "ipython",
    "version": 3
   },
   "file_extension": ".py",
   "mimetype": "text/x-python",
   "name": "python",
   "nbconvert_exporter": "python",
   "pygments_lexer": "ipython3",
   "version": "3.8.5"
  }
 },
 "nbformat": 4,
 "nbformat_minor": 5
}
