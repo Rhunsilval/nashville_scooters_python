{
 "cells": [
  {
   "cell_type": "code",
   "execution_count": 1,
   "id": "3b5e1e29",
   "metadata": {},
   "outputs": [],
   "source": [
    "import pandas as pd\n",
    "import pickle\n",
    "import matplotlib.pyplot as plt\n",
    "import seaborn\n",
    "from shapely.geometry import Point\n",
    "import geopandas as gpd\n",
    "import folium\n",
    "from folium.plugins import MarkerCluster\n",
    "from folium.plugins import FastMarkerCluster\n",
    "\n",
    "%matplotlib inline "
   ]
  },
  {
   "cell_type": "code",
   "execution_count": 3,
   "id": "e4c90fb9",
   "metadata": {},
   "outputs": [],
   "source": [
    "may_trip = pd.read_csv('../data/may_trip_adj.csv')"
   ]
  },
  {
   "cell_type": "code",
   "execution_count": 5,
   "id": "e769c552",
   "metadata": {
    "scrolled": false
   },
   "outputs": [
    {
     "name": "stdout",
     "output_type": "stream",
     "text": [
      "<class 'pandas.core.frame.DataFrame'>\n",
      "RangeIndex: 156320 entries, 0 to 156319\n",
      "Data columns (total 21 columns):\n",
      " #   Column          Non-Null Count   Dtype  \n",
      "---  ------          --------------   -----  \n",
      " 0   pubTimeStamp    156320 non-null  object \n",
      " 1   companyName     156320 non-null  object \n",
      " 2   tripRecordNum   156320 non-null  object \n",
      " 3   sumdID          156320 non-null  object \n",
      " 4   tripDuration    156320 non-null  float64\n",
      " 5   tripDistance    156320 non-null  float64\n",
      " 6   startDate       156320 non-null  object \n",
      " 7   startTime       156320 non-null  object \n",
      " 8   endDate         156320 non-null  object \n",
      " 9   endTime         156320 non-null  object \n",
      " 10  startLatitude   156320 non-null  float64\n",
      " 11  startLongitude  156320 non-null  float64\n",
      " 12  endLatitude     156320 non-null  float64\n",
      " 13  endLongitude    156320 non-null  float64\n",
      " 14  tripRoute       156320 non-null  object \n",
      " 15  create_dt       156320 non-null  object \n",
      " 16  start           156320 non-null  object \n",
      " 17  end             156320 non-null  object \n",
      " 18  totaltime       156320 non-null  object \n",
      " 19  seconds         156320 non-null  float64\n",
      " 20  minutes         156320 non-null  float64\n",
      "dtypes: float64(8), object(13)\n",
      "memory usage: 25.0+ MB\n"
     ]
    }
   ],
   "source": [
    "may_trip.info()"
   ]
  },
  {
   "cell_type": "code",
   "execution_count": 6,
   "id": "ff611340",
   "metadata": {},
   "outputs": [],
   "source": [
    "june_trip = pd.read_csv('../data/june_trip_adj.csv')"
   ]
  },
  {
   "cell_type": "code",
   "execution_count": 7,
   "id": "a4d6d930",
   "metadata": {},
   "outputs": [],
   "source": [
    "july_trip = pd.read_csv('../data/july_trip_adj.csv')"
   ]
  },
  {
   "cell_type": "code",
   "execution_count": 8,
   "id": "9ffeb7b9",
   "metadata": {
    "scrolled": true
   },
   "outputs": [
    {
     "data": {
      "text/html": [
       "<div>\n",
       "<style scoped>\n",
       "    .dataframe tbody tr th:only-of-type {\n",
       "        vertical-align: middle;\n",
       "    }\n",
       "\n",
       "    .dataframe tbody tr th {\n",
       "        vertical-align: top;\n",
       "    }\n",
       "\n",
       "    .dataframe thead th {\n",
       "        text-align: right;\n",
       "    }\n",
       "</style>\n",
       "<table border=\"1\" class=\"dataframe\">\n",
       "  <thead>\n",
       "    <tr style=\"text-align: right;\">\n",
       "      <th></th>\n",
       "      <th>tripDuration</th>\n",
       "      <th>tripDistance</th>\n",
       "      <th>startLatitude</th>\n",
       "      <th>startLongitude</th>\n",
       "      <th>endLatitude</th>\n",
       "      <th>endLongitude</th>\n",
       "      <th>seconds</th>\n",
       "      <th>minutes</th>\n",
       "    </tr>\n",
       "  </thead>\n",
       "  <tbody>\n",
       "    <tr>\n",
       "      <th>count</th>\n",
       "      <td>156320.000000</td>\n",
       "      <td>156320.000000</td>\n",
       "      <td>156320.000000</td>\n",
       "      <td>156320.000000</td>\n",
       "      <td>156320.000000</td>\n",
       "      <td>156320.000000</td>\n",
       "      <td>156320.000000</td>\n",
       "      <td>156320.000000</td>\n",
       "    </tr>\n",
       "    <tr>\n",
       "      <th>mean</th>\n",
       "      <td>22.524736</td>\n",
       "      <td>2336.396540</td>\n",
       "      <td>36.154780</td>\n",
       "      <td>-86.784007</td>\n",
       "      <td>36.155179</td>\n",
       "      <td>-86.784119</td>\n",
       "      <td>581.114500</td>\n",
       "      <td>9.685242</td>\n",
       "    </tr>\n",
       "    <tr>\n",
       "      <th>std</th>\n",
       "      <td>102.663723</td>\n",
       "      <td>2346.099949</td>\n",
       "      <td>0.013520</td>\n",
       "      <td>0.013331</td>\n",
       "      <td>0.019613</td>\n",
       "      <td>0.081653</td>\n",
       "      <td>359.525777</td>\n",
       "      <td>5.992096</td>\n",
       "    </tr>\n",
       "    <tr>\n",
       "      <th>min</th>\n",
       "      <td>1.000000</td>\n",
       "      <td>0.083756</td>\n",
       "      <td>36.044707</td>\n",
       "      <td>-86.918008</td>\n",
       "      <td>32.775953</td>\n",
       "      <td>-117.076117</td>\n",
       "      <td>60.000000</td>\n",
       "      <td>1.000000</td>\n",
       "    </tr>\n",
       "    <tr>\n",
       "      <th>25%</th>\n",
       "      <td>5.000000</td>\n",
       "      <td>389.229600</td>\n",
       "      <td>36.149850</td>\n",
       "      <td>-86.791213</td>\n",
       "      <td>36.150100</td>\n",
       "      <td>-86.791131</td>\n",
       "      <td>299.000000</td>\n",
       "      <td>4.983333</td>\n",
       "    </tr>\n",
       "    <tr>\n",
       "      <th>50%</th>\n",
       "      <td>8.366667</td>\n",
       "      <td>1321.308000</td>\n",
       "      <td>36.156700</td>\n",
       "      <td>-86.781473</td>\n",
       "      <td>36.156980</td>\n",
       "      <td>-86.781495</td>\n",
       "      <td>495.278333</td>\n",
       "      <td>8.254639</td>\n",
       "    </tr>\n",
       "    <tr>\n",
       "      <th>75%</th>\n",
       "      <td>13.633333</td>\n",
       "      <td>3887.748000</td>\n",
       "      <td>36.162592</td>\n",
       "      <td>-86.776290</td>\n",
       "      <td>36.162530</td>\n",
       "      <td>-86.776370</td>\n",
       "      <td>791.849999</td>\n",
       "      <td>13.197500</td>\n",
       "    </tr>\n",
       "    <tr>\n",
       "      <th>max</th>\n",
       "      <td>1643.000000</td>\n",
       "      <td>8759.840000</td>\n",
       "      <td>36.293024</td>\n",
       "      <td>-86.608901</td>\n",
       "      <td>39.768425</td>\n",
       "      <td>-77.021907</td>\n",
       "      <td>1651.600000</td>\n",
       "      <td>27.526667</td>\n",
       "    </tr>\n",
       "  </tbody>\n",
       "</table>\n",
       "</div>"
      ],
      "text/plain": [
       "        tripDuration   tripDistance  startLatitude  startLongitude  \\\n",
       "count  156320.000000  156320.000000  156320.000000   156320.000000   \n",
       "mean       22.524736    2336.396540      36.154780      -86.784007   \n",
       "std       102.663723    2346.099949       0.013520        0.013331   \n",
       "min         1.000000       0.083756      36.044707      -86.918008   \n",
       "25%         5.000000     389.229600      36.149850      -86.791213   \n",
       "50%         8.366667    1321.308000      36.156700      -86.781473   \n",
       "75%        13.633333    3887.748000      36.162592      -86.776290   \n",
       "max      1643.000000    8759.840000      36.293024      -86.608901   \n",
       "\n",
       "         endLatitude   endLongitude        seconds        minutes  \n",
       "count  156320.000000  156320.000000  156320.000000  156320.000000  \n",
       "mean       36.155179     -86.784119     581.114500       9.685242  \n",
       "std         0.019613       0.081653     359.525777       5.992096  \n",
       "min        32.775953    -117.076117      60.000000       1.000000  \n",
       "25%        36.150100     -86.791131     299.000000       4.983333  \n",
       "50%        36.156980     -86.781495     495.278333       8.254639  \n",
       "75%        36.162530     -86.776370     791.849999      13.197500  \n",
       "max        39.768425     -77.021907    1651.600000      27.526667  "
      ]
     },
     "execution_count": 8,
     "metadata": {},
     "output_type": "execute_result"
    }
   ],
   "source": [
    "may_trip.describe()"
   ]
  },
  {
   "cell_type": "code",
   "execution_count": 13,
   "id": "8991a0c6",
   "metadata": {},
   "outputs": [
    {
     "data": {
      "text/plain": [
       "Poweredb671ffe4-2bca-5880-98ec-d36f65aa11a2    13.967742\n",
       "PoweredRJ7YYJTHAR5N3                            8.322581\n",
       "PoweredEGRN7CFK6Q6K2                            7.935484\n",
       "PoweredDJQATZBXPBUAE                            7.741935\n",
       "PoweredWVIAXNCVDNOXP                            7.709677\n",
       "Name: sumdID, dtype: float64"
      ]
     },
     "execution_count": 13,
     "metadata": {},
     "output_type": "execute_result"
    }
   ],
   "source": [
    "scooters_avg_day = may_trip.sumdID.value_counts() / 31\n",
    "scooters_avg_day.head()"
   ]
  },
  {
   "cell_type": "code",
   "execution_count": 15,
   "id": "51453ae5",
   "metadata": {
    "scrolled": true
   },
   "outputs": [
    {
     "data": {
      "text/plain": [
       "Poweredb671ffe4-2bca-5880-98ec-d36f65aa11a2     True\n",
       "PoweredRJ7YYJTHAR5N3                            True\n",
       "PoweredEGRN7CFK6Q6K2                            True\n",
       "PoweredDJQATZBXPBUAE                            True\n",
       "PoweredWVIAXNCVDNOXP                            True\n",
       "                                               ...  \n",
       "Powered221505                                  False\n",
       "Powered6RTNK                                   False\n",
       "Powered1PDIE                                   False\n",
       "PoweredQJBYL                                   False\n",
       "Powered3953202                                 False\n",
       "Name: sumdID, Length: 6777, dtype: bool"
      ]
     },
     "execution_count": 15,
     "metadata": {},
     "output_type": "execute_result"
    }
   ],
   "source": [
    "scooters_abv_avg = scooters_avg_day >= 3\n",
    "scooters_abv_avg"
   ]
  }
 ],
 "metadata": {
  "kernelspec": {
   "display_name": "Python 3 (ipykernel)",
   "language": "python",
   "name": "python3"
  },
  "language_info": {
   "codemirror_mode": {
    "name": "ipython",
    "version": 3
   },
   "file_extension": ".py",
   "mimetype": "text/x-python",
   "name": "python",
   "nbconvert_exporter": "python",
   "pygments_lexer": "ipython3",
   "version": "3.8.5"
  }
 },
 "nbformat": 4,
 "nbformat_minor": 5
}
