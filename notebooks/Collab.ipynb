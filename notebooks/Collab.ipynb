{
 "cells": [
  {
   "cell_type": "code",
   "execution_count": 1,
   "id": "8dcd70e8",
   "metadata": {
    "scrolled": true
   },
   "outputs": [
    {
     "name": "stdout",
     "output_type": "stream",
     "text": [
      "Collecting package metadata (current_repodata.json): ...working... done\n",
      "Solving environment: ...working... done\n",
      "\n",
      "# All requested packages already installed.\n",
      "\n",
      "\n",
      "Note: you may need to restart the kernel to use updated packages.\n"
     ]
    }
   ],
   "source": [
    "conda install -c conda-forge shapely"
   ]
  },
  {
   "cell_type": "code",
   "execution_count": 2,
   "id": "34c7726a",
   "metadata": {},
   "outputs": [
    {
     "name": "stdout",
     "output_type": "stream",
     "text": [
      "Requirement already satisfied: points in c:\\users\\singu\\anaconda3\\lib\\site-packages (0.4.0)\n",
      "Note: you may need to restart the kernel to use updated packages.\n"
     ]
    }
   ],
   "source": [
    "pip install points"
   ]
  },
  {
   "cell_type": "code",
   "execution_count": 4,
   "id": "684b6de8",
   "metadata": {},
   "outputs": [
    {
     "ename": "ModuleNotFoundError",
     "evalue": "No module named 'geopandas'",
     "output_type": "error",
     "traceback": [
      "\u001b[1;31m---------------------------------------------------------------------------\u001b[0m",
      "\u001b[1;31mModuleNotFoundError\u001b[0m                       Traceback (most recent call last)",
      "\u001b[1;32m<ipython-input-4-716842a012e0>\u001b[0m in \u001b[0;36m<module>\u001b[1;34m\u001b[0m\n\u001b[0;32m      3\u001b[0m \u001b[1;32mimport\u001b[0m \u001b[0mnumpy\u001b[0m \u001b[1;32mas\u001b[0m \u001b[0mnp\u001b[0m\u001b[1;33m\u001b[0m\u001b[1;33m\u001b[0m\u001b[0m\n\u001b[0;32m      4\u001b[0m \u001b[1;32mimport\u001b[0m \u001b[0mpandas\u001b[0m \u001b[1;32mas\u001b[0m \u001b[0mpd\u001b[0m\u001b[1;33m\u001b[0m\u001b[1;33m\u001b[0m\u001b[0m\n\u001b[1;32m----> 5\u001b[1;33m \u001b[1;32mimport\u001b[0m \u001b[0mgeopandas\u001b[0m \u001b[1;32mas\u001b[0m \u001b[0mgpd\u001b[0m\u001b[1;33m\u001b[0m\u001b[1;33m\u001b[0m\u001b[0m\n\u001b[0m\u001b[0;32m      6\u001b[0m \u001b[1;32mimport\u001b[0m \u001b[0mmatplotlib\u001b[0m\u001b[1;33m.\u001b[0m\u001b[0mpyplot\u001b[0m \u001b[1;32mas\u001b[0m \u001b[0mplt\u001b[0m\u001b[1;33m\u001b[0m\u001b[1;33m\u001b[0m\u001b[0m\n\u001b[0;32m      7\u001b[0m \u001b[1;32mimport\u001b[0m \u001b[0mfolium\u001b[0m\u001b[1;33m\u001b[0m\u001b[1;33m\u001b[0m\u001b[0m\n",
      "\u001b[1;31mModuleNotFoundError\u001b[0m: No module named 'geopandas'"
     ]
    }
   ],
   "source": [
    "from shapely.geometry.polygon import Polygon\n",
    "from shapely.geometry import Point\n",
    "import numpy as np\n",
    "import pandas as pd\n",
    "import geopandas as gpd\n",
    "import matplotlib.pyplot as plt\n",
    "import folium\n",
    "from folium.plugins import MarkerCluster\n",
    "from folium.plugins import FastMarkerCluster\n",
    "\n",
    "%matplotlib inline"
   ]
  },
  {
   "cell_type": "code",
   "execution_count": null,
   "id": "0d21ff40",
   "metadata": {},
   "outputs": [],
   "source": [
    "promise_zones = gpd.read_file('../data/MDHA_Promise_Zones/Export_Output_5.shp')\n",
    "print(promise_zones.crs)\n",
    "promise_zones.head()"
   ]
  },
  {
   "cell_type": "code",
   "execution_count": null,
   "id": "fec55b78",
   "metadata": {},
   "outputs": [],
   "source": [
    "type(promise_zones)"
   ]
  },
  {
   "cell_type": "code",
   "execution_count": null,
   "id": "eae51775",
   "metadata": {},
   "outputs": [],
   "source": [
    "promise_zones = promise_zones.to_crs('EPSG:4326')"
   ]
  },
  {
   "cell_type": "code",
   "execution_count": null,
   "id": "ff586d8a",
   "metadata": {},
   "outputs": [],
   "source": [
    "print(promise_zones.crs)"
   ]
  },
  {
   "cell_type": "code",
   "execution_count": null,
   "id": "5fc30ba8",
   "metadata": {},
   "outputs": [],
   "source": [
    "type(promise_zones)"
   ]
  },
  {
   "cell_type": "code",
   "execution_count": null,
   "id": "6e7fbd16",
   "metadata": {},
   "outputs": [],
   "source": [
    "promise_zones.plot()"
   ]
  },
  {
   "cell_type": "code",
   "execution_count": null,
   "id": "f5d79e96",
   "metadata": {},
   "outputs": [],
   "source": [
    "may = pd.read_pickle('../data/may.pkl')\n",
    "june = pd.read_pickle('../data/june.pkl')\n",
    "july = pd.read_pickle('../data/july.pkl')"
   ]
  },
  {
   "cell_type": "code",
   "execution_count": null,
   "id": "65eacbfa",
   "metadata": {},
   "outputs": [],
   "source": [
    "may.head()"
   ]
  },
  {
   "cell_type": "code",
   "execution_count": null,
   "id": "41706a48",
   "metadata": {},
   "outputs": [],
   "source": [
    "may.dtypes"
   ]
  },
  {
   "cell_type": "code",
   "execution_count": null,
   "id": "5f1e99e8",
   "metadata": {},
   "outputs": [],
   "source": [
    "may['day'] = may['pubdatetime'].dt.day\n",
    "may['hour'] = may['pubdatetime'].dt.hour\n",
    "may['minute'] = may['pubdatetime'].dt.minute\n",
    "\n",
    "\n",
    "may.head(3)\n",
    "may.tail()"
   ]
  },
  {
   "cell_type": "code",
   "execution_count": null,
   "id": "3b718c4a",
   "metadata": {},
   "outputs": [],
   "source": [
    "may.dtypes"
   ]
  },
  {
   "cell_type": "code",
   "execution_count": null,
   "id": "254ca762",
   "metadata": {},
   "outputs": [],
   "source": [
    "wednesday = [1,8,15,22,29]\n",
    "\n",
    "may_wednesday_700am = may[(may['day'].isin(wednesday)) & (may['hour'] == 7) & (may['minute'] < 5)]\n",
    "    \n",
    "may_wednesday_700am"
   ]
  },
  {
   "cell_type": "code",
   "execution_count": null,
   "id": "765f6b9e",
   "metadata": {},
   "outputs": [],
   "source": [
    "may_wednesday_700am['geometry'] = may_wednesday_700am.apply(lambda x: Point((x.longitude, \n",
    "                                                         x.latitude)), \n",
    "                                        axis=1)\n",
    "may_wednesday_700am.head(3)"
   ]
  },
  {
   "cell_type": "code",
   "execution_count": null,
   "id": "fc975de0",
   "metadata": {},
   "outputs": [],
   "source": [
    "may_wednesday_700am_geo = gpd.GeoDataFrame(may_wednesday_700am, \n",
    "                           crs = promise_zones.crs, \n",
    "                           geometry = may_wednesday_700am['geometry'])"
   ]
  },
  {
   "cell_type": "code",
   "execution_count": null,
   "id": "94cf4d5a",
   "metadata": {},
   "outputs": [],
   "source": [
    "type(may_wednesday_700am_geo)"
   ]
  },
  {
   "cell_type": "code",
   "execution_count": null,
   "id": "7e439daa",
   "metadata": {},
   "outputs": [],
   "source": [
    "may_wednesday_700am_geo.head()"
   ]
  },
  {
   "cell_type": "code",
   "execution_count": null,
   "id": "2c505182",
   "metadata": {},
   "outputs": [],
   "source": [
    "may_wed_700am_zoned = gpd.sjoin(may_wednesday_700am_geo, promise_zones, op = 'within')"
   ]
  },
  {
   "cell_type": "code",
   "execution_count": null,
   "id": "3e5813bf",
   "metadata": {},
   "outputs": [],
   "source": [
    "promise_zones.head()"
   ]
  },
  {
   "cell_type": "code",
   "execution_count": null,
   "id": "97ee3b02",
   "metadata": {},
   "outputs": [],
   "source": [
    "may_wed_700am_zoned.head()"
   ]
  },
  {
   "cell_type": "code",
   "execution_count": null,
   "id": "bb4ec098",
   "metadata": {},
   "outputs": [],
   "source": [
    "#FOLIUM MAP"
   ]
  },
  {
   "cell_type": "code",
   "execution_count": null,
   "id": "e70fcd0d",
   "metadata": {},
   "outputs": [],
   "source": [
    "nashville_center = [36.1627, -86.7816]"
   ]
  },
  {
   "cell_type": "code",
   "execution_count": null,
   "id": "6bf6e976",
   "metadata": {},
   "outputs": [],
   "source": [
    "folium_map = folium.Map(location =  nashville_center, zoom_start = 13)\n",
    "folium_map"
   ]
  },
  {
   "cell_type": "code",
   "execution_count": null,
   "id": "90797807",
   "metadata": {},
   "outputs": [],
   "source": [
    "promise_zones.head()"
   ]
  },
  {
   "cell_type": "code",
   "execution_count": null,
   "id": "76b257c2",
   "metadata": {},
   "outputs": [],
   "source": [
    "# May 1st, 700AM - 705AM PINGS"
   ]
  },
  {
   "cell_type": "code",
   "execution_count": null,
   "id": "0ae71047",
   "metadata": {},
   "outputs": [],
   "source": [
    "may_1_700am = may[(may['pubdatetime'] > '2019-05-01 07:00:00.000') & (may['pubdatetime'] < '2019-05-01 07:05:00.000')]\n",
    "    \n",
    "may_1_700am"
   ]
  },
  {
   "cell_type": "code",
   "execution_count": null,
   "id": "9c2ff70f",
   "metadata": {},
   "outputs": [],
   "source": [
    "may_1_700am['geometry'] = may_1_700am.apply(lambda x: Point((x.longitude, \n",
    "                                                         x.latitude)), \n",
    "                                        axis=1)\n",
    "may_1_700am.head(3)"
   ]
  },
  {
   "cell_type": "code",
   "execution_count": null,
   "id": "17ce8e60",
   "metadata": {},
   "outputs": [],
   "source": []
  },
  {
   "cell_type": "code",
   "execution_count": null,
   "id": "a8da79d6",
   "metadata": {},
   "outputs": [],
   "source": []
  },
  {
   "cell_type": "code",
   "execution_count": null,
   "id": "6c5e2fc0",
   "metadata": {},
   "outputs": [],
   "source": []
  }
 ],
 "metadata": {
  "kernelspec": {
   "display_name": "Python 3",
   "language": "python",
   "name": "python3"
  },
  "language_info": {
   "codemirror_mode": {
    "name": "ipython",
    "version": 3
   },
   "file_extension": ".py",
   "mimetype": "text/x-python",
   "name": "python",
   "nbconvert_exporter": "python",
   "pygments_lexer": "ipython3",
   "version": "3.8.8"
  }
 },
 "nbformat": 4,
 "nbformat_minor": 5
}
